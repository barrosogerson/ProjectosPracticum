{
 "cells": [
  {
   "cell_type": "markdown",
   "metadata": {},
   "source": [
    "<div style=\"border:solid green 2px; padding: 20px\"> \n",
    "Oi Gerson, tudo bem? \n",
    "    \n",
    "Me chamo Lourenço, vou ser o corretor em português do seu projeto! Prazer em conhecê-lo! 🙌 \n",
    " \n",
    "Meus comentários irão seguir a mesma lógica dos feitos pelo corretor antigo:\n",
    "\n",
    "<div class=\"alert alert-success\">\n",
    "    <b>Correto:</b> Cumpriu corretamente tudo que foi pedido\n",
    "</div>\n",
    "<div class=\"alert alert-warning\">\n",
    "    <b>Recomendação:</b> Existe espaço para melhoramento do código\n",
    "</div>\n",
    "<div class=\"alert alert-danger\">\n",
    "    <b>Precisa ser corrigido:</b> Esse tipo de comentário ocorre quando o código precisa de alguma mudança drástica. O projeto não pode ser aceito com comentários vermelhos.\n",
    "</div>\n",
    "    \n",
    "Por favor, não delete meus comentários :) Se tiver alguma pergunta, basta respondê-los."
   ]
  },
  {
   "cell_type": "markdown",
   "metadata": {},
   "source": [
    "<div class=\"alert alert-block alert-danger\">\n",
    "<b>Comentário geral do corretor</b> <a class=\"tocSkip\"></a>\n",
    "\n",
    "Gerson,  primeiramente muito obrigado por enviar o seu projeto! Está claro para mim seu empenho em fazê-lo.\n",
    "    \n",
    "<br />\n",
    "    \n",
    "Seu projeto está muito bom! Você fez bom uso das principais técnicas requeridas neste projeto, deixou o código bem organizado e bem documentado. Existe uma pequeníssima coisa a ser corrigida: tratar os dados para o número de 20 filhos, que é anormal para a porcentagem dos dados que eles representam!\n",
    "    \n",
    "<br />\n",
    "    \n",
    "Assim que corrigir este problema, que será uma tarefa simples para você, terá seu projeto aprovado. Bons estudos!   \n",
    "    \n",
    "</div>"
   ]
  },
  {
   "cell_type": "markdown",
   "metadata": {},
   "source": [
    "<div class=\"alert alert-block alert-success\">\n",
    "<b>Comentário geral do corretor</b> <a class=\"tocSkip\"></a>\n",
    "\n",
    "Após sua correção muito bem realizada e comentada, seu projeto será aprovado! Parabéns!\n",
    "    \n",
    "Espero que continue com esse ritmo nos próximos módulos e que seu aprendizado continue sendo frutífero. Bons estudos!    \n",
    "    \n",
    "</div>"
   ]
  },
  {
   "cell_type": "markdown",
   "metadata": {},
   "source": [
    "# Análise do risco de inadimplência dos mutuários\n",
    "\n",
    "Seu projeto é preparar um relatório para a divisão de empréstimos de um banco. Você precisará descobrir se o estado civil de um cliente e o número de filhos têm impacto sobre se ele deixará de pagar um empréstimo. O banco já tem alguns dados sobre a capacidade de crédito dos clientes.\n",
    "\n",
    "Seu relatório será considerado ao criar uma **pontuação de crédito** de um cliente em potencial. A **contagem de crédito** é usada para avaliar a capacidade de um devedor em potencial de pagar seu empréstimo."
   ]
  },
  {
   "cell_type": "markdown",
   "metadata": {},
   "source": [
    "[Antes de mergulhar na análise de seus dados, explique os propósitos do projeto e as hipóteses que você testará.]"
   ]
  },
  {
   "cell_type": "markdown",
   "metadata": {},
   "source": [
    "**A análise consiste em verificar as seguintes hipotestes:**\n",
    "\n",
    "1. Existe uma correlação entre o nível de renda e do pagamento em dia?\n",
    "2. Existe uma correlação entre o status familiar e o pagamento em dia?\n",
    "3. Existe uma correlação entre o status familiar e o pagamento em dia?"
   ]
  },
  {
   "cell_type": "code",
   "execution_count": null,
   "metadata": {},
   "outputs": [],
   "source": []
  },
  {
   "cell_type": "code",
   "execution_count": null,
   "metadata": {},
   "outputs": [],
   "source": []
  },
  {
   "cell_type": "code",
   "execution_count": null,
   "metadata": {},
   "outputs": [],
   "source": []
  },
  {
   "cell_type": "markdown",
   "metadata": {},
   "source": [
    "## Abra o arquivo de dados e veja as informações gerais.\n"
   ]
  },
  {
   "cell_type": "code",
   "execution_count": 1,
   "metadata": {},
   "outputs": [
    {
     "name": "stdout",
     "output_type": "stream",
     "text": [
      "Dataframe carregado!\n"
     ]
    }
   ],
   "source": [
    "# Carregando todas as bibliotecas\n",
    "import pandas as pd\n",
    "\n",
    "# Carregue os dados\n",
    "try:\n",
    "    # Carregar localmente, como são apenas 2mb descartei o download do ficheiro\n",
    "    df = pd.read_csv('https://code.s3.yandex.net/datasets/credit_scoring_eng.csv') \n",
    "except:\n",
    "    df = pd.read_csv('/datasets/credit_scoring_eng.csv')\n",
    "\n",
    "print('Dataframe carregado!')"
   ]
  },
  {
   "cell_type": "markdown",
   "metadata": {},
   "source": [
    "## Tarefa 1. Exploração de dados\n",
    "\n",
    "**Descrição dos dados**\n",
    "- `children` - o número de crianças na família\n",
    "- `days_employed` - experiência de trabalho em dias\n",
    "- `dob_years` - idade do cliente em anos\n",
    "- `education` - educação do cliente\n",
    "- `education_id` - identificador de educação\n",
    "- `family_status` - estado civil do cliente\n",
    "- `family_status_id` - identificador de estado civil\n",
    "- `gender` - gênero do cliente\n",
    "- `income_type` - tipo de emprego\n",
    "- `debt` - havia alguma dívida no pagamento do empréstimo\n",
    "- `total_income` - renda mensal\n",
    "- `purpose` - o objetivo de obter um empréstimo\n"
   ]
  },
  {
   "cell_type": "markdown",
   "metadata": {},
   "source": [
    "<a id='linhasDfOriginal'></a>"
   ]
  },
  {
   "cell_type": "code",
   "execution_count": 2,
   "metadata": {
    "scrolled": true
   },
   "outputs": [
    {
     "name": "stdout",
     "output_type": "stream",
     "text": [
      "O dataset tem 21525 linhas e 12 colunas.\n"
     ]
    }
   ],
   "source": [
    "# Vamos ver quantas linhas e colunas nosso conjunto de dados tem\n",
    "\n",
    "total_linhas_df_orig = len(df)\n",
    "\n",
    "total_colunas_df_orig = df.shape[1]\n",
    "\n",
    "\n",
    "print(f'O dataset tem {total_linhas_df_orig} linhas e {total_colunas_df_orig} colunas.')"
   ]
  },
  {
   "cell_type": "code",
   "execution_count": 3,
   "metadata": {
    "scrolled": true
   },
   "outputs": [
    {
     "data": {
      "text/html": [
       "<div>\n",
       "<style scoped>\n",
       "    .dataframe tbody tr th:only-of-type {\n",
       "        vertical-align: middle;\n",
       "    }\n",
       "\n",
       "    .dataframe tbody tr th {\n",
       "        vertical-align: top;\n",
       "    }\n",
       "\n",
       "    .dataframe thead th {\n",
       "        text-align: right;\n",
       "    }\n",
       "</style>\n",
       "<table border=\"1\" class=\"dataframe\">\n",
       "  <thead>\n",
       "    <tr style=\"text-align: right;\">\n",
       "      <th></th>\n",
       "      <th>children</th>\n",
       "      <th>days_employed</th>\n",
       "      <th>dob_years</th>\n",
       "      <th>education</th>\n",
       "      <th>education_id</th>\n",
       "      <th>family_status</th>\n",
       "      <th>family_status_id</th>\n",
       "      <th>gender</th>\n",
       "      <th>income_type</th>\n",
       "      <th>debt</th>\n",
       "      <th>total_income</th>\n",
       "      <th>purpose</th>\n",
       "    </tr>\n",
       "  </thead>\n",
       "  <tbody>\n",
       "    <tr>\n",
       "      <th>0</th>\n",
       "      <td>1</td>\n",
       "      <td>-8437.673028</td>\n",
       "      <td>42</td>\n",
       "      <td>bachelor's degree</td>\n",
       "      <td>0</td>\n",
       "      <td>married</td>\n",
       "      <td>0</td>\n",
       "      <td>F</td>\n",
       "      <td>employee</td>\n",
       "      <td>0</td>\n",
       "      <td>40620.102</td>\n",
       "      <td>purchase of the house</td>\n",
       "    </tr>\n",
       "    <tr>\n",
       "      <th>1</th>\n",
       "      <td>1</td>\n",
       "      <td>-4024.803754</td>\n",
       "      <td>36</td>\n",
       "      <td>secondary education</td>\n",
       "      <td>1</td>\n",
       "      <td>married</td>\n",
       "      <td>0</td>\n",
       "      <td>F</td>\n",
       "      <td>employee</td>\n",
       "      <td>0</td>\n",
       "      <td>17932.802</td>\n",
       "      <td>car purchase</td>\n",
       "    </tr>\n",
       "    <tr>\n",
       "      <th>2</th>\n",
       "      <td>0</td>\n",
       "      <td>-5623.422610</td>\n",
       "      <td>33</td>\n",
       "      <td>Secondary Education</td>\n",
       "      <td>1</td>\n",
       "      <td>married</td>\n",
       "      <td>0</td>\n",
       "      <td>M</td>\n",
       "      <td>employee</td>\n",
       "      <td>0</td>\n",
       "      <td>23341.752</td>\n",
       "      <td>purchase of the house</td>\n",
       "    </tr>\n",
       "    <tr>\n",
       "      <th>3</th>\n",
       "      <td>3</td>\n",
       "      <td>-4124.747207</td>\n",
       "      <td>32</td>\n",
       "      <td>secondary education</td>\n",
       "      <td>1</td>\n",
       "      <td>married</td>\n",
       "      <td>0</td>\n",
       "      <td>M</td>\n",
       "      <td>employee</td>\n",
       "      <td>0</td>\n",
       "      <td>42820.568</td>\n",
       "      <td>supplementary education</td>\n",
       "    </tr>\n",
       "    <tr>\n",
       "      <th>4</th>\n",
       "      <td>0</td>\n",
       "      <td>340266.072047</td>\n",
       "      <td>53</td>\n",
       "      <td>secondary education</td>\n",
       "      <td>1</td>\n",
       "      <td>civil partnership</td>\n",
       "      <td>1</td>\n",
       "      <td>F</td>\n",
       "      <td>retiree</td>\n",
       "      <td>0</td>\n",
       "      <td>25378.572</td>\n",
       "      <td>to have a wedding</td>\n",
       "    </tr>\n",
       "    <tr>\n",
       "      <th>5</th>\n",
       "      <td>0</td>\n",
       "      <td>-926.185831</td>\n",
       "      <td>27</td>\n",
       "      <td>bachelor's degree</td>\n",
       "      <td>0</td>\n",
       "      <td>civil partnership</td>\n",
       "      <td>1</td>\n",
       "      <td>M</td>\n",
       "      <td>business</td>\n",
       "      <td>0</td>\n",
       "      <td>40922.170</td>\n",
       "      <td>purchase of the house</td>\n",
       "    </tr>\n",
       "    <tr>\n",
       "      <th>6</th>\n",
       "      <td>0</td>\n",
       "      <td>-2879.202052</td>\n",
       "      <td>43</td>\n",
       "      <td>bachelor's degree</td>\n",
       "      <td>0</td>\n",
       "      <td>married</td>\n",
       "      <td>0</td>\n",
       "      <td>F</td>\n",
       "      <td>business</td>\n",
       "      <td>0</td>\n",
       "      <td>38484.156</td>\n",
       "      <td>housing transactions</td>\n",
       "    </tr>\n",
       "    <tr>\n",
       "      <th>7</th>\n",
       "      <td>0</td>\n",
       "      <td>-152.779569</td>\n",
       "      <td>50</td>\n",
       "      <td>SECONDARY EDUCATION</td>\n",
       "      <td>1</td>\n",
       "      <td>married</td>\n",
       "      <td>0</td>\n",
       "      <td>M</td>\n",
       "      <td>employee</td>\n",
       "      <td>0</td>\n",
       "      <td>21731.829</td>\n",
       "      <td>education</td>\n",
       "    </tr>\n",
       "    <tr>\n",
       "      <th>8</th>\n",
       "      <td>2</td>\n",
       "      <td>-6929.865299</td>\n",
       "      <td>35</td>\n",
       "      <td>BACHELOR'S DEGREE</td>\n",
       "      <td>0</td>\n",
       "      <td>civil partnership</td>\n",
       "      <td>1</td>\n",
       "      <td>F</td>\n",
       "      <td>employee</td>\n",
       "      <td>0</td>\n",
       "      <td>15337.093</td>\n",
       "      <td>having a wedding</td>\n",
       "    </tr>\n",
       "    <tr>\n",
       "      <th>9</th>\n",
       "      <td>0</td>\n",
       "      <td>-2188.756445</td>\n",
       "      <td>41</td>\n",
       "      <td>secondary education</td>\n",
       "      <td>1</td>\n",
       "      <td>married</td>\n",
       "      <td>0</td>\n",
       "      <td>M</td>\n",
       "      <td>employee</td>\n",
       "      <td>0</td>\n",
       "      <td>23108.150</td>\n",
       "      <td>purchase of the house for my family</td>\n",
       "    </tr>\n",
       "    <tr>\n",
       "      <th>10</th>\n",
       "      <td>2</td>\n",
       "      <td>-4171.483647</td>\n",
       "      <td>36</td>\n",
       "      <td>bachelor's degree</td>\n",
       "      <td>0</td>\n",
       "      <td>married</td>\n",
       "      <td>0</td>\n",
       "      <td>M</td>\n",
       "      <td>business</td>\n",
       "      <td>0</td>\n",
       "      <td>18230.959</td>\n",
       "      <td>buy real estate</td>\n",
       "    </tr>\n",
       "    <tr>\n",
       "      <th>11</th>\n",
       "      <td>0</td>\n",
       "      <td>-792.701887</td>\n",
       "      <td>40</td>\n",
       "      <td>secondary education</td>\n",
       "      <td>1</td>\n",
       "      <td>married</td>\n",
       "      <td>0</td>\n",
       "      <td>F</td>\n",
       "      <td>employee</td>\n",
       "      <td>0</td>\n",
       "      <td>12331.077</td>\n",
       "      <td>buy commercial real estate</td>\n",
       "    </tr>\n",
       "    <tr>\n",
       "      <th>12</th>\n",
       "      <td>0</td>\n",
       "      <td>NaN</td>\n",
       "      <td>65</td>\n",
       "      <td>secondary education</td>\n",
       "      <td>1</td>\n",
       "      <td>civil partnership</td>\n",
       "      <td>1</td>\n",
       "      <td>M</td>\n",
       "      <td>retiree</td>\n",
       "      <td>0</td>\n",
       "      <td>NaN</td>\n",
       "      <td>to have a wedding</td>\n",
       "    </tr>\n",
       "    <tr>\n",
       "      <th>13</th>\n",
       "      <td>0</td>\n",
       "      <td>-1846.641941</td>\n",
       "      <td>54</td>\n",
       "      <td>some college</td>\n",
       "      <td>2</td>\n",
       "      <td>married</td>\n",
       "      <td>0</td>\n",
       "      <td>F</td>\n",
       "      <td>employee</td>\n",
       "      <td>0</td>\n",
       "      <td>20873.317</td>\n",
       "      <td>car purchase</td>\n",
       "    </tr>\n",
       "    <tr>\n",
       "      <th>14</th>\n",
       "      <td>0</td>\n",
       "      <td>-1844.956182</td>\n",
       "      <td>56</td>\n",
       "      <td>bachelor's degree</td>\n",
       "      <td>0</td>\n",
       "      <td>civil partnership</td>\n",
       "      <td>1</td>\n",
       "      <td>F</td>\n",
       "      <td>business</td>\n",
       "      <td>1</td>\n",
       "      <td>26420.466</td>\n",
       "      <td>buy residential real estate</td>\n",
       "    </tr>\n",
       "  </tbody>\n",
       "</table>\n",
       "</div>"
      ],
      "text/plain": [
       "    children  days_employed  dob_years            education  education_id  \\\n",
       "0          1   -8437.673028         42    bachelor's degree             0   \n",
       "1          1   -4024.803754         36  secondary education             1   \n",
       "2          0   -5623.422610         33  Secondary Education             1   \n",
       "3          3   -4124.747207         32  secondary education             1   \n",
       "4          0  340266.072047         53  secondary education             1   \n",
       "5          0    -926.185831         27    bachelor's degree             0   \n",
       "6          0   -2879.202052         43    bachelor's degree             0   \n",
       "7          0    -152.779569         50  SECONDARY EDUCATION             1   \n",
       "8          2   -6929.865299         35    BACHELOR'S DEGREE             0   \n",
       "9          0   -2188.756445         41  secondary education             1   \n",
       "10         2   -4171.483647         36    bachelor's degree             0   \n",
       "11         0    -792.701887         40  secondary education             1   \n",
       "12         0            NaN         65  secondary education             1   \n",
       "13         0   -1846.641941         54         some college             2   \n",
       "14         0   -1844.956182         56    bachelor's degree             0   \n",
       "\n",
       "        family_status  family_status_id gender income_type  debt  \\\n",
       "0             married                 0      F    employee     0   \n",
       "1             married                 0      F    employee     0   \n",
       "2             married                 0      M    employee     0   \n",
       "3             married                 0      M    employee     0   \n",
       "4   civil partnership                 1      F     retiree     0   \n",
       "5   civil partnership                 1      M    business     0   \n",
       "6             married                 0      F    business     0   \n",
       "7             married                 0      M    employee     0   \n",
       "8   civil partnership                 1      F    employee     0   \n",
       "9             married                 0      M    employee     0   \n",
       "10            married                 0      M    business     0   \n",
       "11            married                 0      F    employee     0   \n",
       "12  civil partnership                 1      M     retiree     0   \n",
       "13            married                 0      F    employee     0   \n",
       "14  civil partnership                 1      F    business     1   \n",
       "\n",
       "    total_income                              purpose  \n",
       "0      40620.102                purchase of the house  \n",
       "1      17932.802                         car purchase  \n",
       "2      23341.752                purchase of the house  \n",
       "3      42820.568              supplementary education  \n",
       "4      25378.572                    to have a wedding  \n",
       "5      40922.170                purchase of the house  \n",
       "6      38484.156                 housing transactions  \n",
       "7      21731.829                            education  \n",
       "8      15337.093                     having a wedding  \n",
       "9      23108.150  purchase of the house for my family  \n",
       "10     18230.959                      buy real estate  \n",
       "11     12331.077           buy commercial real estate  \n",
       "12           NaN                    to have a wedding  \n",
       "13     20873.317                         car purchase  \n",
       "14     26420.466          buy residential real estate  "
      ]
     },
     "execution_count": 3,
     "metadata": {},
     "output_type": "execute_result"
    }
   ],
   "source": [
    "# vamos exibir as primeiras N linhas\n",
    "\n",
    "df.head(15)\n"
   ]
  },
  {
   "cell_type": "markdown",
   "metadata": {},
   "source": [
    "### Observações na amostra das primeiras 15 linhas\n",
    "* A coluna  `days_employed` \n",
    "tem valores <font color=red>negativos</font> e valores nulos (`NaN`)\n",
    "* A coluna `education` <font color=red>não esta uniformizado</font> e pode ser categorizado de melhor forma, exemplo: 'secondary education' & 'Secondary Education' representam o mesmo nível de educação academica, a coluna `education_id` pode ajudar a corrigir os dados\n",
    "* Com sorte conseguimos apanhar um valor nulo (`NaN`) nas primeiras 15 linhas para a coluna `total_income` e corresponde ao mesmo registo com nulo para a coluna `days_employed` podemos analisar se esta combinação quer dizer que a pessoa esta desempregada \n",
    "* A coluna `purpose` pode ser uniformizada a depender se forem poucos valores unicos, exemplo: <font color=blue>*'purchase of the house'*</font> & <font color=blue>*'purchase of the house for my family'*</font> & <font color=blue>*'buy residential real estate'*</font> numa primeira observação pode significar o mesmo objetivo para obtenção do credito\n",
    "***"
   ]
  },
  {
   "cell_type": "markdown",
   "metadata": {},
   "source": [
    "<div class=\"alert alert-block alert-success\">\n",
    "<b>Comentário do corretor</b> <a class=\"tocSkip\"></a>\n",
    "\n",
    "Ótima observação inicial dos dados!\n",
    "\n",
    "</div>"
   ]
  },
  {
   "cell_type": "code",
   "execution_count": 4,
   "metadata": {
    "scrolled": false
   },
   "outputs": [
    {
     "name": "stdout",
     "output_type": "stream",
     "text": [
      "<class 'pandas.core.frame.DataFrame'>\n",
      "RangeIndex: 21525 entries, 0 to 21524\n",
      "Data columns (total 12 columns):\n",
      " #   Column            Non-Null Count  Dtype  \n",
      "---  ------            --------------  -----  \n",
      " 0   children          21525 non-null  int64  \n",
      " 1   days_employed     19351 non-null  float64\n",
      " 2   dob_years         21525 non-null  int64  \n",
      " 3   education         21525 non-null  object \n",
      " 4   education_id      21525 non-null  int64  \n",
      " 5   family_status     21525 non-null  object \n",
      " 6   family_status_id  21525 non-null  int64  \n",
      " 7   gender            21525 non-null  object \n",
      " 8   income_type       21525 non-null  object \n",
      " 9   debt              21525 non-null  int64  \n",
      " 10  total_income      19351 non-null  float64\n",
      " 11  purpose           21525 non-null  object \n",
      "dtypes: float64(2), int64(5), object(5)\n",
      "memory usage: 2.0+ MB\n"
     ]
    },
    {
     "data": {
      "text/html": [
       "<div>\n",
       "<style scoped>\n",
       "    .dataframe tbody tr th:only-of-type {\n",
       "        vertical-align: middle;\n",
       "    }\n",
       "\n",
       "    .dataframe tbody tr th {\n",
       "        vertical-align: top;\n",
       "    }\n",
       "\n",
       "    .dataframe thead th {\n",
       "        text-align: right;\n",
       "    }\n",
       "</style>\n",
       "<table border=\"1\" class=\"dataframe\">\n",
       "  <thead>\n",
       "    <tr style=\"text-align: right;\">\n",
       "      <th></th>\n",
       "      <th>children</th>\n",
       "      <th>days_employed</th>\n",
       "      <th>dob_years</th>\n",
       "      <th>education_id</th>\n",
       "      <th>family_status_id</th>\n",
       "      <th>debt</th>\n",
       "      <th>total_income</th>\n",
       "    </tr>\n",
       "  </thead>\n",
       "  <tbody>\n",
       "    <tr>\n",
       "      <th>count</th>\n",
       "      <td>21525.000000</td>\n",
       "      <td>19351.000000</td>\n",
       "      <td>21525.000000</td>\n",
       "      <td>21525.000000</td>\n",
       "      <td>21525.000000</td>\n",
       "      <td>21525.000000</td>\n",
       "      <td>19351.000000</td>\n",
       "    </tr>\n",
       "    <tr>\n",
       "      <th>mean</th>\n",
       "      <td>0.538908</td>\n",
       "      <td>63046.497661</td>\n",
       "      <td>43.293380</td>\n",
       "      <td>0.817236</td>\n",
       "      <td>0.972544</td>\n",
       "      <td>0.080883</td>\n",
       "      <td>26787.568355</td>\n",
       "    </tr>\n",
       "    <tr>\n",
       "      <th>std</th>\n",
       "      <td>1.381587</td>\n",
       "      <td>140827.311974</td>\n",
       "      <td>12.574584</td>\n",
       "      <td>0.548138</td>\n",
       "      <td>1.420324</td>\n",
       "      <td>0.272661</td>\n",
       "      <td>16475.450632</td>\n",
       "    </tr>\n",
       "    <tr>\n",
       "      <th>min</th>\n",
       "      <td>-1.000000</td>\n",
       "      <td>-18388.949901</td>\n",
       "      <td>0.000000</td>\n",
       "      <td>0.000000</td>\n",
       "      <td>0.000000</td>\n",
       "      <td>0.000000</td>\n",
       "      <td>3306.762000</td>\n",
       "    </tr>\n",
       "    <tr>\n",
       "      <th>25%</th>\n",
       "      <td>0.000000</td>\n",
       "      <td>-2747.423625</td>\n",
       "      <td>33.000000</td>\n",
       "      <td>1.000000</td>\n",
       "      <td>0.000000</td>\n",
       "      <td>0.000000</td>\n",
       "      <td>16488.504500</td>\n",
       "    </tr>\n",
       "    <tr>\n",
       "      <th>50%</th>\n",
       "      <td>0.000000</td>\n",
       "      <td>-1203.369529</td>\n",
       "      <td>42.000000</td>\n",
       "      <td>1.000000</td>\n",
       "      <td>0.000000</td>\n",
       "      <td>0.000000</td>\n",
       "      <td>23202.870000</td>\n",
       "    </tr>\n",
       "    <tr>\n",
       "      <th>75%</th>\n",
       "      <td>1.000000</td>\n",
       "      <td>-291.095954</td>\n",
       "      <td>53.000000</td>\n",
       "      <td>1.000000</td>\n",
       "      <td>1.000000</td>\n",
       "      <td>0.000000</td>\n",
       "      <td>32549.611000</td>\n",
       "    </tr>\n",
       "    <tr>\n",
       "      <th>max</th>\n",
       "      <td>20.000000</td>\n",
       "      <td>401755.400475</td>\n",
       "      <td>75.000000</td>\n",
       "      <td>4.000000</td>\n",
       "      <td>4.000000</td>\n",
       "      <td>1.000000</td>\n",
       "      <td>362496.645000</td>\n",
       "    </tr>\n",
       "  </tbody>\n",
       "</table>\n",
       "</div>"
      ],
      "text/plain": [
       "           children  days_employed     dob_years  education_id  \\\n",
       "count  21525.000000   19351.000000  21525.000000  21525.000000   \n",
       "mean       0.538908   63046.497661     43.293380      0.817236   \n",
       "std        1.381587  140827.311974     12.574584      0.548138   \n",
       "min       -1.000000  -18388.949901      0.000000      0.000000   \n",
       "25%        0.000000   -2747.423625     33.000000      1.000000   \n",
       "50%        0.000000   -1203.369529     42.000000      1.000000   \n",
       "75%        1.000000    -291.095954     53.000000      1.000000   \n",
       "max       20.000000  401755.400475     75.000000      4.000000   \n",
       "\n",
       "       family_status_id          debt   total_income  \n",
       "count      21525.000000  21525.000000   19351.000000  \n",
       "mean           0.972544      0.080883   26787.568355  \n",
       "std            1.420324      0.272661   16475.450632  \n",
       "min            0.000000      0.000000    3306.762000  \n",
       "25%            0.000000      0.000000   16488.504500  \n",
       "50%            0.000000      0.000000   23202.870000  \n",
       "75%            1.000000      0.000000   32549.611000  \n",
       "max            4.000000      1.000000  362496.645000  "
      ]
     },
     "execution_count": 4,
     "metadata": {},
     "output_type": "execute_result"
    }
   ],
   "source": [
    "# Obter informações sobre dados\n",
    "df.info()\n",
    "\n",
    "df.describe()\n"
   ]
  },
  {
   "cell_type": "markdown",
   "metadata": {},
   "source": [
    "### Com a informação acima podemos confirmar as  seguintes observações:\n",
    "* As unicas colunas que não estão com dados completos são `days_employed` e `total_income`.\n",
    "* A Coluna `children` (número de crinças na familia) tem o valor minimo <font color=red> **-1**</font>  que não faz muito sentino até o momento.\n",
    "\n",
    "* A coluna `dob_years` (idade do cliente em anos) tem o valor minimo **0**, é preciso investigar o significado destes registos.\n",
    "\n"
   ]
  },
  {
   "cell_type": "code",
   "execution_count": 5,
   "metadata": {
    "scrolled": true
   },
   "outputs": [
    {
     "data": {
      "text/html": [
       "<div>\n",
       "<style scoped>\n",
       "    .dataframe tbody tr th:only-of-type {\n",
       "        vertical-align: middle;\n",
       "    }\n",
       "\n",
       "    .dataframe tbody tr th {\n",
       "        vertical-align: top;\n",
       "    }\n",
       "\n",
       "    .dataframe thead th {\n",
       "        text-align: right;\n",
       "    }\n",
       "</style>\n",
       "<table border=\"1\" class=\"dataframe\">\n",
       "  <thead>\n",
       "    <tr style=\"text-align: right;\">\n",
       "      <th></th>\n",
       "      <th>children</th>\n",
       "      <th>days_employed</th>\n",
       "      <th>dob_years</th>\n",
       "      <th>education</th>\n",
       "      <th>education_id</th>\n",
       "      <th>family_status</th>\n",
       "      <th>family_status_id</th>\n",
       "      <th>gender</th>\n",
       "      <th>income_type</th>\n",
       "      <th>debt</th>\n",
       "      <th>total_income</th>\n",
       "      <th>purpose</th>\n",
       "    </tr>\n",
       "  </thead>\n",
       "  <tbody>\n",
       "    <tr>\n",
       "      <th>12</th>\n",
       "      <td>0</td>\n",
       "      <td>NaN</td>\n",
       "      <td>65</td>\n",
       "      <td>secondary education</td>\n",
       "      <td>1</td>\n",
       "      <td>civil partnership</td>\n",
       "      <td>1</td>\n",
       "      <td>M</td>\n",
       "      <td>retiree</td>\n",
       "      <td>0</td>\n",
       "      <td>NaN</td>\n",
       "      <td>to have a wedding</td>\n",
       "    </tr>\n",
       "    <tr>\n",
       "      <th>26</th>\n",
       "      <td>0</td>\n",
       "      <td>NaN</td>\n",
       "      <td>41</td>\n",
       "      <td>secondary education</td>\n",
       "      <td>1</td>\n",
       "      <td>married</td>\n",
       "      <td>0</td>\n",
       "      <td>M</td>\n",
       "      <td>civil servant</td>\n",
       "      <td>0</td>\n",
       "      <td>NaN</td>\n",
       "      <td>education</td>\n",
       "    </tr>\n",
       "    <tr>\n",
       "      <th>29</th>\n",
       "      <td>0</td>\n",
       "      <td>NaN</td>\n",
       "      <td>63</td>\n",
       "      <td>secondary education</td>\n",
       "      <td>1</td>\n",
       "      <td>unmarried</td>\n",
       "      <td>4</td>\n",
       "      <td>F</td>\n",
       "      <td>retiree</td>\n",
       "      <td>0</td>\n",
       "      <td>NaN</td>\n",
       "      <td>building a real estate</td>\n",
       "    </tr>\n",
       "    <tr>\n",
       "      <th>41</th>\n",
       "      <td>0</td>\n",
       "      <td>NaN</td>\n",
       "      <td>50</td>\n",
       "      <td>secondary education</td>\n",
       "      <td>1</td>\n",
       "      <td>married</td>\n",
       "      <td>0</td>\n",
       "      <td>F</td>\n",
       "      <td>civil servant</td>\n",
       "      <td>0</td>\n",
       "      <td>NaN</td>\n",
       "      <td>second-hand car purchase</td>\n",
       "    </tr>\n",
       "    <tr>\n",
       "      <th>55</th>\n",
       "      <td>0</td>\n",
       "      <td>NaN</td>\n",
       "      <td>54</td>\n",
       "      <td>secondary education</td>\n",
       "      <td>1</td>\n",
       "      <td>civil partnership</td>\n",
       "      <td>1</td>\n",
       "      <td>F</td>\n",
       "      <td>retiree</td>\n",
       "      <td>1</td>\n",
       "      <td>NaN</td>\n",
       "      <td>to have a wedding</td>\n",
       "    </tr>\n",
       "    <tr>\n",
       "      <th>...</th>\n",
       "      <td>...</td>\n",
       "      <td>...</td>\n",
       "      <td>...</td>\n",
       "      <td>...</td>\n",
       "      <td>...</td>\n",
       "      <td>...</td>\n",
       "      <td>...</td>\n",
       "      <td>...</td>\n",
       "      <td>...</td>\n",
       "      <td>...</td>\n",
       "      <td>...</td>\n",
       "      <td>...</td>\n",
       "    </tr>\n",
       "    <tr>\n",
       "      <th>21489</th>\n",
       "      <td>2</td>\n",
       "      <td>NaN</td>\n",
       "      <td>47</td>\n",
       "      <td>Secondary Education</td>\n",
       "      <td>1</td>\n",
       "      <td>married</td>\n",
       "      <td>0</td>\n",
       "      <td>M</td>\n",
       "      <td>business</td>\n",
       "      <td>0</td>\n",
       "      <td>NaN</td>\n",
       "      <td>purchase of a car</td>\n",
       "    </tr>\n",
       "    <tr>\n",
       "      <th>21495</th>\n",
       "      <td>1</td>\n",
       "      <td>NaN</td>\n",
       "      <td>50</td>\n",
       "      <td>secondary education</td>\n",
       "      <td>1</td>\n",
       "      <td>civil partnership</td>\n",
       "      <td>1</td>\n",
       "      <td>F</td>\n",
       "      <td>employee</td>\n",
       "      <td>0</td>\n",
       "      <td>NaN</td>\n",
       "      <td>wedding ceremony</td>\n",
       "    </tr>\n",
       "    <tr>\n",
       "      <th>21497</th>\n",
       "      <td>0</td>\n",
       "      <td>NaN</td>\n",
       "      <td>48</td>\n",
       "      <td>BACHELOR'S DEGREE</td>\n",
       "      <td>0</td>\n",
       "      <td>married</td>\n",
       "      <td>0</td>\n",
       "      <td>F</td>\n",
       "      <td>business</td>\n",
       "      <td>0</td>\n",
       "      <td>NaN</td>\n",
       "      <td>building a property</td>\n",
       "    </tr>\n",
       "    <tr>\n",
       "      <th>21502</th>\n",
       "      <td>1</td>\n",
       "      <td>NaN</td>\n",
       "      <td>42</td>\n",
       "      <td>secondary education</td>\n",
       "      <td>1</td>\n",
       "      <td>married</td>\n",
       "      <td>0</td>\n",
       "      <td>F</td>\n",
       "      <td>employee</td>\n",
       "      <td>0</td>\n",
       "      <td>NaN</td>\n",
       "      <td>building a real estate</td>\n",
       "    </tr>\n",
       "    <tr>\n",
       "      <th>21510</th>\n",
       "      <td>2</td>\n",
       "      <td>NaN</td>\n",
       "      <td>28</td>\n",
       "      <td>secondary education</td>\n",
       "      <td>1</td>\n",
       "      <td>married</td>\n",
       "      <td>0</td>\n",
       "      <td>F</td>\n",
       "      <td>employee</td>\n",
       "      <td>0</td>\n",
       "      <td>NaN</td>\n",
       "      <td>car purchase</td>\n",
       "    </tr>\n",
       "  </tbody>\n",
       "</table>\n",
       "<p>2174 rows × 12 columns</p>\n",
       "</div>"
      ],
      "text/plain": [
       "       children  days_employed  dob_years            education  education_id  \\\n",
       "12            0            NaN         65  secondary education             1   \n",
       "26            0            NaN         41  secondary education             1   \n",
       "29            0            NaN         63  secondary education             1   \n",
       "41            0            NaN         50  secondary education             1   \n",
       "55            0            NaN         54  secondary education             1   \n",
       "...         ...            ...        ...                  ...           ...   \n",
       "21489         2            NaN         47  Secondary Education             1   \n",
       "21495         1            NaN         50  secondary education             1   \n",
       "21497         0            NaN         48    BACHELOR'S DEGREE             0   \n",
       "21502         1            NaN         42  secondary education             1   \n",
       "21510         2            NaN         28  secondary education             1   \n",
       "\n",
       "           family_status  family_status_id gender    income_type  debt  \\\n",
       "12     civil partnership                 1      M        retiree     0   \n",
       "26               married                 0      M  civil servant     0   \n",
       "29             unmarried                 4      F        retiree     0   \n",
       "41               married                 0      F  civil servant     0   \n",
       "55     civil partnership                 1      F        retiree     1   \n",
       "...                  ...               ...    ...            ...   ...   \n",
       "21489            married                 0      M       business     0   \n",
       "21495  civil partnership                 1      F       employee     0   \n",
       "21497            married                 0      F       business     0   \n",
       "21502            married                 0      F       employee     0   \n",
       "21510            married                 0      F       employee     0   \n",
       "\n",
       "       total_income                   purpose  \n",
       "12              NaN         to have a wedding  \n",
       "26              NaN                 education  \n",
       "29              NaN    building a real estate  \n",
       "41              NaN  second-hand car purchase  \n",
       "55              NaN         to have a wedding  \n",
       "...             ...                       ...  \n",
       "21489           NaN         purchase of a car  \n",
       "21495           NaN          wedding ceremony  \n",
       "21497           NaN       building a property  \n",
       "21502           NaN    building a real estate  \n",
       "21510           NaN              car purchase  \n",
       "\n",
       "[2174 rows x 12 columns]"
      ]
     },
     "execution_count": 5,
     "metadata": {},
     "output_type": "execute_result"
    }
   ],
   "source": [
    "# Vejamos a tabela filtrada com valores ausentes na primeira coluna com dados ausentes\n",
    "\n",
    "df_employed_null = df[df['days_employed'].isna()]\n",
    "\n",
    "df_employed_null"
   ]
  },
  {
   "cell_type": "markdown",
   "metadata": {},
   "source": [
    "\n",
    "### Analisando os valores ausentes na coluna `days_employed`\n",
    "\n",
    "* Para todos os valores apresentados na amostra acima, a coluna `total_income` também apresenta <font color=red>valores ausentes</font>, vamos confirmar esta hipotese com mais alguns filtros no dataframe original"
   ]
  },
  {
   "cell_type": "code",
   "execution_count": 6,
   "metadata": {},
   "outputs": [
    {
     "data": {
      "text/plain": [
       "2174"
      ]
     },
     "execution_count": 6,
     "metadata": {},
     "output_type": "execute_result"
    }
   ],
   "source": [
    "len(df_employed_null)"
   ]
  },
  {
   "cell_type": "markdown",
   "metadata": {
    "variables": {
     "len(df_employed_null)": "2174"
    }
   },
   "source": [
    "**Existem 2174 <font color=red>valores ausentes</font> pela coluna `days_employed`**"
   ]
  },
  {
   "cell_type": "code",
   "execution_count": 7,
   "metadata": {},
   "outputs": [
    {
     "data": {
      "text/html": [
       "<div>\n",
       "<style scoped>\n",
       "    .dataframe tbody tr th:only-of-type {\n",
       "        vertical-align: middle;\n",
       "    }\n",
       "\n",
       "    .dataframe tbody tr th {\n",
       "        vertical-align: top;\n",
       "    }\n",
       "\n",
       "    .dataframe thead th {\n",
       "        text-align: right;\n",
       "    }\n",
       "</style>\n",
       "<table border=\"1\" class=\"dataframe\">\n",
       "  <thead>\n",
       "    <tr style=\"text-align: right;\">\n",
       "      <th></th>\n",
       "      <th>children</th>\n",
       "      <th>days_employed</th>\n",
       "      <th>dob_years</th>\n",
       "      <th>education</th>\n",
       "      <th>education_id</th>\n",
       "      <th>family_status</th>\n",
       "      <th>family_status_id</th>\n",
       "      <th>gender</th>\n",
       "      <th>income_type</th>\n",
       "      <th>debt</th>\n",
       "      <th>total_income</th>\n",
       "      <th>purpose</th>\n",
       "    </tr>\n",
       "  </thead>\n",
       "  <tbody>\n",
       "    <tr>\n",
       "      <th>12</th>\n",
       "      <td>0</td>\n",
       "      <td>NaN</td>\n",
       "      <td>65</td>\n",
       "      <td>secondary education</td>\n",
       "      <td>1</td>\n",
       "      <td>civil partnership</td>\n",
       "      <td>1</td>\n",
       "      <td>M</td>\n",
       "      <td>retiree</td>\n",
       "      <td>0</td>\n",
       "      <td>NaN</td>\n",
       "      <td>to have a wedding</td>\n",
       "    </tr>\n",
       "    <tr>\n",
       "      <th>26</th>\n",
       "      <td>0</td>\n",
       "      <td>NaN</td>\n",
       "      <td>41</td>\n",
       "      <td>secondary education</td>\n",
       "      <td>1</td>\n",
       "      <td>married</td>\n",
       "      <td>0</td>\n",
       "      <td>M</td>\n",
       "      <td>civil servant</td>\n",
       "      <td>0</td>\n",
       "      <td>NaN</td>\n",
       "      <td>education</td>\n",
       "    </tr>\n",
       "    <tr>\n",
       "      <th>29</th>\n",
       "      <td>0</td>\n",
       "      <td>NaN</td>\n",
       "      <td>63</td>\n",
       "      <td>secondary education</td>\n",
       "      <td>1</td>\n",
       "      <td>unmarried</td>\n",
       "      <td>4</td>\n",
       "      <td>F</td>\n",
       "      <td>retiree</td>\n",
       "      <td>0</td>\n",
       "      <td>NaN</td>\n",
       "      <td>building a real estate</td>\n",
       "    </tr>\n",
       "    <tr>\n",
       "      <th>41</th>\n",
       "      <td>0</td>\n",
       "      <td>NaN</td>\n",
       "      <td>50</td>\n",
       "      <td>secondary education</td>\n",
       "      <td>1</td>\n",
       "      <td>married</td>\n",
       "      <td>0</td>\n",
       "      <td>F</td>\n",
       "      <td>civil servant</td>\n",
       "      <td>0</td>\n",
       "      <td>NaN</td>\n",
       "      <td>second-hand car purchase</td>\n",
       "    </tr>\n",
       "    <tr>\n",
       "      <th>55</th>\n",
       "      <td>0</td>\n",
       "      <td>NaN</td>\n",
       "      <td>54</td>\n",
       "      <td>secondary education</td>\n",
       "      <td>1</td>\n",
       "      <td>civil partnership</td>\n",
       "      <td>1</td>\n",
       "      <td>F</td>\n",
       "      <td>retiree</td>\n",
       "      <td>1</td>\n",
       "      <td>NaN</td>\n",
       "      <td>to have a wedding</td>\n",
       "    </tr>\n",
       "    <tr>\n",
       "      <th>...</th>\n",
       "      <td>...</td>\n",
       "      <td>...</td>\n",
       "      <td>...</td>\n",
       "      <td>...</td>\n",
       "      <td>...</td>\n",
       "      <td>...</td>\n",
       "      <td>...</td>\n",
       "      <td>...</td>\n",
       "      <td>...</td>\n",
       "      <td>...</td>\n",
       "      <td>...</td>\n",
       "      <td>...</td>\n",
       "    </tr>\n",
       "    <tr>\n",
       "      <th>21489</th>\n",
       "      <td>2</td>\n",
       "      <td>NaN</td>\n",
       "      <td>47</td>\n",
       "      <td>Secondary Education</td>\n",
       "      <td>1</td>\n",
       "      <td>married</td>\n",
       "      <td>0</td>\n",
       "      <td>M</td>\n",
       "      <td>business</td>\n",
       "      <td>0</td>\n",
       "      <td>NaN</td>\n",
       "      <td>purchase of a car</td>\n",
       "    </tr>\n",
       "    <tr>\n",
       "      <th>21495</th>\n",
       "      <td>1</td>\n",
       "      <td>NaN</td>\n",
       "      <td>50</td>\n",
       "      <td>secondary education</td>\n",
       "      <td>1</td>\n",
       "      <td>civil partnership</td>\n",
       "      <td>1</td>\n",
       "      <td>F</td>\n",
       "      <td>employee</td>\n",
       "      <td>0</td>\n",
       "      <td>NaN</td>\n",
       "      <td>wedding ceremony</td>\n",
       "    </tr>\n",
       "    <tr>\n",
       "      <th>21497</th>\n",
       "      <td>0</td>\n",
       "      <td>NaN</td>\n",
       "      <td>48</td>\n",
       "      <td>BACHELOR'S DEGREE</td>\n",
       "      <td>0</td>\n",
       "      <td>married</td>\n",
       "      <td>0</td>\n",
       "      <td>F</td>\n",
       "      <td>business</td>\n",
       "      <td>0</td>\n",
       "      <td>NaN</td>\n",
       "      <td>building a property</td>\n",
       "    </tr>\n",
       "    <tr>\n",
       "      <th>21502</th>\n",
       "      <td>1</td>\n",
       "      <td>NaN</td>\n",
       "      <td>42</td>\n",
       "      <td>secondary education</td>\n",
       "      <td>1</td>\n",
       "      <td>married</td>\n",
       "      <td>0</td>\n",
       "      <td>F</td>\n",
       "      <td>employee</td>\n",
       "      <td>0</td>\n",
       "      <td>NaN</td>\n",
       "      <td>building a real estate</td>\n",
       "    </tr>\n",
       "    <tr>\n",
       "      <th>21510</th>\n",
       "      <td>2</td>\n",
       "      <td>NaN</td>\n",
       "      <td>28</td>\n",
       "      <td>secondary education</td>\n",
       "      <td>1</td>\n",
       "      <td>married</td>\n",
       "      <td>0</td>\n",
       "      <td>F</td>\n",
       "      <td>employee</td>\n",
       "      <td>0</td>\n",
       "      <td>NaN</td>\n",
       "      <td>car purchase</td>\n",
       "    </tr>\n",
       "  </tbody>\n",
       "</table>\n",
       "<p>2174 rows × 12 columns</p>\n",
       "</div>"
      ],
      "text/plain": [
       "       children  days_employed  dob_years            education  education_id  \\\n",
       "12            0            NaN         65  secondary education             1   \n",
       "26            0            NaN         41  secondary education             1   \n",
       "29            0            NaN         63  secondary education             1   \n",
       "41            0            NaN         50  secondary education             1   \n",
       "55            0            NaN         54  secondary education             1   \n",
       "...         ...            ...        ...                  ...           ...   \n",
       "21489         2            NaN         47  Secondary Education             1   \n",
       "21495         1            NaN         50  secondary education             1   \n",
       "21497         0            NaN         48    BACHELOR'S DEGREE             0   \n",
       "21502         1            NaN         42  secondary education             1   \n",
       "21510         2            NaN         28  secondary education             1   \n",
       "\n",
       "           family_status  family_status_id gender    income_type  debt  \\\n",
       "12     civil partnership                 1      M        retiree     0   \n",
       "26               married                 0      M  civil servant     0   \n",
       "29             unmarried                 4      F        retiree     0   \n",
       "41               married                 0      F  civil servant     0   \n",
       "55     civil partnership                 1      F        retiree     1   \n",
       "...                  ...               ...    ...            ...   ...   \n",
       "21489            married                 0      M       business     0   \n",
       "21495  civil partnership                 1      F       employee     0   \n",
       "21497            married                 0      F       business     0   \n",
       "21502            married                 0      F       employee     0   \n",
       "21510            married                 0      F       employee     0   \n",
       "\n",
       "       total_income                   purpose  \n",
       "12              NaN         to have a wedding  \n",
       "26              NaN                 education  \n",
       "29              NaN    building a real estate  \n",
       "41              NaN  second-hand car purchase  \n",
       "55              NaN         to have a wedding  \n",
       "...             ...                       ...  \n",
       "21489           NaN         purchase of a car  \n",
       "21495           NaN          wedding ceremony  \n",
       "21497           NaN       building a property  \n",
       "21502           NaN    building a real estate  \n",
       "21510           NaN              car purchase  \n",
       "\n",
       "[2174 rows x 12 columns]"
      ]
     },
     "execution_count": 7,
     "metadata": {},
     "output_type": "execute_result"
    }
   ],
   "source": [
    "# Vamos aplicar várias condições para filtrar dados e observar o número de linhas na tabela filtrada.\n",
    "\n",
    "df [ (df.total_income.isna()) ]"
   ]
  },
  {
   "cell_type": "code",
   "execution_count": 8,
   "metadata": {},
   "outputs": [
    {
     "data": {
      "text/plain": [
       "2174"
      ]
     },
     "execution_count": 8,
     "metadata": {},
     "output_type": "execute_result"
    }
   ],
   "source": [
    "df.total_income.isna().sum()"
   ]
  },
  {
   "cell_type": "markdown",
   "metadata": {
    "variables": {
     "df.total_income.isna().sum()": "2174"
    }
   },
   "source": [
    "**Existem 2174 <font color=red>valores ausentes</font> pela coluna `total_income`**"
   ]
  },
  {
   "cell_type": "markdown",
   "metadata": {},
   "source": [
    "#### Filtro para valores ausentes nas colunas `total_income` & `days_employed`"
   ]
  },
  {
   "cell_type": "code",
   "execution_count": 9,
   "metadata": {},
   "outputs": [
    {
     "data": {
      "text/html": [
       "<div>\n",
       "<style scoped>\n",
       "    .dataframe tbody tr th:only-of-type {\n",
       "        vertical-align: middle;\n",
       "    }\n",
       "\n",
       "    .dataframe tbody tr th {\n",
       "        vertical-align: top;\n",
       "    }\n",
       "\n",
       "    .dataframe thead th {\n",
       "        text-align: right;\n",
       "    }\n",
       "</style>\n",
       "<table border=\"1\" class=\"dataframe\">\n",
       "  <thead>\n",
       "    <tr style=\"text-align: right;\">\n",
       "      <th></th>\n",
       "      <th>children</th>\n",
       "      <th>days_employed</th>\n",
       "      <th>dob_years</th>\n",
       "      <th>education</th>\n",
       "      <th>education_id</th>\n",
       "      <th>family_status</th>\n",
       "      <th>family_status_id</th>\n",
       "      <th>gender</th>\n",
       "      <th>income_type</th>\n",
       "      <th>debt</th>\n",
       "      <th>total_income</th>\n",
       "      <th>purpose</th>\n",
       "    </tr>\n",
       "  </thead>\n",
       "  <tbody>\n",
       "    <tr>\n",
       "      <th>12</th>\n",
       "      <td>0</td>\n",
       "      <td>NaN</td>\n",
       "      <td>65</td>\n",
       "      <td>secondary education</td>\n",
       "      <td>1</td>\n",
       "      <td>civil partnership</td>\n",
       "      <td>1</td>\n",
       "      <td>M</td>\n",
       "      <td>retiree</td>\n",
       "      <td>0</td>\n",
       "      <td>NaN</td>\n",
       "      <td>to have a wedding</td>\n",
       "    </tr>\n",
       "    <tr>\n",
       "      <th>26</th>\n",
       "      <td>0</td>\n",
       "      <td>NaN</td>\n",
       "      <td>41</td>\n",
       "      <td>secondary education</td>\n",
       "      <td>1</td>\n",
       "      <td>married</td>\n",
       "      <td>0</td>\n",
       "      <td>M</td>\n",
       "      <td>civil servant</td>\n",
       "      <td>0</td>\n",
       "      <td>NaN</td>\n",
       "      <td>education</td>\n",
       "    </tr>\n",
       "    <tr>\n",
       "      <th>29</th>\n",
       "      <td>0</td>\n",
       "      <td>NaN</td>\n",
       "      <td>63</td>\n",
       "      <td>secondary education</td>\n",
       "      <td>1</td>\n",
       "      <td>unmarried</td>\n",
       "      <td>4</td>\n",
       "      <td>F</td>\n",
       "      <td>retiree</td>\n",
       "      <td>0</td>\n",
       "      <td>NaN</td>\n",
       "      <td>building a real estate</td>\n",
       "    </tr>\n",
       "    <tr>\n",
       "      <th>41</th>\n",
       "      <td>0</td>\n",
       "      <td>NaN</td>\n",
       "      <td>50</td>\n",
       "      <td>secondary education</td>\n",
       "      <td>1</td>\n",
       "      <td>married</td>\n",
       "      <td>0</td>\n",
       "      <td>F</td>\n",
       "      <td>civil servant</td>\n",
       "      <td>0</td>\n",
       "      <td>NaN</td>\n",
       "      <td>second-hand car purchase</td>\n",
       "    </tr>\n",
       "    <tr>\n",
       "      <th>55</th>\n",
       "      <td>0</td>\n",
       "      <td>NaN</td>\n",
       "      <td>54</td>\n",
       "      <td>secondary education</td>\n",
       "      <td>1</td>\n",
       "      <td>civil partnership</td>\n",
       "      <td>1</td>\n",
       "      <td>F</td>\n",
       "      <td>retiree</td>\n",
       "      <td>1</td>\n",
       "      <td>NaN</td>\n",
       "      <td>to have a wedding</td>\n",
       "    </tr>\n",
       "    <tr>\n",
       "      <th>...</th>\n",
       "      <td>...</td>\n",
       "      <td>...</td>\n",
       "      <td>...</td>\n",
       "      <td>...</td>\n",
       "      <td>...</td>\n",
       "      <td>...</td>\n",
       "      <td>...</td>\n",
       "      <td>...</td>\n",
       "      <td>...</td>\n",
       "      <td>...</td>\n",
       "      <td>...</td>\n",
       "      <td>...</td>\n",
       "    </tr>\n",
       "    <tr>\n",
       "      <th>21489</th>\n",
       "      <td>2</td>\n",
       "      <td>NaN</td>\n",
       "      <td>47</td>\n",
       "      <td>Secondary Education</td>\n",
       "      <td>1</td>\n",
       "      <td>married</td>\n",
       "      <td>0</td>\n",
       "      <td>M</td>\n",
       "      <td>business</td>\n",
       "      <td>0</td>\n",
       "      <td>NaN</td>\n",
       "      <td>purchase of a car</td>\n",
       "    </tr>\n",
       "    <tr>\n",
       "      <th>21495</th>\n",
       "      <td>1</td>\n",
       "      <td>NaN</td>\n",
       "      <td>50</td>\n",
       "      <td>secondary education</td>\n",
       "      <td>1</td>\n",
       "      <td>civil partnership</td>\n",
       "      <td>1</td>\n",
       "      <td>F</td>\n",
       "      <td>employee</td>\n",
       "      <td>0</td>\n",
       "      <td>NaN</td>\n",
       "      <td>wedding ceremony</td>\n",
       "    </tr>\n",
       "    <tr>\n",
       "      <th>21497</th>\n",
       "      <td>0</td>\n",
       "      <td>NaN</td>\n",
       "      <td>48</td>\n",
       "      <td>BACHELOR'S DEGREE</td>\n",
       "      <td>0</td>\n",
       "      <td>married</td>\n",
       "      <td>0</td>\n",
       "      <td>F</td>\n",
       "      <td>business</td>\n",
       "      <td>0</td>\n",
       "      <td>NaN</td>\n",
       "      <td>building a property</td>\n",
       "    </tr>\n",
       "    <tr>\n",
       "      <th>21502</th>\n",
       "      <td>1</td>\n",
       "      <td>NaN</td>\n",
       "      <td>42</td>\n",
       "      <td>secondary education</td>\n",
       "      <td>1</td>\n",
       "      <td>married</td>\n",
       "      <td>0</td>\n",
       "      <td>F</td>\n",
       "      <td>employee</td>\n",
       "      <td>0</td>\n",
       "      <td>NaN</td>\n",
       "      <td>building a real estate</td>\n",
       "    </tr>\n",
       "    <tr>\n",
       "      <th>21510</th>\n",
       "      <td>2</td>\n",
       "      <td>NaN</td>\n",
       "      <td>28</td>\n",
       "      <td>secondary education</td>\n",
       "      <td>1</td>\n",
       "      <td>married</td>\n",
       "      <td>0</td>\n",
       "      <td>F</td>\n",
       "      <td>employee</td>\n",
       "      <td>0</td>\n",
       "      <td>NaN</td>\n",
       "      <td>car purchase</td>\n",
       "    </tr>\n",
       "  </tbody>\n",
       "</table>\n",
       "<p>2174 rows × 12 columns</p>\n",
       "</div>"
      ],
      "text/plain": [
       "       children  days_employed  dob_years            education  education_id  \\\n",
       "12            0            NaN         65  secondary education             1   \n",
       "26            0            NaN         41  secondary education             1   \n",
       "29            0            NaN         63  secondary education             1   \n",
       "41            0            NaN         50  secondary education             1   \n",
       "55            0            NaN         54  secondary education             1   \n",
       "...         ...            ...        ...                  ...           ...   \n",
       "21489         2            NaN         47  Secondary Education             1   \n",
       "21495         1            NaN         50  secondary education             1   \n",
       "21497         0            NaN         48    BACHELOR'S DEGREE             0   \n",
       "21502         1            NaN         42  secondary education             1   \n",
       "21510         2            NaN         28  secondary education             1   \n",
       "\n",
       "           family_status  family_status_id gender    income_type  debt  \\\n",
       "12     civil partnership                 1      M        retiree     0   \n",
       "26               married                 0      M  civil servant     0   \n",
       "29             unmarried                 4      F        retiree     0   \n",
       "41               married                 0      F  civil servant     0   \n",
       "55     civil partnership                 1      F        retiree     1   \n",
       "...                  ...               ...    ...            ...   ...   \n",
       "21489            married                 0      M       business     0   \n",
       "21495  civil partnership                 1      F       employee     0   \n",
       "21497            married                 0      F       business     0   \n",
       "21502            married                 0      F       employee     0   \n",
       "21510            married                 0      F       employee     0   \n",
       "\n",
       "       total_income                   purpose  \n",
       "12              NaN         to have a wedding  \n",
       "26              NaN                 education  \n",
       "29              NaN    building a real estate  \n",
       "41              NaN  second-hand car purchase  \n",
       "55              NaN         to have a wedding  \n",
       "...             ...                       ...  \n",
       "21489           NaN         purchase of a car  \n",
       "21495           NaN          wedding ceremony  \n",
       "21497           NaN       building a property  \n",
       "21502           NaN    building a real estate  \n",
       "21510           NaN              car purchase  \n",
       "\n",
       "[2174 rows x 12 columns]"
      ]
     },
     "execution_count": 9,
     "metadata": {},
     "output_type": "execute_result"
    }
   ],
   "source": [
    "df [ (df.total_income.isna()) & (df.days_employed.isna()) ]"
   ]
  },
  {
   "cell_type": "markdown",
   "metadata": {},
   "source": [
    "Aplicando o filtro para apresentar os valores ausentes em ambas as colunas temos exactamente o mesmo total de registos, no entanto, pode ser um pouco arduo confimar se são **exactamente** os mesmos registos sem algum identificador unico para o cliente.\n",
    "\n",
    "Com base nesta observação vamos tentar validar comparando a igualdade dos dataframes com o metodo `equals()`"
   ]
  },
  {
   "cell_type": "markdown",
   "metadata": {},
   "source": [
    "<div class=\"alert alert-block alert-success\">\n",
    "<b>Comentário do corretor</b> <a class=\"tocSkip\"></a>\n",
    "\n",
    "Muito bom trabalho em visualizar como estão os dados nulos das colunas analisadas!\n",
    "\n",
    "</div>"
   ]
  },
  {
   "cell_type": "code",
   "execution_count": 10,
   "metadata": {
    "scrolled": true
   },
   "outputs": [
    {
     "data": {
      "text/plain": [
       "True"
      ]
     },
     "execution_count": 10,
     "metadata": {},
     "output_type": "execute_result"
    }
   ],
   "source": [
    "df_employed_null.equals ( df[ df.total_income.isna() ] )"
   ]
  },
  {
   "cell_type": "markdown",
   "metadata": {},
   "source": [
    "**<font color=green>Temos exactamente o mesmo dataframe</font>**"
   ]
  },
  {
   "cell_type": "markdown",
   "metadata": {},
   "source": [
    "***\n",
    "<a id=confirmAusentes>confirmacao dos ausentes</a>\n",
    "\n",
    "**Validação da percentagem dos valores ausentes em relação ao dataset**"
   ]
  },
  {
   "cell_type": "code",
   "execution_count": 11,
   "metadata": {},
   "outputs": [
    {
     "name": "stdout",
     "output_type": "stream",
     "text": [
      "children             0.000000\n",
      "days_employed       10.099884\n",
      "dob_years            0.000000\n",
      "education            0.000000\n",
      "education_id         0.000000\n",
      "family_status        0.000000\n",
      "family_status_id     0.000000\n",
      "gender               0.000000\n",
      "income_type          0.000000\n",
      "debt                 0.000000\n",
      "total_income        10.099884\n",
      "purpose              0.000000\n",
      "dtype: float64\n"
     ]
    }
   ],
   "source": [
    " # Podemos usar o df.isnull().sum() porque ja sabemos que apenas as 2 colunas irão apresentar valores\n",
    "print(df.isnull().sum() / df.shape[0] * 100.00)\n",
    "\n",
    "# Alterantiva para apenas as duas colunas:\n",
    "#print( len(df_employed_null) / df.shape[0] * 100.00 )\n",
    "#print( df.total_income.isnull().sum() / df.shape[0] * 100.00 )"
   ]
  },
  {
   "cell_type": "code",
   "execution_count": 12,
   "metadata": {},
   "outputs": [
    {
     "data": {
      "text/plain": [
       "10"
      ]
     },
     "execution_count": 12,
     "metadata": {},
     "output_type": "execute_result"
    }
   ],
   "source": [
    "round( (df.isnull().sum() / df.shape[0] * 100.00).loc['days_employed'])"
   ]
  },
  {
   "cell_type": "markdown",
   "metadata": {
    "variables": {
     " round( (df.isnull().sum() / df.shape[0] * 100.00).loc['days_employed']) ": "10"
    }
   },
   "source": [
    "Podemos afirmar que os valores ausentes para ambas as colunas representam aproximadamente **10%** do total de clientes analisados\n",
    "\n",
    "Os valores ausentes serão tratados [aqui](#trabalhandoAusentes)\n"
   ]
  },
  {
   "cell_type": "markdown",
   "metadata": {},
   "source": [
    "### Associação com a coluna `debt` (havia alguma dívida no pagamento do empréstimo)"
   ]
  },
  {
   "cell_type": "markdown",
   "metadata": {},
   "source": [
    "**No dataframe com os valores null para a coluna `days_employed`, pdemos ver e contar os diferentes valores para a coluna `debt`**"
   ]
  },
  {
   "cell_type": "code",
   "execution_count": 13,
   "metadata": {},
   "outputs": [],
   "source": [
    "total = df_employed_null.debt.value_counts(dropna=False)\n",
    "\n",
    "# .mul(x) multiplica os valores por x\n",
    "# .round(x) apresenta apenas x casas decimais\n",
    "# .astype(str) converte para string\n",
    "# + '%' concatena % :)\n",
    "percent = df_employed_null.debt.value_counts(dropna=False, normalize=True).mul(100).round(1).astype(str) + '%'\n",
    "\n",
    "# Concatena os dois dataframes resultantes acima, importatente possuirem as mesmas colunas e numero de linhas.\n",
    "distribuicao = pd.concat([total,percent], axis=1, keys=['Total', '%']) "
   ]
  },
  {
   "cell_type": "markdown",
   "metadata": {},
   "source": [
    ">A tabela abaixo apresenta a distribuição na pequena amostra de clientes com valores ausentes"
   ]
  },
  {
   "cell_type": "code",
   "execution_count": 14,
   "metadata": {},
   "outputs": [
    {
     "data": {
      "text/html": [
       "<div>\n",
       "<style scoped>\n",
       "    .dataframe tbody tr th:only-of-type {\n",
       "        vertical-align: middle;\n",
       "    }\n",
       "\n",
       "    .dataframe tbody tr th {\n",
       "        vertical-align: top;\n",
       "    }\n",
       "\n",
       "    .dataframe thead th {\n",
       "        text-align: right;\n",
       "    }\n",
       "</style>\n",
       "<table border=\"1\" class=\"dataframe\">\n",
       "  <thead>\n",
       "    <tr style=\"text-align: right;\">\n",
       "      <th></th>\n",
       "      <th>Total</th>\n",
       "      <th>%</th>\n",
       "    </tr>\n",
       "  </thead>\n",
       "  <tbody>\n",
       "    <tr>\n",
       "      <th>0</th>\n",
       "      <td>2004</td>\n",
       "      <td>92.2%</td>\n",
       "    </tr>\n",
       "    <tr>\n",
       "      <th>1</th>\n",
       "      <td>170</td>\n",
       "      <td>7.8%</td>\n",
       "    </tr>\n",
       "  </tbody>\n",
       "</table>\n",
       "</div>"
      ],
      "text/plain": [
       "   Total      %\n",
       "0   2004  92.2%\n",
       "1    170   7.8%"
      ]
     },
     "execution_count": 14,
     "metadata": {},
     "output_type": "execute_result"
    }
   ],
   "source": [
    "distribuicao"
   ]
  },
  {
   "cell_type": "markdown",
   "metadata": {},
   "source": [
    "**Conclusão intermediária**\n",
    "\n",
    "\n",
    "O total de linhas para as tabelas filtradas tanto para as colunas `days_employed` e `total_income` ou ainda a o filtro combinado para ambas as colunas corresponde ao **total de valores ausentes no nosso dataset**. Isto nos transmite alguma segurança em afirmar que não estamos perante a erros em preenchimento do formulário (erro humano) e sim <font color=red>clientes para obtenção do credito que estão desempregados.</font>\n",
    "\n",
    "**10%** dos dados acredito ser um valor consideravelmente impactante para a analise em curso caso nos proximos passos optemos pela remoção dos registos com dados ausentes, de qualquer modo, pela conclusão obtida, podemos confortavelmente dar um melhor tratamento aos valores ausentes uma vez que trata-se dos clientes desempregados, exemplo substituir o `NaN` por `0`"
   ]
  },
  {
   "cell_type": "markdown",
   "metadata": {},
   "source": [
    "<div class=\"alert alert-block alert-success\">\n",
    "<b>Comentário do corretor</b> <a class=\"tocSkip\"></a>\n",
    "\n",
    "Ótima análise Gerson! Suas conclusões estão muito bem embasadas nas suas análises anteriores, muito bem!\n",
    "\n",
    "</div>"
   ]
  },
  {
   "cell_type": "code",
   "execution_count": 15,
   "metadata": {},
   "outputs": [],
   "source": [
    "# Vamos investigar clientes que não possuem dados sobre as características identificadas e a coluna com os valores ausentes\n",
    "df_filtered = df [ ~df.days_employed.isna() ]"
   ]
  },
  {
   "cell_type": "code",
   "execution_count": 16,
   "metadata": {},
   "outputs": [
    {
     "data": {
      "text/html": [
       "<div>\n",
       "<style scoped>\n",
       "    .dataframe tbody tr th:only-of-type {\n",
       "        vertical-align: middle;\n",
       "    }\n",
       "\n",
       "    .dataframe tbody tr th {\n",
       "        vertical-align: top;\n",
       "    }\n",
       "\n",
       "    .dataframe thead th {\n",
       "        text-align: right;\n",
       "    }\n",
       "</style>\n",
       "<table border=\"1\" class=\"dataframe\">\n",
       "  <thead>\n",
       "    <tr style=\"text-align: right;\">\n",
       "      <th></th>\n",
       "      <th>children</th>\n",
       "      <th>days_employed</th>\n",
       "      <th>dob_years</th>\n",
       "      <th>education</th>\n",
       "      <th>education_id</th>\n",
       "      <th>family_status</th>\n",
       "      <th>family_status_id</th>\n",
       "      <th>gender</th>\n",
       "      <th>income_type</th>\n",
       "      <th>debt</th>\n",
       "      <th>total_income</th>\n",
       "      <th>purpose</th>\n",
       "    </tr>\n",
       "  </thead>\n",
       "  <tbody>\n",
       "    <tr>\n",
       "      <th>0</th>\n",
       "      <td>1</td>\n",
       "      <td>-8437.673028</td>\n",
       "      <td>42</td>\n",
       "      <td>bachelor's degree</td>\n",
       "      <td>0</td>\n",
       "      <td>married</td>\n",
       "      <td>0</td>\n",
       "      <td>F</td>\n",
       "      <td>employee</td>\n",
       "      <td>0</td>\n",
       "      <td>40620.102</td>\n",
       "      <td>purchase of the house</td>\n",
       "    </tr>\n",
       "    <tr>\n",
       "      <th>1</th>\n",
       "      <td>1</td>\n",
       "      <td>-4024.803754</td>\n",
       "      <td>36</td>\n",
       "      <td>secondary education</td>\n",
       "      <td>1</td>\n",
       "      <td>married</td>\n",
       "      <td>0</td>\n",
       "      <td>F</td>\n",
       "      <td>employee</td>\n",
       "      <td>0</td>\n",
       "      <td>17932.802</td>\n",
       "      <td>car purchase</td>\n",
       "    </tr>\n",
       "    <tr>\n",
       "      <th>2</th>\n",
       "      <td>0</td>\n",
       "      <td>-5623.422610</td>\n",
       "      <td>33</td>\n",
       "      <td>Secondary Education</td>\n",
       "      <td>1</td>\n",
       "      <td>married</td>\n",
       "      <td>0</td>\n",
       "      <td>M</td>\n",
       "      <td>employee</td>\n",
       "      <td>0</td>\n",
       "      <td>23341.752</td>\n",
       "      <td>purchase of the house</td>\n",
       "    </tr>\n",
       "    <tr>\n",
       "      <th>3</th>\n",
       "      <td>3</td>\n",
       "      <td>-4124.747207</td>\n",
       "      <td>32</td>\n",
       "      <td>secondary education</td>\n",
       "      <td>1</td>\n",
       "      <td>married</td>\n",
       "      <td>0</td>\n",
       "      <td>M</td>\n",
       "      <td>employee</td>\n",
       "      <td>0</td>\n",
       "      <td>42820.568</td>\n",
       "      <td>supplementary education</td>\n",
       "    </tr>\n",
       "    <tr>\n",
       "      <th>4</th>\n",
       "      <td>0</td>\n",
       "      <td>340266.072047</td>\n",
       "      <td>53</td>\n",
       "      <td>secondary education</td>\n",
       "      <td>1</td>\n",
       "      <td>civil partnership</td>\n",
       "      <td>1</td>\n",
       "      <td>F</td>\n",
       "      <td>retiree</td>\n",
       "      <td>0</td>\n",
       "      <td>25378.572</td>\n",
       "      <td>to have a wedding</td>\n",
       "    </tr>\n",
       "    <tr>\n",
       "      <th>5</th>\n",
       "      <td>0</td>\n",
       "      <td>-926.185831</td>\n",
       "      <td>27</td>\n",
       "      <td>bachelor's degree</td>\n",
       "      <td>0</td>\n",
       "      <td>civil partnership</td>\n",
       "      <td>1</td>\n",
       "      <td>M</td>\n",
       "      <td>business</td>\n",
       "      <td>0</td>\n",
       "      <td>40922.170</td>\n",
       "      <td>purchase of the house</td>\n",
       "    </tr>\n",
       "    <tr>\n",
       "      <th>6</th>\n",
       "      <td>0</td>\n",
       "      <td>-2879.202052</td>\n",
       "      <td>43</td>\n",
       "      <td>bachelor's degree</td>\n",
       "      <td>0</td>\n",
       "      <td>married</td>\n",
       "      <td>0</td>\n",
       "      <td>F</td>\n",
       "      <td>business</td>\n",
       "      <td>0</td>\n",
       "      <td>38484.156</td>\n",
       "      <td>housing transactions</td>\n",
       "    </tr>\n",
       "    <tr>\n",
       "      <th>7</th>\n",
       "      <td>0</td>\n",
       "      <td>-152.779569</td>\n",
       "      <td>50</td>\n",
       "      <td>SECONDARY EDUCATION</td>\n",
       "      <td>1</td>\n",
       "      <td>married</td>\n",
       "      <td>0</td>\n",
       "      <td>M</td>\n",
       "      <td>employee</td>\n",
       "      <td>0</td>\n",
       "      <td>21731.829</td>\n",
       "      <td>education</td>\n",
       "    </tr>\n",
       "    <tr>\n",
       "      <th>8</th>\n",
       "      <td>2</td>\n",
       "      <td>-6929.865299</td>\n",
       "      <td>35</td>\n",
       "      <td>BACHELOR'S DEGREE</td>\n",
       "      <td>0</td>\n",
       "      <td>civil partnership</td>\n",
       "      <td>1</td>\n",
       "      <td>F</td>\n",
       "      <td>employee</td>\n",
       "      <td>0</td>\n",
       "      <td>15337.093</td>\n",
       "      <td>having a wedding</td>\n",
       "    </tr>\n",
       "    <tr>\n",
       "      <th>9</th>\n",
       "      <td>0</td>\n",
       "      <td>-2188.756445</td>\n",
       "      <td>41</td>\n",
       "      <td>secondary education</td>\n",
       "      <td>1</td>\n",
       "      <td>married</td>\n",
       "      <td>0</td>\n",
       "      <td>M</td>\n",
       "      <td>employee</td>\n",
       "      <td>0</td>\n",
       "      <td>23108.150</td>\n",
       "      <td>purchase of the house for my family</td>\n",
       "    </tr>\n",
       "  </tbody>\n",
       "</table>\n",
       "</div>"
      ],
      "text/plain": [
       "   children  days_employed  dob_years            education  education_id  \\\n",
       "0         1   -8437.673028         42    bachelor's degree             0   \n",
       "1         1   -4024.803754         36  secondary education             1   \n",
       "2         0   -5623.422610         33  Secondary Education             1   \n",
       "3         3   -4124.747207         32  secondary education             1   \n",
       "4         0  340266.072047         53  secondary education             1   \n",
       "5         0    -926.185831         27    bachelor's degree             0   \n",
       "6         0   -2879.202052         43    bachelor's degree             0   \n",
       "7         0    -152.779569         50  SECONDARY EDUCATION             1   \n",
       "8         2   -6929.865299         35    BACHELOR'S DEGREE             0   \n",
       "9         0   -2188.756445         41  secondary education             1   \n",
       "\n",
       "       family_status  family_status_id gender income_type  debt  total_income  \\\n",
       "0            married                 0      F    employee     0     40620.102   \n",
       "1            married                 0      F    employee     0     17932.802   \n",
       "2            married                 0      M    employee     0     23341.752   \n",
       "3            married                 0      M    employee     0     42820.568   \n",
       "4  civil partnership                 1      F     retiree     0     25378.572   \n",
       "5  civil partnership                 1      M    business     0     40922.170   \n",
       "6            married                 0      F    business     0     38484.156   \n",
       "7            married                 0      M    employee     0     21731.829   \n",
       "8  civil partnership                 1      F    employee     0     15337.093   \n",
       "9            married                 0      M    employee     0     23108.150   \n",
       "\n",
       "                               purpose  \n",
       "0                purchase of the house  \n",
       "1                         car purchase  \n",
       "2                purchase of the house  \n",
       "3              supplementary education  \n",
       "4                    to have a wedding  \n",
       "5                purchase of the house  \n",
       "6                 housing transactions  \n",
       "7                            education  \n",
       "8                     having a wedding  \n",
       "9  purchase of the house for my family  "
      ]
     },
     "execution_count": 16,
     "metadata": {},
     "output_type": "execute_result"
    }
   ],
   "source": [
    "# Verificar a distribuição\n",
    "df_filtered.head(10)"
   ]
  },
  {
   "cell_type": "code",
   "execution_count": 17,
   "metadata": {},
   "outputs": [
    {
     "data": {
      "text/plain": [
       "children            0\n",
       "days_employed       0\n",
       "dob_years           0\n",
       "education           0\n",
       "education_id        0\n",
       "family_status       0\n",
       "family_status_id    0\n",
       "gender              0\n",
       "income_type         0\n",
       "debt                0\n",
       "total_income        0\n",
       "purpose             0\n",
       "dtype: int64"
      ]
     },
     "execution_count": 17,
     "metadata": {},
     "output_type": "execute_result"
    }
   ],
   "source": [
    "df_filtered.isna().sum()"
   ]
  },
  {
   "cell_type": "markdown",
   "metadata": {},
   "source": [
    "Se filtramos o dataset para apresentar os registos que não tem `NaN` para a coluna `days_employed` e consequentemente deixamos de ter valores ausentes\n",
    "\n",
    "**Possíveis motivos para valores ausentes nos dados**\n",
    "\n",
    "- Nada a acrescentar até o momento"
   ]
  },
  {
   "cell_type": "code",
   "execution_count": 18,
   "metadata": {},
   "outputs": [
    {
     "name": "stdout",
     "output_type": "stream",
     "text": [
      " 89.90011614401858 % do dataset não tem valores ausentes!\n"
     ]
    }
   ],
   "source": [
    "# Verificar a distribuição em todo o conjunto de dados\n",
    "print(f' {(len(df_filtered) / len(df)) * 100} % do dataset não tem valores ausentes!')"
   ]
  },
  {
   "cell_type": "markdown",
   "metadata": {},
   "source": [
    "## Transformação de dados\n"
   ]
  },
  {
   "cell_type": "markdown",
   "metadata": {},
   "source": [
    "**Funcao para apresentar a distribuição e o total de volores ausentes**"
   ]
  },
  {
   "cell_type": "code",
   "execution_count": 19,
   "metadata": {},
   "outputs": [],
   "source": [
    "#\"\"\"\n",
    "#Esta funcao foi criada apenas quando cheguei na ultima coluna e reparei que estava a ser repetitivo em mostrar a \n",
    "#distribuicao por value_counts()\n",
    "#\"\"\"\n",
    "\n",
    "#Por se tratar de uma função podemos trabalhar um pouco mais e apresentar de um modo mais elegante :)\n",
    "\n",
    "#Recebe 2 argumentos (dataframe com o valor default para variavel df, e o nome da coluna)\n",
    "#Retorna o dataframe para não termos que envolver numa funcao print()\n",
    "\n",
    "def ver_distribuicao( dataf = df, col=None): # Não sei porque exigiu um valor default para a 'col'\n",
    "    \n",
    "    total = dataf[col].value_counts().reset_index()\n",
    "    \n",
    "    #Normalize > Obter a percentagem para cada valor\n",
    "    #round > Definir o numero de casas decimais para o objecto\n",
    "    #astype(str) > Converter o valor para (str)\n",
    "    percent =  (dataf[col].value_counts(normalize=True).reset_index(drop=True) * 100).round(2).astype(str) + '%'\n",
    "\n",
    "    #Dicionario de listas\n",
    "    tabela_dist_children = { col: total['index'].astype(str).tolist() ,\n",
    "                             'Total': total[col].tolist() ,\n",
    "                             'Percentagem': percent.tolist()}\n",
    "    \n",
    "    tmpDf = pd.DataFrame(tabela_dist_children).sort_values('Total', ascending=False)\n",
    "    \n",
    "    return tmpDf.style.bar()    "
   ]
  },
  {
   "cell_type": "markdown",
   "metadata": {},
   "source": [
    "<div class=\"alert alert-block alert-success\">\n",
    "<b>Comentário do corretor</b> <a class=\"tocSkip\"></a>\n",
    "\n",
    "Função muito bem definida!\n",
    "\n",
    "</div>"
   ]
  },
  {
   "cell_type": "markdown",
   "metadata": {},
   "source": [
    "### Coluna `education`"
   ]
  },
  {
   "cell_type": "code",
   "execution_count": 20,
   "metadata": {},
   "outputs": [
    {
     "data": {
      "text/html": [
       "<style  type=\"text/css\" >\n",
       "#T_4a8b0_row0_col1{\n",
       "            width:  10em;\n",
       "             height:  80%;\n",
       "            background:  linear-gradient(90deg,#d65f5f 100.0%, transparent 100.0%);\n",
       "        }#T_4a8b0_row1_col1{\n",
       "            width:  10em;\n",
       "             height:  80%;\n",
       "            background:  linear-gradient(90deg,#d65f5f 34.3%, transparent 34.3%);\n",
       "        }#T_4a8b0_row2_col1{\n",
       "            width:  10em;\n",
       "             height:  80%;\n",
       "            background:  linear-gradient(90deg,#d65f5f 5.6%, transparent 5.6%);\n",
       "        }#T_4a8b0_row3_col1{\n",
       "            width:  10em;\n",
       "             height:  80%;\n",
       "            background:  linear-gradient(90deg,#d65f5f 5.2%, transparent 5.2%);\n",
       "        }#T_4a8b0_row4_col1{\n",
       "            width:  10em;\n",
       "             height:  80%;\n",
       "            background:  linear-gradient(90deg,#d65f5f 4.9%, transparent 4.9%);\n",
       "        }#T_4a8b0_row5_col1{\n",
       "            width:  10em;\n",
       "             height:  80%;\n",
       "            background:  linear-gradient(90deg,#d65f5f 2.0%, transparent 2.0%);\n",
       "        }#T_4a8b0_row6_col1{\n",
       "            width:  10em;\n",
       "             height:  80%;\n",
       "            background:  linear-gradient(90deg,#d65f5f 1.9%, transparent 1.9%);\n",
       "        }#T_4a8b0_row7_col1{\n",
       "            width:  10em;\n",
       "             height:  80%;\n",
       "            background:  linear-gradient(90deg,#d65f5f 1.8%, transparent 1.8%);\n",
       "        }#T_4a8b0_row8_col1{\n",
       "            width:  10em;\n",
       "             height:  80%;\n",
       "            background:  linear-gradient(90deg,#d65f5f 0.3%, transparent 0.3%);\n",
       "        }#T_4a8b0_row9_col1{\n",
       "            width:  10em;\n",
       "             height:  80%;\n",
       "            background:  linear-gradient(90deg,#d65f5f 0.2%, transparent 0.2%);\n",
       "        }#T_4a8b0_row10_col1,#T_4a8b0_row11_col1{\n",
       "            width:  10em;\n",
       "             height:  80%;\n",
       "            background:  linear-gradient(90deg,#d65f5f 0.1%, transparent 0.1%);\n",
       "        }#T_4a8b0_row12_col1{\n",
       "            width:  10em;\n",
       "             height:  80%;\n",
       "            background:  linear-gradient(90deg,#d65f5f 0.0%, transparent 0.0%);\n",
       "        }#T_4a8b0_row13_col1,#T_4a8b0_row14_col1{\n",
       "            width:  10em;\n",
       "             height:  80%;\n",
       "        }</style><table id=\"T_4a8b0_\" ><thead>    <tr>        <th class=\"blank level0\" ></th>        <th class=\"col_heading level0 col0\" >education</th>        <th class=\"col_heading level0 col1\" >Total</th>        <th class=\"col_heading level0 col2\" >Percentagem</th>    </tr></thead><tbody>\n",
       "                <tr>\n",
       "                        <th id=\"T_4a8b0_level0_row0\" class=\"row_heading level0 row0\" >0</th>\n",
       "                        <td id=\"T_4a8b0_row0_col0\" class=\"data row0 col0\" >secondary education</td>\n",
       "                        <td id=\"T_4a8b0_row0_col1\" class=\"data row0 col1\" >13750</td>\n",
       "                        <td id=\"T_4a8b0_row0_col2\" class=\"data row0 col2\" >63.88%</td>\n",
       "            </tr>\n",
       "            <tr>\n",
       "                        <th id=\"T_4a8b0_level0_row1\" class=\"row_heading level0 row1\" >1</th>\n",
       "                        <td id=\"T_4a8b0_row1_col0\" class=\"data row1 col0\" >bachelor's degree</td>\n",
       "                        <td id=\"T_4a8b0_row1_col1\" class=\"data row1 col1\" >4718</td>\n",
       "                        <td id=\"T_4a8b0_row1_col2\" class=\"data row1 col2\" >21.92%</td>\n",
       "            </tr>\n",
       "            <tr>\n",
       "                        <th id=\"T_4a8b0_level0_row2\" class=\"row_heading level0 row2\" >2</th>\n",
       "                        <td id=\"T_4a8b0_row2_col0\" class=\"data row2 col0\" >SECONDARY EDUCATION</td>\n",
       "                        <td id=\"T_4a8b0_row2_col1\" class=\"data row2 col1\" >772</td>\n",
       "                        <td id=\"T_4a8b0_row2_col2\" class=\"data row2 col2\" >3.59%</td>\n",
       "            </tr>\n",
       "            <tr>\n",
       "                        <th id=\"T_4a8b0_level0_row3\" class=\"row_heading level0 row3\" >3</th>\n",
       "                        <td id=\"T_4a8b0_row3_col0\" class=\"data row3 col0\" >Secondary Education</td>\n",
       "                        <td id=\"T_4a8b0_row3_col1\" class=\"data row3 col1\" >711</td>\n",
       "                        <td id=\"T_4a8b0_row3_col2\" class=\"data row3 col2\" >3.3%</td>\n",
       "            </tr>\n",
       "            <tr>\n",
       "                        <th id=\"T_4a8b0_level0_row4\" class=\"row_heading level0 row4\" >4</th>\n",
       "                        <td id=\"T_4a8b0_row4_col0\" class=\"data row4 col0\" >some college</td>\n",
       "                        <td id=\"T_4a8b0_row4_col1\" class=\"data row4 col1\" >668</td>\n",
       "                        <td id=\"T_4a8b0_row4_col2\" class=\"data row4 col2\" >3.1%</td>\n",
       "            </tr>\n",
       "            <tr>\n",
       "                        <th id=\"T_4a8b0_level0_row5\" class=\"row_heading level0 row5\" >5</th>\n",
       "                        <td id=\"T_4a8b0_row5_col0\" class=\"data row5 col0\" >BACHELOR'S DEGREE</td>\n",
       "                        <td id=\"T_4a8b0_row5_col1\" class=\"data row5 col1\" >274</td>\n",
       "                        <td id=\"T_4a8b0_row5_col2\" class=\"data row5 col2\" >1.27%</td>\n",
       "            </tr>\n",
       "            <tr>\n",
       "                        <th id=\"T_4a8b0_level0_row6\" class=\"row_heading level0 row6\" >6</th>\n",
       "                        <td id=\"T_4a8b0_row6_col0\" class=\"data row6 col0\" >Bachelor's Degree</td>\n",
       "                        <td id=\"T_4a8b0_row6_col1\" class=\"data row6 col1\" >268</td>\n",
       "                        <td id=\"T_4a8b0_row6_col2\" class=\"data row6 col2\" >1.25%</td>\n",
       "            </tr>\n",
       "            <tr>\n",
       "                        <th id=\"T_4a8b0_level0_row7\" class=\"row_heading level0 row7\" >7</th>\n",
       "                        <td id=\"T_4a8b0_row7_col0\" class=\"data row7 col0\" >primary education</td>\n",
       "                        <td id=\"T_4a8b0_row7_col1\" class=\"data row7 col1\" >250</td>\n",
       "                        <td id=\"T_4a8b0_row7_col2\" class=\"data row7 col2\" >1.16%</td>\n",
       "            </tr>\n",
       "            <tr>\n",
       "                        <th id=\"T_4a8b0_level0_row8\" class=\"row_heading level0 row8\" >8</th>\n",
       "                        <td id=\"T_4a8b0_row8_col0\" class=\"data row8 col0\" >Some College</td>\n",
       "                        <td id=\"T_4a8b0_row8_col1\" class=\"data row8 col1\" >47</td>\n",
       "                        <td id=\"T_4a8b0_row8_col2\" class=\"data row8 col2\" >0.22%</td>\n",
       "            </tr>\n",
       "            <tr>\n",
       "                        <th id=\"T_4a8b0_level0_row9\" class=\"row_heading level0 row9\" >9</th>\n",
       "                        <td id=\"T_4a8b0_row9_col0\" class=\"data row9 col0\" >SOME COLLEGE</td>\n",
       "                        <td id=\"T_4a8b0_row9_col1\" class=\"data row9 col1\" >29</td>\n",
       "                        <td id=\"T_4a8b0_row9_col2\" class=\"data row9 col2\" >0.13%</td>\n",
       "            </tr>\n",
       "            <tr>\n",
       "                        <th id=\"T_4a8b0_level0_row10\" class=\"row_heading level0 row10\" >10</th>\n",
       "                        <td id=\"T_4a8b0_row10_col0\" class=\"data row10 col0\" >PRIMARY EDUCATION</td>\n",
       "                        <td id=\"T_4a8b0_row10_col1\" class=\"data row10 col1\" >17</td>\n",
       "                        <td id=\"T_4a8b0_row10_col2\" class=\"data row10 col2\" >0.08%</td>\n",
       "            </tr>\n",
       "            <tr>\n",
       "                        <th id=\"T_4a8b0_level0_row11\" class=\"row_heading level0 row11\" >11</th>\n",
       "                        <td id=\"T_4a8b0_row11_col0\" class=\"data row11 col0\" >Primary Education</td>\n",
       "                        <td id=\"T_4a8b0_row11_col1\" class=\"data row11 col1\" >15</td>\n",
       "                        <td id=\"T_4a8b0_row11_col2\" class=\"data row11 col2\" >0.07%</td>\n",
       "            </tr>\n",
       "            <tr>\n",
       "                        <th id=\"T_4a8b0_level0_row12\" class=\"row_heading level0 row12\" >12</th>\n",
       "                        <td id=\"T_4a8b0_row12_col0\" class=\"data row12 col0\" >graduate degree</td>\n",
       "                        <td id=\"T_4a8b0_row12_col1\" class=\"data row12 col1\" >4</td>\n",
       "                        <td id=\"T_4a8b0_row12_col2\" class=\"data row12 col2\" >0.02%</td>\n",
       "            </tr>\n",
       "            <tr>\n",
       "                        <th id=\"T_4a8b0_level0_row13\" class=\"row_heading level0 row13\" >13</th>\n",
       "                        <td id=\"T_4a8b0_row13_col0\" class=\"data row13 col0\" >Graduate Degree</td>\n",
       "                        <td id=\"T_4a8b0_row13_col1\" class=\"data row13 col1\" >1</td>\n",
       "                        <td id=\"T_4a8b0_row13_col2\" class=\"data row13 col2\" >0.0%</td>\n",
       "            </tr>\n",
       "            <tr>\n",
       "                        <th id=\"T_4a8b0_level0_row14\" class=\"row_heading level0 row14\" >14</th>\n",
       "                        <td id=\"T_4a8b0_row14_col0\" class=\"data row14 col0\" >GRADUATE DEGREE</td>\n",
       "                        <td id=\"T_4a8b0_row14_col1\" class=\"data row14 col1\" >1</td>\n",
       "                        <td id=\"T_4a8b0_row14_col2\" class=\"data row14 col2\" >0.0%</td>\n",
       "            </tr>\n",
       "    </tbody></table>"
      ],
      "text/plain": [
       "<pandas.io.formats.style.Styler at 0x7f88d8f3caf0>"
      ]
     },
     "execution_count": 20,
     "metadata": {},
     "output_type": "execute_result"
    }
   ],
   "source": [
    "# Vamos ver todos os valores na coluna de educação para verificar se e quais grafias precisarão ser corrigidas\n",
    "\n",
    "ver_distribuicao(df, 'education')\n"
   ]
  },
  {
   "cell_type": "code",
   "execution_count": 21,
   "metadata": {
    "scrolled": true
   },
   "outputs": [
    {
     "data": {
      "text/html": [
       "<div>\n",
       "<style scoped>\n",
       "    .dataframe tbody tr th:only-of-type {\n",
       "        vertical-align: middle;\n",
       "    }\n",
       "\n",
       "    .dataframe tbody tr th {\n",
       "        vertical-align: top;\n",
       "    }\n",
       "\n",
       "    .dataframe thead th {\n",
       "        text-align: right;\n",
       "    }\n",
       "</style>\n",
       "<table border=\"1\" class=\"dataframe\">\n",
       "  <thead>\n",
       "    <tr style=\"text-align: right;\">\n",
       "      <th></th>\n",
       "      <th>children</th>\n",
       "      <th>days_employed</th>\n",
       "      <th>dob_years</th>\n",
       "      <th>education</th>\n",
       "      <th>education_id</th>\n",
       "      <th>family_status</th>\n",
       "      <th>family_status_id</th>\n",
       "      <th>gender</th>\n",
       "      <th>income_type</th>\n",
       "      <th>debt</th>\n",
       "      <th>total_income</th>\n",
       "      <th>purpose</th>\n",
       "    </tr>\n",
       "  </thead>\n",
       "  <tbody>\n",
       "    <tr>\n",
       "      <th>0</th>\n",
       "      <td>1</td>\n",
       "      <td>-8437.673028</td>\n",
       "      <td>42</td>\n",
       "      <td>bachelor's degree</td>\n",
       "      <td>0</td>\n",
       "      <td>married</td>\n",
       "      <td>0</td>\n",
       "      <td>F</td>\n",
       "      <td>employee</td>\n",
       "      <td>0</td>\n",
       "      <td>40620.102</td>\n",
       "      <td>purchase of the house</td>\n",
       "    </tr>\n",
       "    <tr>\n",
       "      <th>1</th>\n",
       "      <td>1</td>\n",
       "      <td>-4024.803754</td>\n",
       "      <td>36</td>\n",
       "      <td>secondary education</td>\n",
       "      <td>1</td>\n",
       "      <td>married</td>\n",
       "      <td>0</td>\n",
       "      <td>F</td>\n",
       "      <td>employee</td>\n",
       "      <td>0</td>\n",
       "      <td>17932.802</td>\n",
       "      <td>car purchase</td>\n",
       "    </tr>\n",
       "    <tr>\n",
       "      <th>2</th>\n",
       "      <td>0</td>\n",
       "      <td>-5623.422610</td>\n",
       "      <td>33</td>\n",
       "      <td>secondary education</td>\n",
       "      <td>1</td>\n",
       "      <td>married</td>\n",
       "      <td>0</td>\n",
       "      <td>M</td>\n",
       "      <td>employee</td>\n",
       "      <td>0</td>\n",
       "      <td>23341.752</td>\n",
       "      <td>purchase of the house</td>\n",
       "    </tr>\n",
       "    <tr>\n",
       "      <th>3</th>\n",
       "      <td>3</td>\n",
       "      <td>-4124.747207</td>\n",
       "      <td>32</td>\n",
       "      <td>secondary education</td>\n",
       "      <td>1</td>\n",
       "      <td>married</td>\n",
       "      <td>0</td>\n",
       "      <td>M</td>\n",
       "      <td>employee</td>\n",
       "      <td>0</td>\n",
       "      <td>42820.568</td>\n",
       "      <td>supplementary education</td>\n",
       "    </tr>\n",
       "    <tr>\n",
       "      <th>4</th>\n",
       "      <td>0</td>\n",
       "      <td>340266.072047</td>\n",
       "      <td>53</td>\n",
       "      <td>secondary education</td>\n",
       "      <td>1</td>\n",
       "      <td>civil partnership</td>\n",
       "      <td>1</td>\n",
       "      <td>F</td>\n",
       "      <td>retiree</td>\n",
       "      <td>0</td>\n",
       "      <td>25378.572</td>\n",
       "      <td>to have a wedding</td>\n",
       "    </tr>\n",
       "  </tbody>\n",
       "</table>\n",
       "</div>"
      ],
      "text/plain": [
       "   children  days_employed  dob_years            education  education_id  \\\n",
       "0         1   -8437.673028         42    bachelor's degree             0   \n",
       "1         1   -4024.803754         36  secondary education             1   \n",
       "2         0   -5623.422610         33  secondary education             1   \n",
       "3         3   -4124.747207         32  secondary education             1   \n",
       "4         0  340266.072047         53  secondary education             1   \n",
       "\n",
       "       family_status  family_status_id gender income_type  debt  total_income  \\\n",
       "0            married                 0      F    employee     0     40620.102   \n",
       "1            married                 0      F    employee     0     17932.802   \n",
       "2            married                 0      M    employee     0     23341.752   \n",
       "3            married                 0      M    employee     0     42820.568   \n",
       "4  civil partnership                 1      F     retiree     0     25378.572   \n",
       "\n",
       "                   purpose  \n",
       "0    purchase of the house  \n",
       "1             car purchase  \n",
       "2    purchase of the house  \n",
       "3  supplementary education  \n",
       "4        to have a wedding  "
      ]
     },
     "execution_count": 21,
     "metadata": {},
     "output_type": "execute_result"
    }
   ],
   "source": [
    "# Corrija os registros, se necessário\n",
    "\n",
    "df['education'] = df['education'].str.lower()\n",
    "\n",
    "df.head()"
   ]
  },
  {
   "cell_type": "markdown",
   "metadata": {},
   "source": [
    "<div class=\"alert alert-block alert-success\">\n",
    "<b>Comentário do corretor</b> <a class=\"tocSkip\"></a>\n",
    "\n",
    "Dados da coluna \"education\" corrigidos com sucesso\n",
    "\n",
    "</div>"
   ]
  },
  {
   "cell_type": "code",
   "execution_count": 22,
   "metadata": {},
   "outputs": [
    {
     "data": {
      "text/html": [
       "<style  type=\"text/css\" >\n",
       "#T_22b92_row0_col1{\n",
       "            width:  10em;\n",
       "             height:  80%;\n",
       "            background:  linear-gradient(90deg,#d65f5f 100.0%, transparent 100.0%);\n",
       "        }#T_22b92_row1_col1{\n",
       "            width:  10em;\n",
       "             height:  80%;\n",
       "            background:  linear-gradient(90deg,#d65f5f 34.5%, transparent 34.5%);\n",
       "        }#T_22b92_row2_col1{\n",
       "            width:  10em;\n",
       "             height:  80%;\n",
       "            background:  linear-gradient(90deg,#d65f5f 4.8%, transparent 4.8%);\n",
       "        }#T_22b92_row3_col1{\n",
       "            width:  10em;\n",
       "             height:  80%;\n",
       "            background:  linear-gradient(90deg,#d65f5f 1.8%, transparent 1.8%);\n",
       "        }#T_22b92_row4_col1{\n",
       "            width:  10em;\n",
       "             height:  80%;\n",
       "        }</style><table id=\"T_22b92_\" ><thead>    <tr>        <th class=\"blank level0\" ></th>        <th class=\"col_heading level0 col0\" >education</th>        <th class=\"col_heading level0 col1\" >Total</th>        <th class=\"col_heading level0 col2\" >Percentagem</th>    </tr></thead><tbody>\n",
       "                <tr>\n",
       "                        <th id=\"T_22b92_level0_row0\" class=\"row_heading level0 row0\" >0</th>\n",
       "                        <td id=\"T_22b92_row0_col0\" class=\"data row0 col0\" >secondary education</td>\n",
       "                        <td id=\"T_22b92_row0_col1\" class=\"data row0 col1\" >15233</td>\n",
       "                        <td id=\"T_22b92_row0_col2\" class=\"data row0 col2\" >70.77%</td>\n",
       "            </tr>\n",
       "            <tr>\n",
       "                        <th id=\"T_22b92_level0_row1\" class=\"row_heading level0 row1\" >1</th>\n",
       "                        <td id=\"T_22b92_row1_col0\" class=\"data row1 col0\" >bachelor's degree</td>\n",
       "                        <td id=\"T_22b92_row1_col1\" class=\"data row1 col1\" >5260</td>\n",
       "                        <td id=\"T_22b92_row1_col2\" class=\"data row1 col2\" >24.44%</td>\n",
       "            </tr>\n",
       "            <tr>\n",
       "                        <th id=\"T_22b92_level0_row2\" class=\"row_heading level0 row2\" >2</th>\n",
       "                        <td id=\"T_22b92_row2_col0\" class=\"data row2 col0\" >some college</td>\n",
       "                        <td id=\"T_22b92_row2_col1\" class=\"data row2 col1\" >744</td>\n",
       "                        <td id=\"T_22b92_row2_col2\" class=\"data row2 col2\" >3.46%</td>\n",
       "            </tr>\n",
       "            <tr>\n",
       "                        <th id=\"T_22b92_level0_row3\" class=\"row_heading level0 row3\" >3</th>\n",
       "                        <td id=\"T_22b92_row3_col0\" class=\"data row3 col0\" >primary education</td>\n",
       "                        <td id=\"T_22b92_row3_col1\" class=\"data row3 col1\" >282</td>\n",
       "                        <td id=\"T_22b92_row3_col2\" class=\"data row3 col2\" >1.31%</td>\n",
       "            </tr>\n",
       "            <tr>\n",
       "                        <th id=\"T_22b92_level0_row4\" class=\"row_heading level0 row4\" >4</th>\n",
       "                        <td id=\"T_22b92_row4_col0\" class=\"data row4 col0\" >graduate degree</td>\n",
       "                        <td id=\"T_22b92_row4_col1\" class=\"data row4 col1\" >6</td>\n",
       "                        <td id=\"T_22b92_row4_col2\" class=\"data row4 col2\" >0.03%</td>\n",
       "            </tr>\n",
       "    </tbody></table>"
      ],
      "text/plain": [
       "<pandas.io.formats.style.Styler at 0x7f8907545a00>"
      ]
     },
     "execution_count": 22,
     "metadata": {},
     "output_type": "execute_result"
    }
   ],
   "source": [
    "# Verificando todos os valores na coluna para ter certeza de que os corrigimos\n",
    "\n",
    "ver_distribuicao(df, 'education')\n",
    "#df['education'].value_counts()\n"
   ]
  },
  {
   "cell_type": "markdown",
   "metadata": {},
   "source": [
    "### Coluna `children`"
   ]
  },
  {
   "cell_type": "code",
   "execution_count": 23,
   "metadata": {},
   "outputs": [
    {
     "data": {
      "text/html": [
       "<style  type=\"text/css\" >\n",
       "#T_4848c_row0_col1{\n",
       "            width:  10em;\n",
       "             height:  80%;\n",
       "            background:  linear-gradient(90deg,#d65f5f 100.0%, transparent 100.0%);\n",
       "        }#T_4848c_row1_col1{\n",
       "            width:  10em;\n",
       "             height:  80%;\n",
       "            background:  linear-gradient(90deg,#d65f5f 34.0%, transparent 34.0%);\n",
       "        }#T_4848c_row2_col1{\n",
       "            width:  10em;\n",
       "             height:  80%;\n",
       "            background:  linear-gradient(90deg,#d65f5f 14.5%, transparent 14.5%);\n",
       "        }#T_4848c_row3_col1{\n",
       "            width:  10em;\n",
       "             height:  80%;\n",
       "            background:  linear-gradient(90deg,#d65f5f 2.3%, transparent 2.3%);\n",
       "        }#T_4848c_row4_col1{\n",
       "            width:  10em;\n",
       "             height:  80%;\n",
       "            background:  linear-gradient(90deg,#d65f5f 0.5%, transparent 0.5%);\n",
       "        }#T_4848c_row5_col1{\n",
       "            width:  10em;\n",
       "             height:  80%;\n",
       "            background:  linear-gradient(90deg,#d65f5f 0.3%, transparent 0.3%);\n",
       "        }#T_4848c_row6_col1{\n",
       "            width:  10em;\n",
       "             height:  80%;\n",
       "            background:  linear-gradient(90deg,#d65f5f 0.2%, transparent 0.2%);\n",
       "        }#T_4848c_row7_col1{\n",
       "            width:  10em;\n",
       "             height:  80%;\n",
       "        }</style><table id=\"T_4848c_\" ><thead>    <tr>        <th class=\"blank level0\" ></th>        <th class=\"col_heading level0 col0\" >children</th>        <th class=\"col_heading level0 col1\" >Total</th>        <th class=\"col_heading level0 col2\" >Percentagem</th>    </tr></thead><tbody>\n",
       "                <tr>\n",
       "                        <th id=\"T_4848c_level0_row0\" class=\"row_heading level0 row0\" >0</th>\n",
       "                        <td id=\"T_4848c_row0_col0\" class=\"data row0 col0\" >0</td>\n",
       "                        <td id=\"T_4848c_row0_col1\" class=\"data row0 col1\" >14149</td>\n",
       "                        <td id=\"T_4848c_row0_col2\" class=\"data row0 col2\" >65.73%</td>\n",
       "            </tr>\n",
       "            <tr>\n",
       "                        <th id=\"T_4848c_level0_row1\" class=\"row_heading level0 row1\" >1</th>\n",
       "                        <td id=\"T_4848c_row1_col0\" class=\"data row1 col0\" >1</td>\n",
       "                        <td id=\"T_4848c_row1_col1\" class=\"data row1 col1\" >4818</td>\n",
       "                        <td id=\"T_4848c_row1_col2\" class=\"data row1 col2\" >22.38%</td>\n",
       "            </tr>\n",
       "            <tr>\n",
       "                        <th id=\"T_4848c_level0_row2\" class=\"row_heading level0 row2\" >2</th>\n",
       "                        <td id=\"T_4848c_row2_col0\" class=\"data row2 col0\" >2</td>\n",
       "                        <td id=\"T_4848c_row2_col1\" class=\"data row2 col1\" >2055</td>\n",
       "                        <td id=\"T_4848c_row2_col2\" class=\"data row2 col2\" >9.55%</td>\n",
       "            </tr>\n",
       "            <tr>\n",
       "                        <th id=\"T_4848c_level0_row3\" class=\"row_heading level0 row3\" >3</th>\n",
       "                        <td id=\"T_4848c_row3_col0\" class=\"data row3 col0\" >3</td>\n",
       "                        <td id=\"T_4848c_row3_col1\" class=\"data row3 col1\" >330</td>\n",
       "                        <td id=\"T_4848c_row3_col2\" class=\"data row3 col2\" >1.53%</td>\n",
       "            </tr>\n",
       "            <tr>\n",
       "                        <th id=\"T_4848c_level0_row4\" class=\"row_heading level0 row4\" >4</th>\n",
       "                        <td id=\"T_4848c_row4_col0\" class=\"data row4 col0\" >20</td>\n",
       "                        <td id=\"T_4848c_row4_col1\" class=\"data row4 col1\" >76</td>\n",
       "                        <td id=\"T_4848c_row4_col2\" class=\"data row4 col2\" >0.35%</td>\n",
       "            </tr>\n",
       "            <tr>\n",
       "                        <th id=\"T_4848c_level0_row5\" class=\"row_heading level0 row5\" >5</th>\n",
       "                        <td id=\"T_4848c_row5_col0\" class=\"data row5 col0\" >-1</td>\n",
       "                        <td id=\"T_4848c_row5_col1\" class=\"data row5 col1\" >47</td>\n",
       "                        <td id=\"T_4848c_row5_col2\" class=\"data row5 col2\" >0.22%</td>\n",
       "            </tr>\n",
       "            <tr>\n",
       "                        <th id=\"T_4848c_level0_row6\" class=\"row_heading level0 row6\" >6</th>\n",
       "                        <td id=\"T_4848c_row6_col0\" class=\"data row6 col0\" >4</td>\n",
       "                        <td id=\"T_4848c_row6_col1\" class=\"data row6 col1\" >41</td>\n",
       "                        <td id=\"T_4848c_row6_col2\" class=\"data row6 col2\" >0.19%</td>\n",
       "            </tr>\n",
       "            <tr>\n",
       "                        <th id=\"T_4848c_level0_row7\" class=\"row_heading level0 row7\" >7</th>\n",
       "                        <td id=\"T_4848c_row7_col0\" class=\"data row7 col0\" >5</td>\n",
       "                        <td id=\"T_4848c_row7_col1\" class=\"data row7 col1\" >9</td>\n",
       "                        <td id=\"T_4848c_row7_col2\" class=\"data row7 col2\" >0.04%</td>\n",
       "            </tr>\n",
       "    </tbody></table>"
      ],
      "text/plain": [
       "<pandas.io.formats.style.Styler at 0x7f88bb5119a0>"
      ]
     },
     "execution_count": 23,
     "metadata": {},
     "output_type": "execute_result"
    }
   ],
   "source": [
    "# Vamos ver a distribuição de valores na coluna `children`\n",
    "\n",
    "#total = df['children'].value_counts().reset_index()\n",
    "\n",
    "#Normalize > Obter a percentagem para cada valor\n",
    "#round > Definir o numero de casas decimais para o objecto\n",
    "#astype(str) > Converter o valor para (str)\n",
    "#percent =  (df['children'].value_counts(normalize=True).reset_index(drop=True) * 100).round(2).astype(str) + '%'\n",
    "\n",
    "#Dicionario de listas\n",
    "#tabela_dist_children = { 'Children': total['index'].tolist() ,\n",
    " #                        'Total': total['children'].tolist() ,\n",
    "  #                       'Percentagem': percent.tolist()}\n",
    "\n",
    "#pd.DataFrame(tabela_dist_children).sort_values('Total', ascending=False)\n",
    "\n",
    "ver_distribuicao(df, 'children')\n",
    "\n"
   ]
  },
  {
   "cell_type": "markdown",
   "metadata": {},
   "source": [
    "\n",
    "Pela observação da distribuição dos valores na coluna `children` percebemos que não faz sentido haver valores <font color=red>negativos</font>.\n",
    "\n",
    "Perante este cenário a abordagem mais correcta seria interagir com os colegas responsáveis pelo preenchimentos do formulário de aplicação ao credito e questionar se tem algum <font color=blue>significado especial</font> ou se quer dizer <font color=blue>nenhuma criança (0)</font> (Sendo estas as nossas hipoteses de significado).\n",
    "\n",
    "Por se tratar de uma percentagem muito pequena do nosso dataset, apenas **0.22%** iremos considerar o significado **Nenhuma criança (0)** e substiuiremos o valor <font color=red>-1</font> para <font color=blue>0</font>"
   ]
  },
  {
   "cell_type": "markdown",
   "metadata": {},
   "source": [
    "<div class=\"alert alert-block alert-danger\">\n",
    "<b>Comentário do corretor</b> <a class=\"tocSkip\"></a>\n",
    "\n",
    "Os dados negativos foram bem tratados! Faltou tratar os dados de 20 filhos, é um número muito alto para termos 76 dados com esse número\n",
    "    \n",
    "</div>"
   ]
  },
  {
   "cell_type": "code",
   "execution_count": 24,
   "metadata": {},
   "outputs": [],
   "source": [
    "# [corrija os dados com base na sua decisão]\n",
    "\n",
    "df['children'] = df['children'].replace(-1, 0)\n"
   ]
  },
  {
   "cell_type": "markdown",
   "metadata": {},
   "source": [
    "**Iremos tratar também os registos onde o número de filhos esta muito fora do padrão (20)**"
   ]
  },
  {
   "cell_type": "code",
   "execution_count": 25,
   "metadata": {},
   "outputs": [
    {
     "data": {
      "text/html": [
       "<div>\n",
       "<style scoped>\n",
       "    .dataframe tbody tr th:only-of-type {\n",
       "        vertical-align: middle;\n",
       "    }\n",
       "\n",
       "    .dataframe tbody tr th {\n",
       "        vertical-align: top;\n",
       "    }\n",
       "\n",
       "    .dataframe thead th {\n",
       "        text-align: right;\n",
       "    }\n",
       "</style>\n",
       "<table border=\"1\" class=\"dataframe\">\n",
       "  <thead>\n",
       "    <tr style=\"text-align: right;\">\n",
       "      <th></th>\n",
       "      <th>children</th>\n",
       "      <th>days_employed</th>\n",
       "      <th>dob_years</th>\n",
       "      <th>education</th>\n",
       "      <th>education_id</th>\n",
       "      <th>family_status</th>\n",
       "      <th>family_status_id</th>\n",
       "      <th>gender</th>\n",
       "      <th>income_type</th>\n",
       "      <th>debt</th>\n",
       "      <th>total_income</th>\n",
       "      <th>purpose</th>\n",
       "    </tr>\n",
       "  </thead>\n",
       "  <tbody>\n",
       "    <tr>\n",
       "      <th>606</th>\n",
       "      <td>20</td>\n",
       "      <td>-880.221113</td>\n",
       "      <td>21</td>\n",
       "      <td>secondary education</td>\n",
       "      <td>1</td>\n",
       "      <td>married</td>\n",
       "      <td>0</td>\n",
       "      <td>M</td>\n",
       "      <td>business</td>\n",
       "      <td>0</td>\n",
       "      <td>23253.578</td>\n",
       "      <td>purchase of the house</td>\n",
       "    </tr>\n",
       "    <tr>\n",
       "      <th>720</th>\n",
       "      <td>20</td>\n",
       "      <td>-855.595512</td>\n",
       "      <td>44</td>\n",
       "      <td>secondary education</td>\n",
       "      <td>1</td>\n",
       "      <td>married</td>\n",
       "      <td>0</td>\n",
       "      <td>F</td>\n",
       "      <td>business</td>\n",
       "      <td>0</td>\n",
       "      <td>18079.798</td>\n",
       "      <td>buy real estate</td>\n",
       "    </tr>\n",
       "    <tr>\n",
       "      <th>1074</th>\n",
       "      <td>20</td>\n",
       "      <td>-3310.411598</td>\n",
       "      <td>56</td>\n",
       "      <td>secondary education</td>\n",
       "      <td>1</td>\n",
       "      <td>married</td>\n",
       "      <td>0</td>\n",
       "      <td>F</td>\n",
       "      <td>employee</td>\n",
       "      <td>1</td>\n",
       "      <td>36722.966</td>\n",
       "      <td>getting an education</td>\n",
       "    </tr>\n",
       "    <tr>\n",
       "      <th>2510</th>\n",
       "      <td>20</td>\n",
       "      <td>-2714.161249</td>\n",
       "      <td>59</td>\n",
       "      <td>bachelor's degree</td>\n",
       "      <td>0</td>\n",
       "      <td>widow / widower</td>\n",
       "      <td>2</td>\n",
       "      <td>F</td>\n",
       "      <td>employee</td>\n",
       "      <td>0</td>\n",
       "      <td>42315.974</td>\n",
       "      <td>transactions with commercial real estate</td>\n",
       "    </tr>\n",
       "    <tr>\n",
       "      <th>2941</th>\n",
       "      <td>20</td>\n",
       "      <td>-2161.591519</td>\n",
       "      <td>0</td>\n",
       "      <td>secondary education</td>\n",
       "      <td>1</td>\n",
       "      <td>married</td>\n",
       "      <td>0</td>\n",
       "      <td>F</td>\n",
       "      <td>employee</td>\n",
       "      <td>0</td>\n",
       "      <td>31958.391</td>\n",
       "      <td>to buy a car</td>\n",
       "    </tr>\n",
       "    <tr>\n",
       "      <th>3302</th>\n",
       "      <td>20</td>\n",
       "      <td>NaN</td>\n",
       "      <td>35</td>\n",
       "      <td>secondary education</td>\n",
       "      <td>1</td>\n",
       "      <td>unmarried</td>\n",
       "      <td>4</td>\n",
       "      <td>F</td>\n",
       "      <td>civil servant</td>\n",
       "      <td>0</td>\n",
       "      <td>NaN</td>\n",
       "      <td>profile education</td>\n",
       "    </tr>\n",
       "    <tr>\n",
       "      <th>3396</th>\n",
       "      <td>20</td>\n",
       "      <td>NaN</td>\n",
       "      <td>56</td>\n",
       "      <td>bachelor's degree</td>\n",
       "      <td>0</td>\n",
       "      <td>married</td>\n",
       "      <td>0</td>\n",
       "      <td>F</td>\n",
       "      <td>business</td>\n",
       "      <td>0</td>\n",
       "      <td>NaN</td>\n",
       "      <td>university education</td>\n",
       "    </tr>\n",
       "    <tr>\n",
       "      <th>3671</th>\n",
       "      <td>20</td>\n",
       "      <td>-913.161503</td>\n",
       "      <td>23</td>\n",
       "      <td>secondary education</td>\n",
       "      <td>1</td>\n",
       "      <td>unmarried</td>\n",
       "      <td>4</td>\n",
       "      <td>F</td>\n",
       "      <td>employee</td>\n",
       "      <td>0</td>\n",
       "      <td>16200.879</td>\n",
       "      <td>buying a second-hand car</td>\n",
       "    </tr>\n",
       "    <tr>\n",
       "      <th>3697</th>\n",
       "      <td>20</td>\n",
       "      <td>-2907.910616</td>\n",
       "      <td>40</td>\n",
       "      <td>secondary education</td>\n",
       "      <td>1</td>\n",
       "      <td>civil partnership</td>\n",
       "      <td>1</td>\n",
       "      <td>M</td>\n",
       "      <td>employee</td>\n",
       "      <td>0</td>\n",
       "      <td>18460.911</td>\n",
       "      <td>buying a second-hand car</td>\n",
       "    </tr>\n",
       "    <tr>\n",
       "      <th>3735</th>\n",
       "      <td>20</td>\n",
       "      <td>-805.044438</td>\n",
       "      <td>26</td>\n",
       "      <td>bachelor's degree</td>\n",
       "      <td>0</td>\n",
       "      <td>unmarried</td>\n",
       "      <td>4</td>\n",
       "      <td>M</td>\n",
       "      <td>employee</td>\n",
       "      <td>0</td>\n",
       "      <td>21952.103</td>\n",
       "      <td>housing renovation</td>\n",
       "    </tr>\n",
       "  </tbody>\n",
       "</table>\n",
       "</div>"
      ],
      "text/plain": [
       "      children  days_employed  dob_years            education  education_id  \\\n",
       "606         20    -880.221113         21  secondary education             1   \n",
       "720         20    -855.595512         44  secondary education             1   \n",
       "1074        20   -3310.411598         56  secondary education             1   \n",
       "2510        20   -2714.161249         59    bachelor's degree             0   \n",
       "2941        20   -2161.591519          0  secondary education             1   \n",
       "3302        20            NaN         35  secondary education             1   \n",
       "3396        20            NaN         56    bachelor's degree             0   \n",
       "3671        20    -913.161503         23  secondary education             1   \n",
       "3697        20   -2907.910616         40  secondary education             1   \n",
       "3735        20    -805.044438         26    bachelor's degree             0   \n",
       "\n",
       "          family_status  family_status_id gender    income_type  debt  \\\n",
       "606             married                 0      M       business     0   \n",
       "720             married                 0      F       business     0   \n",
       "1074            married                 0      F       employee     1   \n",
       "2510    widow / widower                 2      F       employee     0   \n",
       "2941            married                 0      F       employee     0   \n",
       "3302          unmarried                 4      F  civil servant     0   \n",
       "3396            married                 0      F       business     0   \n",
       "3671          unmarried                 4      F       employee     0   \n",
       "3697  civil partnership                 1      M       employee     0   \n",
       "3735          unmarried                 4      M       employee     0   \n",
       "\n",
       "      total_income                                   purpose  \n",
       "606      23253.578                     purchase of the house  \n",
       "720      18079.798                           buy real estate  \n",
       "1074     36722.966                      getting an education  \n",
       "2510     42315.974  transactions with commercial real estate  \n",
       "2941     31958.391                              to buy a car  \n",
       "3302           NaN                         profile education  \n",
       "3396           NaN                      university education  \n",
       "3671     16200.879                  buying a second-hand car  \n",
       "3697     18460.911                  buying a second-hand car  \n",
       "3735     21952.103                        housing renovation  "
      ]
     },
     "execution_count": 25,
     "metadata": {},
     "output_type": "execute_result"
    }
   ],
   "source": [
    "totalChildren20 = df [df ['children'] == 20]\n",
    "\n",
    "totalChildren20.head(10)"
   ]
  },
  {
   "cell_type": "markdown",
   "metadata": {},
   "source": [
    "Analisando os 10 primeiros registos, a idade dos clientes `dob_years` nos chama logo a atenção, pois nota-se claramente que há erros nos dados porque não é possível o cliente ter **21 anos e 20 filhos**."
   ]
  },
  {
   "cell_type": "markdown",
   "metadata": {},
   "source": [
    "Podemos tentar ver o intervalo de idade para saber a viabilidade de acharmos um numero de filhos medio para o intervalo"
   ]
  },
  {
   "cell_type": "code",
   "execution_count": 26,
   "metadata": {},
   "outputs": [
    {
     "data": {
      "text/plain": [
       "'Idade Minima: 21'"
      ]
     },
     "execution_count": 26,
     "metadata": {},
     "output_type": "execute_result"
    }
   ],
   "source": [
    "filtroValidAge = (df ['children'] == 20) & (df ['dob_years'] > 0)\n",
    "f\"Idade Minima: {df [ filtroValidAge ].dob_years.min()}\""
   ]
  },
  {
   "cell_type": "code",
   "execution_count": 27,
   "metadata": {},
   "outputs": [
    {
     "data": {
      "text/plain": [
       "'Idade Maxima: 69'"
      ]
     },
     "execution_count": 27,
     "metadata": {},
     "output_type": "execute_result"
    }
   ],
   "source": [
    "f\"Idade Maxima: {df [ filtroValidAge ].dob_years.max()}\""
   ]
  },
  {
   "cell_type": "markdown",
   "metadata": {},
   "source": [
    "O numero de filhos medio para o intervalo de idade acima é:"
   ]
  },
  {
   "cell_type": "code",
   "execution_count": 28,
   "metadata": {},
   "outputs": [
    {
     "data": {
      "text/plain": [
       "0.4721432234603012"
      ]
     },
     "execution_count": 28,
     "metadata": {},
     "output_type": "execute_result"
    }
   ],
   "source": [
    "df [ (df.children != 20) & (~df.dob_years.isna()) ].children.mean()"
   ]
  },
  {
   "cell_type": "markdown",
   "metadata": {},
   "source": [
    "**Menos de 1 filho por cliente** enão podemos atribuir este valor ou então tentar combinar com o estado civil e ver se temos medias diferenciadas para cada estado civil: "
   ]
  },
  {
   "cell_type": "code",
   "execution_count": 29,
   "metadata": {},
   "outputs": [
    {
     "name": "stdout",
     "output_type": "stream",
     "text": [
      "family_status\n",
      "civil partnership    0.455116\n",
      "divorced             0.427726\n",
      "married              0.563462\n",
      "unmarried            0.224892\n",
      "widow / widower      0.146162\n",
      "Name: children, dtype: float64\n"
     ]
    }
   ],
   "source": [
    "print( df[ (df ['children'] != 20) & (df ['dob_years'] > 0) ].groupby('family_status').children.mean() )"
   ]
  },
  {
   "cell_type": "markdown",
   "metadata": {},
   "source": [
    "Ainda assim a media é muito proxima de 0 para cada estado civil.\n",
    "\n",
    "Sendo assim, por agora, ficamos com duas possibilidades: **Remover os registos ou Atribuir o também o valor 0** "
   ]
  },
  {
   "cell_type": "markdown",
   "metadata": {},
   "source": [
    "A nossa escolha foi manter os registos e atribuirmos 0 em substituição do numero de filhos 20.\n",
    "Para efeitos de comparação, iremos ver a distribuição antes e depois:"
   ]
  },
  {
   "cell_type": "code",
   "execution_count": 30,
   "metadata": {},
   "outputs": [
    {
     "data": {
      "text/html": [
       "<style  type=\"text/css\" >\n",
       "#T_b3552_row0_col1{\n",
       "            width:  10em;\n",
       "             height:  80%;\n",
       "            background:  linear-gradient(90deg,#d65f5f 100.0%, transparent 100.0%);\n",
       "        }#T_b3552_row1_col1{\n",
       "            width:  10em;\n",
       "             height:  80%;\n",
       "            background:  linear-gradient(90deg,#d65f5f 33.9%, transparent 33.9%);\n",
       "        }#T_b3552_row2_col1{\n",
       "            width:  10em;\n",
       "             height:  80%;\n",
       "            background:  linear-gradient(90deg,#d65f5f 14.4%, transparent 14.4%);\n",
       "        }#T_b3552_row3_col1{\n",
       "            width:  10em;\n",
       "             height:  80%;\n",
       "            background:  linear-gradient(90deg,#d65f5f 2.3%, transparent 2.3%);\n",
       "        }#T_b3552_row4_col1{\n",
       "            width:  10em;\n",
       "             height:  80%;\n",
       "            background:  linear-gradient(90deg,#d65f5f 0.5%, transparent 0.5%);\n",
       "        }#T_b3552_row5_col1{\n",
       "            width:  10em;\n",
       "             height:  80%;\n",
       "            background:  linear-gradient(90deg,#d65f5f 0.2%, transparent 0.2%);\n",
       "        }#T_b3552_row6_col1{\n",
       "            width:  10em;\n",
       "             height:  80%;\n",
       "        }</style><table id=\"T_b3552_\" ><thead>    <tr>        <th class=\"blank level0\" ></th>        <th class=\"col_heading level0 col0\" >children</th>        <th class=\"col_heading level0 col1\" >Total</th>        <th class=\"col_heading level0 col2\" >Percentagem</th>    </tr></thead><tbody>\n",
       "                <tr>\n",
       "                        <th id=\"T_b3552_level0_row0\" class=\"row_heading level0 row0\" >0</th>\n",
       "                        <td id=\"T_b3552_row0_col0\" class=\"data row0 col0\" >0</td>\n",
       "                        <td id=\"T_b3552_row0_col1\" class=\"data row0 col1\" >14196</td>\n",
       "                        <td id=\"T_b3552_row0_col2\" class=\"data row0 col2\" >65.95%</td>\n",
       "            </tr>\n",
       "            <tr>\n",
       "                        <th id=\"T_b3552_level0_row1\" class=\"row_heading level0 row1\" >1</th>\n",
       "                        <td id=\"T_b3552_row1_col0\" class=\"data row1 col0\" >1</td>\n",
       "                        <td id=\"T_b3552_row1_col1\" class=\"data row1 col1\" >4818</td>\n",
       "                        <td id=\"T_b3552_row1_col2\" class=\"data row1 col2\" >22.38%</td>\n",
       "            </tr>\n",
       "            <tr>\n",
       "                        <th id=\"T_b3552_level0_row2\" class=\"row_heading level0 row2\" >2</th>\n",
       "                        <td id=\"T_b3552_row2_col0\" class=\"data row2 col0\" >2</td>\n",
       "                        <td id=\"T_b3552_row2_col1\" class=\"data row2 col1\" >2055</td>\n",
       "                        <td id=\"T_b3552_row2_col2\" class=\"data row2 col2\" >9.55%</td>\n",
       "            </tr>\n",
       "            <tr>\n",
       "                        <th id=\"T_b3552_level0_row3\" class=\"row_heading level0 row3\" >3</th>\n",
       "                        <td id=\"T_b3552_row3_col0\" class=\"data row3 col0\" >3</td>\n",
       "                        <td id=\"T_b3552_row3_col1\" class=\"data row3 col1\" >330</td>\n",
       "                        <td id=\"T_b3552_row3_col2\" class=\"data row3 col2\" >1.53%</td>\n",
       "            </tr>\n",
       "            <tr>\n",
       "                        <th id=\"T_b3552_level0_row4\" class=\"row_heading level0 row4\" >4</th>\n",
       "                        <td id=\"T_b3552_row4_col0\" class=\"data row4 col0\" >20</td>\n",
       "                        <td id=\"T_b3552_row4_col1\" class=\"data row4 col1\" >76</td>\n",
       "                        <td id=\"T_b3552_row4_col2\" class=\"data row4 col2\" >0.35%</td>\n",
       "            </tr>\n",
       "            <tr>\n",
       "                        <th id=\"T_b3552_level0_row5\" class=\"row_heading level0 row5\" >5</th>\n",
       "                        <td id=\"T_b3552_row5_col0\" class=\"data row5 col0\" >4</td>\n",
       "                        <td id=\"T_b3552_row5_col1\" class=\"data row5 col1\" >41</td>\n",
       "                        <td id=\"T_b3552_row5_col2\" class=\"data row5 col2\" >0.19%</td>\n",
       "            </tr>\n",
       "            <tr>\n",
       "                        <th id=\"T_b3552_level0_row6\" class=\"row_heading level0 row6\" >6</th>\n",
       "                        <td id=\"T_b3552_row6_col0\" class=\"data row6 col0\" >5</td>\n",
       "                        <td id=\"T_b3552_row6_col1\" class=\"data row6 col1\" >9</td>\n",
       "                        <td id=\"T_b3552_row6_col2\" class=\"data row6 col2\" >0.04%</td>\n",
       "            </tr>\n",
       "    </tbody></table>"
      ],
      "text/plain": [
       "<pandas.io.formats.style.Styler at 0x7f88bb4e4b50>"
      ]
     },
     "execution_count": 30,
     "metadata": {},
     "output_type": "execute_result"
    }
   ],
   "source": [
    "ver_distribuicao(df, 'children')"
   ]
  },
  {
   "cell_type": "code",
   "execution_count": 31,
   "metadata": {},
   "outputs": [
    {
     "data": {
      "text/html": [
       "<style  type=\"text/css\" >\n",
       "#T_dc972_row0_col1{\n",
       "            width:  10em;\n",
       "             height:  80%;\n",
       "            background:  linear-gradient(90deg,#d65f5f 100.0%, transparent 100.0%);\n",
       "        }#T_dc972_row1_col1{\n",
       "            width:  10em;\n",
       "             height:  80%;\n",
       "            background:  linear-gradient(90deg,#d65f5f 33.7%, transparent 33.7%);\n",
       "        }#T_dc972_row2_col1{\n",
       "            width:  10em;\n",
       "             height:  80%;\n",
       "            background:  linear-gradient(90deg,#d65f5f 14.3%, transparent 14.3%);\n",
       "        }#T_dc972_row3_col1{\n",
       "            width:  10em;\n",
       "             height:  80%;\n",
       "            background:  linear-gradient(90deg,#d65f5f 2.3%, transparent 2.3%);\n",
       "        }#T_dc972_row4_col1{\n",
       "            width:  10em;\n",
       "             height:  80%;\n",
       "            background:  linear-gradient(90deg,#d65f5f 0.2%, transparent 0.2%);\n",
       "        }#T_dc972_row5_col1{\n",
       "            width:  10em;\n",
       "             height:  80%;\n",
       "        }</style><table id=\"T_dc972_\" ><thead>    <tr>        <th class=\"blank level0\" ></th>        <th class=\"col_heading level0 col0\" >children</th>        <th class=\"col_heading level0 col1\" >Total</th>        <th class=\"col_heading level0 col2\" >Percentagem</th>    </tr></thead><tbody>\n",
       "                <tr>\n",
       "                        <th id=\"T_dc972_level0_row0\" class=\"row_heading level0 row0\" >0</th>\n",
       "                        <td id=\"T_dc972_row0_col0\" class=\"data row0 col0\" >0</td>\n",
       "                        <td id=\"T_dc972_row0_col1\" class=\"data row0 col1\" >14272</td>\n",
       "                        <td id=\"T_dc972_row0_col2\" class=\"data row0 col2\" >66.3%</td>\n",
       "            </tr>\n",
       "            <tr>\n",
       "                        <th id=\"T_dc972_level0_row1\" class=\"row_heading level0 row1\" >1</th>\n",
       "                        <td id=\"T_dc972_row1_col0\" class=\"data row1 col0\" >1</td>\n",
       "                        <td id=\"T_dc972_row1_col1\" class=\"data row1 col1\" >4818</td>\n",
       "                        <td id=\"T_dc972_row1_col2\" class=\"data row1 col2\" >22.38%</td>\n",
       "            </tr>\n",
       "            <tr>\n",
       "                        <th id=\"T_dc972_level0_row2\" class=\"row_heading level0 row2\" >2</th>\n",
       "                        <td id=\"T_dc972_row2_col0\" class=\"data row2 col0\" >2</td>\n",
       "                        <td id=\"T_dc972_row2_col1\" class=\"data row2 col1\" >2055</td>\n",
       "                        <td id=\"T_dc972_row2_col2\" class=\"data row2 col2\" >9.55%</td>\n",
       "            </tr>\n",
       "            <tr>\n",
       "                        <th id=\"T_dc972_level0_row3\" class=\"row_heading level0 row3\" >3</th>\n",
       "                        <td id=\"T_dc972_row3_col0\" class=\"data row3 col0\" >3</td>\n",
       "                        <td id=\"T_dc972_row3_col1\" class=\"data row3 col1\" >330</td>\n",
       "                        <td id=\"T_dc972_row3_col2\" class=\"data row3 col2\" >1.53%</td>\n",
       "            </tr>\n",
       "            <tr>\n",
       "                        <th id=\"T_dc972_level0_row4\" class=\"row_heading level0 row4\" >4</th>\n",
       "                        <td id=\"T_dc972_row4_col0\" class=\"data row4 col0\" >4</td>\n",
       "                        <td id=\"T_dc972_row4_col1\" class=\"data row4 col1\" >41</td>\n",
       "                        <td id=\"T_dc972_row4_col2\" class=\"data row4 col2\" >0.19%</td>\n",
       "            </tr>\n",
       "            <tr>\n",
       "                        <th id=\"T_dc972_level0_row5\" class=\"row_heading level0 row5\" >5</th>\n",
       "                        <td id=\"T_dc972_row5_col0\" class=\"data row5 col0\" >5</td>\n",
       "                        <td id=\"T_dc972_row5_col1\" class=\"data row5 col1\" >9</td>\n",
       "                        <td id=\"T_dc972_row5_col2\" class=\"data row5 col2\" >0.04%</td>\n",
       "            </tr>\n",
       "    </tbody></table>"
      ],
      "text/plain": [
       "<pandas.io.formats.style.Styler at 0x7f88bb0b79d0>"
      ]
     },
     "execution_count": 31,
     "metadata": {},
     "output_type": "execute_result"
    }
   ],
   "source": [
    "df['children'] = df['children'].replace(20, 0)\n",
    "\n",
    "ver_distribuicao(df, 'children')"
   ]
  },
  {
   "cell_type": "code",
   "execution_count": 32,
   "metadata": {},
   "outputs": [],
   "source": [
    "# Verificar a coluna `children` novamente para ter certeza de que está tudo corrigido"
   ]
  },
  {
   "cell_type": "markdown",
   "metadata": {},
   "source": [
    "Não houve uma mudança significativa uma vez que os clientes com 20 filhos representavam uma percentagem muito baixa em relação a todo dataset"
   ]
  },
  {
   "cell_type": "code",
   "execution_count": 33,
   "metadata": {},
   "outputs": [
    {
     "name": "stdout",
     "output_type": "stream",
     "text": [
      " 0.35% Tinha 20 filhos\n"
     ]
    }
   ],
   "source": [
    "print(f' { round (  (len(totalChildren20) / len(df)) * 100 , 2) }% Tinha 20 filhos')"
   ]
  },
  {
   "cell_type": "markdown",
   "metadata": {},
   "source": [
    "<div class=\"alert alert-block alert-success\">\n",
    "<b>Comentário do corretor</b> <a class=\"tocSkip\"></a>\n",
    "\n",
    "Muito bom, Gerson! O problema foi corrigido e com ótimas análises complementares :)\n",
    "    \n",
    "</div>"
   ]
  },
  {
   "cell_type": "markdown",
   "metadata": {},
   "source": [
    "### Coluna `days_employed`"
   ]
  },
  {
   "cell_type": "markdown",
   "metadata": {},
   "source": [
    "**A função foi criada pois faremos exactamente a mesma observação preliminar para as colunas `days_employed` e `dob_years`**\n",
    "As duas colunas possuem valores numericos\n",
    "\n",
    "- Ira imprimir e devolver:\n",
    "-- Total de valores negativos\n",
    "-- Total de valores positivos\n",
    "-- Total de valores ausentes\n"
   ]
  },
  {
   "cell_type": "code",
   "execution_count": 34,
   "metadata": {},
   "outputs": [],
   "source": [
    "def preliminar_view_num_values(local_dataframe, coluna):\n",
    "    \n",
    "    print(f\"\\nValor minimo: {local_dataframe[coluna].min()}\\n\")\n",
    "\n",
    "    print(f\"Valor maximo: {local_dataframe[coluna].max()}\\n\")\n",
    "\n",
    "    filtro_neg = local_dataframe[coluna] < 0\n",
    "\n",
    "    total_neg = len( local_dataframe[ filtro_neg ] )\n",
    "    total_pos = len( local_dataframe[ local_dataframe[coluna] > 0 ] )\n",
    "    total_ausent= local_dataframe[ coluna ].isna().sum()\n",
    "    \n",
    "    percent_neg = total_neg / len(local_dataframe) * 100\n",
    "    percent_pos = (total_pos / len(local_dataframe) * 100)\n",
    "    percent_ausent = total_ausent / len(local_dataframe) * 100\n",
    "\n",
    "\n",
    "    print(f\"Total de valores negativos: {total_neg}\")\n",
    "    print(f\"{ percent_neg:.2f}%\")\n",
    "\n",
    "    print(f\"\\nTotal de valores positivos: {len( local_dataframe[ local_dataframe[coluna] >= 0 ] )}\")\n",
    "    print(f\"{ percent_pos:.2f}%\")\n",
    "\n",
    "    print(f\"\\nTotal de valores ausentes: {total_ausent}\")\n",
    "    print(f\"{ percent_ausent:.2f}%\")\n",
    "    \n",
    "    return percent_neg, total_pos, total_ausent\n",
    "    \n",
    "    "
   ]
  },
  {
   "cell_type": "code",
   "execution_count": 35,
   "metadata": {},
   "outputs": [
    {
     "name": "stdout",
     "output_type": "stream",
     "text": [
      "\n",
      "Valor minimo: -18388.949900568383\n",
      "\n",
      "Valor maximo: 401755.40047533\n",
      "\n",
      "Total de valores negativos: 15906\n",
      "73.90%\n",
      "\n",
      "Total de valores positivos: 3445\n",
      "16.00%\n",
      "\n",
      "Total de valores ausentes: 2174\n",
      "10.10%\n"
     ]
    }
   ],
   "source": [
    "# Encontre dados problemáticos em `days_employed`, se existirem, e calcule a porcentagem\n",
    "\n",
    "total_neg, total_pos, total_ausente = preliminar_view_num_values(df, 'days_employed')\n",
    "\n",
    "filtro_neg = df['days_employed'] < 0"
   ]
  },
  {
   "cell_type": "markdown",
   "metadata": {},
   "source": [
    "Abordando os valores negativos, podemos olhar uma amostra dos dados começando do menor ao maior:"
   ]
  },
  {
   "cell_type": "code",
   "execution_count": 36,
   "metadata": {},
   "outputs": [
    {
     "data": {
      "text/html": [
       "<div>\n",
       "<style scoped>\n",
       "    .dataframe tbody tr th:only-of-type {\n",
       "        vertical-align: middle;\n",
       "    }\n",
       "\n",
       "    .dataframe tbody tr th {\n",
       "        vertical-align: top;\n",
       "    }\n",
       "\n",
       "    .dataframe thead th {\n",
       "        text-align: right;\n",
       "    }\n",
       "</style>\n",
       "<table border=\"1\" class=\"dataframe\">\n",
       "  <thead>\n",
       "    <tr style=\"text-align: right;\">\n",
       "      <th></th>\n",
       "      <th>children</th>\n",
       "      <th>days_employed</th>\n",
       "      <th>dob_years</th>\n",
       "      <th>education</th>\n",
       "      <th>education_id</th>\n",
       "      <th>family_status</th>\n",
       "      <th>family_status_id</th>\n",
       "      <th>gender</th>\n",
       "      <th>income_type</th>\n",
       "      <th>debt</th>\n",
       "      <th>total_income</th>\n",
       "      <th>purpose</th>\n",
       "    </tr>\n",
       "  </thead>\n",
       "  <tbody>\n",
       "    <tr>\n",
       "      <th>16335</th>\n",
       "      <td>1</td>\n",
       "      <td>-18388.949901</td>\n",
       "      <td>61</td>\n",
       "      <td>secondary education</td>\n",
       "      <td>1</td>\n",
       "      <td>married</td>\n",
       "      <td>0</td>\n",
       "      <td>F</td>\n",
       "      <td>employee</td>\n",
       "      <td>0</td>\n",
       "      <td>29788.629</td>\n",
       "      <td>real estate transactions</td>\n",
       "    </tr>\n",
       "    <tr>\n",
       "      <th>4299</th>\n",
       "      <td>0</td>\n",
       "      <td>-17615.563266</td>\n",
       "      <td>61</td>\n",
       "      <td>secondary education</td>\n",
       "      <td>1</td>\n",
       "      <td>married</td>\n",
       "      <td>0</td>\n",
       "      <td>F</td>\n",
       "      <td>business</td>\n",
       "      <td>0</td>\n",
       "      <td>19609.719</td>\n",
       "      <td>purchase of the house</td>\n",
       "    </tr>\n",
       "    <tr>\n",
       "      <th>7329</th>\n",
       "      <td>0</td>\n",
       "      <td>-16593.472817</td>\n",
       "      <td>60</td>\n",
       "      <td>bachelor's degree</td>\n",
       "      <td>0</td>\n",
       "      <td>married</td>\n",
       "      <td>0</td>\n",
       "      <td>F</td>\n",
       "      <td>employee</td>\n",
       "      <td>0</td>\n",
       "      <td>19951.655</td>\n",
       "      <td>going to university</td>\n",
       "    </tr>\n",
       "    <tr>\n",
       "      <th>17838</th>\n",
       "      <td>0</td>\n",
       "      <td>-16264.699501</td>\n",
       "      <td>59</td>\n",
       "      <td>secondary education</td>\n",
       "      <td>1</td>\n",
       "      <td>married</td>\n",
       "      <td>0</td>\n",
       "      <td>F</td>\n",
       "      <td>employee</td>\n",
       "      <td>0</td>\n",
       "      <td>8198.235</td>\n",
       "      <td>to buy a car</td>\n",
       "    </tr>\n",
       "    <tr>\n",
       "      <th>16825</th>\n",
       "      <td>0</td>\n",
       "      <td>-16119.687737</td>\n",
       "      <td>64</td>\n",
       "      <td>secondary education</td>\n",
       "      <td>1</td>\n",
       "      <td>married</td>\n",
       "      <td>0</td>\n",
       "      <td>F</td>\n",
       "      <td>employee</td>\n",
       "      <td>0</td>\n",
       "      <td>14644.430</td>\n",
       "      <td>buy residential real estate</td>\n",
       "    </tr>\n",
       "  </tbody>\n",
       "</table>\n",
       "</div>"
      ],
      "text/plain": [
       "       children  days_employed  dob_years            education  education_id  \\\n",
       "16335         1  -18388.949901         61  secondary education             1   \n",
       "4299          0  -17615.563266         61  secondary education             1   \n",
       "7329          0  -16593.472817         60    bachelor's degree             0   \n",
       "17838         0  -16264.699501         59  secondary education             1   \n",
       "16825         0  -16119.687737         64  secondary education             1   \n",
       "\n",
       "      family_status  family_status_id gender income_type  debt  total_income  \\\n",
       "16335       married                 0      F    employee     0     29788.629   \n",
       "4299        married                 0      F    business     0     19609.719   \n",
       "7329        married                 0      F    employee     0     19951.655   \n",
       "17838       married                 0      F    employee     0      8198.235   \n",
       "16825       married                 0      F    employee     0     14644.430   \n",
       "\n",
       "                           purpose  \n",
       "16335     real estate transactions  \n",
       "4299         purchase of the house  \n",
       "7329           going to university  \n",
       "17838                 to buy a car  \n",
       "16825  buy residential real estate  "
      ]
     },
     "execution_count": 36,
     "metadata": {},
     "output_type": "execute_result"
    }
   ],
   "source": [
    "# Aborde os valores problemáticos, se existirem\n",
    "amostra_valores_neg = df [ filtro_neg ].sort_values('days_employed', ascending=True)\n",
    "\n",
    "amostra_valores_neg.head(5)"
   ]
  },
  {
   "cell_type": "markdown",
   "metadata": {},
   "source": [
    "Se observarmos o valor absoluto da conversão de dias para anos ( `days_employed` / 365 ) podemos ver que não faz mais sentido quando olhamos anos de trabalho ao lado da idade do cliente `dob_years`."
   ]
  },
  {
   "cell_type": "code",
   "execution_count": 37,
   "metadata": {},
   "outputs": [
    {
     "data": {
      "text/html": [
       "<div>\n",
       "<style scoped>\n",
       "    .dataframe tbody tr th:only-of-type {\n",
       "        vertical-align: middle;\n",
       "    }\n",
       "\n",
       "    .dataframe tbody tr th {\n",
       "        vertical-align: top;\n",
       "    }\n",
       "\n",
       "    .dataframe thead th {\n",
       "        text-align: right;\n",
       "    }\n",
       "</style>\n",
       "<table border=\"1\" class=\"dataframe\">\n",
       "  <thead>\n",
       "    <tr style=\"text-align: right;\">\n",
       "      <th></th>\n",
       "      <th>days_employed</th>\n",
       "      <th>years_employed</th>\n",
       "      <th>dob_years</th>\n",
       "    </tr>\n",
       "  </thead>\n",
       "  <tbody>\n",
       "    <tr>\n",
       "      <th>16335</th>\n",
       "      <td>-18388.949901</td>\n",
       "      <td>50</td>\n",
       "      <td>61</td>\n",
       "    </tr>\n",
       "    <tr>\n",
       "      <th>4299</th>\n",
       "      <td>-17615.563266</td>\n",
       "      <td>48</td>\n",
       "      <td>61</td>\n",
       "    </tr>\n",
       "    <tr>\n",
       "      <th>7329</th>\n",
       "      <td>-16593.472817</td>\n",
       "      <td>45</td>\n",
       "      <td>60</td>\n",
       "    </tr>\n",
       "    <tr>\n",
       "      <th>17838</th>\n",
       "      <td>-16264.699501</td>\n",
       "      <td>44</td>\n",
       "      <td>59</td>\n",
       "    </tr>\n",
       "    <tr>\n",
       "      <th>16825</th>\n",
       "      <td>-16119.687737</td>\n",
       "      <td>44</td>\n",
       "      <td>64</td>\n",
       "    </tr>\n",
       "  </tbody>\n",
       "</table>\n",
       "</div>"
      ],
      "text/plain": [
       "       days_employed  years_employed  dob_years\n",
       "16335  -18388.949901              50         61\n",
       "4299   -17615.563266              48         61\n",
       "7329   -16593.472817              45         60\n",
       "17838  -16264.699501              44         59\n",
       "16825  -16119.687737              44         64"
      ]
     },
     "execution_count": 37,
     "metadata": {},
     "output_type": "execute_result"
    }
   ],
   "source": [
    "amostra_valores_neg['years_employed'] = ( amostra_valores_neg['days_employed'] / 365 ).astype(int) * -1\n",
    "\n",
    "amostra_valores_neg[['days_employed','years_employed','dob_years']].head()"
   ]
  },
  {
   "cell_type": "markdown",
   "metadata": {},
   "source": [
    "Conforme visto anteriormente, os valores negativos correspondem a aproximadamente <font color=blue> **73.90%** </font> de todo o dataset, o que nos transmite a pouca probabilidade de estarmos perante a erros humanos e sim algum erro no sistema ou software usado para a colheita da informação então iremos corrigir estes valores e deixa-los <font color=green>**positivos**</font> "
   ]
  },
  {
   "cell_type": "markdown",
   "metadata": {},
   "source": [
    "<div class=\"alert alert-block alert-success\">\n",
    "<b>Comentário do corretor</b> <a class=\"tocSkip\"></a>\n",
    "\n",
    "Bem corrigido!\n",
    "\n",
    "</div>"
   ]
  },
  {
   "cell_type": "code",
   "execution_count": 38,
   "metadata": {},
   "outputs": [],
   "source": [
    "# Podemos usar o metodo .abs() do DataFrame para uma transformação mais facil\n",
    "df['days_employed'] = df['days_employed'].abs()"
   ]
  },
  {
   "cell_type": "code",
   "execution_count": 39,
   "metadata": {},
   "outputs": [
    {
     "name": "stdout",
     "output_type": "stream",
     "text": [
      "Valores ausentes: 2174\n",
      "Valores negativos: 0\n"
     ]
    },
    {
     "data": {
      "text/html": [
       "<div>\n",
       "<style scoped>\n",
       "    .dataframe tbody tr th:only-of-type {\n",
       "        vertical-align: middle;\n",
       "    }\n",
       "\n",
       "    .dataframe tbody tr th {\n",
       "        vertical-align: top;\n",
       "    }\n",
       "\n",
       "    .dataframe thead th {\n",
       "        text-align: right;\n",
       "    }\n",
       "</style>\n",
       "<table border=\"1\" class=\"dataframe\">\n",
       "  <thead>\n",
       "    <tr style=\"text-align: right;\">\n",
       "      <th></th>\n",
       "      <th>children</th>\n",
       "      <th>days_employed</th>\n",
       "      <th>dob_years</th>\n",
       "      <th>education</th>\n",
       "      <th>education_id</th>\n",
       "      <th>family_status</th>\n",
       "      <th>family_status_id</th>\n",
       "      <th>gender</th>\n",
       "      <th>income_type</th>\n",
       "      <th>debt</th>\n",
       "      <th>total_income</th>\n",
       "      <th>purpose</th>\n",
       "    </tr>\n",
       "  </thead>\n",
       "  <tbody>\n",
       "  </tbody>\n",
       "</table>\n",
       "</div>"
      ],
      "text/plain": [
       "Empty DataFrame\n",
       "Columns: [children, days_employed, dob_years, education, education_id, family_status, family_status_id, gender, income_type, debt, total_income, purpose]\n",
       "Index: []"
      ]
     },
     "execution_count": 39,
     "metadata": {},
     "output_type": "execute_result"
    }
   ],
   "source": [
    "# Verifique o resultado - certifique-se de que está corrigido\n",
    "\n",
    "print(f\"Valores ausentes: {df[ 'days_employed' ].isna().sum()}\")\n",
    "\n",
    "filtro_neg = df['days_employed'] < 0\n",
    "print(f\"Valores negativos: {len( df [ filtro_neg ])}\")\n",
    "\n",
    "df [ filtro_neg ]"
   ]
  },
  {
   "cell_type": "markdown",
   "metadata": {},
   "source": [
    "### Coluna `dob_years`"
   ]
  },
  {
   "cell_type": "markdown",
   "metadata": {},
   "source": [
    "#### Iremos chamar a nossa função para a analise preliminar de valores numericos!"
   ]
  },
  {
   "cell_type": "code",
   "execution_count": 40,
   "metadata": {
    "scrolled": true
   },
   "outputs": [
    {
     "name": "stdout",
     "output_type": "stream",
     "text": [
      "\n",
      "Valor minimo: 0\n",
      "\n",
      "Valor maximo: 75\n",
      "\n",
      "Total de valores negativos: 0\n",
      "0.00%\n",
      "\n",
      "Total de valores positivos: 21525\n",
      "99.53%\n",
      "\n",
      "Total de valores ausentes: 0\n",
      "0.00%\n"
     ]
    }
   ],
   "source": [
    "# Verifique o `dob_years` para valores suspeitos e conte a porcentagem\n",
    "\n",
    "total_neg, total_pos, total_ausente  = preliminar_view_num_values(df, 'dob_years')"
   ]
  },
  {
   "cell_type": "markdown",
   "metadata": {},
   "source": [
    "Uma vez que estamos a trabalhar com dados de clientes do banco e o objectivo final é ajudar na tomada de decisão para atribuição de credito então por norma para a maioria dos paises os **bancos centrais** não permitem a abertura de conta para <font color=red>**menores de idade**</font>, com excepção de alguns paises que permitem a abertura para **jovens emancipados** com algum tutor ou com os **pais como representante** cuja idade dos jovens compreende dos **16 aos 18 anos**\n",
    "\n",
    "*Para este caso de estudo iremos desconsiderar excepção apresentada*\n",
    "\n",
    "> Com base nesta informação podemos concluir que os valores problemáticos são os clientes cuja idade seja inferior a 18, iremos verificar a seguir: "
   ]
  },
  {
   "cell_type": "code",
   "execution_count": 41,
   "metadata": {},
   "outputs": [
    {
     "data": {
      "text/plain": [
       "101"
      ]
     },
     "execution_count": 41,
     "metadata": {},
     "output_type": "execute_result"
    }
   ],
   "source": [
    "total = len(df[ df ['dob_years'] < 18 ])\n",
    "total"
   ]
  },
  {
   "cell_type": "markdown",
   "metadata": {},
   "source": [
    "**Quer dizer que temos <font color=red>101 clientes menores de idade ??**\n",
    "\n",
    "    Vamos analisar um pouco alguns dados sobre estes clientes e ver o que podemos apurar mais"
   ]
  },
  {
   "cell_type": "code",
   "execution_count": 42,
   "metadata": {},
   "outputs": [
    {
     "data": {
      "text/html": [
       "<div>\n",
       "<style scoped>\n",
       "    .dataframe tbody tr th:only-of-type {\n",
       "        vertical-align: middle;\n",
       "    }\n",
       "\n",
       "    .dataframe tbody tr th {\n",
       "        vertical-align: top;\n",
       "    }\n",
       "\n",
       "    .dataframe thead th {\n",
       "        text-align: right;\n",
       "    }\n",
       "</style>\n",
       "<table border=\"1\" class=\"dataframe\">\n",
       "  <thead>\n",
       "    <tr style=\"text-align: right;\">\n",
       "      <th></th>\n",
       "      <th>children</th>\n",
       "      <th>days_employed</th>\n",
       "      <th>dob_years</th>\n",
       "      <th>education</th>\n",
       "      <th>education_id</th>\n",
       "      <th>family_status</th>\n",
       "      <th>family_status_id</th>\n",
       "      <th>gender</th>\n",
       "      <th>income_type</th>\n",
       "      <th>debt</th>\n",
       "      <th>total_income</th>\n",
       "      <th>purpose</th>\n",
       "    </tr>\n",
       "  </thead>\n",
       "  <tbody>\n",
       "    <tr>\n",
       "      <th>99</th>\n",
       "      <td>0</td>\n",
       "      <td>346541.618895</td>\n",
       "      <td>0</td>\n",
       "      <td>secondary education</td>\n",
       "      <td>1</td>\n",
       "      <td>married</td>\n",
       "      <td>0</td>\n",
       "      <td>F</td>\n",
       "      <td>retiree</td>\n",
       "      <td>0</td>\n",
       "      <td>11406.644</td>\n",
       "      <td>car</td>\n",
       "    </tr>\n",
       "    <tr>\n",
       "      <th>149</th>\n",
       "      <td>0</td>\n",
       "      <td>2664.273168</td>\n",
       "      <td>0</td>\n",
       "      <td>secondary education</td>\n",
       "      <td>1</td>\n",
       "      <td>divorced</td>\n",
       "      <td>3</td>\n",
       "      <td>F</td>\n",
       "      <td>employee</td>\n",
       "      <td>0</td>\n",
       "      <td>11228.230</td>\n",
       "      <td>housing transactions</td>\n",
       "    </tr>\n",
       "    <tr>\n",
       "      <th>270</th>\n",
       "      <td>3</td>\n",
       "      <td>1872.663186</td>\n",
       "      <td>0</td>\n",
       "      <td>secondary education</td>\n",
       "      <td>1</td>\n",
       "      <td>married</td>\n",
       "      <td>0</td>\n",
       "      <td>F</td>\n",
       "      <td>employee</td>\n",
       "      <td>0</td>\n",
       "      <td>16346.633</td>\n",
       "      <td>housing renovation</td>\n",
       "    </tr>\n",
       "    <tr>\n",
       "      <th>578</th>\n",
       "      <td>0</td>\n",
       "      <td>397856.565013</td>\n",
       "      <td>0</td>\n",
       "      <td>secondary education</td>\n",
       "      <td>1</td>\n",
       "      <td>married</td>\n",
       "      <td>0</td>\n",
       "      <td>F</td>\n",
       "      <td>retiree</td>\n",
       "      <td>0</td>\n",
       "      <td>15619.310</td>\n",
       "      <td>construction of own property</td>\n",
       "    </tr>\n",
       "    <tr>\n",
       "      <th>1040</th>\n",
       "      <td>0</td>\n",
       "      <td>1158.029561</td>\n",
       "      <td>0</td>\n",
       "      <td>bachelor's degree</td>\n",
       "      <td>0</td>\n",
       "      <td>divorced</td>\n",
       "      <td>3</td>\n",
       "      <td>F</td>\n",
       "      <td>business</td>\n",
       "      <td>0</td>\n",
       "      <td>48639.062</td>\n",
       "      <td>to own a car</td>\n",
       "    </tr>\n",
       "    <tr>\n",
       "      <th>1149</th>\n",
       "      <td>0</td>\n",
       "      <td>934.654854</td>\n",
       "      <td>0</td>\n",
       "      <td>secondary education</td>\n",
       "      <td>1</td>\n",
       "      <td>married</td>\n",
       "      <td>0</td>\n",
       "      <td>F</td>\n",
       "      <td>business</td>\n",
       "      <td>0</td>\n",
       "      <td>32296.389</td>\n",
       "      <td>buy real estate</td>\n",
       "    </tr>\n",
       "    <tr>\n",
       "      <th>1175</th>\n",
       "      <td>0</td>\n",
       "      <td>370879.508002</td>\n",
       "      <td>0</td>\n",
       "      <td>secondary education</td>\n",
       "      <td>1</td>\n",
       "      <td>married</td>\n",
       "      <td>0</td>\n",
       "      <td>F</td>\n",
       "      <td>retiree</td>\n",
       "      <td>0</td>\n",
       "      <td>50231.975</td>\n",
       "      <td>to get a supplementary education</td>\n",
       "    </tr>\n",
       "    <tr>\n",
       "      <th>1386</th>\n",
       "      <td>0</td>\n",
       "      <td>5043.219890</td>\n",
       "      <td>0</td>\n",
       "      <td>bachelor's degree</td>\n",
       "      <td>0</td>\n",
       "      <td>married</td>\n",
       "      <td>0</td>\n",
       "      <td>M</td>\n",
       "      <td>civil servant</td>\n",
       "      <td>0</td>\n",
       "      <td>38483.779</td>\n",
       "      <td>purchase of a car</td>\n",
       "    </tr>\n",
       "    <tr>\n",
       "      <th>1890</th>\n",
       "      <td>0</td>\n",
       "      <td>NaN</td>\n",
       "      <td>0</td>\n",
       "      <td>bachelor's degree</td>\n",
       "      <td>0</td>\n",
       "      <td>unmarried</td>\n",
       "      <td>4</td>\n",
       "      <td>F</td>\n",
       "      <td>employee</td>\n",
       "      <td>0</td>\n",
       "      <td>NaN</td>\n",
       "      <td>housing</td>\n",
       "    </tr>\n",
       "    <tr>\n",
       "      <th>1898</th>\n",
       "      <td>0</td>\n",
       "      <td>370144.537021</td>\n",
       "      <td>0</td>\n",
       "      <td>secondary education</td>\n",
       "      <td>1</td>\n",
       "      <td>widow / widower</td>\n",
       "      <td>2</td>\n",
       "      <td>F</td>\n",
       "      <td>retiree</td>\n",
       "      <td>0</td>\n",
       "      <td>20384.043</td>\n",
       "      <td>to buy a car</td>\n",
       "    </tr>\n",
       "  </tbody>\n",
       "</table>\n",
       "</div>"
      ],
      "text/plain": [
       "      children  days_employed  dob_years            education  education_id  \\\n",
       "99           0  346541.618895          0  secondary education             1   \n",
       "149          0    2664.273168          0  secondary education             1   \n",
       "270          3    1872.663186          0  secondary education             1   \n",
       "578          0  397856.565013          0  secondary education             1   \n",
       "1040         0    1158.029561          0    bachelor's degree             0   \n",
       "1149         0     934.654854          0  secondary education             1   \n",
       "1175         0  370879.508002          0  secondary education             1   \n",
       "1386         0    5043.219890          0    bachelor's degree             0   \n",
       "1890         0            NaN          0    bachelor's degree             0   \n",
       "1898         0  370144.537021          0  secondary education             1   \n",
       "\n",
       "        family_status  family_status_id gender    income_type  debt  \\\n",
       "99            married                 0      F        retiree     0   \n",
       "149          divorced                 3      F       employee     0   \n",
       "270           married                 0      F       employee     0   \n",
       "578           married                 0      F        retiree     0   \n",
       "1040         divorced                 3      F       business     0   \n",
       "1149          married                 0      F       business     0   \n",
       "1175          married                 0      F        retiree     0   \n",
       "1386          married                 0      M  civil servant     0   \n",
       "1890        unmarried                 4      F       employee     0   \n",
       "1898  widow / widower                 2      F        retiree     0   \n",
       "\n",
       "      total_income                           purpose  \n",
       "99       11406.644                               car  \n",
       "149      11228.230              housing transactions  \n",
       "270      16346.633                housing renovation  \n",
       "578      15619.310      construction of own property  \n",
       "1040     48639.062                      to own a car  \n",
       "1149     32296.389                   buy real estate  \n",
       "1175     50231.975  to get a supplementary education  \n",
       "1386     38483.779                 purchase of a car  \n",
       "1890           NaN                           housing  \n",
       "1898     20384.043                      to buy a car  "
      ]
     },
     "execution_count": 42,
     "metadata": {},
     "output_type": "execute_result"
    }
   ],
   "source": [
    "df[ df ['dob_years'] < 18 ].head(10)"
   ]
  },
  {
   "cell_type": "markdown",
   "metadata": {},
   "source": [
    "Como a amostra dos 10 primeiros trouxe apenas idade 0 vamos validar a distribuição para os menores de idade"
   ]
  },
  {
   "cell_type": "code",
   "execution_count": 43,
   "metadata": {},
   "outputs": [
    {
     "name": "stdout",
     "output_type": "stream",
     "text": [
      "\n",
      "Percentagem no dataset 0.47%\n"
     ]
    },
    {
     "data": {
      "text/html": [
       "<style  type=\"text/css\" >\n",
       "#T_d823e_row0_col1{\n",
       "            width:  10em;\n",
       "             height:  80%;\n",
       "        }</style><table id=\"T_d823e_\" ><thead>    <tr>        <th class=\"blank level0\" ></th>        <th class=\"col_heading level0 col0\" >dob_years</th>        <th class=\"col_heading level0 col1\" >Total</th>        <th class=\"col_heading level0 col2\" >Percentagem</th>    </tr></thead><tbody>\n",
       "                <tr>\n",
       "                        <th id=\"T_d823e_level0_row0\" class=\"row_heading level0 row0\" >0</th>\n",
       "                        <td id=\"T_d823e_row0_col0\" class=\"data row0 col0\" >0</td>\n",
       "                        <td id=\"T_d823e_row0_col1\" class=\"data row0 col1\" >101</td>\n",
       "                        <td id=\"T_d823e_row0_col2\" class=\"data row0 col2\" >100.0%</td>\n",
       "            </tr>\n",
       "    </tbody></table>"
      ],
      "text/plain": [
       "<pandas.io.formats.style.Styler at 0x7f88bb055c40>"
      ]
     },
     "execution_count": 43,
     "metadata": {},
     "output_type": "execute_result"
    }
   ],
   "source": [
    "#print(df[ df ['dob_years'] < 18 ]['dob_years'].value_counts())\n",
    "\n",
    "percent = total/len(df)*100\n",
    "\n",
    "print(f'\\nPercentagem no dataset {percent:.2f}%' )\n",
    "\n",
    "#Testar passando um dataframe filtrado\n",
    "ver_distribuicao(df[ df ['dob_years'] < 18 ], 'dob_years')"
   ]
  },
  {
   "cell_type": "markdown",
   "metadata": {},
   "source": [
    "A distribuição apresenta apenas a idade <font color=red>**0**</font>.\n",
    "\n",
    "Se olharmos toda a informação (`family_status`,`children`) e as restantes colunas podemos concluir que a hipotese de termos clientes menores de idade foi invalidada e o mais provavel é que estamos diante de <font color=red>valores ausentes</font>. "
   ]
  },
  {
   "cell_type": "markdown",
   "metadata": {},
   "source": [
    "<div class=\"alert alert-block alert-success\">\n",
    "<b>Comentário do corretor</b> <a class=\"tocSkip\"></a>\n",
    "\n",
    "Gostei de sua visualização do dado, está muito organizado e correto!\n",
    "\n",
    "</div>"
   ]
  },
  {
   "cell_type": "markdown",
   "metadata": {},
   "source": [
    "Por se tratar de uma distribuição pequena (0.47%) certamente não deverá criar muito impacto se tormarmos a decisão de **preenchermos os valores para algum valor dentro do intervalo de idades existente** como por exemplo a media ou mediana\n",
    "\n",
    "Para melhor atender este preenchimento podemos considerar alguma/(as) variaveis adicionais como por exemplo o `genero` ou `income_type` ou então as duas variaveis porque se pensarmos bem podemos tentar evitar ter aposentados muito jovens 😅 "
   ]
  },
  {
   "cell_type": "code",
   "execution_count": 44,
   "metadata": {},
   "outputs": [
    {
     "name": "stdout",
     "output_type": "stream",
     "text": [
      "['employee', 'retiree', 'business', 'civil servant', 'unemployed', 'entrepreneur', 'student', 'paternity / maternity leave']\n",
      "['F', 'M', 'XNA']\n"
     ]
    },
    {
     "data": {
      "text/plain": [
       "0     40\n",
       "1     41\n",
       "2     40\n",
       "3     27\n",
       "4     39\n",
       "5     59\n",
       "6     45\n",
       "7     39\n",
       "8     38\n",
       "9     39\n",
       "10    58\n",
       "11    58\n",
       "12    22\n",
       "13    31\n",
       "14    24\n",
       "Name: dob_years, dtype: int64"
      ]
     },
     "execution_count": 44,
     "metadata": {},
     "output_type": "execute_result"
    }
   ],
   "source": [
    "# Resolva os problemas na coluna `dob_years`, se existirem\n",
    "\n",
    "# 1º Adquirir os diferentes valores para o income_type\n",
    "\n",
    "lista_income_type = df.income_type.unique().tolist()\n",
    "print(lista_income_type)\n",
    "\n",
    "# 2º Adquirir a lista de generos:\n",
    "lista_gender = df.gender.unique().tolist()\n",
    "print(lista_gender)\n",
    "\n",
    "#2º Adquirir as media de idade de agrupado por genero para cada income_type\n",
    "\n",
    "dfGroup = df.groupby(['gender','income_type'])['dob_years'].mean().reset_index()\n",
    "\n",
    "# Vamos atribuir idades inteiras e não com valores flutuantes \n",
    "dfGroup['dob_years'] = dfGroup['dob_years'].astype(int)\n",
    "\n",
    "dfGroup['dob_years']"
   ]
  },
  {
   "cell_type": "code",
   "execution_count": 45,
   "metadata": {},
   "outputs": [
    {
     "name": "stdout",
     "output_type": "stream",
     "text": [
      "Definindo para \"employee\" - \"F\" > registos: 34 - media que sera atribuida: 40\n",
      "Definindo para \"employee\" - \"M\" > registos: 21 - media que sera atribuida: 39\n",
      "Definindo para \"retiree\" - \"F\" > registos: 19 - media que sera atribuida: 59\n",
      "Definindo para \"retiree\" - \"M\" > registos: 1 - media que sera atribuida: 58\n",
      "Definindo para \"business\" - \"F\" > registos: 14 - media que sera atribuida: 40\n",
      "Definindo para \"business\" - \"M\" > registos: 6 - media que sera atribuida: 39\n",
      "Definindo para \"civil servant\" - \"F\" > registos: 5 - media que sera atribuida: 41\n",
      "Definindo para \"civil servant\" - \"M\" > registos: 1 - media que sera atribuida: 38\n",
      "\n",
      "Ciclo Terminado! - 101/101 linhas alteradas\n"
     ]
    }
   ],
   "source": [
    "# Ciclo 1 > Iterar sobre a lista de income_type\n",
    "total_alterado = 0\n",
    "for tipo in lista_income_type: # Prime\n",
    "    \n",
    "    #Ciclo 2 > Percorrer a lista de generos (felizmente só faz 2 iterações)\n",
    "    for genero in lista_gender:\n",
    "        \n",
    "        #Filtro no dataframe principal para ver quais/quantos serao alterados !\n",
    "        # !!Idade == 0 & genero == @genero & tipo_emprego == @income_type\n",
    "        \n",
    "        cond1 = (df['dob_years'] == 0)\n",
    "        cond2 = (df['income_type'] == tipo)\n",
    "        cond3 = (df['gender'] == genero )\n",
    "\n",
    "        count = len(df.loc[ cond1 & cond2 & cond3 ])\n",
    "        \n",
    "        if count > 0: # Quer dizer que há registos para alterar nestas condicoes, entao podemos avancar \n",
    "            \n",
    "            #Pegar a media correspondente, ja nao deve precisar do try uma vez deibaixo do if\n",
    "            try:\n",
    "                media = dfGroup.loc[(dfGroup['income_type'] == tipo) & (dfGroup['gender'] == genero )]['dob_years'].values[0]\n",
    "            except:\n",
    "                media = 0\n",
    "        \n",
    "            total_alterado += count\n",
    "            #Debug\n",
    "            print(f'Definindo para \"{tipo}\" - \"{genero}\" > registos: {count} - media que sera atribuida: {int( media )}')\n",
    "        \n",
    "            #Substituir o valor pela media\n",
    "            df.loc[ cond1 & cond2 & cond3 , 'dob_years' ] = int(media)\n",
    "\n",
    "        \n",
    "if total != total_alterado:\n",
    "    print(f'{total_alterado} / {total} - O CICLO NAO ALTEROU TODOS OS REGISTOS, VERIFICAR!!!')\n",
    "else: \n",
    "    print(f'\\nCiclo Terminado! - {total_alterado}/{total} linhas alteradas')"
   ]
  },
  {
   "cell_type": "markdown",
   "metadata": {},
   "source": [
    "<font color=orange>*Acreidto que deve haver alguma maneira mais elegante de realizar esta tarefa, mas por agora só consegui pensar nesta solução 🙁*</font>"
   ]
  },
  {
   "cell_type": "markdown",
   "metadata": {},
   "source": [
    "<div class=\"alert alert-block alert-success\">\n",
    "<b>Comentário do corretor</b> <a class=\"tocSkip\"></a>\n",
    "\n",
    "Considero sua solução bem elegante! Utilizar a mediana dos dados seria suficiente, porém sua abordagem está muito bem aplicada :)\n",
    "\n",
    "</div>"
   ]
  },
  {
   "cell_type": "code",
   "execution_count": 46,
   "metadata": {},
   "outputs": [
    {
     "data": {
      "text/html": [
       "<div>\n",
       "<style scoped>\n",
       "    .dataframe tbody tr th:only-of-type {\n",
       "        vertical-align: middle;\n",
       "    }\n",
       "\n",
       "    .dataframe tbody tr th {\n",
       "        vertical-align: top;\n",
       "    }\n",
       "\n",
       "    .dataframe thead th {\n",
       "        text-align: right;\n",
       "    }\n",
       "</style>\n",
       "<table border=\"1\" class=\"dataframe\">\n",
       "  <thead>\n",
       "    <tr style=\"text-align: right;\">\n",
       "      <th></th>\n",
       "      <th>children</th>\n",
       "      <th>days_employed</th>\n",
       "      <th>dob_years</th>\n",
       "      <th>education</th>\n",
       "      <th>education_id</th>\n",
       "      <th>family_status</th>\n",
       "      <th>family_status_id</th>\n",
       "      <th>gender</th>\n",
       "      <th>income_type</th>\n",
       "      <th>debt</th>\n",
       "      <th>total_income</th>\n",
       "      <th>purpose</th>\n",
       "    </tr>\n",
       "  </thead>\n",
       "  <tbody>\n",
       "  </tbody>\n",
       "</table>\n",
       "</div>"
      ],
      "text/plain": [
       "Empty DataFrame\n",
       "Columns: [children, days_employed, dob_years, education, education_id, family_status, family_status_id, gender, income_type, debt, total_income, purpose]\n",
       "Index: []"
      ]
     },
     "execution_count": 46,
     "metadata": {},
     "output_type": "execute_result"
    }
   ],
   "source": [
    "# Verifique o resultado - certifique-se de que está corrigido\n",
    "df[ df ['dob_years'] < 18 ].head(10)"
   ]
  },
  {
   "cell_type": "markdown",
   "metadata": {},
   "source": [
    "Ja não temos idades inferiores a 18\n",
    "\n",
    "Podemos confirmar alguns registos especificos que foram imprimidos mais acima, por exemplo um que tem a coluna `days_employed` com o valor `346541.618895`"
   ]
  },
  {
   "cell_type": "code",
   "execution_count": 47,
   "metadata": {},
   "outputs": [
    {
     "data": {
      "text/html": [
       "<div>\n",
       "<style scoped>\n",
       "    .dataframe tbody tr th:only-of-type {\n",
       "        vertical-align: middle;\n",
       "    }\n",
       "\n",
       "    .dataframe tbody tr th {\n",
       "        vertical-align: top;\n",
       "    }\n",
       "\n",
       "    .dataframe thead th {\n",
       "        text-align: right;\n",
       "    }\n",
       "</style>\n",
       "<table border=\"1\" class=\"dataframe\">\n",
       "  <thead>\n",
       "    <tr style=\"text-align: right;\">\n",
       "      <th></th>\n",
       "      <th>children</th>\n",
       "      <th>days_employed</th>\n",
       "      <th>dob_years</th>\n",
       "      <th>education</th>\n",
       "      <th>education_id</th>\n",
       "      <th>family_status</th>\n",
       "      <th>family_status_id</th>\n",
       "      <th>gender</th>\n",
       "      <th>income_type</th>\n",
       "      <th>debt</th>\n",
       "      <th>total_income</th>\n",
       "      <th>purpose</th>\n",
       "    </tr>\n",
       "  </thead>\n",
       "  <tbody>\n",
       "    <tr>\n",
       "      <th>99</th>\n",
       "      <td>0</td>\n",
       "      <td>346541.618895</td>\n",
       "      <td>59</td>\n",
       "      <td>secondary education</td>\n",
       "      <td>1</td>\n",
       "      <td>married</td>\n",
       "      <td>0</td>\n",
       "      <td>F</td>\n",
       "      <td>retiree</td>\n",
       "      <td>0</td>\n",
       "      <td>11406.644</td>\n",
       "      <td>car</td>\n",
       "    </tr>\n",
       "  </tbody>\n",
       "</table>\n",
       "</div>"
      ],
      "text/plain": [
       "    children  days_employed  dob_years            education  education_id  \\\n",
       "99         0  346541.618895         59  secondary education             1   \n",
       "\n",
       "   family_status  family_status_id gender income_type  debt  total_income  \\\n",
       "99       married                 0      F     retiree     0     11406.644   \n",
       "\n",
       "   purpose  \n",
       "99     car  "
      ]
     },
     "execution_count": 47,
     "metadata": {},
     "output_type": "execute_result"
    }
   ],
   "source": [
    "# Por algum motivo a execucao abaixo nao retorna o resultado, mas irei persistir em apresentar este cliente!\n",
    "#df.loc[ (df['days_employed'] == 346541.618895) ]\n",
    "\n",
    "\n",
    "dfcheck = df.loc[ (df['days_employed'] >= 346541) & (df['days_employed'] < 346542) ]\n",
    "dfcheck"
   ]
  },
  {
   "cell_type": "markdown",
   "metadata": {},
   "source": [
    "Pela verificação acima percebemos que a idade foi bem preenchida\n",
    "Podemos confirmar olhando o dataframe das medias, pois ele possui os campos `income_type` e `gender` para validação"
   ]
  },
  {
   "cell_type": "code",
   "execution_count": 48,
   "metadata": {},
   "outputs": [
    {
     "data": {
      "text/html": [
       "<div>\n",
       "<style scoped>\n",
       "    .dataframe tbody tr th:only-of-type {\n",
       "        vertical-align: middle;\n",
       "    }\n",
       "\n",
       "    .dataframe tbody tr th {\n",
       "        vertical-align: top;\n",
       "    }\n",
       "\n",
       "    .dataframe thead th {\n",
       "        text-align: right;\n",
       "    }\n",
       "</style>\n",
       "<table border=\"1\" class=\"dataframe\">\n",
       "  <thead>\n",
       "    <tr style=\"text-align: right;\">\n",
       "      <th></th>\n",
       "      <th>gender</th>\n",
       "      <th>income_type</th>\n",
       "      <th>dob_years</th>\n",
       "    </tr>\n",
       "  </thead>\n",
       "  <tbody>\n",
       "    <tr>\n",
       "      <th>5</th>\n",
       "      <td>F</td>\n",
       "      <td>retiree</td>\n",
       "      <td>59</td>\n",
       "    </tr>\n",
       "  </tbody>\n",
       "</table>\n",
       "</div>"
      ],
      "text/plain": [
       "  gender income_type  dob_years\n",
       "5      F     retiree         59"
      ]
     },
     "execution_count": 48,
     "metadata": {},
     "output_type": "execute_result"
    }
   ],
   "source": [
    "dfGroup [ dfGroup['dob_years'] == dfcheck['dob_years'].values[0] ]"
   ]
  },
  {
   "cell_type": "markdown",
   "metadata": {},
   "source": [
    "#### Verificacoes Adicionais nos dados preenchidos!"
   ]
  },
  {
   "cell_type": "markdown",
   "metadata": {},
   "source": [
    "\n",
    "### Coluna  `family_status`"
   ]
  },
  {
   "cell_type": "code",
   "execution_count": 49,
   "metadata": {},
   "outputs": [
    {
     "name": "stdout",
     "output_type": "stream",
     "text": [
      "\n",
      "Total de Valores ausentes: 0\n"
     ]
    },
    {
     "data": {
      "text/html": [
       "<style  type=\"text/css\" >\n",
       "#T_d07c4_row0_col1{\n",
       "            width:  10em;\n",
       "             height:  80%;\n",
       "            background:  linear-gradient(90deg,#d65f5f 100.0%, transparent 100.0%);\n",
       "        }#T_d07c4_row1_col1{\n",
       "            width:  10em;\n",
       "             height:  80%;\n",
       "            background:  linear-gradient(90deg,#d65f5f 28.2%, transparent 28.2%);\n",
       "        }#T_d07c4_row2_col1{\n",
       "            width:  10em;\n",
       "             height:  80%;\n",
       "            background:  linear-gradient(90deg,#d65f5f 16.2%, transparent 16.2%);\n",
       "        }#T_d07c4_row3_col1{\n",
       "            width:  10em;\n",
       "             height:  80%;\n",
       "            background:  linear-gradient(90deg,#d65f5f 2.1%, transparent 2.1%);\n",
       "        }#T_d07c4_row4_col1{\n",
       "            width:  10em;\n",
       "             height:  80%;\n",
       "        }</style><table id=\"T_d07c4_\" ><thead>    <tr>        <th class=\"blank level0\" ></th>        <th class=\"col_heading level0 col0\" >family_status</th>        <th class=\"col_heading level0 col1\" >Total</th>        <th class=\"col_heading level0 col2\" >Percentagem</th>    </tr></thead><tbody>\n",
       "                <tr>\n",
       "                        <th id=\"T_d07c4_level0_row0\" class=\"row_heading level0 row0\" >0</th>\n",
       "                        <td id=\"T_d07c4_row0_col0\" class=\"data row0 col0\" >married</td>\n",
       "                        <td id=\"T_d07c4_row0_col1\" class=\"data row0 col1\" >12380</td>\n",
       "                        <td id=\"T_d07c4_row0_col2\" class=\"data row0 col2\" >57.51%</td>\n",
       "            </tr>\n",
       "            <tr>\n",
       "                        <th id=\"T_d07c4_level0_row1\" class=\"row_heading level0 row1\" >1</th>\n",
       "                        <td id=\"T_d07c4_row1_col0\" class=\"data row1 col0\" >civil partnership</td>\n",
       "                        <td id=\"T_d07c4_row1_col1\" class=\"data row1 col1\" >4177</td>\n",
       "                        <td id=\"T_d07c4_row1_col2\" class=\"data row1 col2\" >19.41%</td>\n",
       "            </tr>\n",
       "            <tr>\n",
       "                        <th id=\"T_d07c4_level0_row2\" class=\"row_heading level0 row2\" >2</th>\n",
       "                        <td id=\"T_d07c4_row2_col0\" class=\"data row2 col0\" >unmarried</td>\n",
       "                        <td id=\"T_d07c4_row2_col1\" class=\"data row2 col1\" >2813</td>\n",
       "                        <td id=\"T_d07c4_row2_col2\" class=\"data row2 col2\" >13.07%</td>\n",
       "            </tr>\n",
       "            <tr>\n",
       "                        <th id=\"T_d07c4_level0_row3\" class=\"row_heading level0 row3\" >3</th>\n",
       "                        <td id=\"T_d07c4_row3_col0\" class=\"data row3 col0\" >divorced</td>\n",
       "                        <td id=\"T_d07c4_row3_col1\" class=\"data row3 col1\" >1195</td>\n",
       "                        <td id=\"T_d07c4_row3_col2\" class=\"data row3 col2\" >5.55%</td>\n",
       "            </tr>\n",
       "            <tr>\n",
       "                        <th id=\"T_d07c4_level0_row4\" class=\"row_heading level0 row4\" >4</th>\n",
       "                        <td id=\"T_d07c4_row4_col0\" class=\"data row4 col0\" >widow / widower</td>\n",
       "                        <td id=\"T_d07c4_row4_col1\" class=\"data row4 col1\" >960</td>\n",
       "                        <td id=\"T_d07c4_row4_col2\" class=\"data row4 col2\" >4.46%</td>\n",
       "            </tr>\n",
       "    </tbody></table>"
      ],
      "text/plain": [
       "<pandas.io.formats.style.Styler at 0x7f88bb055610>"
      ]
     },
     "execution_count": 49,
     "metadata": {},
     "output_type": "execute_result"
    }
   ],
   "source": [
    "# Vamos ver os valores da coluna\n",
    "\n",
    "col = 'family_status'\n",
    "\n",
    "print(f\"\\nTotal de Valores ausentes: {df[col].isna().sum() }\")\n",
    "\n",
    "ver_distribuicao(df, col)"
   ]
  },
  {
   "cell_type": "markdown",
   "metadata": {},
   "source": [
    "#### Uniformizaçao dos estado civil"
   ]
  },
  {
   "cell_type": "markdown",
   "metadata": {},
   "source": [
    "Acredito que podemos considerarmos que têm o mesmo significado os seguintes valores:\n",
    "\n",
    "<font color=blue>married</font> e <font color=blue>civil partnership</font>  \n",
    "\n",
    "<font color=blue>unmarried</font> e <font color=blue>divorced</font>  \n",
    "\n",
    "Mas para confirmar felizmente temos a coluna `family_status_id` que representa o identificador para o estado civil\n",
    "Vamos analisar a distribuicao do identificador:"
   ]
  },
  {
   "cell_type": "code",
   "execution_count": 50,
   "metadata": {},
   "outputs": [
    {
     "data": {
      "text/html": [
       "<style  type=\"text/css\" >\n",
       "#T_65091_row0_col1{\n",
       "            width:  10em;\n",
       "             height:  80%;\n",
       "            background:  linear-gradient(90deg,#d65f5f 100.0%, transparent 100.0%);\n",
       "        }#T_65091_row1_col1{\n",
       "            width:  10em;\n",
       "             height:  80%;\n",
       "            background:  linear-gradient(90deg,#d65f5f 28.2%, transparent 28.2%);\n",
       "        }#T_65091_row2_col1{\n",
       "            width:  10em;\n",
       "             height:  80%;\n",
       "            background:  linear-gradient(90deg,#d65f5f 16.2%, transparent 16.2%);\n",
       "        }#T_65091_row3_col1{\n",
       "            width:  10em;\n",
       "             height:  80%;\n",
       "            background:  linear-gradient(90deg,#d65f5f 2.1%, transparent 2.1%);\n",
       "        }#T_65091_row4_col1{\n",
       "            width:  10em;\n",
       "             height:  80%;\n",
       "        }</style><table id=\"T_65091_\" ><thead>    <tr>        <th class=\"blank level0\" ></th>        <th class=\"col_heading level0 col0\" >family_status_id</th>        <th class=\"col_heading level0 col1\" >Total</th>        <th class=\"col_heading level0 col2\" >Percentagem</th>    </tr></thead><tbody>\n",
       "                <tr>\n",
       "                        <th id=\"T_65091_level0_row0\" class=\"row_heading level0 row0\" >0</th>\n",
       "                        <td id=\"T_65091_row0_col0\" class=\"data row0 col0\" >0</td>\n",
       "                        <td id=\"T_65091_row0_col1\" class=\"data row0 col1\" >12380</td>\n",
       "                        <td id=\"T_65091_row0_col2\" class=\"data row0 col2\" >57.51%</td>\n",
       "            </tr>\n",
       "            <tr>\n",
       "                        <th id=\"T_65091_level0_row1\" class=\"row_heading level0 row1\" >1</th>\n",
       "                        <td id=\"T_65091_row1_col0\" class=\"data row1 col0\" >1</td>\n",
       "                        <td id=\"T_65091_row1_col1\" class=\"data row1 col1\" >4177</td>\n",
       "                        <td id=\"T_65091_row1_col2\" class=\"data row1 col2\" >19.41%</td>\n",
       "            </tr>\n",
       "            <tr>\n",
       "                        <th id=\"T_65091_level0_row2\" class=\"row_heading level0 row2\" >2</th>\n",
       "                        <td id=\"T_65091_row2_col0\" class=\"data row2 col0\" >4</td>\n",
       "                        <td id=\"T_65091_row2_col1\" class=\"data row2 col1\" >2813</td>\n",
       "                        <td id=\"T_65091_row2_col2\" class=\"data row2 col2\" >13.07%</td>\n",
       "            </tr>\n",
       "            <tr>\n",
       "                        <th id=\"T_65091_level0_row3\" class=\"row_heading level0 row3\" >3</th>\n",
       "                        <td id=\"T_65091_row3_col0\" class=\"data row3 col0\" >3</td>\n",
       "                        <td id=\"T_65091_row3_col1\" class=\"data row3 col1\" >1195</td>\n",
       "                        <td id=\"T_65091_row3_col2\" class=\"data row3 col2\" >5.55%</td>\n",
       "            </tr>\n",
       "            <tr>\n",
       "                        <th id=\"T_65091_level0_row4\" class=\"row_heading level0 row4\" >4</th>\n",
       "                        <td id=\"T_65091_row4_col0\" class=\"data row4 col0\" >2</td>\n",
       "                        <td id=\"T_65091_row4_col1\" class=\"data row4 col1\" >960</td>\n",
       "                        <td id=\"T_65091_row4_col2\" class=\"data row4 col2\" >4.46%</td>\n",
       "            </tr>\n",
       "    </tbody></table>"
      ],
      "text/plain": [
       "<pandas.io.formats.style.Styler at 0x7f88bb073e80>"
      ]
     },
     "execution_count": 50,
     "metadata": {},
     "output_type": "execute_result"
    }
   ],
   "source": [
    "#df['family_status_id'].value_counts()\n",
    "\n",
    "ver_distribuicao(df, 'family_status_id')"
   ]
  },
  {
   "cell_type": "markdown",
   "metadata": {},
   "source": [
    "Para <font color=red>reprovar</font> a hiposete considerada, temos igualmente 5 valores distintos para o id e não 3 apenas \n",
    "\n",
    "Podemos comprovar que os 5 estados civis distintos olhando os valores unicos no identificador para cada estado civil "
   ]
  },
  {
   "cell_type": "code",
   "execution_count": 51,
   "metadata": {},
   "outputs": [
    {
     "name": "stdout",
     "output_type": "stream",
     "text": [
      "married\n",
      "[0]\n",
      "civil partnership\n",
      "[1]\n",
      "widow / widower\n",
      "[2]\n",
      "divorced\n",
      "[3]\n",
      "unmarried\n",
      "[4]\n"
     ]
    }
   ],
   "source": [
    "for estado in df[col].unique():\n",
    "    print(estado)\n",
    "\n",
    "    print( df[ (df [col] == estado) ]['family_status_id'].unique() )"
   ]
  },
  {
   "cell_type": "markdown",
   "metadata": {},
   "source": [
    "Sem sombra de duvidas cada estado civil tem um significado diferente!"
   ]
  },
  {
   "cell_type": "code",
   "execution_count": 52,
   "metadata": {},
   "outputs": [],
   "source": [
    "# Aborde os valores problemáticos em `family_status`, se eles existirem\n",
    "\n",
    "## Sem valores problematicos!"
   ]
  },
  {
   "cell_type": "code",
   "execution_count": 53,
   "metadata": {},
   "outputs": [],
   "source": [
    "# Verifique o resultado - certifique-se de que está corrigido\n",
    "\n",
    "## Tudo OK"
   ]
  },
  {
   "cell_type": "markdown",
   "metadata": {},
   "source": [
    "<div class=\"alert alert-block alert-success\">\n",
    "<b>Comentário do corretor</b> <a class=\"tocSkip\"></a>\n",
    "\n",
    "Ótima análise!\n",
    "\n",
    "</div>"
   ]
  },
  {
   "cell_type": "markdown",
   "metadata": {},
   "source": [
    "\n",
    "### Coluna 'gender'"
   ]
  },
  {
   "cell_type": "code",
   "execution_count": 54,
   "metadata": {},
   "outputs": [
    {
     "name": "stdout",
     "output_type": "stream",
     "text": [
      "\n",
      "Valores ausentes 0\n",
      "Distibuição:\n"
     ]
    },
    {
     "data": {
      "text/html": [
       "<style  type=\"text/css\" >\n",
       "#T_76af3_row0_col1{\n",
       "            width:  10em;\n",
       "             height:  80%;\n",
       "            background:  linear-gradient(90deg,#d65f5f 100.0%, transparent 100.0%);\n",
       "        }#T_76af3_row1_col1{\n",
       "            width:  10em;\n",
       "             height:  80%;\n",
       "            background:  linear-gradient(90deg,#d65f5f 51.2%, transparent 51.2%);\n",
       "        }#T_76af3_row2_col1{\n",
       "            width:  10em;\n",
       "             height:  80%;\n",
       "        }</style><table id=\"T_76af3_\" ><thead>    <tr>        <th class=\"blank level0\" ></th>        <th class=\"col_heading level0 col0\" >gender</th>        <th class=\"col_heading level0 col1\" >Total</th>        <th class=\"col_heading level0 col2\" >Percentagem</th>    </tr></thead><tbody>\n",
       "                <tr>\n",
       "                        <th id=\"T_76af3_level0_row0\" class=\"row_heading level0 row0\" >0</th>\n",
       "                        <td id=\"T_76af3_row0_col0\" class=\"data row0 col0\" >F</td>\n",
       "                        <td id=\"T_76af3_row0_col1\" class=\"data row0 col1\" >14236</td>\n",
       "                        <td id=\"T_76af3_row0_col2\" class=\"data row0 col2\" >66.14%</td>\n",
       "            </tr>\n",
       "            <tr>\n",
       "                        <th id=\"T_76af3_level0_row1\" class=\"row_heading level0 row1\" >1</th>\n",
       "                        <td id=\"T_76af3_row1_col0\" class=\"data row1 col0\" >M</td>\n",
       "                        <td id=\"T_76af3_row1_col1\" class=\"data row1 col1\" >7288</td>\n",
       "                        <td id=\"T_76af3_row1_col2\" class=\"data row1 col2\" >33.86%</td>\n",
       "            </tr>\n",
       "            <tr>\n",
       "                        <th id=\"T_76af3_level0_row2\" class=\"row_heading level0 row2\" >2</th>\n",
       "                        <td id=\"T_76af3_row2_col0\" class=\"data row2 col0\" >XNA</td>\n",
       "                        <td id=\"T_76af3_row2_col1\" class=\"data row2 col1\" >1</td>\n",
       "                        <td id=\"T_76af3_row2_col2\" class=\"data row2 col2\" >0.0%</td>\n",
       "            </tr>\n",
       "    </tbody></table>"
      ],
      "text/plain": [
       "<pandas.io.formats.style.Styler at 0x7f88bb004100>"
      ]
     },
     "execution_count": 54,
     "metadata": {},
     "output_type": "execute_result"
    }
   ],
   "source": [
    "# Vamos ver os valores na coluna\n",
    "\n",
    "col = 'gender'\n",
    "\n",
    "print(f\"\\nValores ausentes {df[col].isnull().sum()}\")\n",
    "\n",
    "print(\"Distibuição:\")\n",
    "\n",
    "ver_distribuicao(df, col)\n"
   ]
  },
  {
   "cell_type": "markdown",
   "metadata": {},
   "source": [
    "A coluna tem uma distribuição um pouco chamativa para uma breve invesitgação do valor XNA, vamos analisar:"
   ]
  },
  {
   "cell_type": "code",
   "execution_count": 55,
   "metadata": {},
   "outputs": [
    {
     "data": {
      "text/html": [
       "<div>\n",
       "<style scoped>\n",
       "    .dataframe tbody tr th:only-of-type {\n",
       "        vertical-align: middle;\n",
       "    }\n",
       "\n",
       "    .dataframe tbody tr th {\n",
       "        vertical-align: top;\n",
       "    }\n",
       "\n",
       "    .dataframe thead th {\n",
       "        text-align: right;\n",
       "    }\n",
       "</style>\n",
       "<table border=\"1\" class=\"dataframe\">\n",
       "  <thead>\n",
       "    <tr style=\"text-align: right;\">\n",
       "      <th></th>\n",
       "      <th>children</th>\n",
       "      <th>days_employed</th>\n",
       "      <th>dob_years</th>\n",
       "      <th>education</th>\n",
       "      <th>education_id</th>\n",
       "      <th>family_status</th>\n",
       "      <th>family_status_id</th>\n",
       "      <th>gender</th>\n",
       "      <th>income_type</th>\n",
       "      <th>debt</th>\n",
       "      <th>total_income</th>\n",
       "      <th>purpose</th>\n",
       "    </tr>\n",
       "  </thead>\n",
       "  <tbody>\n",
       "    <tr>\n",
       "      <th>10701</th>\n",
       "      <td>0</td>\n",
       "      <td>2358.600502</td>\n",
       "      <td>24</td>\n",
       "      <td>some college</td>\n",
       "      <td>2</td>\n",
       "      <td>civil partnership</td>\n",
       "      <td>1</td>\n",
       "      <td>XNA</td>\n",
       "      <td>business</td>\n",
       "      <td>0</td>\n",
       "      <td>32624.825</td>\n",
       "      <td>buy real estate</td>\n",
       "    </tr>\n",
       "  </tbody>\n",
       "</table>\n",
       "</div>"
      ],
      "text/plain": [
       "       children  days_employed  dob_years     education  education_id  \\\n",
       "10701         0    2358.600502         24  some college             2   \n",
       "\n",
       "           family_status  family_status_id gender income_type  debt  \\\n",
       "10701  civil partnership                 1    XNA    business     0   \n",
       "\n",
       "       total_income          purpose  \n",
       "10701     32624.825  buy real estate  "
      ]
     },
     "execution_count": 55,
     "metadata": {},
     "output_type": "execute_result"
    }
   ],
   "source": [
    "df[ df[col] == 'XNA' ]"
   ]
  },
  {
   "cell_type": "markdown",
   "metadata": {},
   "source": [
    "Claro que será optimo termos o **significado** para este genero, podemos conversar com algum colega só para um apuramento, mas,  numa primeira analise não se nota algo de diferente, mas para confirmar iremos apresentar as primeiras linhas para os outros generos com maior distribuição no dataset."
   ]
  },
  {
   "cell_type": "markdown",
   "metadata": {},
   "source": [
    "<div class=\"alert alert-block alert-warning\">\n",
    "<b>Comentário do corretor</b> <a class=\"tocSkip\"></a>\n",
    "\n",
    "Uma vez que este valor está diferente dos outros dois na categoria e tem apenas uma linha, é provável que seja um dado problemático, então não teria problema excluir esta linha, uma vez que uma linha é uma baixa porcentagem do df\n",
    "\n",
    "</div>"
   ]
  },
  {
   "cell_type": "markdown",
   "metadata": {},
   "source": [
    "> <font color=purple>Gerson: Tomei boa nota, obrigado.</font>"
   ]
  },
  {
   "cell_type": "code",
   "execution_count": 56,
   "metadata": {},
   "outputs": [
    {
     "data": {
      "text/html": [
       "<div>\n",
       "<style scoped>\n",
       "    .dataframe tbody tr th:only-of-type {\n",
       "        vertical-align: middle;\n",
       "    }\n",
       "\n",
       "    .dataframe tbody tr th {\n",
       "        vertical-align: top;\n",
       "    }\n",
       "\n",
       "    .dataframe thead th {\n",
       "        text-align: right;\n",
       "    }\n",
       "</style>\n",
       "<table border=\"1\" class=\"dataframe\">\n",
       "  <thead>\n",
       "    <tr style=\"text-align: right;\">\n",
       "      <th></th>\n",
       "      <th>children</th>\n",
       "      <th>days_employed</th>\n",
       "      <th>dob_years</th>\n",
       "      <th>education</th>\n",
       "      <th>education_id</th>\n",
       "      <th>family_status</th>\n",
       "      <th>family_status_id</th>\n",
       "      <th>gender</th>\n",
       "      <th>income_type</th>\n",
       "      <th>debt</th>\n",
       "      <th>total_income</th>\n",
       "      <th>purpose</th>\n",
       "    </tr>\n",
       "  </thead>\n",
       "  <tbody>\n",
       "    <tr>\n",
       "      <th>0</th>\n",
       "      <td>1</td>\n",
       "      <td>8437.673028</td>\n",
       "      <td>42</td>\n",
       "      <td>bachelor's degree</td>\n",
       "      <td>0</td>\n",
       "      <td>married</td>\n",
       "      <td>0</td>\n",
       "      <td>F</td>\n",
       "      <td>employee</td>\n",
       "      <td>0</td>\n",
       "      <td>40620.102</td>\n",
       "      <td>purchase of the house</td>\n",
       "    </tr>\n",
       "    <tr>\n",
       "      <th>1</th>\n",
       "      <td>1</td>\n",
       "      <td>4024.803754</td>\n",
       "      <td>36</td>\n",
       "      <td>secondary education</td>\n",
       "      <td>1</td>\n",
       "      <td>married</td>\n",
       "      <td>0</td>\n",
       "      <td>F</td>\n",
       "      <td>employee</td>\n",
       "      <td>0</td>\n",
       "      <td>17932.802</td>\n",
       "      <td>car purchase</td>\n",
       "    </tr>\n",
       "    <tr>\n",
       "      <th>4</th>\n",
       "      <td>0</td>\n",
       "      <td>340266.072047</td>\n",
       "      <td>53</td>\n",
       "      <td>secondary education</td>\n",
       "      <td>1</td>\n",
       "      <td>civil partnership</td>\n",
       "      <td>1</td>\n",
       "      <td>F</td>\n",
       "      <td>retiree</td>\n",
       "      <td>0</td>\n",
       "      <td>25378.572</td>\n",
       "      <td>to have a wedding</td>\n",
       "    </tr>\n",
       "    <tr>\n",
       "      <th>6</th>\n",
       "      <td>0</td>\n",
       "      <td>2879.202052</td>\n",
       "      <td>43</td>\n",
       "      <td>bachelor's degree</td>\n",
       "      <td>0</td>\n",
       "      <td>married</td>\n",
       "      <td>0</td>\n",
       "      <td>F</td>\n",
       "      <td>business</td>\n",
       "      <td>0</td>\n",
       "      <td>38484.156</td>\n",
       "      <td>housing transactions</td>\n",
       "    </tr>\n",
       "    <tr>\n",
       "      <th>8</th>\n",
       "      <td>2</td>\n",
       "      <td>6929.865299</td>\n",
       "      <td>35</td>\n",
       "      <td>bachelor's degree</td>\n",
       "      <td>0</td>\n",
       "      <td>civil partnership</td>\n",
       "      <td>1</td>\n",
       "      <td>F</td>\n",
       "      <td>employee</td>\n",
       "      <td>0</td>\n",
       "      <td>15337.093</td>\n",
       "      <td>having a wedding</td>\n",
       "    </tr>\n",
       "  </tbody>\n",
       "</table>\n",
       "</div>"
      ],
      "text/plain": [
       "   children  days_employed  dob_years            education  education_id  \\\n",
       "0         1    8437.673028         42    bachelor's degree             0   \n",
       "1         1    4024.803754         36  secondary education             1   \n",
       "4         0  340266.072047         53  secondary education             1   \n",
       "6         0    2879.202052         43    bachelor's degree             0   \n",
       "8         2    6929.865299         35    bachelor's degree             0   \n",
       "\n",
       "       family_status  family_status_id gender income_type  debt  total_income  \\\n",
       "0            married                 0      F    employee     0     40620.102   \n",
       "1            married                 0      F    employee     0     17932.802   \n",
       "4  civil partnership                 1      F     retiree     0     25378.572   \n",
       "6            married                 0      F    business     0     38484.156   \n",
       "8  civil partnership                 1      F    employee     0     15337.093   \n",
       "\n",
       "                 purpose  \n",
       "0  purchase of the house  \n",
       "1           car purchase  \n",
       "4      to have a wedding  \n",
       "6   housing transactions  \n",
       "8       having a wedding  "
      ]
     },
     "execution_count": 56,
     "metadata": {},
     "output_type": "execute_result"
    }
   ],
   "source": [
    "df[ df[col] == 'F' ].head()"
   ]
  },
  {
   "cell_type": "code",
   "execution_count": 57,
   "metadata": {},
   "outputs": [
    {
     "data": {
      "text/html": [
       "<div>\n",
       "<style scoped>\n",
       "    .dataframe tbody tr th:only-of-type {\n",
       "        vertical-align: middle;\n",
       "    }\n",
       "\n",
       "    .dataframe tbody tr th {\n",
       "        vertical-align: top;\n",
       "    }\n",
       "\n",
       "    .dataframe thead th {\n",
       "        text-align: right;\n",
       "    }\n",
       "</style>\n",
       "<table border=\"1\" class=\"dataframe\">\n",
       "  <thead>\n",
       "    <tr style=\"text-align: right;\">\n",
       "      <th></th>\n",
       "      <th>children</th>\n",
       "      <th>days_employed</th>\n",
       "      <th>dob_years</th>\n",
       "      <th>education</th>\n",
       "      <th>education_id</th>\n",
       "      <th>family_status</th>\n",
       "      <th>family_status_id</th>\n",
       "      <th>gender</th>\n",
       "      <th>income_type</th>\n",
       "      <th>debt</th>\n",
       "      <th>total_income</th>\n",
       "      <th>purpose</th>\n",
       "    </tr>\n",
       "  </thead>\n",
       "  <tbody>\n",
       "    <tr>\n",
       "      <th>2</th>\n",
       "      <td>0</td>\n",
       "      <td>5623.422610</td>\n",
       "      <td>33</td>\n",
       "      <td>secondary education</td>\n",
       "      <td>1</td>\n",
       "      <td>married</td>\n",
       "      <td>0</td>\n",
       "      <td>M</td>\n",
       "      <td>employee</td>\n",
       "      <td>0</td>\n",
       "      <td>23341.752</td>\n",
       "      <td>purchase of the house</td>\n",
       "    </tr>\n",
       "    <tr>\n",
       "      <th>3</th>\n",
       "      <td>3</td>\n",
       "      <td>4124.747207</td>\n",
       "      <td>32</td>\n",
       "      <td>secondary education</td>\n",
       "      <td>1</td>\n",
       "      <td>married</td>\n",
       "      <td>0</td>\n",
       "      <td>M</td>\n",
       "      <td>employee</td>\n",
       "      <td>0</td>\n",
       "      <td>42820.568</td>\n",
       "      <td>supplementary education</td>\n",
       "    </tr>\n",
       "    <tr>\n",
       "      <th>5</th>\n",
       "      <td>0</td>\n",
       "      <td>926.185831</td>\n",
       "      <td>27</td>\n",
       "      <td>bachelor's degree</td>\n",
       "      <td>0</td>\n",
       "      <td>civil partnership</td>\n",
       "      <td>1</td>\n",
       "      <td>M</td>\n",
       "      <td>business</td>\n",
       "      <td>0</td>\n",
       "      <td>40922.170</td>\n",
       "      <td>purchase of the house</td>\n",
       "    </tr>\n",
       "    <tr>\n",
       "      <th>7</th>\n",
       "      <td>0</td>\n",
       "      <td>152.779569</td>\n",
       "      <td>50</td>\n",
       "      <td>secondary education</td>\n",
       "      <td>1</td>\n",
       "      <td>married</td>\n",
       "      <td>0</td>\n",
       "      <td>M</td>\n",
       "      <td>employee</td>\n",
       "      <td>0</td>\n",
       "      <td>21731.829</td>\n",
       "      <td>education</td>\n",
       "    </tr>\n",
       "    <tr>\n",
       "      <th>9</th>\n",
       "      <td>0</td>\n",
       "      <td>2188.756445</td>\n",
       "      <td>41</td>\n",
       "      <td>secondary education</td>\n",
       "      <td>1</td>\n",
       "      <td>married</td>\n",
       "      <td>0</td>\n",
       "      <td>M</td>\n",
       "      <td>employee</td>\n",
       "      <td>0</td>\n",
       "      <td>23108.150</td>\n",
       "      <td>purchase of the house for my family</td>\n",
       "    </tr>\n",
       "  </tbody>\n",
       "</table>\n",
       "</div>"
      ],
      "text/plain": [
       "   children  days_employed  dob_years            education  education_id  \\\n",
       "2         0    5623.422610         33  secondary education             1   \n",
       "3         3    4124.747207         32  secondary education             1   \n",
       "5         0     926.185831         27    bachelor's degree             0   \n",
       "7         0     152.779569         50  secondary education             1   \n",
       "9         0    2188.756445         41  secondary education             1   \n",
       "\n",
       "       family_status  family_status_id gender income_type  debt  total_income  \\\n",
       "2            married                 0      M    employee     0     23341.752   \n",
       "3            married                 0      M    employee     0     42820.568   \n",
       "5  civil partnership                 1      M    business     0     40922.170   \n",
       "7            married                 0      M    employee     0     21731.829   \n",
       "9            married                 0      M    employee     0     23108.150   \n",
       "\n",
       "                               purpose  \n",
       "2                purchase of the house  \n",
       "3              supplementary education  \n",
       "5                purchase of the house  \n",
       "7                            education  \n",
       "9  purchase of the house for my family  "
      ]
     },
     "execution_count": 57,
     "metadata": {},
     "output_type": "execute_result"
    }
   ],
   "source": [
    "df[ df[col] == 'M' ].head()"
   ]
  },
  {
   "cell_type": "markdown",
   "metadata": {},
   "source": [
    "Concluindo, nada de anormal com a coluna."
   ]
  },
  {
   "cell_type": "code",
   "execution_count": 58,
   "metadata": {},
   "outputs": [],
   "source": [
    "# Aborde os valores problemáticos, se existirem\n",
    "# Sem valores problematicos"
   ]
  },
  {
   "cell_type": "code",
   "execution_count": 59,
   "metadata": {},
   "outputs": [],
   "source": [
    "# Verifique o resultado - certifique-se de que está corrigido\n",
    "# Sem correcoes necessarias"
   ]
  },
  {
   "cell_type": "markdown",
   "metadata": {},
   "source": [
    "### Coluna `income_type`"
   ]
  },
  {
   "cell_type": "code",
   "execution_count": 60,
   "metadata": {},
   "outputs": [
    {
     "name": "stdout",
     "output_type": "stream",
     "text": [
      "\n",
      "Valores ausentes 0\n",
      "Distibuição:\n"
     ]
    },
    {
     "data": {
      "text/html": [
       "<style  type=\"text/css\" >\n",
       "#T_97d2b_row0_col1{\n",
       "            width:  10em;\n",
       "             height:  80%;\n",
       "            background:  linear-gradient(90deg,#d65f5f 100.0%, transparent 100.0%);\n",
       "        }#T_97d2b_row1_col1{\n",
       "            width:  10em;\n",
       "             height:  80%;\n",
       "            background:  linear-gradient(90deg,#d65f5f 45.7%, transparent 45.7%);\n",
       "        }#T_97d2b_row2_col1{\n",
       "            width:  10em;\n",
       "             height:  80%;\n",
       "            background:  linear-gradient(90deg,#d65f5f 34.7%, transparent 34.7%);\n",
       "        }#T_97d2b_row3_col1{\n",
       "            width:  10em;\n",
       "             height:  80%;\n",
       "            background:  linear-gradient(90deg,#d65f5f 13.1%, transparent 13.1%);\n",
       "        }#T_97d2b_row4_col1,#T_97d2b_row5_col1{\n",
       "            width:  10em;\n",
       "             height:  80%;\n",
       "            background:  linear-gradient(90deg,#d65f5f 0.0%, transparent 0.0%);\n",
       "        }#T_97d2b_row6_col1,#T_97d2b_row7_col1{\n",
       "            width:  10em;\n",
       "             height:  80%;\n",
       "        }</style><table id=\"T_97d2b_\" ><thead>    <tr>        <th class=\"blank level0\" ></th>        <th class=\"col_heading level0 col0\" >income_type</th>        <th class=\"col_heading level0 col1\" >Total</th>        <th class=\"col_heading level0 col2\" >Percentagem</th>    </tr></thead><tbody>\n",
       "                <tr>\n",
       "                        <th id=\"T_97d2b_level0_row0\" class=\"row_heading level0 row0\" >0</th>\n",
       "                        <td id=\"T_97d2b_row0_col0\" class=\"data row0 col0\" >employee</td>\n",
       "                        <td id=\"T_97d2b_row0_col1\" class=\"data row0 col1\" >11119</td>\n",
       "                        <td id=\"T_97d2b_row0_col2\" class=\"data row0 col2\" >51.66%</td>\n",
       "            </tr>\n",
       "            <tr>\n",
       "                        <th id=\"T_97d2b_level0_row1\" class=\"row_heading level0 row1\" >1</th>\n",
       "                        <td id=\"T_97d2b_row1_col0\" class=\"data row1 col0\" >business</td>\n",
       "                        <td id=\"T_97d2b_row1_col1\" class=\"data row1 col1\" >5085</td>\n",
       "                        <td id=\"T_97d2b_row1_col2\" class=\"data row1 col2\" >23.62%</td>\n",
       "            </tr>\n",
       "            <tr>\n",
       "                        <th id=\"T_97d2b_level0_row2\" class=\"row_heading level0 row2\" >2</th>\n",
       "                        <td id=\"T_97d2b_row2_col0\" class=\"data row2 col0\" >retiree</td>\n",
       "                        <td id=\"T_97d2b_row2_col1\" class=\"data row2 col1\" >3856</td>\n",
       "                        <td id=\"T_97d2b_row2_col2\" class=\"data row2 col2\" >17.91%</td>\n",
       "            </tr>\n",
       "            <tr>\n",
       "                        <th id=\"T_97d2b_level0_row3\" class=\"row_heading level0 row3\" >3</th>\n",
       "                        <td id=\"T_97d2b_row3_col0\" class=\"data row3 col0\" >civil servant</td>\n",
       "                        <td id=\"T_97d2b_row3_col1\" class=\"data row3 col1\" >1459</td>\n",
       "                        <td id=\"T_97d2b_row3_col2\" class=\"data row3 col2\" >6.78%</td>\n",
       "            </tr>\n",
       "            <tr>\n",
       "                        <th id=\"T_97d2b_level0_row4\" class=\"row_heading level0 row4\" >4</th>\n",
       "                        <td id=\"T_97d2b_row4_col0\" class=\"data row4 col0\" >unemployed</td>\n",
       "                        <td id=\"T_97d2b_row4_col1\" class=\"data row4 col1\" >2</td>\n",
       "                        <td id=\"T_97d2b_row4_col2\" class=\"data row4 col2\" >0.01%</td>\n",
       "            </tr>\n",
       "            <tr>\n",
       "                        <th id=\"T_97d2b_level0_row5\" class=\"row_heading level0 row5\" >5</th>\n",
       "                        <td id=\"T_97d2b_row5_col0\" class=\"data row5 col0\" >entrepreneur</td>\n",
       "                        <td id=\"T_97d2b_row5_col1\" class=\"data row5 col1\" >2</td>\n",
       "                        <td id=\"T_97d2b_row5_col2\" class=\"data row5 col2\" >0.01%</td>\n",
       "            </tr>\n",
       "            <tr>\n",
       "                        <th id=\"T_97d2b_level0_row6\" class=\"row_heading level0 row6\" >6</th>\n",
       "                        <td id=\"T_97d2b_row6_col0\" class=\"data row6 col0\" >paternity / maternity leave</td>\n",
       "                        <td id=\"T_97d2b_row6_col1\" class=\"data row6 col1\" >1</td>\n",
       "                        <td id=\"T_97d2b_row6_col2\" class=\"data row6 col2\" >0.0%</td>\n",
       "            </tr>\n",
       "            <tr>\n",
       "                        <th id=\"T_97d2b_level0_row7\" class=\"row_heading level0 row7\" >7</th>\n",
       "                        <td id=\"T_97d2b_row7_col0\" class=\"data row7 col0\" >student</td>\n",
       "                        <td id=\"T_97d2b_row7_col1\" class=\"data row7 col1\" >1</td>\n",
       "                        <td id=\"T_97d2b_row7_col2\" class=\"data row7 col2\" >0.0%</td>\n",
       "            </tr>\n",
       "    </tbody></table>"
      ],
      "text/plain": [
       "<pandas.io.formats.style.Styler at 0x7f88bb004190>"
      ]
     },
     "execution_count": 60,
     "metadata": {},
     "output_type": "execute_result"
    }
   ],
   "source": [
    "# Vamos ver os valores na coluna\n",
    "\n",
    "col='income_type'\n",
    "\n",
    "print(f\"\\nValores ausentes {df[col].isnull().sum()}\")\n",
    "\n",
    "print(\"Distibuição:\")\n",
    "\n",
    "df_type_dist = ver_distribuicao(df, col)\n",
    "df_type_dist"
   ]
  },
  {
   "cell_type": "markdown",
   "metadata": {},
   "source": [
    "Tudo parece ok apesar da distribuição pouco uniforme, vamos de forma rápida ver também os valores para os tipos menos frequentes no nosso dataset."
   ]
  },
  {
   "cell_type": "code",
   "execution_count": 61,
   "metadata": {},
   "outputs": [
    {
     "data": {
      "text/html": [
       "<div>\n",
       "<style scoped>\n",
       "    .dataframe tbody tr th:only-of-type {\n",
       "        vertical-align: middle;\n",
       "    }\n",
       "\n",
       "    .dataframe tbody tr th {\n",
       "        vertical-align: top;\n",
       "    }\n",
       "\n",
       "    .dataframe thead th {\n",
       "        text-align: right;\n",
       "    }\n",
       "</style>\n",
       "<table border=\"1\" class=\"dataframe\">\n",
       "  <thead>\n",
       "    <tr style=\"text-align: right;\">\n",
       "      <th></th>\n",
       "      <th>income_type</th>\n",
       "      <th>Total</th>\n",
       "      <th>Percentagem</th>\n",
       "    </tr>\n",
       "  </thead>\n",
       "  <tbody>\n",
       "    <tr>\n",
       "      <th>0</th>\n",
       "      <td>employee</td>\n",
       "      <td>11119</td>\n",
       "      <td>51.66</td>\n",
       "    </tr>\n",
       "    <tr>\n",
       "      <th>1</th>\n",
       "      <td>business</td>\n",
       "      <td>5085</td>\n",
       "      <td>23.62</td>\n",
       "    </tr>\n",
       "    <tr>\n",
       "      <th>2</th>\n",
       "      <td>retiree</td>\n",
       "      <td>3856</td>\n",
       "      <td>17.91</td>\n",
       "    </tr>\n",
       "    <tr>\n",
       "      <th>3</th>\n",
       "      <td>civil servant</td>\n",
       "      <td>1459</td>\n",
       "      <td>6.78</td>\n",
       "    </tr>\n",
       "    <tr>\n",
       "      <th>4</th>\n",
       "      <td>unemployed</td>\n",
       "      <td>2</td>\n",
       "      <td>0.01</td>\n",
       "    </tr>\n",
       "    <tr>\n",
       "      <th>5</th>\n",
       "      <td>entrepreneur</td>\n",
       "      <td>2</td>\n",
       "      <td>0.01</td>\n",
       "    </tr>\n",
       "    <tr>\n",
       "      <th>6</th>\n",
       "      <td>paternity / maternity leave</td>\n",
       "      <td>1</td>\n",
       "      <td>0.00</td>\n",
       "    </tr>\n",
       "    <tr>\n",
       "      <th>7</th>\n",
       "      <td>student</td>\n",
       "      <td>1</td>\n",
       "      <td>0.00</td>\n",
       "    </tr>\n",
       "  </tbody>\n",
       "</table>\n",
       "</div>"
      ],
      "text/plain": [
       "                   income_type  Total  Percentagem\n",
       "0                     employee  11119        51.66\n",
       "1                     business   5085        23.62\n",
       "2                      retiree   3856        17.91\n",
       "3                civil servant   1459         6.78\n",
       "4                   unemployed      2         0.01\n",
       "5                 entrepreneur      2         0.01\n",
       "6  paternity / maternity leave      1         0.00\n",
       "7                      student      1         0.00"
      ]
     },
     "execution_count": 61,
     "metadata": {},
     "output_type": "execute_result"
    }
   ],
   "source": [
    "# Aproveitando a funcao que retorna o dataframe da distribuicao,\n",
    "#posso obter os valores menos frequentes, para isso basta obter o type deste dataframe de acordo a baixa percentagem ( < 1)\n",
    "\n",
    "#Como é uma string e termina com %, irei primeiro remover o ultimo caracter da string e converter para float\n",
    "\n",
    "# A funcao ver_distribuicao retorna um objecto do tipo (Styler) é necessário aceder os dados do tipo dataFrame\n",
    "df_type_dist = df_type_dist.data\n",
    "\n",
    "df_type_dist['Percentagem'] = df_type_dist['Percentagem'].str[:-1].astype(float)\n",
    "\n",
    "df_type_dist"
   ]
  },
  {
   "cell_type": "code",
   "execution_count": 62,
   "metadata": {},
   "outputs": [
    {
     "data": {
      "text/html": [
       "<div>\n",
       "<style scoped>\n",
       "    .dataframe tbody tr th:only-of-type {\n",
       "        vertical-align: middle;\n",
       "    }\n",
       "\n",
       "    .dataframe tbody tr th {\n",
       "        vertical-align: top;\n",
       "    }\n",
       "\n",
       "    .dataframe thead th {\n",
       "        text-align: right;\n",
       "    }\n",
       "</style>\n",
       "<table border=\"1\" class=\"dataframe\">\n",
       "  <thead>\n",
       "    <tr style=\"text-align: right;\">\n",
       "      <th></th>\n",
       "      <th>income_type</th>\n",
       "      <th>Total</th>\n",
       "      <th>Percentagem</th>\n",
       "    </tr>\n",
       "  </thead>\n",
       "  <tbody>\n",
       "    <tr>\n",
       "      <th>4</th>\n",
       "      <td>unemployed</td>\n",
       "      <td>2</td>\n",
       "      <td>0.01</td>\n",
       "    </tr>\n",
       "    <tr>\n",
       "      <th>5</th>\n",
       "      <td>entrepreneur</td>\n",
       "      <td>2</td>\n",
       "      <td>0.01</td>\n",
       "    </tr>\n",
       "    <tr>\n",
       "      <th>6</th>\n",
       "      <td>paternity / maternity leave</td>\n",
       "      <td>1</td>\n",
       "      <td>0.00</td>\n",
       "    </tr>\n",
       "    <tr>\n",
       "      <th>7</th>\n",
       "      <td>student</td>\n",
       "      <td>1</td>\n",
       "      <td>0.00</td>\n",
       "    </tr>\n",
       "  </tbody>\n",
       "</table>\n",
       "</div>"
      ],
      "text/plain": [
       "                   income_type  Total  Percentagem\n",
       "4                   unemployed      2         0.01\n",
       "5                 entrepreneur      2         0.01\n",
       "6  paternity / maternity leave      1         0.00\n",
       "7                      student      1         0.00"
      ]
     },
     "execution_count": 62,
     "metadata": {},
     "output_type": "execute_result"
    }
   ],
   "source": [
    "#Filtrar os valores com a percentagem abaixo de 1\n",
    "df_type_dist = df_type_dist [ df_type_dist['Percentagem'] < 1.0 ]\n",
    "df_type_dist"
   ]
  },
  {
   "cell_type": "code",
   "execution_count": 63,
   "metadata": {
    "scrolled": true
   },
   "outputs": [
    {
     "data": {
      "text/html": [
       "<div>\n",
       "<style scoped>\n",
       "    .dataframe tbody tr th:only-of-type {\n",
       "        vertical-align: middle;\n",
       "    }\n",
       "\n",
       "    .dataframe tbody tr th {\n",
       "        vertical-align: top;\n",
       "    }\n",
       "\n",
       "    .dataframe thead th {\n",
       "        text-align: right;\n",
       "    }\n",
       "</style>\n",
       "<table border=\"1\" class=\"dataframe\">\n",
       "  <thead>\n",
       "    <tr style=\"text-align: right;\">\n",
       "      <th></th>\n",
       "      <th>children</th>\n",
       "      <th>days_employed</th>\n",
       "      <th>dob_years</th>\n",
       "      <th>education</th>\n",
       "      <th>education_id</th>\n",
       "      <th>family_status</th>\n",
       "      <th>family_status_id</th>\n",
       "      <th>gender</th>\n",
       "      <th>income_type</th>\n",
       "      <th>debt</th>\n",
       "      <th>total_income</th>\n",
       "      <th>purpose</th>\n",
       "    </tr>\n",
       "  </thead>\n",
       "  <tbody>\n",
       "    <tr>\n",
       "      <th>3133</th>\n",
       "      <td>1</td>\n",
       "      <td>337524.466835</td>\n",
       "      <td>31</td>\n",
       "      <td>secondary education</td>\n",
       "      <td>1</td>\n",
       "      <td>married</td>\n",
       "      <td>0</td>\n",
       "      <td>M</td>\n",
       "      <td>unemployed</td>\n",
       "      <td>1</td>\n",
       "      <td>9593.119</td>\n",
       "      <td>buying property for renting out</td>\n",
       "    </tr>\n",
       "    <tr>\n",
       "      <th>5936</th>\n",
       "      <td>0</td>\n",
       "      <td>NaN</td>\n",
       "      <td>58</td>\n",
       "      <td>bachelor's degree</td>\n",
       "      <td>0</td>\n",
       "      <td>married</td>\n",
       "      <td>0</td>\n",
       "      <td>M</td>\n",
       "      <td>entrepreneur</td>\n",
       "      <td>0</td>\n",
       "      <td>NaN</td>\n",
       "      <td>buy residential real estate</td>\n",
       "    </tr>\n",
       "    <tr>\n",
       "      <th>9410</th>\n",
       "      <td>0</td>\n",
       "      <td>578.751554</td>\n",
       "      <td>22</td>\n",
       "      <td>bachelor's degree</td>\n",
       "      <td>0</td>\n",
       "      <td>unmarried</td>\n",
       "      <td>4</td>\n",
       "      <td>M</td>\n",
       "      <td>student</td>\n",
       "      <td>0</td>\n",
       "      <td>15712.260</td>\n",
       "      <td>construction of own property</td>\n",
       "    </tr>\n",
       "    <tr>\n",
       "      <th>14798</th>\n",
       "      <td>0</td>\n",
       "      <td>395302.838654</td>\n",
       "      <td>45</td>\n",
       "      <td>bachelor's degree</td>\n",
       "      <td>0</td>\n",
       "      <td>civil partnership</td>\n",
       "      <td>1</td>\n",
       "      <td>F</td>\n",
       "      <td>unemployed</td>\n",
       "      <td>0</td>\n",
       "      <td>32435.602</td>\n",
       "      <td>housing renovation</td>\n",
       "    </tr>\n",
       "    <tr>\n",
       "      <th>18697</th>\n",
       "      <td>0</td>\n",
       "      <td>520.848083</td>\n",
       "      <td>27</td>\n",
       "      <td>bachelor's degree</td>\n",
       "      <td>0</td>\n",
       "      <td>civil partnership</td>\n",
       "      <td>1</td>\n",
       "      <td>F</td>\n",
       "      <td>entrepreneur</td>\n",
       "      <td>0</td>\n",
       "      <td>79866.103</td>\n",
       "      <td>having a wedding</td>\n",
       "    </tr>\n",
       "    <tr>\n",
       "      <th>20845</th>\n",
       "      <td>2</td>\n",
       "      <td>3296.759962</td>\n",
       "      <td>39</td>\n",
       "      <td>secondary education</td>\n",
       "      <td>1</td>\n",
       "      <td>married</td>\n",
       "      <td>0</td>\n",
       "      <td>F</td>\n",
       "      <td>paternity / maternity leave</td>\n",
       "      <td>1</td>\n",
       "      <td>8612.661</td>\n",
       "      <td>car</td>\n",
       "    </tr>\n",
       "  </tbody>\n",
       "</table>\n",
       "</div>"
      ],
      "text/plain": [
       "       children  days_employed  dob_years            education  education_id  \\\n",
       "3133          1  337524.466835         31  secondary education             1   \n",
       "5936          0            NaN         58    bachelor's degree             0   \n",
       "9410          0     578.751554         22    bachelor's degree             0   \n",
       "14798         0  395302.838654         45    bachelor's degree             0   \n",
       "18697         0     520.848083         27    bachelor's degree             0   \n",
       "20845         2    3296.759962         39  secondary education             1   \n",
       "\n",
       "           family_status  family_status_id gender  \\\n",
       "3133             married                 0      M   \n",
       "5936             married                 0      M   \n",
       "9410           unmarried                 4      M   \n",
       "14798  civil partnership                 1      F   \n",
       "18697  civil partnership                 1      F   \n",
       "20845            married                 0      F   \n",
       "\n",
       "                       income_type  debt  total_income  \\\n",
       "3133                    unemployed     1      9593.119   \n",
       "5936                  entrepreneur     0           NaN   \n",
       "9410                       student     0     15712.260   \n",
       "14798                   unemployed     0     32435.602   \n",
       "18697                 entrepreneur     0     79866.103   \n",
       "20845  paternity / maternity leave     1      8612.661   \n",
       "\n",
       "                               purpose  \n",
       "3133   buying property for renting out  \n",
       "5936       buy residential real estate  \n",
       "9410      construction of own property  \n",
       "14798               housing renovation  \n",
       "18697                 having a wedding  \n",
       "20845                              car  "
      ]
     },
     "execution_count": 63,
     "metadata": {},
     "output_type": "execute_result"
    }
   ],
   "source": [
    "#Para cada income_type deste dataframe auxiliar e mostrar os registos no df principal\n",
    "\n",
    "#Depois da tentativa abaixo falhada \n",
    "#df [ df['income_type'] in df_type_dist['income_type'].values.tolist() ]\n",
    "\n",
    "#Foi descoberto o metodo magico do dataframe .isin()\n",
    "df [ df['income_type'].isin( df_type_dist['income_type'].values.tolist() ) ]"
   ]
  },
  {
   "cell_type": "markdown",
   "metadata": {},
   "source": [
    "Tudo parece ok mesmo para os valores pouco distribuidos."
   ]
  },
  {
   "cell_type": "markdown",
   "metadata": {},
   "source": [
    "<div class=\"alert alert-block alert-success\">\n",
    "<b>Comentário do corretor</b> <a class=\"tocSkip\"></a>\n",
    "\n",
    "Ok!\n",
    "\n",
    "</div>"
   ]
  },
  {
   "cell_type": "code",
   "execution_count": 64,
   "metadata": {},
   "outputs": [],
   "source": [
    "# Aborde os valores problemáticos, se existirem\n",
    "#Sem valores problematicos"
   ]
  },
  {
   "cell_type": "code",
   "execution_count": 65,
   "metadata": {},
   "outputs": [],
   "source": [
    "# Verifique o resultado - certifique-se de que está corrigido\n",
    "#Sem correcoes necessarias"
   ]
  },
  {
   "cell_type": "markdown",
   "metadata": {},
   "source": [
    "### Verificação de duplicatas"
   ]
  },
  {
   "cell_type": "markdown",
   "metadata": {},
   "source": [
    "#### Verificação para a linha completa"
   ]
  },
  {
   "cell_type": "code",
   "execution_count": 66,
   "metadata": {},
   "outputs": [
    {
     "data": {
      "text/plain": [
       "71"
      ]
     },
     "execution_count": 66,
     "metadata": {},
     "output_type": "execute_result"
    }
   ],
   "source": [
    "# Verificar duplicatas\n",
    "\n",
    "total_duplicados = df.duplicated().sum()\n",
    "total_duplicados"
   ]
  },
  {
   "cell_type": "markdown",
   "metadata": {},
   "source": [
    "Preliminarmente verificamos que temos **71 linhas duplicadas**, vamos olhar um pouco registos duplicados"
   ]
  },
  {
   "cell_type": "code",
   "execution_count": 67,
   "metadata": {},
   "outputs": [
    {
     "data": {
      "text/html": [
       "<div>\n",
       "<style scoped>\n",
       "    .dataframe tbody tr th:only-of-type {\n",
       "        vertical-align: middle;\n",
       "    }\n",
       "\n",
       "    .dataframe tbody tr th {\n",
       "        vertical-align: top;\n",
       "    }\n",
       "\n",
       "    .dataframe thead th {\n",
       "        text-align: right;\n",
       "    }\n",
       "</style>\n",
       "<table border=\"1\" class=\"dataframe\">\n",
       "  <thead>\n",
       "    <tr style=\"text-align: right;\">\n",
       "      <th></th>\n",
       "      <th>children</th>\n",
       "      <th>days_employed</th>\n",
       "      <th>dob_years</th>\n",
       "      <th>education</th>\n",
       "      <th>education_id</th>\n",
       "      <th>family_status</th>\n",
       "      <th>family_status_id</th>\n",
       "      <th>gender</th>\n",
       "      <th>income_type</th>\n",
       "      <th>debt</th>\n",
       "      <th>total_income</th>\n",
       "      <th>purpose</th>\n",
       "    </tr>\n",
       "  </thead>\n",
       "  <tbody>\n",
       "    <tr>\n",
       "      <th>2849</th>\n",
       "      <td>0</td>\n",
       "      <td>NaN</td>\n",
       "      <td>41</td>\n",
       "      <td>secondary education</td>\n",
       "      <td>1</td>\n",
       "      <td>married</td>\n",
       "      <td>0</td>\n",
       "      <td>F</td>\n",
       "      <td>employee</td>\n",
       "      <td>0</td>\n",
       "      <td>NaN</td>\n",
       "      <td>purchase of the house for my family</td>\n",
       "    </tr>\n",
       "    <tr>\n",
       "      <th>3290</th>\n",
       "      <td>0</td>\n",
       "      <td>NaN</td>\n",
       "      <td>58</td>\n",
       "      <td>secondary education</td>\n",
       "      <td>1</td>\n",
       "      <td>civil partnership</td>\n",
       "      <td>1</td>\n",
       "      <td>F</td>\n",
       "      <td>retiree</td>\n",
       "      <td>0</td>\n",
       "      <td>NaN</td>\n",
       "      <td>to have a wedding</td>\n",
       "    </tr>\n",
       "    <tr>\n",
       "      <th>4182</th>\n",
       "      <td>1</td>\n",
       "      <td>NaN</td>\n",
       "      <td>34</td>\n",
       "      <td>bachelor's degree</td>\n",
       "      <td>0</td>\n",
       "      <td>civil partnership</td>\n",
       "      <td>1</td>\n",
       "      <td>F</td>\n",
       "      <td>employee</td>\n",
       "      <td>0</td>\n",
       "      <td>NaN</td>\n",
       "      <td>wedding ceremony</td>\n",
       "    </tr>\n",
       "    <tr>\n",
       "      <th>4851</th>\n",
       "      <td>0</td>\n",
       "      <td>NaN</td>\n",
       "      <td>60</td>\n",
       "      <td>secondary education</td>\n",
       "      <td>1</td>\n",
       "      <td>civil partnership</td>\n",
       "      <td>1</td>\n",
       "      <td>F</td>\n",
       "      <td>retiree</td>\n",
       "      <td>0</td>\n",
       "      <td>NaN</td>\n",
       "      <td>wedding ceremony</td>\n",
       "    </tr>\n",
       "    <tr>\n",
       "      <th>5557</th>\n",
       "      <td>0</td>\n",
       "      <td>NaN</td>\n",
       "      <td>58</td>\n",
       "      <td>secondary education</td>\n",
       "      <td>1</td>\n",
       "      <td>civil partnership</td>\n",
       "      <td>1</td>\n",
       "      <td>F</td>\n",
       "      <td>retiree</td>\n",
       "      <td>0</td>\n",
       "      <td>NaN</td>\n",
       "      <td>to have a wedding</td>\n",
       "    </tr>\n",
       "    <tr>\n",
       "      <th>...</th>\n",
       "      <td>...</td>\n",
       "      <td>...</td>\n",
       "      <td>...</td>\n",
       "      <td>...</td>\n",
       "      <td>...</td>\n",
       "      <td>...</td>\n",
       "      <td>...</td>\n",
       "      <td>...</td>\n",
       "      <td>...</td>\n",
       "      <td>...</td>\n",
       "      <td>...</td>\n",
       "      <td>...</td>\n",
       "    </tr>\n",
       "    <tr>\n",
       "      <th>20702</th>\n",
       "      <td>0</td>\n",
       "      <td>NaN</td>\n",
       "      <td>64</td>\n",
       "      <td>secondary education</td>\n",
       "      <td>1</td>\n",
       "      <td>married</td>\n",
       "      <td>0</td>\n",
       "      <td>F</td>\n",
       "      <td>retiree</td>\n",
       "      <td>0</td>\n",
       "      <td>NaN</td>\n",
       "      <td>supplementary education</td>\n",
       "    </tr>\n",
       "    <tr>\n",
       "      <th>21032</th>\n",
       "      <td>0</td>\n",
       "      <td>NaN</td>\n",
       "      <td>60</td>\n",
       "      <td>secondary education</td>\n",
       "      <td>1</td>\n",
       "      <td>married</td>\n",
       "      <td>0</td>\n",
       "      <td>F</td>\n",
       "      <td>retiree</td>\n",
       "      <td>0</td>\n",
       "      <td>NaN</td>\n",
       "      <td>to become educated</td>\n",
       "    </tr>\n",
       "    <tr>\n",
       "      <th>21132</th>\n",
       "      <td>0</td>\n",
       "      <td>NaN</td>\n",
       "      <td>47</td>\n",
       "      <td>secondary education</td>\n",
       "      <td>1</td>\n",
       "      <td>married</td>\n",
       "      <td>0</td>\n",
       "      <td>F</td>\n",
       "      <td>employee</td>\n",
       "      <td>0</td>\n",
       "      <td>NaN</td>\n",
       "      <td>housing renovation</td>\n",
       "    </tr>\n",
       "    <tr>\n",
       "      <th>21281</th>\n",
       "      <td>1</td>\n",
       "      <td>NaN</td>\n",
       "      <td>30</td>\n",
       "      <td>bachelor's degree</td>\n",
       "      <td>0</td>\n",
       "      <td>married</td>\n",
       "      <td>0</td>\n",
       "      <td>F</td>\n",
       "      <td>employee</td>\n",
       "      <td>0</td>\n",
       "      <td>NaN</td>\n",
       "      <td>buy commercial real estate</td>\n",
       "    </tr>\n",
       "    <tr>\n",
       "      <th>21415</th>\n",
       "      <td>0</td>\n",
       "      <td>NaN</td>\n",
       "      <td>54</td>\n",
       "      <td>secondary education</td>\n",
       "      <td>1</td>\n",
       "      <td>married</td>\n",
       "      <td>0</td>\n",
       "      <td>F</td>\n",
       "      <td>retiree</td>\n",
       "      <td>0</td>\n",
       "      <td>NaN</td>\n",
       "      <td>housing transactions</td>\n",
       "    </tr>\n",
       "  </tbody>\n",
       "</table>\n",
       "<p>71 rows × 12 columns</p>\n",
       "</div>"
      ],
      "text/plain": [
       "       children  days_employed  dob_years            education  education_id  \\\n",
       "2849          0            NaN         41  secondary education             1   \n",
       "3290          0            NaN         58  secondary education             1   \n",
       "4182          1            NaN         34    bachelor's degree             0   \n",
       "4851          0            NaN         60  secondary education             1   \n",
       "5557          0            NaN         58  secondary education             1   \n",
       "...         ...            ...        ...                  ...           ...   \n",
       "20702         0            NaN         64  secondary education             1   \n",
       "21032         0            NaN         60  secondary education             1   \n",
       "21132         0            NaN         47  secondary education             1   \n",
       "21281         1            NaN         30    bachelor's degree             0   \n",
       "21415         0            NaN         54  secondary education             1   \n",
       "\n",
       "           family_status  family_status_id gender income_type  debt  \\\n",
       "2849             married                 0      F    employee     0   \n",
       "3290   civil partnership                 1      F     retiree     0   \n",
       "4182   civil partnership                 1      F    employee     0   \n",
       "4851   civil partnership                 1      F     retiree     0   \n",
       "5557   civil partnership                 1      F     retiree     0   \n",
       "...                  ...               ...    ...         ...   ...   \n",
       "20702            married                 0      F     retiree     0   \n",
       "21032            married                 0      F     retiree     0   \n",
       "21132            married                 0      F    employee     0   \n",
       "21281            married                 0      F    employee     0   \n",
       "21415            married                 0      F     retiree     0   \n",
       "\n",
       "       total_income                              purpose  \n",
       "2849            NaN  purchase of the house for my family  \n",
       "3290            NaN                    to have a wedding  \n",
       "4182            NaN                     wedding ceremony  \n",
       "4851            NaN                     wedding ceremony  \n",
       "5557            NaN                    to have a wedding  \n",
       "...             ...                                  ...  \n",
       "20702           NaN              supplementary education  \n",
       "21032           NaN                   to become educated  \n",
       "21132           NaN                   housing renovation  \n",
       "21281           NaN           buy commercial real estate  \n",
       "21415           NaN                 housing transactions  \n",
       "\n",
       "[71 rows x 12 columns]"
      ]
     },
     "execution_count": 67,
     "metadata": {},
     "output_type": "execute_result"
    }
   ],
   "source": [
    "df [ df.duplicated() ]"
   ]
  },
  {
   "cell_type": "markdown",
   "metadata": {},
   "source": [
    "Se usarmos o parametro `keep=False` poderemos ver o **registo original + o registo(s) duplicado** para melhor visualização do resultado, no entanto, uma vez que verificamos todas as colunas certamente não há erro na informação acima. "
   ]
  },
  {
   "cell_type": "code",
   "execution_count": 68,
   "metadata": {},
   "outputs": [
    {
     "data": {
      "text/html": [
       "<div>\n",
       "<style scoped>\n",
       "    .dataframe tbody tr th:only-of-type {\n",
       "        vertical-align: middle;\n",
       "    }\n",
       "\n",
       "    .dataframe tbody tr th {\n",
       "        vertical-align: top;\n",
       "    }\n",
       "\n",
       "    .dataframe thead th {\n",
       "        text-align: right;\n",
       "    }\n",
       "</style>\n",
       "<table border=\"1\" class=\"dataframe\">\n",
       "  <thead>\n",
       "    <tr style=\"text-align: right;\">\n",
       "      <th></th>\n",
       "      <th>children</th>\n",
       "      <th>days_employed</th>\n",
       "      <th>dob_years</th>\n",
       "      <th>education</th>\n",
       "      <th>education_id</th>\n",
       "      <th>family_status</th>\n",
       "      <th>family_status_id</th>\n",
       "      <th>gender</th>\n",
       "      <th>income_type</th>\n",
       "      <th>debt</th>\n",
       "      <th>total_income</th>\n",
       "      <th>purpose</th>\n",
       "    </tr>\n",
       "  </thead>\n",
       "  <tbody>\n",
       "    <tr>\n",
       "      <th>15892</th>\n",
       "      <td>0</td>\n",
       "      <td>NaN</td>\n",
       "      <td>23</td>\n",
       "      <td>secondary education</td>\n",
       "      <td>1</td>\n",
       "      <td>unmarried</td>\n",
       "      <td>4</td>\n",
       "      <td>F</td>\n",
       "      <td>employee</td>\n",
       "      <td>0</td>\n",
       "      <td>NaN</td>\n",
       "      <td>second-hand car purchase</td>\n",
       "    </tr>\n",
       "    <tr>\n",
       "      <th>19321</th>\n",
       "      <td>0</td>\n",
       "      <td>NaN</td>\n",
       "      <td>23</td>\n",
       "      <td>secondary education</td>\n",
       "      <td>1</td>\n",
       "      <td>unmarried</td>\n",
       "      <td>4</td>\n",
       "      <td>F</td>\n",
       "      <td>employee</td>\n",
       "      <td>0</td>\n",
       "      <td>NaN</td>\n",
       "      <td>second-hand car purchase</td>\n",
       "    </tr>\n",
       "    <tr>\n",
       "      <th>8853</th>\n",
       "      <td>1</td>\n",
       "      <td>NaN</td>\n",
       "      <td>23</td>\n",
       "      <td>secondary education</td>\n",
       "      <td>1</td>\n",
       "      <td>civil partnership</td>\n",
       "      <td>1</td>\n",
       "      <td>F</td>\n",
       "      <td>employee</td>\n",
       "      <td>0</td>\n",
       "      <td>NaN</td>\n",
       "      <td>to have a wedding</td>\n",
       "    </tr>\n",
       "    <tr>\n",
       "      <th>20297</th>\n",
       "      <td>1</td>\n",
       "      <td>NaN</td>\n",
       "      <td>23</td>\n",
       "      <td>secondary education</td>\n",
       "      <td>1</td>\n",
       "      <td>civil partnership</td>\n",
       "      <td>1</td>\n",
       "      <td>F</td>\n",
       "      <td>employee</td>\n",
       "      <td>0</td>\n",
       "      <td>NaN</td>\n",
       "      <td>to have a wedding</td>\n",
       "    </tr>\n",
       "    <tr>\n",
       "      <th>3452</th>\n",
       "      <td>0</td>\n",
       "      <td>NaN</td>\n",
       "      <td>29</td>\n",
       "      <td>bachelor's degree</td>\n",
       "      <td>0</td>\n",
       "      <td>married</td>\n",
       "      <td>0</td>\n",
       "      <td>M</td>\n",
       "      <td>employee</td>\n",
       "      <td>0</td>\n",
       "      <td>NaN</td>\n",
       "      <td>buy residential real estate</td>\n",
       "    </tr>\n",
       "    <tr>\n",
       "      <th>18328</th>\n",
       "      <td>0</td>\n",
       "      <td>NaN</td>\n",
       "      <td>29</td>\n",
       "      <td>bachelor's degree</td>\n",
       "      <td>0</td>\n",
       "      <td>married</td>\n",
       "      <td>0</td>\n",
       "      <td>M</td>\n",
       "      <td>employee</td>\n",
       "      <td>0</td>\n",
       "      <td>NaN</td>\n",
       "      <td>buy residential real estate</td>\n",
       "    </tr>\n",
       "    <tr>\n",
       "      <th>4216</th>\n",
       "      <td>0</td>\n",
       "      <td>NaN</td>\n",
       "      <td>30</td>\n",
       "      <td>secondary education</td>\n",
       "      <td>1</td>\n",
       "      <td>married</td>\n",
       "      <td>0</td>\n",
       "      <td>M</td>\n",
       "      <td>employee</td>\n",
       "      <td>0</td>\n",
       "      <td>NaN</td>\n",
       "      <td>building a real estate</td>\n",
       "    </tr>\n",
       "    <tr>\n",
       "      <th>6312</th>\n",
       "      <td>0</td>\n",
       "      <td>NaN</td>\n",
       "      <td>30</td>\n",
       "      <td>secondary education</td>\n",
       "      <td>1</td>\n",
       "      <td>married</td>\n",
       "      <td>0</td>\n",
       "      <td>M</td>\n",
       "      <td>employee</td>\n",
       "      <td>0</td>\n",
       "      <td>NaN</td>\n",
       "      <td>building a real estate</td>\n",
       "    </tr>\n",
       "    <tr>\n",
       "      <th>8629</th>\n",
       "      <td>1</td>\n",
       "      <td>NaN</td>\n",
       "      <td>30</td>\n",
       "      <td>bachelor's degree</td>\n",
       "      <td>0</td>\n",
       "      <td>married</td>\n",
       "      <td>0</td>\n",
       "      <td>F</td>\n",
       "      <td>employee</td>\n",
       "      <td>0</td>\n",
       "      <td>NaN</td>\n",
       "      <td>buy commercial real estate</td>\n",
       "    </tr>\n",
       "    <tr>\n",
       "      <th>21281</th>\n",
       "      <td>1</td>\n",
       "      <td>NaN</td>\n",
       "      <td>30</td>\n",
       "      <td>bachelor's degree</td>\n",
       "      <td>0</td>\n",
       "      <td>married</td>\n",
       "      <td>0</td>\n",
       "      <td>F</td>\n",
       "      <td>employee</td>\n",
       "      <td>0</td>\n",
       "      <td>NaN</td>\n",
       "      <td>buy commercial real estate</td>\n",
       "    </tr>\n",
       "    <tr>\n",
       "      <th>680</th>\n",
       "      <td>1</td>\n",
       "      <td>NaN</td>\n",
       "      <td>30</td>\n",
       "      <td>bachelor's degree</td>\n",
       "      <td>0</td>\n",
       "      <td>married</td>\n",
       "      <td>0</td>\n",
       "      <td>F</td>\n",
       "      <td>civil servant</td>\n",
       "      <td>0</td>\n",
       "      <td>NaN</td>\n",
       "      <td>purchase of the house for my family</td>\n",
       "    </tr>\n",
       "    <tr>\n",
       "      <th>18349</th>\n",
       "      <td>1</td>\n",
       "      <td>NaN</td>\n",
       "      <td>30</td>\n",
       "      <td>bachelor's degree</td>\n",
       "      <td>0</td>\n",
       "      <td>married</td>\n",
       "      <td>0</td>\n",
       "      <td>F</td>\n",
       "      <td>civil servant</td>\n",
       "      <td>0</td>\n",
       "      <td>NaN</td>\n",
       "      <td>purchase of the house for my family</td>\n",
       "    </tr>\n",
       "    <tr>\n",
       "      <th>8490</th>\n",
       "      <td>1</td>\n",
       "      <td>NaN</td>\n",
       "      <td>31</td>\n",
       "      <td>secondary education</td>\n",
       "      <td>1</td>\n",
       "      <td>married</td>\n",
       "      <td>0</td>\n",
       "      <td>F</td>\n",
       "      <td>business</td>\n",
       "      <td>0</td>\n",
       "      <td>NaN</td>\n",
       "      <td>purchase of the house</td>\n",
       "    </tr>\n",
       "  </tbody>\n",
       "</table>\n",
       "</div>"
      ],
      "text/plain": [
       "       children  days_employed  dob_years            education  education_id  \\\n",
       "15892         0            NaN         23  secondary education             1   \n",
       "19321         0            NaN         23  secondary education             1   \n",
       "8853          1            NaN         23  secondary education             1   \n",
       "20297         1            NaN         23  secondary education             1   \n",
       "3452          0            NaN         29    bachelor's degree             0   \n",
       "18328         0            NaN         29    bachelor's degree             0   \n",
       "4216          0            NaN         30  secondary education             1   \n",
       "6312          0            NaN         30  secondary education             1   \n",
       "8629          1            NaN         30    bachelor's degree             0   \n",
       "21281         1            NaN         30    bachelor's degree             0   \n",
       "680           1            NaN         30    bachelor's degree             0   \n",
       "18349         1            NaN         30    bachelor's degree             0   \n",
       "8490          1            NaN         31  secondary education             1   \n",
       "\n",
       "           family_status  family_status_id gender    income_type  debt  \\\n",
       "15892          unmarried                 4      F       employee     0   \n",
       "19321          unmarried                 4      F       employee     0   \n",
       "8853   civil partnership                 1      F       employee     0   \n",
       "20297  civil partnership                 1      F       employee     0   \n",
       "3452             married                 0      M       employee     0   \n",
       "18328            married                 0      M       employee     0   \n",
       "4216             married                 0      M       employee     0   \n",
       "6312             married                 0      M       employee     0   \n",
       "8629             married                 0      F       employee     0   \n",
       "21281            married                 0      F       employee     0   \n",
       "680              married                 0      F  civil servant     0   \n",
       "18349            married                 0      F  civil servant     0   \n",
       "8490             married                 0      F       business     0   \n",
       "\n",
       "       total_income                              purpose  \n",
       "15892           NaN             second-hand car purchase  \n",
       "19321           NaN             second-hand car purchase  \n",
       "8853            NaN                    to have a wedding  \n",
       "20297           NaN                    to have a wedding  \n",
       "3452            NaN          buy residential real estate  \n",
       "18328           NaN          buy residential real estate  \n",
       "4216            NaN               building a real estate  \n",
       "6312            NaN               building a real estate  \n",
       "8629            NaN           buy commercial real estate  \n",
       "21281           NaN           buy commercial real estate  \n",
       "680             NaN  purchase of the house for my family  \n",
       "18349           NaN  purchase of the house for my family  \n",
       "8490            NaN                purchase of the house  "
      ]
     },
     "execution_count": 68,
     "metadata": {},
     "output_type": "execute_result"
    }
   ],
   "source": [
    "#Sem a ordenação de alguma coluna os registos ficam espalhados pelo dataframe\n",
    "amostra_duplicados = df [ df.duplicated(keep=False) ].sort_values(['dob_years','purpose']).head(13)\n",
    "amostra_duplicados"
   ]
  },
  {
   "cell_type": "markdown",
   "metadata": {},
   "source": [
    "Por não termos um identificador unico para cada linha e não são muitos registos duplicados podemos acreditar que as linhas são de facto duplicadas, sem o id, a questão que encontramos é: *Qual a probabilidade de haver **2 clientes** <font color=blue>com 30 anos, mesmo nivel de educação, mesmo estado civil, mesmo numero de filhos e principalmente mesmo objectivo para aquisição do credito ?</font>*\n",
    "\n",
    "Certamente não é impossivel, mas pela amostra ser pequena iremos considerar duplicados e criar um esforço colectivo com os restantes colegas para conseguirmos ter identificadores unicos para cada cliente no futuro."
   ]
  },
  {
   "cell_type": "code",
   "execution_count": 69,
   "metadata": {},
   "outputs": [],
   "source": [
    "# Aborde as duplicatas, se existirem"
   ]
  },
  {
   "cell_type": "markdown",
   "metadata": {},
   "source": [
    "#### Remoção dos duplicados e criar novas indices para o dataframe"
   ]
  },
  {
   "cell_type": "code",
   "execution_count": 70,
   "metadata": {},
   "outputs": [],
   "source": [
    "df = df.drop_duplicates().reset_index(drop=True)"
   ]
  },
  {
   "cell_type": "code",
   "execution_count": 71,
   "metadata": {},
   "outputs": [
    {
     "name": "stdout",
     "output_type": "stream",
     "text": [
      " Total de duplicados depois da remoção: 0\n"
     ]
    }
   ],
   "source": [
    "# Última verificação se temos duplicatas\n",
    "print( f' Total de duplicados depois da remoção: {df.duplicated().sum()}')"
   ]
  },
  {
   "cell_type": "markdown",
   "metadata": {},
   "source": [
    "<div class=\"alert alert-block alert-success\">\n",
    "<b>Comentário do corretor</b> <a class=\"tocSkip\"></a>\n",
    "\n",
    "Remoção de duplicatas bem realizada!\n",
    "\n",
    "</div>"
   ]
  },
  {
   "cell_type": "code",
   "execution_count": 72,
   "metadata": {},
   "outputs": [],
   "source": [
    "#Verifique o tamanho do conjunto de dados que você tem agora após suas primeiras manipulações com ele"
   ]
  },
  {
   "cell_type": "markdown",
   "metadata": {},
   "source": [
    "Felizmente no inicio do processamento gravamos o total de linhas do dataframe na variavel `total_linhas_df_orig` logo [após a leitura do csv](#linhasDfOriginal)\n",
    "\n",
    "Sendo assim, podemos fazer uma verificação com 99.9% de precisão sobre o tamanho actual do conjunto de dados\n",
    "\n"
   ]
  },
  {
   "cell_type": "code",
   "execution_count": 73,
   "metadata": {},
   "outputs": [
    {
     "name": "stdout",
     "output_type": "stream",
     "text": [
      "O dataset actual tem o correcto numero de linhas > 21525 - 71 = 21454\n"
     ]
    }
   ],
   "source": [
    "if total_linhas_df_orig - total_duplicados != len(df):\n",
    "    print('ALGO DE ERRADO ACONTECEU NA REMOCAO DE DUPLICADOS')\n",
    "else:\n",
    "    print(f'O dataset actual tem o correcto numero de linhas > {total_linhas_df_orig} - {total_duplicados} = {len(df)}')"
   ]
  },
  {
   "cell_type": "markdown",
   "metadata": {},
   "source": [
    "[Descreva seu novo conjunto de dados: diga brevemente o que mudou e qual é a porcentagem das alterações, se houver.]\n"
   ]
  },
  {
   "cell_type": "code",
   "execution_count": 74,
   "metadata": {},
   "outputs": [
    {
     "data": {
      "text/plain": [
       "0.32984901277583845"
      ]
     },
     "execution_count": 74,
     "metadata": {},
     "output_type": "execute_result"
    }
   ],
   "source": [
    "100 - (len(df) / total_linhas_df_orig) * 100"
   ]
  },
  {
   "cell_type": "markdown",
   "metadata": {},
   "source": [
    "Podemos informar que os registos duplicados representam apenas **0.32%** dos dados e que não deve impactar as analises futuras"
   ]
  },
  {
   "cell_type": "markdown",
   "metadata": {},
   "source": [
    "## Trabalhando com valores ausentes\n",
    "\n",
    "<a id=\"trabalhandoAusentes\"></a>"
   ]
  },
  {
   "cell_type": "markdown",
   "metadata": {},
   "source": [
    "Voltando ao tema dos valores ausentes, ja verificamos [mais acima](#confirmAusentes) de facto que apenas duas colunas possuem valores ausentes, são elas `days_employed` e `total_income`\n",
    "\n",
    "Iremos imprimir o total de valores ausentes actual visto que removemos alguns duplicados:"
   ]
  },
  {
   "cell_type": "code",
   "execution_count": 75,
   "metadata": {},
   "outputs": [
    {
     "name": "stdout",
     "output_type": "stream",
     "text": [
      "- A coluna \"days_employed\" tem 2103 valores ausentes\n",
      "- A coluna \"total_income\" tem 2103 valores ausentes\n"
     ]
    }
   ],
   "source": [
    "print( f'- A coluna \"days_employed\" tem { df.days_employed.isna().sum()} valores ausentes')\n",
    "print( f'- A coluna \"total_income\" tem { df.total_income.isna().sum()} valores ausentes')"
   ]
  },
  {
   "cell_type": "code",
   "execution_count": 76,
   "metadata": {},
   "outputs": [
    {
     "data": {
      "text/html": [
       "<div>\n",
       "<style scoped>\n",
       "    .dataframe tbody tr th:only-of-type {\n",
       "        vertical-align: middle;\n",
       "    }\n",
       "\n",
       "    .dataframe tbody tr th {\n",
       "        vertical-align: top;\n",
       "    }\n",
       "\n",
       "    .dataframe thead th {\n",
       "        text-align: right;\n",
       "    }\n",
       "</style>\n",
       "<table border=\"1\" class=\"dataframe\">\n",
       "  <thead>\n",
       "    <tr style=\"text-align: right;\">\n",
       "      <th></th>\n",
       "      <th>children</th>\n",
       "      <th>days_employed</th>\n",
       "      <th>dob_years</th>\n",
       "      <th>education</th>\n",
       "      <th>education_id</th>\n",
       "      <th>family_status</th>\n",
       "      <th>family_status_id</th>\n",
       "      <th>gender</th>\n",
       "      <th>income_type</th>\n",
       "      <th>debt</th>\n",
       "      <th>total_income</th>\n",
       "      <th>purpose</th>\n",
       "    </tr>\n",
       "  </thead>\n",
       "  <tbody>\n",
       "    <tr>\n",
       "      <th>12</th>\n",
       "      <td>0</td>\n",
       "      <td>NaN</td>\n",
       "      <td>65</td>\n",
       "      <td>secondary education</td>\n",
       "      <td>1</td>\n",
       "      <td>civil partnership</td>\n",
       "      <td>1</td>\n",
       "      <td>M</td>\n",
       "      <td>retiree</td>\n",
       "      <td>0</td>\n",
       "      <td>NaN</td>\n",
       "      <td>to have a wedding</td>\n",
       "    </tr>\n",
       "    <tr>\n",
       "      <th>26</th>\n",
       "      <td>0</td>\n",
       "      <td>NaN</td>\n",
       "      <td>41</td>\n",
       "      <td>secondary education</td>\n",
       "      <td>1</td>\n",
       "      <td>married</td>\n",
       "      <td>0</td>\n",
       "      <td>M</td>\n",
       "      <td>civil servant</td>\n",
       "      <td>0</td>\n",
       "      <td>NaN</td>\n",
       "      <td>education</td>\n",
       "    </tr>\n",
       "    <tr>\n",
       "      <th>29</th>\n",
       "      <td>0</td>\n",
       "      <td>NaN</td>\n",
       "      <td>63</td>\n",
       "      <td>secondary education</td>\n",
       "      <td>1</td>\n",
       "      <td>unmarried</td>\n",
       "      <td>4</td>\n",
       "      <td>F</td>\n",
       "      <td>retiree</td>\n",
       "      <td>0</td>\n",
       "      <td>NaN</td>\n",
       "      <td>building a real estate</td>\n",
       "    </tr>\n",
       "    <tr>\n",
       "      <th>41</th>\n",
       "      <td>0</td>\n",
       "      <td>NaN</td>\n",
       "      <td>50</td>\n",
       "      <td>secondary education</td>\n",
       "      <td>1</td>\n",
       "      <td>married</td>\n",
       "      <td>0</td>\n",
       "      <td>F</td>\n",
       "      <td>civil servant</td>\n",
       "      <td>0</td>\n",
       "      <td>NaN</td>\n",
       "      <td>second-hand car purchase</td>\n",
       "    </tr>\n",
       "    <tr>\n",
       "      <th>55</th>\n",
       "      <td>0</td>\n",
       "      <td>NaN</td>\n",
       "      <td>54</td>\n",
       "      <td>secondary education</td>\n",
       "      <td>1</td>\n",
       "      <td>civil partnership</td>\n",
       "      <td>1</td>\n",
       "      <td>F</td>\n",
       "      <td>retiree</td>\n",
       "      <td>1</td>\n",
       "      <td>NaN</td>\n",
       "      <td>to have a wedding</td>\n",
       "    </tr>\n",
       "    <tr>\n",
       "      <th>65</th>\n",
       "      <td>0</td>\n",
       "      <td>NaN</td>\n",
       "      <td>21</td>\n",
       "      <td>secondary education</td>\n",
       "      <td>1</td>\n",
       "      <td>unmarried</td>\n",
       "      <td>4</td>\n",
       "      <td>M</td>\n",
       "      <td>business</td>\n",
       "      <td>0</td>\n",
       "      <td>NaN</td>\n",
       "      <td>transactions with commercial real estate</td>\n",
       "    </tr>\n",
       "    <tr>\n",
       "      <th>67</th>\n",
       "      <td>0</td>\n",
       "      <td>NaN</td>\n",
       "      <td>52</td>\n",
       "      <td>bachelor's degree</td>\n",
       "      <td>0</td>\n",
       "      <td>married</td>\n",
       "      <td>0</td>\n",
       "      <td>F</td>\n",
       "      <td>retiree</td>\n",
       "      <td>0</td>\n",
       "      <td>NaN</td>\n",
       "      <td>purchase of the house for my family</td>\n",
       "    </tr>\n",
       "    <tr>\n",
       "      <th>72</th>\n",
       "      <td>1</td>\n",
       "      <td>NaN</td>\n",
       "      <td>32</td>\n",
       "      <td>bachelor's degree</td>\n",
       "      <td>0</td>\n",
       "      <td>married</td>\n",
       "      <td>0</td>\n",
       "      <td>M</td>\n",
       "      <td>civil servant</td>\n",
       "      <td>0</td>\n",
       "      <td>NaN</td>\n",
       "      <td>transactions with commercial real estate</td>\n",
       "    </tr>\n",
       "    <tr>\n",
       "      <th>82</th>\n",
       "      <td>2</td>\n",
       "      <td>NaN</td>\n",
       "      <td>50</td>\n",
       "      <td>bachelor's degree</td>\n",
       "      <td>0</td>\n",
       "      <td>married</td>\n",
       "      <td>0</td>\n",
       "      <td>F</td>\n",
       "      <td>employee</td>\n",
       "      <td>0</td>\n",
       "      <td>NaN</td>\n",
       "      <td>housing</td>\n",
       "    </tr>\n",
       "    <tr>\n",
       "      <th>83</th>\n",
       "      <td>0</td>\n",
       "      <td>NaN</td>\n",
       "      <td>52</td>\n",
       "      <td>secondary education</td>\n",
       "      <td>1</td>\n",
       "      <td>married</td>\n",
       "      <td>0</td>\n",
       "      <td>M</td>\n",
       "      <td>employee</td>\n",
       "      <td>0</td>\n",
       "      <td>NaN</td>\n",
       "      <td>housing</td>\n",
       "    </tr>\n",
       "  </tbody>\n",
       "</table>\n",
       "</div>"
      ],
      "text/plain": [
       "    children  days_employed  dob_years            education  education_id  \\\n",
       "12         0            NaN         65  secondary education             1   \n",
       "26         0            NaN         41  secondary education             1   \n",
       "29         0            NaN         63  secondary education             1   \n",
       "41         0            NaN         50  secondary education             1   \n",
       "55         0            NaN         54  secondary education             1   \n",
       "65         0            NaN         21  secondary education             1   \n",
       "67         0            NaN         52    bachelor's degree             0   \n",
       "72         1            NaN         32    bachelor's degree             0   \n",
       "82         2            NaN         50    bachelor's degree             0   \n",
       "83         0            NaN         52  secondary education             1   \n",
       "\n",
       "        family_status  family_status_id gender    income_type  debt  \\\n",
       "12  civil partnership                 1      M        retiree     0   \n",
       "26            married                 0      M  civil servant     0   \n",
       "29          unmarried                 4      F        retiree     0   \n",
       "41            married                 0      F  civil servant     0   \n",
       "55  civil partnership                 1      F        retiree     1   \n",
       "65          unmarried                 4      M       business     0   \n",
       "67            married                 0      F        retiree     0   \n",
       "72            married                 0      M  civil servant     0   \n",
       "82            married                 0      F       employee     0   \n",
       "83            married                 0      M       employee     0   \n",
       "\n",
       "    total_income                                   purpose  \n",
       "12           NaN                         to have a wedding  \n",
       "26           NaN                                 education  \n",
       "29           NaN                    building a real estate  \n",
       "41           NaN                  second-hand car purchase  \n",
       "55           NaN                         to have a wedding  \n",
       "65           NaN  transactions with commercial real estate  \n",
       "67           NaN       purchase of the house for my family  \n",
       "72           NaN  transactions with commercial real estate  \n",
       "82           NaN                                   housing  \n",
       "83           NaN                                   housing  "
      ]
     },
     "execution_count": 76,
     "metadata": {},
     "output_type": "execute_result"
    }
   ],
   "source": [
    "# Encontre os dicionários\n",
    "\n",
    "df [ df.days_employed.isna() ].head(10)"
   ]
  },
  {
   "cell_type": "markdown",
   "metadata": {},
   "source": [
    "### Restaurar valores ausentes em `total_income`"
   ]
  },
  {
   "cell_type": "code",
   "execution_count": 77,
   "metadata": {},
   "outputs": [],
   "source": [
    "# Vamos escrever uma função que calcule a categoria de idade\n",
    "\n",
    "# A funcão devolverá apenas 3 possiveis categorias para a idade dos clientes, no entanto no\n",
    "#dataset actual não temos menores de 18 anos\n",
    "#quer dizer que teremos apenas os valores Idoso e Adulto na categoria deste dataset em particular.\n",
    "\n",
    "def categorizar_idade(linha):\n",
    "    \n",
    "    if linha['dob_years'] > 59: return 'Idoso'\n",
    "    \n",
    "    if linha['dob_years'] > 18: return 'Adulto'\n",
    "    \n",
    "    return 'Jovem'"
   ]
  },
  {
   "cell_type": "markdown",
   "metadata": {},
   "source": [
    "<font color='gray'> Primeiro não percebi o motivo de criar a função para categorizar a idade\n",
    "Só quando cheguei [neste ponto aqui](#usarCategoriaIdade) percebi que a categorização da funcão acima não irá ajudar a preencher os valores ausentes de `days_employed`\n",
    "    \n",
    "Sendo assim, irei criar uma nova função para dividir as faixas etarias por intervalos de 10 que deve poderá ajudar a distribuir melhor os valores que serão preenchidos nos ausentes.\n",
    "    \n",
    "Irei manter a funcao de cima apenas para servir de lição pessoal.\n",
    "</font>"
   ]
  },
  {
   "cell_type": "markdown",
   "metadata": {},
   "source": [
    "<div class=\"alert alert-block alert-success\">\n",
    "<b>Comentário do corretor</b> <a class=\"tocSkip\"></a>\n",
    "\n",
    "Ok, fico feliz que deixou todas as informações bem estabelecidas!\n",
    "\n",
    "</div>"
   ]
  },
  {
   "cell_type": "markdown",
   "metadata": {},
   "source": [
    "A funcao ira receber o objecto Series do pandas (linha completa) e fará a validação se a coluna tem um valor inteiro, o retorno será a faixa de idade do cliente"
   ]
  },
  {
   "cell_type": "markdown",
   "metadata": {},
   "source": [
    "### Funcao para categorizar pela coluna `dob_years`"
   ]
  },
  {
   "cell_type": "code",
   "execution_count": 78,
   "metadata": {},
   "outputs": [],
   "source": [
    "def categorizar_idade(linha):\n",
    "    \n",
    "    try:\n",
    "        idade = int( linha['dob_years'] )\n",
    "    \n",
    "        if idade >= 60: return '60+'\n",
    "\n",
    "        if 50 <= idade < 60: return '50 - 60'  \n",
    "        if 40 <= idade < 50: return '40 - 50'  \n",
    "        if 30 <= idade < 40: return '30 - 40'  \n",
    "        if 20 <= idade < 30: return '20 - 30'  \n",
    "        if 10 <= idade < 20: return '10 - 20'  \n",
    "    \n",
    "        return '0 - 10'\n",
    "    except:\n",
    "        return 'Valor Nao Numerico!'"
   ]
  },
  {
   "cell_type": "code",
   "execution_count": 79,
   "metadata": {},
   "outputs": [
    {
     "name": "stdout",
     "output_type": "stream",
     "text": [
      "20 - 30\n",
      "50 - 60\n",
      "Valor Nao Numerico!\n"
     ]
    }
   ],
   "source": [
    "# Teste se a função funciona\n",
    "\n",
    "#Primeiro, precisamos criar duas listas. Uma lista deve conter valores e a outra deve ter nomes de coluna DataFrame.\n",
    "#linhas = [13] # valores de idade e desemprego\n",
    "#coluna = ['dob_years'] # nomes das colunas\n",
    "  \n",
    "#o objecto Series para o teste:\n",
    "#row = pd.Series(data=linhas, index=coluna) \n",
    "\n",
    "# Podemos testar numa unica linha\n",
    "print( categorizar_idade ( pd.Series (data=[23], index=['dob_years'])  ))\n",
    "print( categorizar_idade ( pd.Series (data=['50'], index=['dob_years'])  ))\n",
    "print( categorizar_idade ( pd.Series (data=['A'], index=['dob_years'])  ))\n"
   ]
  },
  {
   "cell_type": "markdown",
   "metadata": {},
   "source": [
    "<div class=\"alert alert-block alert-success\">\n",
    "<b>Comentário do corretor</b> <a class=\"tocSkip\"></a>\n",
    "\n",
    "Categorização da idade muito bem realizada!\n",
    "\n",
    "</div>"
   ]
  },
  {
   "cell_type": "markdown",
   "metadata": {},
   "source": [
    "Aplicando a funcao para todas as linhas do dataset\n",
    "<a id =categoriaIdade></a>"
   ]
  },
  {
   "cell_type": "code",
   "execution_count": 80,
   "metadata": {},
   "outputs": [],
   "source": [
    "# Criar coluna nova com base na função\n",
    "df['age_group'] = df.apply(categorizar_idade, axis=1)"
   ]
  },
  {
   "cell_type": "code",
   "execution_count": 81,
   "metadata": {},
   "outputs": [
    {
     "data": {
      "text/html": [
       "<style  type=\"text/css\" >\n",
       "#T_704c6_row0_col1{\n",
       "            width:  10em;\n",
       "             height:  80%;\n",
       "            background:  linear-gradient(90deg,#d65f5f 100.0%, transparent 100.0%);\n",
       "        }#T_704c6_row1_col1{\n",
       "            width:  10em;\n",
       "             height:  80%;\n",
       "            background:  linear-gradient(90deg,#d65f5f 95.0%, transparent 95.0%);\n",
       "        }#T_704c6_row2_col1{\n",
       "            width:  10em;\n",
       "             height:  80%;\n",
       "            background:  linear-gradient(90deg,#d65f5f 82.2%, transparent 82.2%);\n",
       "        }#T_704c6_row3_col1{\n",
       "            width:  10em;\n",
       "             height:  80%;\n",
       "            background:  linear-gradient(90deg,#d65f5f 55.5%, transparent 55.5%);\n",
       "        }#T_704c6_row4_col1{\n",
       "            width:  10em;\n",
       "             height:  80%;\n",
       "            background:  linear-gradient(90deg,#d65f5f 43.8%, transparent 43.8%);\n",
       "        }#T_704c6_row5_col1{\n",
       "            width:  10em;\n",
       "             height:  80%;\n",
       "        }</style><table id=\"T_704c6_\" ><thead>    <tr>        <th class=\"blank level0\" ></th>        <th class=\"col_heading level0 col0\" >age_group</th>        <th class=\"col_heading level0 col1\" >Total</th>        <th class=\"col_heading level0 col2\" >Percentagem</th>    </tr></thead><tbody>\n",
       "                <tr>\n",
       "                        <th id=\"T_704c6_level0_row0\" class=\"row_heading level0 row0\" >0</th>\n",
       "                        <td id=\"T_704c6_row0_col0\" class=\"data row0 col0\" >30 - 40</td>\n",
       "                        <td id=\"T_704c6_row0_col1\" class=\"data row0 col1\" >5690</td>\n",
       "                        <td id=\"T_704c6_row0_col2\" class=\"data row0 col2\" >26.52%</td>\n",
       "            </tr>\n",
       "            <tr>\n",
       "                        <th id=\"T_704c6_level0_row1\" class=\"row_heading level0 row1\" >1</th>\n",
       "                        <td id=\"T_704c6_row1_col0\" class=\"data row1 col0\" >40 - 50</td>\n",
       "                        <td id=\"T_704c6_row1_col1\" class=\"data row1 col1\" >5407</td>\n",
       "                        <td id=\"T_704c6_row1_col2\" class=\"data row1 col2\" >25.2%</td>\n",
       "            </tr>\n",
       "            <tr>\n",
       "                        <th id=\"T_704c6_level0_row2\" class=\"row_heading level0 row2\" >2</th>\n",
       "                        <td id=\"T_704c6_row2_col0\" class=\"data row2 col0\" >50 - 60</td>\n",
       "                        <td id=\"T_704c6_row2_col1\" class=\"data row2 col1\" >4677</td>\n",
       "                        <td id=\"T_704c6_row2_col2\" class=\"data row2 col2\" >21.8%</td>\n",
       "            </tr>\n",
       "            <tr>\n",
       "                        <th id=\"T_704c6_level0_row3\" class=\"row_heading level0 row3\" >3</th>\n",
       "                        <td id=\"T_704c6_row3_col0\" class=\"data row3 col0\" >20 - 30</td>\n",
       "                        <td id=\"T_704c6_row3_col1\" class=\"data row3 col1\" >3166</td>\n",
       "                        <td id=\"T_704c6_row3_col2\" class=\"data row3 col2\" >14.76%</td>\n",
       "            </tr>\n",
       "            <tr>\n",
       "                        <th id=\"T_704c6_level0_row4\" class=\"row_heading level0 row4\" >4</th>\n",
       "                        <td id=\"T_704c6_row4_col0\" class=\"data row4 col0\" >60+</td>\n",
       "                        <td id=\"T_704c6_row4_col1\" class=\"data row4 col1\" >2500</td>\n",
       "                        <td id=\"T_704c6_row4_col2\" class=\"data row4 col2\" >11.65%</td>\n",
       "            </tr>\n",
       "            <tr>\n",
       "                        <th id=\"T_704c6_level0_row5\" class=\"row_heading level0 row5\" >5</th>\n",
       "                        <td id=\"T_704c6_row5_col0\" class=\"data row5 col0\" >10 - 20</td>\n",
       "                        <td id=\"T_704c6_row5_col1\" class=\"data row5 col1\" >14</td>\n",
       "                        <td id=\"T_704c6_row5_col2\" class=\"data row5 col2\" >0.07%</td>\n",
       "            </tr>\n",
       "    </tbody></table>"
      ],
      "text/plain": [
       "<pandas.io.formats.style.Styler at 0x7f88bb039370>"
      ]
     },
     "execution_count": 81,
     "metadata": {},
     "output_type": "execute_result"
    }
   ],
   "source": [
    "# Verificar como os valores na nova coluna\n",
    "\n",
    "distr = ver_distribuicao(df, 'age_group')\n",
    "distr"
   ]
  },
  {
   "cell_type": "markdown",
   "metadata": {},
   "source": [
    "Podemos fazer uma verificação desta informação contando o total de clientes para uma determinada faixa etaria:"
   ]
  },
  {
   "cell_type": "code",
   "execution_count": 82,
   "metadata": {},
   "outputs": [
    {
     "data": {
      "text/plain": [
       "5690"
      ]
     },
     "execution_count": 82,
     "metadata": {},
     "output_type": "execute_result"
    }
   ],
   "source": [
    "clientes_30_40 = len(df [ (df.dob_years.astype(int) > 29) & (df.dob_years.astype(int) < 40) ])\n",
    "clientes_30_40"
   ]
  },
  {
   "cell_type": "code",
   "execution_count": 83,
   "metadata": {},
   "outputs": [
    {
     "data": {
      "text/plain": [
       "True"
      ]
     },
     "execution_count": 83,
     "metadata": {},
     "output_type": "execute_result"
    }
   ],
   "source": [
    "clientes_30_40 == distr.data.Total.values[0]"
   ]
  },
  {
   "cell_type": "markdown",
   "metadata": {},
   "source": [
    "O Resultado corresponde a primeira linha, então esta tudo bem."
   ]
  },
  {
   "cell_type": "markdown",
   "metadata": {},
   "source": [
    "A renda do cliente pode depender dos seguintes factores:\n",
    "- `education`\n",
    "- `income_type`"
   ]
  },
  {
   "cell_type": "markdown",
   "metadata": {},
   "source": [
    "<div class=\"alert alert-block alert-success\">\n",
    "<b>Comentário do corretor</b> <a class=\"tocSkip\"></a>\n",
    "\n",
    "Bem visualizado!\n",
    "\n",
    "</div>"
   ]
  },
  {
   "cell_type": "markdown",
   "metadata": {},
   "source": [
    "Então iremos adquirir a media da renda com base nestes factores."
   ]
  },
  {
   "cell_type": "code",
   "execution_count": 84,
   "metadata": {
    "scrolled": true
   },
   "outputs": [
    {
     "data": {
      "text/html": [
       "<div>\n",
       "<style scoped>\n",
       "    .dataframe tbody tr th:only-of-type {\n",
       "        vertical-align: middle;\n",
       "    }\n",
       "\n",
       "    .dataframe tbody tr th {\n",
       "        vertical-align: top;\n",
       "    }\n",
       "\n",
       "    .dataframe thead th {\n",
       "        text-align: right;\n",
       "    }\n",
       "</style>\n",
       "<table border=\"1\" class=\"dataframe\">\n",
       "  <thead>\n",
       "    <tr style=\"text-align: right;\">\n",
       "      <th></th>\n",
       "      <th>children</th>\n",
       "      <th>days_employed</th>\n",
       "      <th>dob_years</th>\n",
       "      <th>education</th>\n",
       "      <th>education_id</th>\n",
       "      <th>family_status</th>\n",
       "      <th>family_status_id</th>\n",
       "      <th>gender</th>\n",
       "      <th>income_type</th>\n",
       "      <th>debt</th>\n",
       "      <th>total_income</th>\n",
       "      <th>purpose</th>\n",
       "      <th>age_group</th>\n",
       "    </tr>\n",
       "  </thead>\n",
       "  <tbody>\n",
       "    <tr>\n",
       "      <th>0</th>\n",
       "      <td>1</td>\n",
       "      <td>8437.673028</td>\n",
       "      <td>42</td>\n",
       "      <td>bachelor's degree</td>\n",
       "      <td>0</td>\n",
       "      <td>married</td>\n",
       "      <td>0</td>\n",
       "      <td>F</td>\n",
       "      <td>employee</td>\n",
       "      <td>0</td>\n",
       "      <td>40620.102</td>\n",
       "      <td>purchase of the house</td>\n",
       "      <td>40 - 50</td>\n",
       "    </tr>\n",
       "    <tr>\n",
       "      <th>1</th>\n",
       "      <td>1</td>\n",
       "      <td>4024.803754</td>\n",
       "      <td>36</td>\n",
       "      <td>secondary education</td>\n",
       "      <td>1</td>\n",
       "      <td>married</td>\n",
       "      <td>0</td>\n",
       "      <td>F</td>\n",
       "      <td>employee</td>\n",
       "      <td>0</td>\n",
       "      <td>17932.802</td>\n",
       "      <td>car purchase</td>\n",
       "      <td>30 - 40</td>\n",
       "    </tr>\n",
       "    <tr>\n",
       "      <th>2</th>\n",
       "      <td>0</td>\n",
       "      <td>5623.422610</td>\n",
       "      <td>33</td>\n",
       "      <td>secondary education</td>\n",
       "      <td>1</td>\n",
       "      <td>married</td>\n",
       "      <td>0</td>\n",
       "      <td>M</td>\n",
       "      <td>employee</td>\n",
       "      <td>0</td>\n",
       "      <td>23341.752</td>\n",
       "      <td>purchase of the house</td>\n",
       "      <td>30 - 40</td>\n",
       "    </tr>\n",
       "    <tr>\n",
       "      <th>3</th>\n",
       "      <td>3</td>\n",
       "      <td>4124.747207</td>\n",
       "      <td>32</td>\n",
       "      <td>secondary education</td>\n",
       "      <td>1</td>\n",
       "      <td>married</td>\n",
       "      <td>0</td>\n",
       "      <td>M</td>\n",
       "      <td>employee</td>\n",
       "      <td>0</td>\n",
       "      <td>42820.568</td>\n",
       "      <td>supplementary education</td>\n",
       "      <td>30 - 40</td>\n",
       "    </tr>\n",
       "    <tr>\n",
       "      <th>4</th>\n",
       "      <td>0</td>\n",
       "      <td>340266.072047</td>\n",
       "      <td>53</td>\n",
       "      <td>secondary education</td>\n",
       "      <td>1</td>\n",
       "      <td>civil partnership</td>\n",
       "      <td>1</td>\n",
       "      <td>F</td>\n",
       "      <td>retiree</td>\n",
       "      <td>0</td>\n",
       "      <td>25378.572</td>\n",
       "      <td>to have a wedding</td>\n",
       "      <td>50 - 60</td>\n",
       "    </tr>\n",
       "  </tbody>\n",
       "</table>\n",
       "</div>"
      ],
      "text/plain": [
       "   children  days_employed  dob_years            education  education_id  \\\n",
       "0         1    8437.673028         42    bachelor's degree             0   \n",
       "1         1    4024.803754         36  secondary education             1   \n",
       "2         0    5623.422610         33  secondary education             1   \n",
       "3         3    4124.747207         32  secondary education             1   \n",
       "4         0  340266.072047         53  secondary education             1   \n",
       "\n",
       "       family_status  family_status_id gender income_type  debt  total_income  \\\n",
       "0            married                 0      F    employee     0     40620.102   \n",
       "1            married                 0      F    employee     0     17932.802   \n",
       "2            married                 0      M    employee     0     23341.752   \n",
       "3            married                 0      M    employee     0     42820.568   \n",
       "4  civil partnership                 1      F     retiree     0     25378.572   \n",
       "\n",
       "                   purpose age_group  \n",
       "0    purchase of the house   40 - 50  \n",
       "1             car purchase   30 - 40  \n",
       "2    purchase of the house   30 - 40  \n",
       "3  supplementary education   30 - 40  \n",
       "4        to have a wedding   50 - 60  "
      ]
     },
     "execution_count": 84,
     "metadata": {},
     "output_type": "execute_result"
    }
   ],
   "source": [
    "# Crie uma tabela sem valores ausentes e exiba algumas de suas linhas para garantir que ela fique boa\n",
    "\n",
    "df_sem_ausentes = df[ ~ df.total_income.isna() ]\n",
    "\n",
    "df_sem_ausentes.head(5)"
   ]
  },
  {
   "cell_type": "code",
   "execution_count": 85,
   "metadata": {},
   "outputs": [
    {
     "name": "stdout",
     "output_type": "stream",
     "text": [
      "\n",
      "Media com base em education:\n",
      "\n",
      "education\n",
      "bachelor's degree      33142.802434\n",
      "graduate degree        27960.024667\n",
      "primary education      21144.882211\n",
      "secondary education    24594.503037\n",
      "some college           29045.443644\n",
      "Name: total_income, dtype: float64\n",
      "\n",
      "Media com base em income_type:\n",
      "\n",
      "income_type\n",
      "business                       32386.793835\n",
      "civil servant                  27343.729582\n",
      "employee                       25820.841683\n",
      "entrepreneur                   79866.103000\n",
      "paternity / maternity leave     8612.661000\n",
      "retiree                        21940.394503\n",
      "student                        15712.260000\n",
      "unemployed                     21014.360500\n",
      "Name: total_income, dtype: float64\n"
     ]
    }
   ],
   "source": [
    "# Veja os valores médios de renda com base em seus fatores identificados\n",
    "\n",
    "print('\\nMedia com base em education:\\n')\n",
    "print( df_sem_ausentes.groupby(['education'])['total_income'].mean() )\n",
    "\n",
    "print('\\nMedia com base em income_type:\\n')\n",
    "print (df_sem_ausentes.groupby(['income_type'])['total_income'].mean())"
   ]
  },
  {
   "cell_type": "code",
   "execution_count": 86,
   "metadata": {
    "scrolled": true
   },
   "outputs": [
    {
     "name": "stdout",
     "output_type": "stream",
     "text": [
      "Mediana com base em education:\n",
      "education\n",
      "bachelor's degree      28054.5310\n",
      "graduate degree        25161.5835\n",
      "primary education      18741.9760\n",
      "secondary education    21836.5830\n",
      "some college           25618.4640\n",
      "Name: total_income, dtype: float64\n",
      "\n",
      "Mediana com base em income_type:\n",
      "income_type\n",
      "business                       27577.2720\n",
      "civil servant                  24071.6695\n",
      "employee                       22815.1035\n",
      "entrepreneur                   79866.1030\n",
      "paternity / maternity leave     8612.6610\n",
      "retiree                        18962.3180\n",
      "student                        15712.2600\n",
      "unemployed                     21014.3605\n",
      "Name: total_income, dtype: float64\n"
     ]
    }
   ],
   "source": [
    "# Veja os valores medianos de renda com base em seus fatores identificados\n",
    "\n",
    "print('Mediana com base em education:')\n",
    "print( df_sem_ausentes.groupby(['education'])['total_income'].median() )\n",
    "\n",
    "print('\\nMediana com base em income_type:')\n",
    "print (df_sem_ausentes.groupby(['income_type'])['total_income'].median())\n"
   ]
  },
  {
   "cell_type": "markdown",
   "metadata": {},
   "source": [
    "- Tanto a media como a mediana apresentam valores bem aproximados\n",
    "- Com base no nivel de educação a media apresenta valores mais altos\n",
    "- Com base no tipo de renda (entrepreneur,paternity / maternity leave, retiree, student e unemployed) a mediana e a media são iguais "
   ]
  },
  {
   "cell_type": "markdown",
   "metadata": {},
   "source": [
    "Irei escolher as medianas com base no tipo de renda para preencher os valores ausentes"
   ]
  },
  {
   "cell_type": "code",
   "execution_count": 87,
   "metadata": {},
   "outputs": [
    {
     "data": {
      "text/html": [
       "<div>\n",
       "<style scoped>\n",
       "    .dataframe tbody tr th:only-of-type {\n",
       "        vertical-align: middle;\n",
       "    }\n",
       "\n",
       "    .dataframe tbody tr th {\n",
       "        vertical-align: top;\n",
       "    }\n",
       "\n",
       "    .dataframe thead th {\n",
       "        text-align: right;\n",
       "    }\n",
       "</style>\n",
       "<table border=\"1\" class=\"dataframe\">\n",
       "  <thead>\n",
       "    <tr style=\"text-align: right;\">\n",
       "      <th></th>\n",
       "      <th>income_type</th>\n",
       "      <th>media</th>\n",
       "    </tr>\n",
       "  </thead>\n",
       "  <tbody>\n",
       "    <tr>\n",
       "      <th>0</th>\n",
       "      <td>business</td>\n",
       "      <td>27577.2720</td>\n",
       "    </tr>\n",
       "    <tr>\n",
       "      <th>1</th>\n",
       "      <td>civil servant</td>\n",
       "      <td>24071.6695</td>\n",
       "    </tr>\n",
       "    <tr>\n",
       "      <th>2</th>\n",
       "      <td>employee</td>\n",
       "      <td>22815.1035</td>\n",
       "    </tr>\n",
       "    <tr>\n",
       "      <th>3</th>\n",
       "      <td>entrepreneur</td>\n",
       "      <td>79866.1030</td>\n",
       "    </tr>\n",
       "    <tr>\n",
       "      <th>4</th>\n",
       "      <td>paternity / maternity leave</td>\n",
       "      <td>8612.6610</td>\n",
       "    </tr>\n",
       "    <tr>\n",
       "      <th>5</th>\n",
       "      <td>retiree</td>\n",
       "      <td>18962.3180</td>\n",
       "    </tr>\n",
       "    <tr>\n",
       "      <th>6</th>\n",
       "      <td>student</td>\n",
       "      <td>15712.2600</td>\n",
       "    </tr>\n",
       "    <tr>\n",
       "      <th>7</th>\n",
       "      <td>unemployed</td>\n",
       "      <td>21014.3605</td>\n",
       "    </tr>\n",
       "  </tbody>\n",
       "</table>\n",
       "</div>"
      ],
      "text/plain": [
       "                   income_type       media\n",
       "0                     business  27577.2720\n",
       "1                civil servant  24071.6695\n",
       "2                     employee  22815.1035\n",
       "3                 entrepreneur  79866.1030\n",
       "4  paternity / maternity leave   8612.6610\n",
       "5                      retiree  18962.3180\n",
       "6                      student  15712.2600\n",
       "7                   unemployed  21014.3605"
      ]
     },
     "execution_count": 87,
     "metadata": {},
     "output_type": "execute_result"
    }
   ],
   "source": [
    "df_group = df_sem_ausentes.groupby(['income_type'])['total_income'].median().reset_index()\n",
    "df_group = df_group.rename(columns={'total_income':'media'}) # é melhor renomear para amanhâ não esquecer.\n",
    "df_group"
   ]
  },
  {
   "cell_type": "code",
   "execution_count": 88,
   "metadata": {},
   "outputs": [],
   "source": [
    "#  Escreva uma função que usaremos para preencher os valores ausentes\n",
    "    \n",
    "def preencher_renda_ausente (linha):\n",
    "  \n",
    "    tipoLinha = linha['income_type']\n",
    "    \n",
    "    return df_group.loc[ (df_group['income_type'] == tipoLinha) ]['media'].values[0]\n"
   ]
  },
  {
   "cell_type": "code",
   "execution_count": 89,
   "metadata": {},
   "outputs": [
    {
     "name": "stdout",
     "output_type": "stream",
     "text": [
      "79866.103\n",
      "18962.318\n"
     ]
    }
   ],
   "source": [
    "# Verifique se funciona\n",
    "\n",
    "print( preencher_renda_ausente ( pd.Series( data=['entrepreneur'], index=['income_type'] ) ) )\n",
    "\n",
    "print( preencher_renda_ausente ( pd.Series( data=['retiree'], index=['income_type'] ) ) )"
   ]
  },
  {
   "cell_type": "code",
   "execution_count": 90,
   "metadata": {},
   "outputs": [],
   "source": [
    "# Aplique em todas as linhas"
   ]
  },
  {
   "cell_type": "markdown",
   "metadata": {},
   "source": [
    "Preciso de aplicar apenas nas linhas do dataframe onde a coluna `total_income` esta `NaN`"
   ]
  },
  {
   "cell_type": "code",
   "execution_count": 91,
   "metadata": {},
   "outputs": [
    {
     "data": {
      "text/plain": [
       "employee         1070\n",
       "business          501\n",
       "retiree           386\n",
       "civil servant     145\n",
       "entrepreneur        1\n",
       "Name: income_type, dtype: int64"
      ]
     },
     "execution_count": 91,
     "metadata": {},
     "output_type": "execute_result"
    }
   ],
   "source": [
    "df [ df.total_income.isna() ].income_type.value_counts()"
   ]
  },
  {
   "cell_type": "markdown",
   "metadata": {},
   "source": [
    "Todos os registos onde o total_income esta `NaN` tem um tipo de renda, então não temos o risco da funcao devolver Nada ou dar erro o o .loc()"
   ]
  },
  {
   "cell_type": "code",
   "execution_count": 92,
   "metadata": {},
   "outputs": [],
   "source": [
    " df.loc[ df.total_income.isna(), 'total_income' ] = df[ df.total_income.isna() ].apply(preencher_renda_ausente, axis=1)"
   ]
  },
  {
   "cell_type": "code",
   "execution_count": 93,
   "metadata": {},
   "outputs": [
    {
     "name": "stdout",
     "output_type": "stream",
     "text": [
      "Valores ausentes apois execucao da funcao : 0\n"
     ]
    }
   ],
   "source": [
    "# Verifique se temos algum erro\n",
    "\n",
    "print(f\"Valores ausentes apois execucao da funcao : {df.total_income.isna().sum()}\")"
   ]
  },
  {
   "cell_type": "markdown",
   "metadata": {},
   "source": [
    "<div class=\"alert alert-block alert-success\">\n",
    "<b>Comentário do corretor</b> <a class=\"tocSkip\"></a>\n",
    "\n",
    "Muito bem Gerson! O preenchimento dos valores ausentes foi muito bem realizado!\n",
    "\n",
    "</div>"
   ]
  },
  {
   "cell_type": "markdown",
   "metadata": {},
   "source": [
    "Verificando pelo menos um registos que anterior mente estava com `NaN` em total_income"
   ]
  },
  {
   "cell_type": "code",
   "execution_count": 94,
   "metadata": {},
   "outputs": [
    {
     "data": {
      "text/html": [
       "<div>\n",
       "<style scoped>\n",
       "    .dataframe tbody tr th:only-of-type {\n",
       "        vertical-align: middle;\n",
       "    }\n",
       "\n",
       "    .dataframe tbody tr th {\n",
       "        vertical-align: top;\n",
       "    }\n",
       "\n",
       "    .dataframe thead th {\n",
       "        text-align: right;\n",
       "    }\n",
       "</style>\n",
       "<table border=\"1\" class=\"dataframe\">\n",
       "  <thead>\n",
       "    <tr style=\"text-align: right;\">\n",
       "      <th></th>\n",
       "      <th>children</th>\n",
       "      <th>days_employed</th>\n",
       "      <th>dob_years</th>\n",
       "      <th>education</th>\n",
       "      <th>education_id</th>\n",
       "      <th>family_status</th>\n",
       "      <th>family_status_id</th>\n",
       "      <th>gender</th>\n",
       "      <th>income_type</th>\n",
       "      <th>debt</th>\n",
       "      <th>total_income</th>\n",
       "      <th>purpose</th>\n",
       "      <th>age_group</th>\n",
       "    </tr>\n",
       "  </thead>\n",
       "  <tbody>\n",
       "    <tr>\n",
       "      <th>12</th>\n",
       "      <td>0</td>\n",
       "      <td>NaN</td>\n",
       "      <td>65</td>\n",
       "      <td>secondary education</td>\n",
       "      <td>1</td>\n",
       "      <td>civil partnership</td>\n",
       "      <td>1</td>\n",
       "      <td>M</td>\n",
       "      <td>retiree</td>\n",
       "      <td>0</td>\n",
       "      <td>18962.318</td>\n",
       "      <td>to have a wedding</td>\n",
       "      <td>60+</td>\n",
       "    </tr>\n",
       "  </tbody>\n",
       "</table>\n",
       "</div>"
      ],
      "text/plain": [
       "    children  days_employed  dob_years            education  education_id  \\\n",
       "12         0            NaN         65  secondary education             1   \n",
       "\n",
       "        family_status  family_status_id gender income_type  debt  \\\n",
       "12  civil partnership                 1      M     retiree     0   \n",
       "\n",
       "    total_income            purpose age_group  \n",
       "12     18962.318  to have a wedding       60+  "
      ]
     },
     "execution_count": 94,
     "metadata": {},
     "output_type": "execute_result"
    }
   ],
   "source": [
    "cliente_teste  = df.loc [ (df.dob_years == 65) &\n",
    "        (df.family_status == 'civil partnership') & (df.purpose == 'to have a wedding') &\n",
    "        (df.education_id == 1) & (df.gender == 'M') & (df.income_type=='retiree') ]\n",
    "\n",
    "cliente_teste"
   ]
  },
  {
   "cell_type": "code",
   "execution_count": 95,
   "metadata": {},
   "outputs": [
    {
     "data": {
      "text/plain": [
       "18962.318"
      ]
     },
     "execution_count": 95,
     "metadata": {},
     "output_type": "execute_result"
    }
   ],
   "source": [
    "df_group.loc[ (df_group['income_type'] ==  cliente_teste['income_type'].values[0] ) ]['media'].values[0]"
   ]
  },
  {
   "cell_type": "markdown",
   "metadata": {},
   "source": [
    "A verificacao do registo acima mostra que o função foi bem aplicada. "
   ]
  },
  {
   "cell_type": "code",
   "execution_count": 96,
   "metadata": {},
   "outputs": [],
   "source": [
    "# Substituir valores ausentes se houver algum erro\n",
    "\n",
    "# Sem Erros"
   ]
  },
  {
   "cell_type": "code",
   "execution_count": 97,
   "metadata": {},
   "outputs": [
    {
     "data": {
      "text/plain": [
       "True"
      ]
     },
     "execution_count": 97,
     "metadata": {},
     "output_type": "execute_result"
    }
   ],
   "source": [
    "# Verificar o número de entradas nas colunas\n",
    "\n",
    "(df.total_income.count() == len(df))"
   ]
  },
  {
   "cell_type": "markdown",
   "metadata": {},
   "source": [
    "<a id=usarCategoriaIdade></a>\n",
    "###  Restaurar valores em `days_employed`"
   ]
  },
  {
   "cell_type": "code",
   "execution_count": 98,
   "metadata": {},
   "outputs": [
    {
     "name": "stdout",
     "output_type": "stream",
     "text": [
      "total de valores ausentes 2103\n"
     ]
    }
   ],
   "source": [
    "print(f'total de valores ausentes {df.days_employed.isna().sum()}')"
   ]
  },
  {
   "cell_type": "markdown",
   "metadata": {},
   "source": [
    "Os valores serão tratados [aqui](#ausentesDaysEmplTratados)"
   ]
  },
  {
   "cell_type": "markdown",
   "metadata": {},
   "source": [
    "Para o total de dias empregado podemos considerar os seguintes factores que devem condicionar os valores:\n",
    "- **dob_years** : a idade do cliente\n",
    "-- Iremos usar esta coluna com a ajuda da categoria de idades criada anteriormente [aqui](#categoriaIdade)\n"
   ]
  },
  {
   "cell_type": "code",
   "execution_count": 99,
   "metadata": {
    "pycharm": {
     "name": "#%%\n"
    }
   },
   "outputs": [
    {
     "data": {
      "text/html": [
       "<div>\n",
       "<style scoped>\n",
       "    .dataframe tbody tr th:only-of-type {\n",
       "        vertical-align: middle;\n",
       "    }\n",
       "\n",
       "    .dataframe tbody tr th {\n",
       "        vertical-align: top;\n",
       "    }\n",
       "\n",
       "    .dataframe thead th {\n",
       "        text-align: right;\n",
       "    }\n",
       "</style>\n",
       "<table border=\"1\" class=\"dataframe\">\n",
       "  <thead>\n",
       "    <tr style=\"text-align: right;\">\n",
       "      <th></th>\n",
       "      <th>age_group</th>\n",
       "      <th>media_days_employed</th>\n",
       "    </tr>\n",
       "  </thead>\n",
       "  <tbody>\n",
       "    <tr>\n",
       "      <th>0</th>\n",
       "      <td>10 - 20</td>\n",
       "      <td>633.678086</td>\n",
       "    </tr>\n",
       "    <tr>\n",
       "      <th>1</th>\n",
       "      <td>20 - 30</td>\n",
       "      <td>2089.054192</td>\n",
       "    </tr>\n",
       "    <tr>\n",
       "      <th>2</th>\n",
       "      <td>30 - 40</td>\n",
       "      <td>4141.951433</td>\n",
       "    </tr>\n",
       "    <tr>\n",
       "      <th>3</th>\n",
       "      <td>40 - 50</td>\n",
       "      <td>12286.804503</td>\n",
       "    </tr>\n",
       "    <tr>\n",
       "      <th>4</th>\n",
       "      <td>50 - 60</td>\n",
       "      <td>133838.107994</td>\n",
       "    </tr>\n",
       "    <tr>\n",
       "      <th>5</th>\n",
       "      <td>60+</td>\n",
       "      <td>286544.143436</td>\n",
       "    </tr>\n",
       "  </tbody>\n",
       "</table>\n",
       "</div>"
      ],
      "text/plain": [
       "  age_group  media_days_employed\n",
       "0   10 - 20           633.678086\n",
       "1   20 - 30          2089.054192\n",
       "2   30 - 40          4141.951433\n",
       "3   40 - 50         12286.804503\n",
       "4   50 - 60        133838.107994\n",
       "5       60+        286544.143436"
      ]
     },
     "execution_count": 99,
     "metadata": {},
     "output_type": "execute_result"
    }
   ],
   "source": [
    "# Distribuição de `days_employed` medianos com base em seus parâmetros identificados\n",
    "\n",
    "df_days_mean = df.groupby('age_group')['days_employed'].mean().reset_index().rename(columns={'days_employed':'media_days_employed'})\n",
    "\n",
    "df_days_mean"
   ]
  },
  {
   "cell_type": "code",
   "execution_count": 100,
   "metadata": {},
   "outputs": [
    {
     "data": {
      "text/html": [
       "<div>\n",
       "<style scoped>\n",
       "    .dataframe tbody tr th:only-of-type {\n",
       "        vertical-align: middle;\n",
       "    }\n",
       "\n",
       "    .dataframe tbody tr th {\n",
       "        vertical-align: top;\n",
       "    }\n",
       "\n",
       "    .dataframe thead th {\n",
       "        text-align: right;\n",
       "    }\n",
       "</style>\n",
       "<table border=\"1\" class=\"dataframe\">\n",
       "  <thead>\n",
       "    <tr style=\"text-align: right;\">\n",
       "      <th></th>\n",
       "      <th>age_group</th>\n",
       "      <th>mediana_days_employed</th>\n",
       "    </tr>\n",
       "  </thead>\n",
       "  <tbody>\n",
       "    <tr>\n",
       "      <th>0</th>\n",
       "      <td>10 - 20</td>\n",
       "      <td>724.492610</td>\n",
       "    </tr>\n",
       "    <tr>\n",
       "      <th>1</th>\n",
       "      <td>20 - 30</td>\n",
       "      <td>1005.629955</td>\n",
       "    </tr>\n",
       "    <tr>\n",
       "      <th>2</th>\n",
       "      <td>30 - 40</td>\n",
       "      <td>1598.664181</td>\n",
       "    </tr>\n",
       "    <tr>\n",
       "      <th>3</th>\n",
       "      <td>40 - 50</td>\n",
       "      <td>2106.006680</td>\n",
       "    </tr>\n",
       "    <tr>\n",
       "      <th>4</th>\n",
       "      <td>50 - 60</td>\n",
       "      <td>4851.384110</td>\n",
       "    </tr>\n",
       "    <tr>\n",
       "      <th>5</th>\n",
       "      <td>60+</td>\n",
       "      <td>355229.618218</td>\n",
       "    </tr>\n",
       "  </tbody>\n",
       "</table>\n",
       "</div>"
      ],
      "text/plain": [
       "  age_group  mediana_days_employed\n",
       "0   10 - 20             724.492610\n",
       "1   20 - 30            1005.629955\n",
       "2   30 - 40            1598.664181\n",
       "3   40 - 50            2106.006680\n",
       "4   50 - 60            4851.384110\n",
       "5       60+          355229.618218"
      ]
     },
     "execution_count": 100,
     "metadata": {},
     "output_type": "execute_result"
    }
   ],
   "source": [
    "# Distribuição de `days_employed` médios com base em seus parâmetros identificados\n",
    "df_days_median = df.groupby('age_group')['days_employed'].median().reset_index().rename(columns={'days_employed':'mediana_days_employed'})\n",
    "\n",
    "df_days_median"
   ]
  },
  {
   "cell_type": "markdown",
   "metadata": {},
   "source": [
    "Apenas para confirmar que não iremos atribuir nenhum total de dias de trabalho impossivel, podemos converter as medias para anos"
   ]
  },
  {
   "cell_type": "code",
   "execution_count": 101,
   "metadata": {},
   "outputs": [
    {
     "name": "stdout",
     "output_type": "stream",
     "text": [
      "Media Anos Trabalho\n",
      "0      1.736104\n",
      "1      5.723436\n",
      "2     11.347812\n",
      "3     33.662478\n",
      "4    366.679748\n",
      "5    785.052448\n",
      "Name: media_days_employed, dtype: float64\n",
      "\n",
      "Mediana Anos Trabalho\n",
      "0      1.984911\n",
      "1      2.755151\n",
      "2      4.379902\n",
      "3      5.769881\n",
      "4     13.291463\n",
      "5    973.231831\n",
      "Name: mediana_days_employed, dtype: float64\n"
     ]
    }
   ],
   "source": [
    "print(\"Media Anos Trabalho\")\n",
    "print(df_days_mean['media_days_employed'] / 365)\n",
    "\n",
    "print(\"\\nMediana Anos Trabalho\")\n",
    "print(df_days_median['mediana_days_employed'] / 365)"
   ]
  },
  {
   "cell_type": "markdown",
   "metadata": {},
   "source": [
    "Certamente temos algo de errado com as medias para os grupos `50 - 60 +` e com a mediana do grupo `60+`"
   ]
  },
  {
   "cell_type": "markdown",
   "metadata": {},
   "source": [
    "Se a media/media esta muito alta é porque deve ter valores muito altos na coluna "
   ]
  },
  {
   "cell_type": "markdown",
   "metadata": {},
   "source": [
    "Vamos analisar um pouco os dados:\n",
    "- Ver valores maximos e minimos da coluna `days_employed`"
   ]
  },
  {
   "cell_type": "code",
   "execution_count": 102,
   "metadata": {},
   "outputs": [
    {
     "data": {
      "text/html": [
       "<div>\n",
       "<style scoped>\n",
       "    .dataframe tbody tr th:only-of-type {\n",
       "        vertical-align: middle;\n",
       "    }\n",
       "\n",
       "    .dataframe tbody tr th {\n",
       "        vertical-align: top;\n",
       "    }\n",
       "\n",
       "    .dataframe thead th {\n",
       "        text-align: right;\n",
       "    }\n",
       "</style>\n",
       "<table border=\"1\" class=\"dataframe\">\n",
       "  <thead>\n",
       "    <tr style=\"text-align: right;\">\n",
       "      <th></th>\n",
       "      <th>dob_years</th>\n",
       "      <th>days_employed</th>\n",
       "    </tr>\n",
       "  </thead>\n",
       "  <tbody>\n",
       "    <tr>\n",
       "      <th>6948</th>\n",
       "      <td>56</td>\n",
       "      <td>401755.400475</td>\n",
       "    </tr>\n",
       "    <tr>\n",
       "      <th>9991</th>\n",
       "      <td>69</td>\n",
       "      <td>401715.811749</td>\n",
       "    </tr>\n",
       "    <tr>\n",
       "      <th>7658</th>\n",
       "      <td>61</td>\n",
       "      <td>401675.093434</td>\n",
       "    </tr>\n",
       "    <tr>\n",
       "      <th>2156</th>\n",
       "      <td>60</td>\n",
       "      <td>401674.466633</td>\n",
       "    </tr>\n",
       "    <tr>\n",
       "      <th>7788</th>\n",
       "      <td>61</td>\n",
       "      <td>401663.850046</td>\n",
       "    </tr>\n",
       "    <tr>\n",
       "      <th>4694</th>\n",
       "      <td>56</td>\n",
       "      <td>401635.032697</td>\n",
       "    </tr>\n",
       "    <tr>\n",
       "      <th>13396</th>\n",
       "      <td>63</td>\n",
       "      <td>401619.633298</td>\n",
       "    </tr>\n",
       "    <tr>\n",
       "      <th>17778</th>\n",
       "      <td>59</td>\n",
       "      <td>401614.475622</td>\n",
       "    </tr>\n",
       "    <tr>\n",
       "      <th>10973</th>\n",
       "      <td>56</td>\n",
       "      <td>401591.828457</td>\n",
       "    </tr>\n",
       "    <tr>\n",
       "      <th>8360</th>\n",
       "      <td>58</td>\n",
       "      <td>401590.452231</td>\n",
       "    </tr>\n",
       "  </tbody>\n",
       "</table>\n",
       "</div>"
      ],
      "text/plain": [
       "       dob_years  days_employed\n",
       "6948          56  401755.400475\n",
       "9991          69  401715.811749\n",
       "7658          61  401675.093434\n",
       "2156          60  401674.466633\n",
       "7788          61  401663.850046\n",
       "4694          56  401635.032697\n",
       "13396         63  401619.633298\n",
       "17778         59  401614.475622\n",
       "10973         56  401591.828457\n",
       "8360          58  401590.452231"
      ]
     },
     "execution_count": 102,
     "metadata": {},
     "output_type": "execute_result"
    }
   ],
   "source": [
    "dftmp = df[['dob_years','days_employed']].sort_values('days_employed', ascending=False).head(10)\n",
    "dftmp"
   ]
  },
  {
   "cell_type": "markdown",
   "metadata": {},
   "source": [
    "Vamos converter estes valores para anos "
   ]
  },
  {
   "cell_type": "code",
   "execution_count": 103,
   "metadata": {},
   "outputs": [
    {
     "data": {
      "text/plain": [
       "6948     1100\n",
       "9991     1100\n",
       "7658     1100\n",
       "2156     1100\n",
       "7788     1100\n",
       "4694     1100\n",
       "13396    1100\n",
       "17778    1100\n",
       "10973    1100\n",
       "8360     1100\n",
       "Name: days_employed, dtype: int64"
      ]
     },
     "execution_count": 103,
     "metadata": {},
     "output_type": "execute_result"
    }
   ],
   "source": [
    "(dftmp['days_employed'] / 365).astype(int)"
   ]
  },
  {
   "cell_type": "markdown",
   "metadata": {},
   "source": [
    "**Certamente os dados possuem valores muito atipicos para dias/anos de trabalho, sendo impossivel um cliente trabalhar 1100**\n",
    "\n",
    "<a id=correcaoAtipicosDays></a>"
   ]
  },
  {
   "cell_type": "markdown",
   "metadata": {},
   "source": [
    "Vamos tentar achar uma valor máximo para esta coluna e atribuir\n",
    "\n",
    "Podemos ter em conta que para alguns paises o tempo de trabalho para entrar na aposentadoria é de **30 anos para as mulheres** e **35 anos para os homens** e considerar estes valores como o limite do nosso dataset, então poderemos ou remover as linhas que desrespeitam este requisito ou então substituir os valores. Vejamos o total o que representa estas linhas atipicas em relação ao dataset"
   ]
  },
  {
   "cell_type": "markdown",
   "metadata": {},
   "source": [
    "<div class=\"alert alert-block alert-success\">\n",
    "<b>Comentário do corretor</b> <a class=\"tocSkip\"></a>\n",
    "\n",
    "Muito bem visualizado! Este ponto é essencial para que os dados façam sentido, definir o valor máximo de anos trabalhados!\n",
    "\n",
    "</div>"
   ]
  },
  {
   "cell_type": "code",
   "execution_count": 104,
   "metadata": {},
   "outputs": [
    {
     "name": "stdout",
     "output_type": "stream",
     "text": [
      "Valores atipicos genero M :  652 \n",
      "Valores atipicos genero F :  2955 \n",
      " Representa 16.812715577514684% do nosso dataset\n"
     ]
    }
   ],
   "source": [
    "totalM = len ( df [ ((df.days_employed / 365) > 35) & (df.gender=='M') ])\n",
    "totalF = len ( df [ ((df.days_employed / 365) > 30) & (df.gender=='F') ])\n",
    "print ( f\"Valores atipicos genero M :  {totalM} \")\n",
    "print ( f\"Valores atipicos genero F :  {totalF} \")\n",
    "\n",
    "print(f\" Representa { ((totalM+totalF) / len(df)) * 100 }% do nosso dataset\")"
   ]
  },
  {
   "cell_type": "markdown",
   "metadata": {},
   "source": [
    "Sendo aproximadamente 17% do nosso dataframe se removermos estas linhas havera de facto um impacto nos resultados sobre o dataset. \n",
    "\n",
    "Resta apenas substituirmos"
   ]
  },
  {
   "cell_type": "markdown",
   "metadata": {},
   "source": [
    "Para esta substituição iremos usar a media de idade dos clientes onde a coluna `days_employed` seja inferior a 35 anos para o genero M e 30 anos para o genero F"
   ]
  },
  {
   "cell_type": "code",
   "execution_count": 105,
   "metadata": {},
   "outputs": [
    {
     "name": "stdout",
     "output_type": "stream",
     "text": [
      "Valor Maximo para genero F  10950\n",
      "Valor Maximo para genero M  12775\n"
     ]
    }
   ],
   "source": [
    "maxToWoman = 30*365\n",
    "maxToMan   = 35*365\n",
    "print(f\"Valor Maximo para genero F  {maxToWoman}\")\n",
    "print(f\"Valor Maximo para genero M  {maxToMan}\")"
   ]
  },
  {
   "cell_type": "markdown",
   "metadata": {},
   "source": [
    "Adquirindo as medias para as condicoes mencionadas acima:"
   ]
  },
  {
   "cell_type": "code",
   "execution_count": 106,
   "metadata": {
    "scrolled": true
   },
   "outputs": [
    {
     "name": "stdout",
     "output_type": "stream",
     "text": [
      "Media para o genero M : 2048.1439616751886\n",
      "Media para o genero F : 2368.435771791471\n"
     ]
    }
   ],
   "source": [
    "\n",
    "#Ja excluimos os M atipicos\n",
    "dfMediaDays_tmp = df[ ((df.days_employed / 365) <= 35)  & (df.gender=='M') & (~df.days_employed.isna()) ]\n",
    "mediasDias_M = dfMediaDays_tmp.days_employed.mean()\n",
    "\n",
    "#Iremos excluir os F atipicos também\n",
    "dfMediaDays_tmp = df[ ((df.days_employed / 365) <= 30)  & (df.gender=='F') & (~df.days_employed.isna()) ]\n",
    "mediasDias_F = dfMediaDays_tmp.days_employed.mean()\n",
    "\n",
    "print(f\"Media para o genero M : {mediasDias_M}\" )\n",
    "print(f\"Media para o genero F : {mediasDias_F}\" )\n"
   ]
  },
  {
   "cell_type": "markdown",
   "metadata": {},
   "source": [
    "Iremos atribuir estes valores, lembrando que queremos alterar a seguinte qtd de linhas:\n",
    "- M"
   ]
  },
  {
   "cell_type": "code",
   "execution_count": 107,
   "metadata": {},
   "outputs": [
    {
     "data": {
      "text/plain": [
       "652"
      ]
     },
     "execution_count": 107,
     "metadata": {},
     "output_type": "execute_result"
    }
   ],
   "source": [
    "totalM"
   ]
  },
  {
   "cell_type": "markdown",
   "metadata": {},
   "source": [
    "- F"
   ]
  },
  {
   "cell_type": "code",
   "execution_count": 108,
   "metadata": {},
   "outputs": [
    {
     "data": {
      "text/plain": [
       "2955"
      ]
     },
     "execution_count": 108,
     "metadata": {},
     "output_type": "execute_result"
    }
   ],
   "source": [
    "totalF"
   ]
  },
  {
   "cell_type": "markdown",
   "metadata": {},
   "source": [
    "Sendo assim vamos usar o mesmo filtro que nos retornou estes totais [aqui acima](correcaoAtipicosDays)"
   ]
  },
  {
   "cell_type": "code",
   "execution_count": 109,
   "metadata": {},
   "outputs": [],
   "source": [
    "filtroM = ( (df.days_employed / 365) > 35) & (df.gender=='M') \n",
    "filtroF = ( (df.days_employed / 365) > 30) & (df.gender=='F')\n",
    "\n",
    "\n",
    "df.loc[ filtroM, 'days_employed' ] = mediasDias_M\n",
    "\n",
    "df.loc[ filtroF, 'days_employed' ] = mediasDias_F\n"
   ]
  },
  {
   "cell_type": "markdown",
   "metadata": {},
   "source": [
    "<div class=\"alert alert-block alert-success\">\n",
    "<b>Comentário do corretor</b> <a class=\"tocSkip\"></a>\n",
    "\n",
    "Seu código está bem formulado para corrigir os valores anômalos. Gostei muito de sua utilização do máximo para homens e mulheres para trabalhar\n",
    "\n",
    "</div>"
   ]
  },
  {
   "cell_type": "markdown",
   "metadata": {},
   "source": [
    "Como ainda temos a variavel abaixo com as medias anterior:"
   ]
  },
  {
   "cell_type": "code",
   "execution_count": 110,
   "metadata": {},
   "outputs": [
    {
     "data": {
      "text/html": [
       "<div>\n",
       "<style scoped>\n",
       "    .dataframe tbody tr th:only-of-type {\n",
       "        vertical-align: middle;\n",
       "    }\n",
       "\n",
       "    .dataframe tbody tr th {\n",
       "        vertical-align: top;\n",
       "    }\n",
       "\n",
       "    .dataframe thead th {\n",
       "        text-align: right;\n",
       "    }\n",
       "</style>\n",
       "<table border=\"1\" class=\"dataframe\">\n",
       "  <thead>\n",
       "    <tr style=\"text-align: right;\">\n",
       "      <th></th>\n",
       "      <th>age_group</th>\n",
       "      <th>media_days_employed</th>\n",
       "    </tr>\n",
       "  </thead>\n",
       "  <tbody>\n",
       "    <tr>\n",
       "      <th>0</th>\n",
       "      <td>10 - 20</td>\n",
       "      <td>633.678086</td>\n",
       "    </tr>\n",
       "    <tr>\n",
       "      <th>1</th>\n",
       "      <td>20 - 30</td>\n",
       "      <td>2089.054192</td>\n",
       "    </tr>\n",
       "    <tr>\n",
       "      <th>2</th>\n",
       "      <td>30 - 40</td>\n",
       "      <td>4141.951433</td>\n",
       "    </tr>\n",
       "    <tr>\n",
       "      <th>3</th>\n",
       "      <td>40 - 50</td>\n",
       "      <td>12286.804503</td>\n",
       "    </tr>\n",
       "    <tr>\n",
       "      <th>4</th>\n",
       "      <td>50 - 60</td>\n",
       "      <td>133838.107994</td>\n",
       "    </tr>\n",
       "    <tr>\n",
       "      <th>5</th>\n",
       "      <td>60+</td>\n",
       "      <td>286544.143436</td>\n",
       "    </tr>\n",
       "  </tbody>\n",
       "</table>\n",
       "</div>"
      ],
      "text/plain": [
       "  age_group  media_days_employed\n",
       "0   10 - 20           633.678086\n",
       "1   20 - 30          2089.054192\n",
       "2   30 - 40          4141.951433\n",
       "3   40 - 50         12286.804503\n",
       "4   50 - 60        133838.107994\n",
       "5       60+        286544.143436"
      ]
     },
     "execution_count": 110,
     "metadata": {},
     "output_type": "execute_result"
    }
   ],
   "source": [
    "#print(\"Media Anos Trabalho\")\n",
    "#(df_days_mean['media_days_employed'] / 365).astype(int)\n",
    "df_days_mean"
   ]
  },
  {
   "cell_type": "markdown",
   "metadata": {},
   "source": [
    "Vamos comparar com as novas medias:"
   ]
  },
  {
   "cell_type": "code",
   "execution_count": 111,
   "metadata": {},
   "outputs": [
    {
     "name": "stdout",
     "output_type": "stream",
     "text": [
      "NOVA Media Anos Trabalho\n"
     ]
    },
    {
     "data": {
      "text/html": [
       "<div>\n",
       "<style scoped>\n",
       "    .dataframe tbody tr th:only-of-type {\n",
       "        vertical-align: middle;\n",
       "    }\n",
       "\n",
       "    .dataframe tbody tr th {\n",
       "        vertical-align: top;\n",
       "    }\n",
       "\n",
       "    .dataframe thead th {\n",
       "        text-align: right;\n",
       "    }\n",
       "</style>\n",
       "<table border=\"1\" class=\"dataframe\">\n",
       "  <thead>\n",
       "    <tr style=\"text-align: right;\">\n",
       "      <th></th>\n",
       "      <th>age_group</th>\n",
       "      <th>media_days_employed</th>\n",
       "    </tr>\n",
       "  </thead>\n",
       "  <tbody>\n",
       "    <tr>\n",
       "      <th>0</th>\n",
       "      <td>10 - 20</td>\n",
       "      <td>633.678086</td>\n",
       "    </tr>\n",
       "    <tr>\n",
       "      <th>1</th>\n",
       "      <td>20 - 30</td>\n",
       "      <td>1215.139072</td>\n",
       "    </tr>\n",
       "    <tr>\n",
       "      <th>2</th>\n",
       "      <td>30 - 40</td>\n",
       "      <td>2025.236406</td>\n",
       "    </tr>\n",
       "    <tr>\n",
       "      <th>3</th>\n",
       "      <td>40 - 50</td>\n",
       "      <td>2666.923473</td>\n",
       "    </tr>\n",
       "    <tr>\n",
       "      <th>4</th>\n",
       "      <td>50 - 60</td>\n",
       "      <td>2670.945498</td>\n",
       "    </tr>\n",
       "    <tr>\n",
       "      <th>5</th>\n",
       "      <td>60+</td>\n",
       "      <td>2482.163028</td>\n",
       "    </tr>\n",
       "  </tbody>\n",
       "</table>\n",
       "</div>"
      ],
      "text/plain": [
       "  age_group  media_days_employed\n",
       "0   10 - 20           633.678086\n",
       "1   20 - 30          1215.139072\n",
       "2   30 - 40          2025.236406\n",
       "3   40 - 50          2666.923473\n",
       "4   50 - 60          2670.945498\n",
       "5       60+          2482.163028"
      ]
     },
     "execution_count": 111,
     "metadata": {},
     "output_type": "execute_result"
    }
   ],
   "source": [
    "df_days_mean_new = df.groupby('age_group')['days_employed'].mean().reset_index().rename(columns={'days_employed':'media_days_employed'})\n",
    "\n",
    "print(\"NOVA Media Anos Trabalho\")\n",
    "(df_days_mean_new)"
   ]
  },
  {
   "cell_type": "markdown",
   "metadata": {},
   "source": [
    "Convertendo em anos:"
   ]
  },
  {
   "cell_type": "code",
   "execution_count": 112,
   "metadata": {},
   "outputs": [
    {
     "data": {
      "text/plain": [
       "0    1.736104\n",
       "1    3.329148\n",
       "2    5.548593\n",
       "3    7.306640\n",
       "4    7.317659\n",
       "5    6.800447\n",
       "Name: media_days_employed, dtype: float64"
      ]
     },
     "execution_count": 112,
     "metadata": {},
     "output_type": "execute_result"
    }
   ],
   "source": [
    "df_days_mean_new.media_days_employed / 365"
   ]
  },
  {
   "cell_type": "markdown",
   "metadata": {},
   "source": [
    "**Temos valores mais normais para os dias/anos de trabalho por faixa etaria**"
   ]
  },
  {
   "cell_type": "code",
   "execution_count": 113,
   "metadata": {},
   "outputs": [],
   "source": [
    "# Vamos escrever uma função que calcule médias ou medianas (dependendo da sua decisão) com base no seu parâmetro identificado\n",
    "\n",
    "# O calculo das medias com base na faixa etaria foi feito e armazenado no dataframe df_days_mean_new acima \n",
    "#após correção dos dados atipicos na coluna days_employed\n",
    "#Entao resta que a funcao faça atribuicao aos valores ausentes da coluna days_employed\n",
    "\n",
    "#Muito parecida a funcao preencher_renda_ausente criada acima, pois a origem das medias também das é um df separado:\n",
    "#def preencher_renda_ausente (linha):\n",
    " \n",
    "#    tipoLinha = linha['income_type']   \n",
    "#    return df_group.loc[ (df_group['income_type'] == tipoLinha) ]['media'].values[0]\n",
    "\n",
    "def atribuir_days_ausentes(linha):\n",
    "    \n",
    "    try:\n",
    "        grupo_idade_linha = linha['age_group']\n",
    "    \n",
    "        return df_days_mean_new.loc[ (df_days_mean_new['age_group'] == grupo_idade_linha) ]['media_days_employed'].values[0]\n",
    "\n",
    "    except:\n",
    "        return 0\n"
   ]
  },
  {
   "cell_type": "code",
   "execution_count": 114,
   "metadata": {},
   "outputs": [
    {
     "name": "stdout",
     "output_type": "stream",
     "text": [
      "2482.1630282778474\n",
      "2025.2364061062533\n"
     ]
    }
   ],
   "source": [
    "# Verifique se a função funciona\n",
    "\n",
    "print( atribuir_days_ausentes ( pd.Series (data=['60+'], index=['age_group'])  ))\n",
    "\n",
    "print( atribuir_days_ausentes ( pd.Series (data=['30 - 40'], index=['age_group'])  ))"
   ]
  },
  {
   "cell_type": "markdown",
   "metadata": {},
   "source": [
    "Lembramos mais uma vez o total de valores ausentes para a coluna e que não foi alterado mesmo após a modificação acima:\n",
    "\n",
    "[aqui](#usarCategoriaIdade)\n"
   ]
  },
  {
   "cell_type": "code",
   "execution_count": 115,
   "metadata": {},
   "outputs": [
    {
     "name": "stdout",
     "output_type": "stream",
     "text": [
      "total de valores ausentes 2103\n"
     ]
    }
   ],
   "source": [
    "print(f'total de valores ausentes {df.days_employed.isna().sum()}')"
   ]
  },
  {
   "cell_type": "markdown",
   "metadata": {},
   "source": [
    "<a id=ausentesDaysEmplTratados></a>"
   ]
  },
  {
   "cell_type": "code",
   "execution_count": 116,
   "metadata": {},
   "outputs": [],
   "source": [
    "# Aplicar função\n",
    "\n",
    "#Sobre os valores ausentes apenas\n",
    "\n",
    "df.loc[ df.days_employed.isna(), 'days_employed' ] =  df[ df.days_employed.isna() ].apply( atribuir_days_ausentes, axis=1 )"
   ]
  },
  {
   "cell_type": "code",
   "execution_count": 117,
   "metadata": {},
   "outputs": [
    {
     "name": "stdout",
     "output_type": "stream",
     "text": [
      "total de valores ausentes 0\n"
     ]
    }
   ],
   "source": [
    "# Verifique se a função funcionou\n",
    "\n",
    "print(f'total de valores ausentes {df.days_employed.isna().sum()}')"
   ]
  },
  {
   "cell_type": "markdown",
   "metadata": {},
   "source": [
    "<div class=\"alert alert-block alert-success\">\n",
    "<b>Comentário do corretor</b> <a class=\"tocSkip\"></a>\n",
    "\n",
    "Valores ausentes na coluna 'days_employed' muito bem realizada! Código bem estruturado\n",
    "\n",
    "</div>"
   ]
  },
  {
   "cell_type": "code",
   "execution_count": 118,
   "metadata": {},
   "outputs": [],
   "source": [
    "# Substituir valores ausentes\n",
    "\n",
    "# Sem mais valores ausentes"
   ]
  },
  {
   "cell_type": "code",
   "execution_count": 119,
   "metadata": {},
   "outputs": [
    {
     "data": {
      "text/plain": [
       "True"
      ]
     },
     "execution_count": 119,
     "metadata": {},
     "output_type": "execute_result"
    }
   ],
   "source": [
    "df.days_employed.count() == len(df)"
   ]
  },
  {
   "cell_type": "markdown",
   "metadata": {},
   "source": [
    "O total de valores para a coluna `days_employed` corresponde ao numero de valores em outras colunas."
   ]
  },
  {
   "cell_type": "code",
   "execution_count": 120,
   "metadata": {},
   "outputs": [],
   "source": [
    "# Verifique as entradas em todas as colunas - certifique-se de corrigir todos os valores ausentes"
   ]
  },
  {
   "cell_type": "code",
   "execution_count": 121,
   "metadata": {},
   "outputs": [
    {
     "name": "stdout",
     "output_type": "stream",
     "text": [
      "<class 'pandas.core.frame.DataFrame'>\n",
      "RangeIndex: 21454 entries, 0 to 21453\n",
      "Data columns (total 13 columns):\n",
      " #   Column            Non-Null Count  Dtype  \n",
      "---  ------            --------------  -----  \n",
      " 0   children          21454 non-null  int64  \n",
      " 1   days_employed     21454 non-null  float64\n",
      " 2   dob_years         21454 non-null  int64  \n",
      " 3   education         21454 non-null  object \n",
      " 4   education_id      21454 non-null  int64  \n",
      " 5   family_status     21454 non-null  object \n",
      " 6   family_status_id  21454 non-null  int64  \n",
      " 7   gender            21454 non-null  object \n",
      " 8   income_type       21454 non-null  object \n",
      " 9   debt              21454 non-null  int64  \n",
      " 10  total_income      21454 non-null  float64\n",
      " 11  purpose           21454 non-null  object \n",
      " 12  age_group         21454 non-null  object \n",
      "dtypes: float64(2), int64(5), object(6)\n",
      "memory usage: 2.1+ MB\n"
     ]
    }
   ],
   "source": [
    "df.info()"
   ]
  },
  {
   "cell_type": "code",
   "execution_count": 122,
   "metadata": {},
   "outputs": [
    {
     "data": {
      "text/html": [
       "<div>\n",
       "<style scoped>\n",
       "    .dataframe tbody tr th:only-of-type {\n",
       "        vertical-align: middle;\n",
       "    }\n",
       "\n",
       "    .dataframe tbody tr th {\n",
       "        vertical-align: top;\n",
       "    }\n",
       "\n",
       "    .dataframe thead th {\n",
       "        text-align: right;\n",
       "    }\n",
       "</style>\n",
       "<table border=\"1\" class=\"dataframe\">\n",
       "  <thead>\n",
       "    <tr style=\"text-align: right;\">\n",
       "      <th></th>\n",
       "      <th>children</th>\n",
       "      <th>days_employed</th>\n",
       "      <th>dob_years</th>\n",
       "      <th>education_id</th>\n",
       "      <th>family_status_id</th>\n",
       "      <th>debt</th>\n",
       "      <th>total_income</th>\n",
       "    </tr>\n",
       "  </thead>\n",
       "  <tbody>\n",
       "    <tr>\n",
       "      <th>count</th>\n",
       "      <td>21454.000000</td>\n",
       "      <td>21454.000000</td>\n",
       "      <td>21454.000000</td>\n",
       "      <td>21454.000000</td>\n",
       "      <td>21454.000000</td>\n",
       "      <td>21454.000000</td>\n",
       "      <td>21454.000000</td>\n",
       "    </tr>\n",
       "    <tr>\n",
       "      <th>mean</th>\n",
       "      <td>0.471287</td>\n",
       "      <td>2260.514208</td>\n",
       "      <td>43.476088</td>\n",
       "      <td>0.817097</td>\n",
       "      <td>0.973898</td>\n",
       "      <td>0.081150</td>\n",
       "      <td>26451.212929</td>\n",
       "    </tr>\n",
       "    <tr>\n",
       "      <th>std</th>\n",
       "      <td>0.751071</td>\n",
       "      <td>1773.607275</td>\n",
       "      <td>12.224853</td>\n",
       "      <td>0.548674</td>\n",
       "      <td>1.421567</td>\n",
       "      <td>0.273072</td>\n",
       "      <td>15709.968189</td>\n",
       "    </tr>\n",
       "    <tr>\n",
       "      <th>min</th>\n",
       "      <td>0.000000</td>\n",
       "      <td>24.141633</td>\n",
       "      <td>19.000000</td>\n",
       "      <td>0.000000</td>\n",
       "      <td>0.000000</td>\n",
       "      <td>0.000000</td>\n",
       "      <td>3306.762000</td>\n",
       "    </tr>\n",
       "    <tr>\n",
       "      <th>25%</th>\n",
       "      <td>0.000000</td>\n",
       "      <td>1023.662702</td>\n",
       "      <td>33.000000</td>\n",
       "      <td>1.000000</td>\n",
       "      <td>0.000000</td>\n",
       "      <td>0.000000</td>\n",
       "      <td>17219.817250</td>\n",
       "    </tr>\n",
       "    <tr>\n",
       "      <th>50%</th>\n",
       "      <td>0.000000</td>\n",
       "      <td>2048.143962</td>\n",
       "      <td>42.000000</td>\n",
       "      <td>1.000000</td>\n",
       "      <td>0.000000</td>\n",
       "      <td>0.000000</td>\n",
       "      <td>22815.103500</td>\n",
       "    </tr>\n",
       "    <tr>\n",
       "      <th>75%</th>\n",
       "      <td>1.000000</td>\n",
       "      <td>2666.923473</td>\n",
       "      <td>53.000000</td>\n",
       "      <td>1.000000</td>\n",
       "      <td>1.000000</td>\n",
       "      <td>0.000000</td>\n",
       "      <td>31331.348000</td>\n",
       "    </tr>\n",
       "    <tr>\n",
       "      <th>max</th>\n",
       "      <td>5.000000</td>\n",
       "      <td>12747.577578</td>\n",
       "      <td>75.000000</td>\n",
       "      <td>4.000000</td>\n",
       "      <td>4.000000</td>\n",
       "      <td>1.000000</td>\n",
       "      <td>362496.645000</td>\n",
       "    </tr>\n",
       "  </tbody>\n",
       "</table>\n",
       "</div>"
      ],
      "text/plain": [
       "           children  days_employed     dob_years  education_id  \\\n",
       "count  21454.000000   21454.000000  21454.000000  21454.000000   \n",
       "mean       0.471287    2260.514208     43.476088      0.817097   \n",
       "std        0.751071    1773.607275     12.224853      0.548674   \n",
       "min        0.000000      24.141633     19.000000      0.000000   \n",
       "25%        0.000000    1023.662702     33.000000      1.000000   \n",
       "50%        0.000000    2048.143962     42.000000      1.000000   \n",
       "75%        1.000000    2666.923473     53.000000      1.000000   \n",
       "max        5.000000   12747.577578     75.000000      4.000000   \n",
       "\n",
       "       family_status_id          debt   total_income  \n",
       "count      21454.000000  21454.000000   21454.000000  \n",
       "mean           0.973898      0.081150   26451.212929  \n",
       "std            1.421567      0.273072   15709.968189  \n",
       "min            0.000000      0.000000    3306.762000  \n",
       "25%            0.000000      0.000000   17219.817250  \n",
       "50%            0.000000      0.000000   22815.103500  \n",
       "75%            1.000000      0.000000   31331.348000  \n",
       "max            4.000000      1.000000  362496.645000  "
      ]
     },
     "execution_count": 122,
     "metadata": {},
     "output_type": "execute_result"
    }
   ],
   "source": [
    "df.describe()"
   ]
  },
  {
   "cell_type": "code",
   "execution_count": 123,
   "metadata": {},
   "outputs": [
    {
     "data": {
      "text/plain": [
       "children              int64\n",
       "days_employed       float64\n",
       "dob_years             int64\n",
       "education            object\n",
       "education_id          int64\n",
       "family_status        object\n",
       "family_status_id      int64\n",
       "gender               object\n",
       "income_type          object\n",
       "debt                  int64\n",
       "total_income        float64\n",
       "purpose              object\n",
       "age_group            object\n",
       "dtype: object"
      ]
     },
     "execution_count": 123,
     "metadata": {},
     "output_type": "execute_result"
    }
   ],
   "source": [
    "df.dtypes"
   ]
  },
  {
   "cell_type": "markdown",
   "metadata": {},
   "source": [
    "## Categorização de dados\n"
   ]
  },
  {
   "cell_type": "code",
   "execution_count": 124,
   "metadata": {
    "scrolled": true
   },
   "outputs": [],
   "source": [
    "# Exiba os valores dos dados selecionados para categorização\n"
   ]
  },
  {
   "cell_type": "markdown",
   "metadata": {},
   "source": [
    "### Verificacao dos valores unicos"
   ]
  },
  {
   "cell_type": "code",
   "execution_count": 125,
   "metadata": {},
   "outputs": [
    {
     "name": "stdout",
     "output_type": "stream",
     "text": [
      "children - valores exclusivos:\n",
      " [1 0 3 2 4 5]\n",
      "\n",
      "days_employed - valores exclusivos:\n",
      " [8437.67302776 4024.80375385 5623.42261023 ... 2113.3468877  3112.4817052\n",
      " 1984.50758853]\n",
      "\n",
      "dob_years - valores exclusivos:\n",
      " [42 36 33 32 53 27 43 50 35 41 40 65 54 56 26 48 24 21 57 67 28 63 62 47\n",
      " 34 68 25 31 30 20 49 37 45 61 64 44 52 46 23 38 39 51 59 29 60 55 58 71\n",
      " 22 73 66 69 19 72 70 74 75]\n",
      "\n",
      "education - valores exclusivos:\n",
      " [\"bachelor's degree\" 'secondary education' 'some college'\n",
      " 'primary education' 'graduate degree']\n",
      "\n",
      "education_id - valores exclusivos:\n",
      " [0 1 2 3 4]\n",
      "\n",
      "family_status - valores exclusivos:\n",
      " ['married' 'civil partnership' 'widow / widower' 'divorced' 'unmarried']\n",
      "\n",
      "family_status_id - valores exclusivos:\n",
      " [0 1 2 3 4]\n",
      "\n",
      "gender - valores exclusivos:\n",
      " ['F' 'M' 'XNA']\n",
      "\n",
      "income_type - valores exclusivos:\n",
      " ['employee' 'retiree' 'business' 'civil servant' 'unemployed'\n",
      " 'entrepreneur' 'student' 'paternity / maternity leave']\n",
      "\n",
      "debt - valores exclusivos:\n",
      " [0 1]\n",
      "\n",
      "total_income - valores exclusivos:\n",
      " [40620.102 17932.802 23341.752 ... 14347.61  39054.888 13127.587]\n",
      "\n",
      "purpose - valores exclusivos:\n",
      " ['purchase of the house' 'car purchase' 'supplementary education'\n",
      " 'to have a wedding' 'housing transactions' 'education' 'having a wedding'\n",
      " 'purchase of the house for my family' 'buy real estate'\n",
      " 'buy commercial real estate' 'buy residential real estate'\n",
      " 'construction of own property' 'property' 'building a property'\n",
      " 'buying a second-hand car' 'buying my own car'\n",
      " 'transactions with commercial real estate' 'building a real estate'\n",
      " 'housing' 'transactions with my real estate' 'cars' 'to become educated'\n",
      " 'second-hand car purchase' 'getting an education' 'car'\n",
      " 'wedding ceremony' 'to get a supplementary education'\n",
      " 'purchase of my own house' 'real estate transactions'\n",
      " 'getting higher education' 'to own a car' 'purchase of a car'\n",
      " 'profile education' 'university education'\n",
      " 'buying property for renting out' 'to buy a car' 'housing renovation'\n",
      " 'going to university']\n",
      "\n",
      "age_group - valores exclusivos:\n",
      " ['40 - 50' '30 - 40' '50 - 60' '20 - 30' '60+' '10 - 20']\n",
      "\n"
     ]
    }
   ],
   "source": [
    "# Verifique os valores exclusivos\n",
    "\n",
    "for col in df.columns.tolist():\n",
    "    print(f\"{col} - valores exclusivos:\\n {df[col].unique()}\\n\")\n",
    "\n",
    "#print(f\"education - Valores exclusivos \\n{df.education.unique()}\")\n",
    "\n",
    "#print(f\"\\nfamily_status - Valores exclusivos \\n{df.family_status.unique()}\")\n",
    "\n",
    "#print(f\"\\nincome_type - Valores exclusivos \\n{df.income_type.unique()}\")\n",
    "\n",
    "#print(f\"\\nchildren - Valores exclusivos \\n{df.children.unique()}\")\n",
    "\n",
    "#print(f\"\\n debt - Valores exclusivos \\n{df.debt.unique()}\")\n",
    "\n",
    "#print(f\"\\npurpose - Valores exclusivos \\n{df.purpose.unique()}\")\n"
   ]
  },
  {
   "cell_type": "markdown",
   "metadata": {},
   "source": [
    "**Podemos categorizar as seguintes colunas**\n",
    "\n",
    "- `children` e dizer simplesmente se tem ou não filhos, `True` ou `False` para um filtro rapido pelo dataset\n",
    "\n",
    "- `debt` a coluna tem apenas 2 valores, 0 ou 1 o que nos leva a categorizar do mesmo modo (sim/nao) `True` ou `False`\n",
    "- `education` podemos categorizar dizendo se o cliente tem `high level education` ou `nao`, novamente posso resumir em `True` ou `False` para uma nova coluna `has_some_high_education`"
   ]
  },
  {
   "cell_type": "markdown",
   "metadata": {},
   "source": [
    "<div class=\"alert alert-block alert-warning\">\n",
    "<b>Comentário do corretor</b> <a class=\"tocSkip\"></a>\n",
    "\n",
    "Como temos poucas categorias em education, não é necessário categorizar esta coluna!\n",
    "\n",
    "</div>"
   ]
  },
  {
   "cell_type": "markdown",
   "metadata": {},
   "source": [
    "> <font color=purple>Gerson: Tomei boa nota, obrigado.</font>"
   ]
  },
  {
   "cell_type": "markdown",
   "metadata": {},
   "source": [
    "### Funcao para categorizar pela coluna `children`"
   ]
  },
  {
   "cell_type": "code",
   "execution_count": 126,
   "metadata": {},
   "outputs": [],
   "source": [
    "# Vamos escrever uma função para categorizar os dados com base em tópicos comunss\n",
    "### Funcao para categorizar a coluna `children`\n",
    "def categorizar_children(row):\n",
    "    \n",
    "    if row['children'] > 0 : return True\n",
    "\n",
    "    return False"
   ]
  },
  {
   "cell_type": "markdown",
   "metadata": {},
   "source": [
    "### Funcao para categorizar pela coluna `education`"
   ]
  },
  {
   "cell_type": "code",
   "execution_count": 127,
   "metadata": {},
   "outputs": [],
   "source": [
    "def categorizar_high_education(row):\n",
    "    \n",
    "    education_level = row['education']\n",
    "    \n",
    "    if education_level == 'primary education' or education_level == 'secondary education': return False\n",
    "    \n",
    "    return True"
   ]
  },
  {
   "cell_type": "markdown",
   "metadata": {},
   "source": [
    "### Funcao para categorizar pela coluna `debt`"
   ]
  },
  {
   "cell_type": "code",
   "execution_count": 128,
   "metadata": {},
   "outputs": [],
   "source": [
    "def categorizar_has_debt(row):\n",
    "    \n",
    "    if row['debt'] == 0 : return \"Nao tem divida\"\n",
    "\n",
    "    return \"Tem divida\"\n",
    "    "
   ]
  },
  {
   "cell_type": "markdown",
   "metadata": {},
   "source": [
    "\n",
    "<a id=categRendaCliente></a>\n",
    "\n",
    "### **Categorizar a renda do cliente em `baixo`,`medio` e `alto`**\n",
    "\n",
    "Será criada igualmente uma função para esta categorização com base a renda mensal do cliente.\n",
    "\n",
    "Precisamos então de definir os intervalos numericos da renda\n",
    "Esta categorização com base no intervalo da renda mensal faz todo sentido quando percebemos qual o salário minimo do pais em questão e qual o custo de vida no mesmo pais, caso tenhamos esta informação poderemos fazer uma categorização mais realista para os clientes."
   ]
  },
  {
   "cell_type": "code",
   "execution_count": 129,
   "metadata": {},
   "outputs": [
    {
     "name": "stdout",
     "output_type": "stream",
     "text": [
      "26451.212928894376\n",
      "22815.103499999997\n",
      "362496.645\n",
      "3306.762\n"
     ]
    }
   ],
   "source": [
    "print(df.total_income.mean() )\n",
    "print(df.total_income.median() )\n",
    "print(df.total_income.max())\n",
    "print(df.total_income.min())"
   ]
  },
  {
   "cell_type": "markdown",
   "metadata": {},
   "source": [
    "Como a renda maxima do nosso conjunto é de 362496, irei contar quantos estao acima da media:"
   ]
  },
  {
   "cell_type": "code",
   "execution_count": 130,
   "metadata": {},
   "outputs": [
    {
     "data": {
      "text/plain": [
       "8171"
      ]
     },
     "execution_count": 130,
     "metadata": {},
     "output_type": "execute_result"
    }
   ],
   "source": [
    "acima_media = len ( df[df.total_income > df.total_income.mean() ]  )\n",
    "acima_media"
   ]
  },
  {
   "cell_type": "code",
   "execution_count": 131,
   "metadata": {},
   "outputs": [
    {
     "data": {
      "text/plain": [
       "38.086137783163984"
      ]
     },
     "execution_count": 131,
     "metadata": {},
     "output_type": "execute_result"
    }
   ],
   "source": [
    "acima_media / len(df) * 100"
   ]
  },
  {
   "cell_type": "markdown",
   "metadata": {},
   "source": [
    "Como temos **38%** de clientes acima da media, e a diferença entre a media e o maximo é mais **+1 casa decimal** irei adicionar uma **outra categoria** para estes clientes `muito alto`\n",
    "\n",
    "Porque para min não faz muito sentido o cliente estar pelo menos **13 vezes** acima da renda media e ser considerado apenas renda alta. "
   ]
  },
  {
   "cell_type": "markdown",
   "metadata": {},
   "source": [
    "- 0 - 10_000 > `Baixo`\n",
    "- 10_001 - 30_000 > `Medio`\n",
    "- 30_001 - 60_000 > `Alta`\n",
    "- 60_001+ > `muito alto`"
   ]
  },
  {
   "cell_type": "markdown",
   "metadata": {},
   "source": [
    "### Funcao para categorizar a `renda`"
   ]
  },
  {
   "cell_type": "code",
   "execution_count": 132,
   "metadata": {},
   "outputs": [],
   "source": [
    "def categorizar_renda(linha):\n",
    "    \n",
    "    try:\n",
    "        renda = ( linha['total_income'] )\n",
    "\n",
    "        if renda >= 60_001: return 'muito alto'\n",
    "\n",
    "        if 30_000 <= renda < 60_000: return 'alto'  \n",
    "        if 10_000 <= renda < 30_000: return 'medio'  \n",
    "\n",
    "        return 'baixo'\n",
    "    except:\n",
    "        return 'Valor Nao Numerico!'\n",
    "    \n",
    "\n",
    "#df['income_level'] = df.apply(categorizar_renda, axis=1)\n",
    "#ver_distribuicao(df, 'income_level')"
   ]
  },
  {
   "cell_type": "markdown",
   "metadata": {},
   "source": [
    "<div class=\"alert alert-block alert-success\">\n",
    "<b>Comentário do corretor</b> <a class=\"tocSkip\"></a>\n",
    "\n",
    "Categorias muito bem colocadas para a renda! Sua função está corretíssima\n",
    "\n",
    "</div>"
   ]
  },
  {
   "cell_type": "markdown",
   "metadata": {},
   "source": [
    "Teste da funcao"
   ]
  },
  {
   "cell_type": "code",
   "execution_count": 133,
   "metadata": {},
   "outputs": [
    {
     "data": {
      "text/plain": [
       "'baixo'"
      ]
     },
     "execution_count": 133,
     "metadata": {},
     "output_type": "execute_result"
    }
   ],
   "source": [
    "categorizar_renda ( pd.Series( data=[1_002.0], index=['total_income'] ))"
   ]
  },
  {
   "cell_type": "markdown",
   "metadata": {},
   "source": [
    "Aplicação no dataset e observaçao da distribuicao"
   ]
  },
  {
   "cell_type": "code",
   "execution_count": 134,
   "metadata": {},
   "outputs": [
    {
     "data": {
      "text/html": [
       "<style  type=\"text/css\" >\n",
       "#T_ce51f_row0_col1{\n",
       "            width:  10em;\n",
       "             height:  80%;\n",
       "            background:  linear-gradient(90deg,#d65f5f 100.0%, transparent 100.0%);\n",
       "        }#T_ce51f_row1_col1{\n",
       "            width:  10em;\n",
       "             height:  80%;\n",
       "            background:  linear-gradient(90deg,#d65f5f 32.8%, transparent 32.8%);\n",
       "        }#T_ce51f_row2_col1{\n",
       "            width:  10em;\n",
       "             height:  80%;\n",
       "            background:  linear-gradient(90deg,#d65f5f 1.8%, transparent 1.8%);\n",
       "        }#T_ce51f_row3_col1{\n",
       "            width:  10em;\n",
       "             height:  80%;\n",
       "        }</style><table id=\"T_ce51f_\" ><thead>    <tr>        <th class=\"blank level0\" ></th>        <th class=\"col_heading level0 col0\" >income_level</th>        <th class=\"col_heading level0 col1\" >Total</th>        <th class=\"col_heading level0 col2\" >Percentagem</th>    </tr></thead><tbody>\n",
       "                <tr>\n",
       "                        <th id=\"T_ce51f_level0_row0\" class=\"row_heading level0 row0\" >0</th>\n",
       "                        <td id=\"T_ce51f_row0_col0\" class=\"data row0 col0\" >medio</td>\n",
       "                        <td id=\"T_ce51f_row0_col1\" class=\"data row0 col1\" >14608</td>\n",
       "                        <td id=\"T_ce51f_row0_col2\" class=\"data row0 col2\" >68.09%</td>\n",
       "            </tr>\n",
       "            <tr>\n",
       "                        <th id=\"T_ce51f_level0_row1\" class=\"row_heading level0 row1\" >1</th>\n",
       "                        <td id=\"T_ce51f_row1_col0\" class=\"data row1 col0\" >alto</td>\n",
       "                        <td id=\"T_ce51f_row1_col1\" class=\"data row1 col1\" >5247</td>\n",
       "                        <td id=\"T_ce51f_row1_col2\" class=\"data row1 col2\" >24.46%</td>\n",
       "            </tr>\n",
       "            <tr>\n",
       "                        <th id=\"T_ce51f_level0_row2\" class=\"row_heading level0 row2\" >2</th>\n",
       "                        <td id=\"T_ce51f_row2_col0\" class=\"data row2 col0\" >baixo</td>\n",
       "                        <td id=\"T_ce51f_row2_col1\" class=\"data row2 col1\" >926</td>\n",
       "                        <td id=\"T_ce51f_row2_col2\" class=\"data row2 col2\" >4.32%</td>\n",
       "            </tr>\n",
       "            <tr>\n",
       "                        <th id=\"T_ce51f_level0_row3\" class=\"row_heading level0 row3\" >3</th>\n",
       "                        <td id=\"T_ce51f_row3_col0\" class=\"data row3 col0\" >muito alto</td>\n",
       "                        <td id=\"T_ce51f_row3_col1\" class=\"data row3 col1\" >673</td>\n",
       "                        <td id=\"T_ce51f_row3_col2\" class=\"data row3 col2\" >3.14%</td>\n",
       "            </tr>\n",
       "    </tbody></table>"
      ],
      "text/plain": [
       "<pandas.io.formats.style.Styler at 0x7f88bae14160>"
      ]
     },
     "execution_count": 134,
     "metadata": {},
     "output_type": "execute_result"
    }
   ],
   "source": [
    "df['income_level'] = df.apply(categorizar_renda, axis=1)\n",
    "ver_distribuicao(df, 'income_level')"
   ]
  },
  {
   "cell_type": "code",
   "execution_count": 135,
   "metadata": {},
   "outputs": [],
   "source": [
    "# Crie uma coluna com as categorias e conte os valores para elas\n",
    "\n",
    "df['has_children'] = df.apply(categorizar_children, axis=1)"
   ]
  },
  {
   "cell_type": "code",
   "execution_count": 136,
   "metadata": {},
   "outputs": [],
   "source": [
    "# Crie uma coluna com as categorias e conte os valores para elas\n",
    "\n",
    "df['has_debt'] = df.apply(categorizar_has_debt, axis=1)"
   ]
  },
  {
   "cell_type": "markdown",
   "metadata": {},
   "source": [
    " "
   ]
  },
  {
   "cell_type": "code",
   "execution_count": 137,
   "metadata": {},
   "outputs": [],
   "source": [
    "# Examinar todos os dados numéricos em sua coluna selecionada para categorização"
   ]
  },
  {
   "cell_type": "code",
   "execution_count": 138,
   "metadata": {},
   "outputs": [
    {
     "data": {
      "text/html": [
       "<style  type=\"text/css\" >\n",
       "#T_d55e2_row0_col1{\n",
       "            width:  10em;\n",
       "             height:  80%;\n",
       "            background:  linear-gradient(90deg,#d65f5f 100.0%, transparent 100.0%);\n",
       "        }#T_d55e2_row1_col1{\n",
       "            width:  10em;\n",
       "             height:  80%;\n",
       "        }</style><table id=\"T_d55e2_\" ><thead>    <tr>        <th class=\"blank level0\" ></th>        <th class=\"col_heading level0 col0\" >has_children</th>        <th class=\"col_heading level0 col1\" >Total</th>        <th class=\"col_heading level0 col2\" >Percentagem</th>    </tr></thead><tbody>\n",
       "                <tr>\n",
       "                        <th id=\"T_d55e2_level0_row0\" class=\"row_heading level0 row0\" >0</th>\n",
       "                        <td id=\"T_d55e2_row0_col0\" class=\"data row0 col0\" >False</td>\n",
       "                        <td id=\"T_d55e2_row0_col1\" class=\"data row0 col1\" >14214</td>\n",
       "                        <td id=\"T_d55e2_row0_col2\" class=\"data row0 col2\" >66.25%</td>\n",
       "            </tr>\n",
       "            <tr>\n",
       "                        <th id=\"T_d55e2_level0_row1\" class=\"row_heading level0 row1\" >1</th>\n",
       "                        <td id=\"T_d55e2_row1_col0\" class=\"data row1 col0\" >True</td>\n",
       "                        <td id=\"T_d55e2_row1_col1\" class=\"data row1 col1\" >7240</td>\n",
       "                        <td id=\"T_d55e2_row1_col2\" class=\"data row1 col2\" >33.75%</td>\n",
       "            </tr>\n",
       "    </tbody></table>"
      ],
      "text/plain": [
       "<pandas.io.formats.style.Styler at 0x7f88bae14f40>"
      ]
     },
     "execution_count": 138,
     "metadata": {},
     "output_type": "execute_result"
    }
   ],
   "source": [
    "# Obter estatísticas resumidas para a coluna\n",
    "ver_distribuicao(df,'has_children')"
   ]
  },
  {
   "cell_type": "markdown",
   "metadata": {},
   "source": [
    "Aplicar a funcao para categorizar com base a coluna `education`"
   ]
  },
  {
   "cell_type": "code",
   "execution_count": 139,
   "metadata": {},
   "outputs": [],
   "source": [
    "df['has_some_high_education'] = df.apply(categorizar_high_education, axis=1)"
   ]
  },
  {
   "cell_type": "code",
   "execution_count": 140,
   "metadata": {},
   "outputs": [
    {
     "data": {
      "text/html": [
       "<style  type=\"text/css\" >\n",
       "#T_f5e30_row0_col1{\n",
       "            width:  10em;\n",
       "             height:  80%;\n",
       "            background:  linear-gradient(90deg,#d65f5f 100.0%, transparent 100.0%);\n",
       "        }#T_f5e30_row1_col1{\n",
       "            width:  10em;\n",
       "             height:  80%;\n",
       "        }</style><table id=\"T_f5e30_\" ><thead>    <tr>        <th class=\"blank level0\" ></th>        <th class=\"col_heading level0 col0\" >has_children</th>        <th class=\"col_heading level0 col1\" >Total</th>        <th class=\"col_heading level0 col2\" >Percentagem</th>    </tr></thead><tbody>\n",
       "                <tr>\n",
       "                        <th id=\"T_f5e30_level0_row0\" class=\"row_heading level0 row0\" >0</th>\n",
       "                        <td id=\"T_f5e30_row0_col0\" class=\"data row0 col0\" >False</td>\n",
       "                        <td id=\"T_f5e30_row0_col1\" class=\"data row0 col1\" >14214</td>\n",
       "                        <td id=\"T_f5e30_row0_col2\" class=\"data row0 col2\" >66.25%</td>\n",
       "            </tr>\n",
       "            <tr>\n",
       "                        <th id=\"T_f5e30_level0_row1\" class=\"row_heading level0 row1\" >1</th>\n",
       "                        <td id=\"T_f5e30_row1_col0\" class=\"data row1 col0\" >True</td>\n",
       "                        <td id=\"T_f5e30_row1_col1\" class=\"data row1 col1\" >7240</td>\n",
       "                        <td id=\"T_f5e30_row1_col2\" class=\"data row1 col2\" >33.75%</td>\n",
       "            </tr>\n",
       "    </tbody></table>"
      ],
      "text/plain": [
       "<pandas.io.formats.style.Styler at 0x7f88bae144f0>"
      ]
     },
     "execution_count": 140,
     "metadata": {},
     "output_type": "execute_result"
    }
   ],
   "source": [
    "ver_distribuicao(df,'has_children')"
   ]
  },
  {
   "cell_type": "code",
   "execution_count": 141,
   "metadata": {},
   "outputs": [],
   "source": [
    "# Criar função para categorização em diferentes grupos numéricos com base em intervalos\n",
    "# Feito"
   ]
  },
  {
   "cell_type": "code",
   "execution_count": 142,
   "metadata": {},
   "outputs": [],
   "source": [
    "# Criar coluna com categorias\n",
    "# Feito"
   ]
  },
  {
   "cell_type": "code",
   "execution_count": 143,
   "metadata": {
    "scrolled": true
   },
   "outputs": [],
   "source": [
    "# Conte os valores de cada categoria para ver a distribuição\n",
    "# Feito"
   ]
  },
  {
   "cell_type": "markdown",
   "metadata": {},
   "source": [
    "**A coluna `age_group` que criamos [aqui](#categoriaIdade) é um bom exemplo para a categorização em grupos numericos**\n",
    "\n",
    "Vejamos novamente a distribuição:"
   ]
  },
  {
   "cell_type": "code",
   "execution_count": 144,
   "metadata": {},
   "outputs": [
    {
     "data": {
      "text/html": [
       "<style  type=\"text/css\" >\n",
       "#T_f1b30_row0_col1{\n",
       "            width:  10em;\n",
       "             height:  80%;\n",
       "            background:  linear-gradient(90deg,#d65f5f 100.0%, transparent 100.0%);\n",
       "        }#T_f1b30_row1_col1{\n",
       "            width:  10em;\n",
       "             height:  80%;\n",
       "            background:  linear-gradient(90deg,#d65f5f 95.0%, transparent 95.0%);\n",
       "        }#T_f1b30_row2_col1{\n",
       "            width:  10em;\n",
       "             height:  80%;\n",
       "            background:  linear-gradient(90deg,#d65f5f 82.2%, transparent 82.2%);\n",
       "        }#T_f1b30_row3_col1{\n",
       "            width:  10em;\n",
       "             height:  80%;\n",
       "            background:  linear-gradient(90deg,#d65f5f 55.5%, transparent 55.5%);\n",
       "        }#T_f1b30_row4_col1{\n",
       "            width:  10em;\n",
       "             height:  80%;\n",
       "            background:  linear-gradient(90deg,#d65f5f 43.8%, transparent 43.8%);\n",
       "        }#T_f1b30_row5_col1{\n",
       "            width:  10em;\n",
       "             height:  80%;\n",
       "        }</style><table id=\"T_f1b30_\" ><thead>    <tr>        <th class=\"blank level0\" ></th>        <th class=\"col_heading level0 col0\" >age_group</th>        <th class=\"col_heading level0 col1\" >Total</th>        <th class=\"col_heading level0 col2\" >Percentagem</th>    </tr></thead><tbody>\n",
       "                <tr>\n",
       "                        <th id=\"T_f1b30_level0_row0\" class=\"row_heading level0 row0\" >0</th>\n",
       "                        <td id=\"T_f1b30_row0_col0\" class=\"data row0 col0\" >30 - 40</td>\n",
       "                        <td id=\"T_f1b30_row0_col1\" class=\"data row0 col1\" >5690</td>\n",
       "                        <td id=\"T_f1b30_row0_col2\" class=\"data row0 col2\" >26.52%</td>\n",
       "            </tr>\n",
       "            <tr>\n",
       "                        <th id=\"T_f1b30_level0_row1\" class=\"row_heading level0 row1\" >1</th>\n",
       "                        <td id=\"T_f1b30_row1_col0\" class=\"data row1 col0\" >40 - 50</td>\n",
       "                        <td id=\"T_f1b30_row1_col1\" class=\"data row1 col1\" >5407</td>\n",
       "                        <td id=\"T_f1b30_row1_col2\" class=\"data row1 col2\" >25.2%</td>\n",
       "            </tr>\n",
       "            <tr>\n",
       "                        <th id=\"T_f1b30_level0_row2\" class=\"row_heading level0 row2\" >2</th>\n",
       "                        <td id=\"T_f1b30_row2_col0\" class=\"data row2 col0\" >50 - 60</td>\n",
       "                        <td id=\"T_f1b30_row2_col1\" class=\"data row2 col1\" >4677</td>\n",
       "                        <td id=\"T_f1b30_row2_col2\" class=\"data row2 col2\" >21.8%</td>\n",
       "            </tr>\n",
       "            <tr>\n",
       "                        <th id=\"T_f1b30_level0_row3\" class=\"row_heading level0 row3\" >3</th>\n",
       "                        <td id=\"T_f1b30_row3_col0\" class=\"data row3 col0\" >20 - 30</td>\n",
       "                        <td id=\"T_f1b30_row3_col1\" class=\"data row3 col1\" >3166</td>\n",
       "                        <td id=\"T_f1b30_row3_col2\" class=\"data row3 col2\" >14.76%</td>\n",
       "            </tr>\n",
       "            <tr>\n",
       "                        <th id=\"T_f1b30_level0_row4\" class=\"row_heading level0 row4\" >4</th>\n",
       "                        <td id=\"T_f1b30_row4_col0\" class=\"data row4 col0\" >60+</td>\n",
       "                        <td id=\"T_f1b30_row4_col1\" class=\"data row4 col1\" >2500</td>\n",
       "                        <td id=\"T_f1b30_row4_col2\" class=\"data row4 col2\" >11.65%</td>\n",
       "            </tr>\n",
       "            <tr>\n",
       "                        <th id=\"T_f1b30_level0_row5\" class=\"row_heading level0 row5\" >5</th>\n",
       "                        <td id=\"T_f1b30_row5_col0\" class=\"data row5 col0\" >10 - 20</td>\n",
       "                        <td id=\"T_f1b30_row5_col1\" class=\"data row5 col1\" >14</td>\n",
       "                        <td id=\"T_f1b30_row5_col2\" class=\"data row5 col2\" >0.07%</td>\n",
       "            </tr>\n",
       "    </tbody></table>"
      ],
      "text/plain": [
       "<pandas.io.formats.style.Styler at 0x7f88bae11a00>"
      ]
     },
     "execution_count": 144,
     "metadata": {},
     "output_type": "execute_result"
    }
   ],
   "source": [
    "ver_distribuicao(df,'age_group')"
   ]
  },
  {
   "cell_type": "markdown",
   "metadata": {},
   "source": [
    "<a id=uniformizarPurpose></a>\n",
    "**Iremos adicionalmente uniformizar a coluna `purpose` para atender melhor a ultima hipotese**\n",
    "\n",
    "Actualmente temos o conjunto de valores para a coluna `purpose`"
   ]
  },
  {
   "cell_type": "code",
   "execution_count": 145,
   "metadata": {},
   "outputs": [
    {
     "data": {
      "text/plain": [
       "['building a property',\n",
       " 'building a real estate',\n",
       " 'buy commercial real estate',\n",
       " 'buy real estate',\n",
       " 'buy residential real estate',\n",
       " 'buying a second-hand car',\n",
       " 'buying my own car',\n",
       " 'buying property for renting out',\n",
       " 'car',\n",
       " 'car purchase',\n",
       " 'cars',\n",
       " 'construction of own property',\n",
       " 'education',\n",
       " 'getting an education',\n",
       " 'getting higher education',\n",
       " 'going to university',\n",
       " 'having a wedding',\n",
       " 'housing',\n",
       " 'housing renovation',\n",
       " 'housing transactions',\n",
       " 'profile education',\n",
       " 'property',\n",
       " 'purchase of a car',\n",
       " 'purchase of my own house',\n",
       " 'purchase of the house',\n",
       " 'purchase of the house for my family',\n",
       " 'real estate transactions',\n",
       " 'second-hand car purchase',\n",
       " 'supplementary education',\n",
       " 'to become educated',\n",
       " 'to buy a car',\n",
       " 'to get a supplementary education',\n",
       " 'to have a wedding',\n",
       " 'to own a car',\n",
       " 'transactions with commercial real estate',\n",
       " 'transactions with my real estate',\n",
       " 'university education',\n",
       " 'wedding ceremony']"
      ]
     },
     "execution_count": 145,
     "metadata": {},
     "output_type": "execute_result"
    }
   ],
   "source": [
    "listaPurposeOrig = sorted ( df.purpose.unique().tolist() )\n",
    "listaPurposeOrig[:]"
   ]
  },
  {
   "cell_type": "code",
   "execution_count": 146,
   "metadata": {},
   "outputs": [
    {
     "name": "stdout",
     "output_type": "stream",
     "text": [
      "Total de motivos: 38\n"
     ]
    }
   ],
   "source": [
    "print (f\"Total de motivos: {len(listaPurposeOrig)}\")"
   ]
  },
  {
   "cell_type": "markdown",
   "metadata": {},
   "source": [
    "A nosso ver, temos `duplicados` **implicitos** e podemos transformar para apresentar no final um relatorio mais simplificado"
   ]
  },
  {
   "cell_type": "code",
   "execution_count": 147,
   "metadata": {},
   "outputs": [
    {
     "name": "stdout",
     "output_type": "stream",
     "text": [
      "Temos 9 linhas com a palavra chave car\n",
      "Temos 3 linhas com a palavra chave house\n",
      "Temos 7 linhas com a palavra chave real estate\n",
      "Temos 7 linhas com a palavra chave education\n",
      "Temos 4 linhas com a palavra chave property\n",
      "Temos 3 linhas com a palavra chave housing\n",
      "Temos 3 linhas com a palavra chave wedding\n",
      "Total de motivos após a uniformização: 9\n"
     ]
    }
   ],
   "source": [
    "\n",
    "palavrasChave = ['car','house','real estate','education','property','housing','wedding']\n",
    "\n",
    "for chave in palavrasChave:\n",
    "    \n",
    "    listaTemp = [ valor for valor in listaPurposeOrig if chave in valor ]\n",
    "    \n",
    "    print(f\"Temos {len(listaTemp)} linhas com a palavra chave {chave}\")\n",
    "    \n",
    "    df.purpose.replace(listaTemp, chave , inplace=True)\n",
    "\n",
    "    \n",
    "listaPurposeNew = sorted ( df.purpose.unique().tolist() )\n",
    "print(f\"Total de motivos após a uniformização: {len(listaPurposeNew)}\")"
   ]
  },
  {
   "cell_type": "markdown",
   "metadata": {},
   "source": [
    "<div class=\"alert alert-block alert-success\">\n",
    "<b>Comentário do corretor</b> <a class=\"tocSkip\"></a>\n",
    "\n",
    "Ótimo! A categorização de purpose foi muito bem realizada, é essencial dividir em poucas categorias para remover as duplicatas implícitas.\n",
    "\n",
    "</div>"
   ]
  },
  {
   "cell_type": "code",
   "execution_count": 148,
   "metadata": {},
   "outputs": [
    {
     "data": {
      "text/html": [
       "<style  type=\"text/css\" >\n",
       "#T_a854f_row0_col1{\n",
       "            width:  10em;\n",
       "             height:  80%;\n",
       "            background:  linear-gradient(90deg,#d65f5f 100.0%, transparent 100.0%);\n",
       "        }#T_a854f_row1_col1{\n",
       "            width:  10em;\n",
       "             height:  80%;\n",
       "            background:  linear-gradient(90deg,#d65f5f 96.1%, transparent 96.1%);\n",
       "        }#T_a854f_row2_col1{\n",
       "            width:  10em;\n",
       "             height:  80%;\n",
       "            background:  linear-gradient(90deg,#d65f5f 66.6%, transparent 66.6%);\n",
       "        }#T_a854f_row3_col1{\n",
       "            width:  10em;\n",
       "             height:  80%;\n",
       "            background:  linear-gradient(90deg,#d65f5f 52.5%, transparent 52.5%);\n",
       "        }#T_a854f_row4_col1{\n",
       "            width:  10em;\n",
       "             height:  80%;\n",
       "            background:  linear-gradient(90deg,#d65f5f 47.2%, transparent 47.2%);\n",
       "        }#T_a854f_row5_col1,#T_a854f_row6_col1{\n",
       "            width:  10em;\n",
       "             height:  80%;\n",
       "            background:  linear-gradient(90deg,#d65f5f 36.9%, transparent 36.9%);\n",
       "        }#T_a854f_row7_col1{\n",
       "            width:  10em;\n",
       "             height:  80%;\n",
       "            background:  linear-gradient(90deg,#d65f5f 2.2%, transparent 2.2%);\n",
       "        }#T_a854f_row8_col1{\n",
       "            width:  10em;\n",
       "             height:  80%;\n",
       "        }</style><table id=\"T_a854f_\" ><thead>    <tr>        <th class=\"blank level0\" ></th>        <th class=\"col_heading level0 col0\" >purpose</th>        <th class=\"col_heading level0 col1\" >Total</th>        <th class=\"col_heading level0 col2\" >Percentagem</th>    </tr></thead><tbody>\n",
       "                <tr>\n",
       "                        <th id=\"T_a854f_level0_row0\" class=\"row_heading level0 row0\" >0</th>\n",
       "                        <td id=\"T_a854f_row0_col0\" class=\"data row0 col0\" >real estate</td>\n",
       "                        <td id=\"T_a854f_row0_col1\" class=\"data row0 col1\" >4464</td>\n",
       "                        <td id=\"T_a854f_row0_col2\" class=\"data row0 col2\" >20.81%</td>\n",
       "            </tr>\n",
       "            <tr>\n",
       "                        <th id=\"T_a854f_level0_row1\" class=\"row_heading level0 row1\" >1</th>\n",
       "                        <td id=\"T_a854f_row1_col0\" class=\"data row1 col0\" >car</td>\n",
       "                        <td id=\"T_a854f_row1_col1\" class=\"data row1 col1\" >4306</td>\n",
       "                        <td id=\"T_a854f_row1_col2\" class=\"data row1 col2\" >20.07%</td>\n",
       "            </tr>\n",
       "            <tr>\n",
       "                        <th id=\"T_a854f_level0_row2\" class=\"row_heading level0 row2\" >2</th>\n",
       "                        <td id=\"T_a854f_row2_col0\" class=\"data row2 col0\" >education</td>\n",
       "                        <td id=\"T_a854f_row2_col1\" class=\"data row2 col1\" >3109</td>\n",
       "                        <td id=\"T_a854f_row2_col2\" class=\"data row2 col2\" >14.49%</td>\n",
       "            </tr>\n",
       "            <tr>\n",
       "                        <th id=\"T_a854f_level0_row3\" class=\"row_heading level0 row3\" >3</th>\n",
       "                        <td id=\"T_a854f_row3_col0\" class=\"data row3 col0\" >property</td>\n",
       "                        <td id=\"T_a854f_row3_col1\" class=\"data row3 col1\" >2538</td>\n",
       "                        <td id=\"T_a854f_row3_col2\" class=\"data row3 col2\" >11.83%</td>\n",
       "            </tr>\n",
       "            <tr>\n",
       "                        <th id=\"T_a854f_level0_row4\" class=\"row_heading level0 row4\" >4</th>\n",
       "                        <td id=\"T_a854f_row4_col0\" class=\"data row4 col0\" >wedding</td>\n",
       "                        <td id=\"T_a854f_row4_col1\" class=\"data row4 col1\" >2324</td>\n",
       "                        <td id=\"T_a854f_row4_col2\" class=\"data row4 col2\" >10.83%</td>\n",
       "            </tr>\n",
       "            <tr>\n",
       "                        <th id=\"T_a854f_level0_row5\" class=\"row_heading level0 row5\" >5</th>\n",
       "                        <td id=\"T_a854f_row5_col0\" class=\"data row5 col0\" >housing</td>\n",
       "                        <td id=\"T_a854f_row5_col1\" class=\"data row5 col1\" >1905</td>\n",
       "                        <td id=\"T_a854f_row5_col2\" class=\"data row5 col2\" >8.88%</td>\n",
       "            </tr>\n",
       "            <tr>\n",
       "                        <th id=\"T_a854f_level0_row6\" class=\"row_heading level0 row6\" >6</th>\n",
       "                        <td id=\"T_a854f_row6_col0\" class=\"data row6 col0\" >house</td>\n",
       "                        <td id=\"T_a854f_row6_col1\" class=\"data row6 col1\" >1904</td>\n",
       "                        <td id=\"T_a854f_row6_col2\" class=\"data row6 col2\" >8.87%</td>\n",
       "            </tr>\n",
       "            <tr>\n",
       "                        <th id=\"T_a854f_level0_row7\" class=\"row_heading level0 row7\" >7</th>\n",
       "                        <td id=\"T_a854f_row7_col0\" class=\"data row7 col0\" >going to university</td>\n",
       "                        <td id=\"T_a854f_row7_col1\" class=\"data row7 col1\" >496</td>\n",
       "                        <td id=\"T_a854f_row7_col2\" class=\"data row7 col2\" >2.31%</td>\n",
       "            </tr>\n",
       "            <tr>\n",
       "                        <th id=\"T_a854f_level0_row8\" class=\"row_heading level0 row8\" >8</th>\n",
       "                        <td id=\"T_a854f_row8_col0\" class=\"data row8 col0\" >to become educated</td>\n",
       "                        <td id=\"T_a854f_row8_col1\" class=\"data row8 col1\" >408</td>\n",
       "                        <td id=\"T_a854f_row8_col2\" class=\"data row8 col2\" >1.9%</td>\n",
       "            </tr>\n",
       "    </tbody></table>"
      ],
      "text/plain": [
       "<pandas.io.formats.style.Styler at 0x7f88bafbb370>"
      ]
     },
     "execution_count": 148,
     "metadata": {},
     "output_type": "execute_result"
    }
   ],
   "source": [
    "ver_distribuicao(df, 'purpose')"
   ]
  },
  {
   "cell_type": "markdown",
   "metadata": {},
   "source": [
    "Ja temos uma melhoria na categorização, mas, podemos fazer alguns ajustes manuais pendentes:"
   ]
  },
  {
   "cell_type": "code",
   "execution_count": 149,
   "metadata": {},
   "outputs": [],
   "source": [
    "df.purpose.replace('housing', 'real estate' , inplace=True)\n",
    "df.purpose.replace('house', 'real estate' , inplace=True)\n",
    "df.purpose.replace('going to university', 'education' , inplace=True)\n",
    "df.purpose.replace('to become educated', 'education' , inplace=True)"
   ]
  },
  {
   "cell_type": "code",
   "execution_count": 150,
   "metadata": {},
   "outputs": [
    {
     "data": {
      "text/html": [
       "<style  type=\"text/css\" >\n",
       "#T_95251_row0_col1{\n",
       "            width:  10em;\n",
       "             height:  80%;\n",
       "            background:  linear-gradient(90deg,#d65f5f 100.0%, transparent 100.0%);\n",
       "        }#T_95251_row1_col1{\n",
       "            width:  10em;\n",
       "             height:  80%;\n",
       "            background:  linear-gradient(90deg,#d65f5f 33.3%, transparent 33.3%);\n",
       "        }#T_95251_row2_col1{\n",
       "            width:  10em;\n",
       "             height:  80%;\n",
       "            background:  linear-gradient(90deg,#d65f5f 28.4%, transparent 28.4%);\n",
       "        }#T_95251_row3_col1{\n",
       "            width:  10em;\n",
       "             height:  80%;\n",
       "            background:  linear-gradient(90deg,#d65f5f 3.6%, transparent 3.6%);\n",
       "        }#T_95251_row4_col1{\n",
       "            width:  10em;\n",
       "             height:  80%;\n",
       "        }</style><table id=\"T_95251_\" ><thead>    <tr>        <th class=\"blank level0\" ></th>        <th class=\"col_heading level0 col0\" >purpose</th>        <th class=\"col_heading level0 col1\" >Total</th>        <th class=\"col_heading level0 col2\" >Percentagem</th>    </tr></thead><tbody>\n",
       "                <tr>\n",
       "                        <th id=\"T_95251_level0_row0\" class=\"row_heading level0 row0\" >0</th>\n",
       "                        <td id=\"T_95251_row0_col0\" class=\"data row0 col0\" >real estate</td>\n",
       "                        <td id=\"T_95251_row0_col1\" class=\"data row0 col1\" >8273</td>\n",
       "                        <td id=\"T_95251_row0_col2\" class=\"data row0 col2\" >38.56%</td>\n",
       "            </tr>\n",
       "            <tr>\n",
       "                        <th id=\"T_95251_level0_row1\" class=\"row_heading level0 row1\" >1</th>\n",
       "                        <td id=\"T_95251_row1_col0\" class=\"data row1 col0\" >car</td>\n",
       "                        <td id=\"T_95251_row1_col1\" class=\"data row1 col1\" >4306</td>\n",
       "                        <td id=\"T_95251_row1_col2\" class=\"data row1 col2\" >20.07%</td>\n",
       "            </tr>\n",
       "            <tr>\n",
       "                        <th id=\"T_95251_level0_row2\" class=\"row_heading level0 row2\" >2</th>\n",
       "                        <td id=\"T_95251_row2_col0\" class=\"data row2 col0\" >education</td>\n",
       "                        <td id=\"T_95251_row2_col1\" class=\"data row2 col1\" >4013</td>\n",
       "                        <td id=\"T_95251_row2_col2\" class=\"data row2 col2\" >18.71%</td>\n",
       "            </tr>\n",
       "            <tr>\n",
       "                        <th id=\"T_95251_level0_row3\" class=\"row_heading level0 row3\" >3</th>\n",
       "                        <td id=\"T_95251_row3_col0\" class=\"data row3 col0\" >property</td>\n",
       "                        <td id=\"T_95251_row3_col1\" class=\"data row3 col1\" >2538</td>\n",
       "                        <td id=\"T_95251_row3_col2\" class=\"data row3 col2\" >11.83%</td>\n",
       "            </tr>\n",
       "            <tr>\n",
       "                        <th id=\"T_95251_level0_row4\" class=\"row_heading level0 row4\" >4</th>\n",
       "                        <td id=\"T_95251_row4_col0\" class=\"data row4 col0\" >wedding</td>\n",
       "                        <td id=\"T_95251_row4_col1\" class=\"data row4 col1\" >2324</td>\n",
       "                        <td id=\"T_95251_row4_col2\" class=\"data row4 col2\" >10.83%</td>\n",
       "            </tr>\n",
       "    </tbody></table>"
      ],
      "text/plain": [
       "<pandas.io.formats.style.Styler at 0x7f88bafbb3a0>"
      ]
     },
     "execution_count": 150,
     "metadata": {},
     "output_type": "execute_result"
    }
   ],
   "source": [
    "ver_distribuicao(df, 'purpose')"
   ]
  },
  {
   "cell_type": "markdown",
   "metadata": {},
   "source": [
    "**Caso os colegas queiram realmente o maximo de detalhes na coluna `purpose`, podemos descartar esta transformação.**"
   ]
  },
  {
   "cell_type": "markdown",
   "metadata": {},
   "source": [
    "## Verificar as Hipóteses\n"
   ]
  },
  {
   "cell_type": "markdown",
   "metadata": {},
   "source": [
    "### Existe uma correlação entre o nível de renda e do pagamento em dia?"
   ]
  },
  {
   "cell_type": "code",
   "execution_count": 151,
   "metadata": {},
   "outputs": [
    {
     "data": {
      "text/html": [
       "<div>\n",
       "<style scoped>\n",
       "    .dataframe tbody tr th:only-of-type {\n",
       "        vertical-align: middle;\n",
       "    }\n",
       "\n",
       "    .dataframe tbody tr th {\n",
       "        vertical-align: top;\n",
       "    }\n",
       "\n",
       "    .dataframe thead th {\n",
       "        text-align: right;\n",
       "    }\n",
       "</style>\n",
       "<table border=\"1\" class=\"dataframe\">\n",
       "  <thead>\n",
       "    <tr style=\"text-align: right;\">\n",
       "      <th></th>\n",
       "      <th>children</th>\n",
       "      <th>days_employed</th>\n",
       "      <th>dob_years</th>\n",
       "      <th>education</th>\n",
       "      <th>education_id</th>\n",
       "      <th>family_status</th>\n",
       "      <th>family_status_id</th>\n",
       "      <th>gender</th>\n",
       "      <th>income_type</th>\n",
       "      <th>debt</th>\n",
       "      <th>total_income</th>\n",
       "      <th>purpose</th>\n",
       "      <th>age_group</th>\n",
       "      <th>income_level</th>\n",
       "      <th>has_children</th>\n",
       "      <th>has_debt</th>\n",
       "      <th>has_some_high_education</th>\n",
       "    </tr>\n",
       "  </thead>\n",
       "  <tbody>\n",
       "    <tr>\n",
       "      <th>0</th>\n",
       "      <td>1</td>\n",
       "      <td>8437.673028</td>\n",
       "      <td>42</td>\n",
       "      <td>bachelor's degree</td>\n",
       "      <td>0</td>\n",
       "      <td>married</td>\n",
       "      <td>0</td>\n",
       "      <td>F</td>\n",
       "      <td>employee</td>\n",
       "      <td>0</td>\n",
       "      <td>40620.102</td>\n",
       "      <td>real estate</td>\n",
       "      <td>40 - 50</td>\n",
       "      <td>alto</td>\n",
       "      <td>True</td>\n",
       "      <td>Nao tem divida</td>\n",
       "      <td>True</td>\n",
       "    </tr>\n",
       "    <tr>\n",
       "      <th>1</th>\n",
       "      <td>1</td>\n",
       "      <td>4024.803754</td>\n",
       "      <td>36</td>\n",
       "      <td>secondary education</td>\n",
       "      <td>1</td>\n",
       "      <td>married</td>\n",
       "      <td>0</td>\n",
       "      <td>F</td>\n",
       "      <td>employee</td>\n",
       "      <td>0</td>\n",
       "      <td>17932.802</td>\n",
       "      <td>car</td>\n",
       "      <td>30 - 40</td>\n",
       "      <td>medio</td>\n",
       "      <td>True</td>\n",
       "      <td>Nao tem divida</td>\n",
       "      <td>False</td>\n",
       "    </tr>\n",
       "    <tr>\n",
       "      <th>2</th>\n",
       "      <td>0</td>\n",
       "      <td>5623.422610</td>\n",
       "      <td>33</td>\n",
       "      <td>secondary education</td>\n",
       "      <td>1</td>\n",
       "      <td>married</td>\n",
       "      <td>0</td>\n",
       "      <td>M</td>\n",
       "      <td>employee</td>\n",
       "      <td>0</td>\n",
       "      <td>23341.752</td>\n",
       "      <td>real estate</td>\n",
       "      <td>30 - 40</td>\n",
       "      <td>medio</td>\n",
       "      <td>False</td>\n",
       "      <td>Nao tem divida</td>\n",
       "      <td>False</td>\n",
       "    </tr>\n",
       "    <tr>\n",
       "      <th>3</th>\n",
       "      <td>3</td>\n",
       "      <td>4124.747207</td>\n",
       "      <td>32</td>\n",
       "      <td>secondary education</td>\n",
       "      <td>1</td>\n",
       "      <td>married</td>\n",
       "      <td>0</td>\n",
       "      <td>M</td>\n",
       "      <td>employee</td>\n",
       "      <td>0</td>\n",
       "      <td>42820.568</td>\n",
       "      <td>education</td>\n",
       "      <td>30 - 40</td>\n",
       "      <td>alto</td>\n",
       "      <td>True</td>\n",
       "      <td>Nao tem divida</td>\n",
       "      <td>False</td>\n",
       "    </tr>\n",
       "    <tr>\n",
       "      <th>4</th>\n",
       "      <td>0</td>\n",
       "      <td>2368.435772</td>\n",
       "      <td>53</td>\n",
       "      <td>secondary education</td>\n",
       "      <td>1</td>\n",
       "      <td>civil partnership</td>\n",
       "      <td>1</td>\n",
       "      <td>F</td>\n",
       "      <td>retiree</td>\n",
       "      <td>0</td>\n",
       "      <td>25378.572</td>\n",
       "      <td>wedding</td>\n",
       "      <td>50 - 60</td>\n",
       "      <td>medio</td>\n",
       "      <td>False</td>\n",
       "      <td>Nao tem divida</td>\n",
       "      <td>False</td>\n",
       "    </tr>\n",
       "  </tbody>\n",
       "</table>\n",
       "</div>"
      ],
      "text/plain": [
       "   children  days_employed  dob_years            education  education_id  \\\n",
       "0         1    8437.673028         42    bachelor's degree             0   \n",
       "1         1    4024.803754         36  secondary education             1   \n",
       "2         0    5623.422610         33  secondary education             1   \n",
       "3         3    4124.747207         32  secondary education             1   \n",
       "4         0    2368.435772         53  secondary education             1   \n",
       "\n",
       "       family_status  family_status_id gender income_type  debt  total_income  \\\n",
       "0            married                 0      F    employee     0     40620.102   \n",
       "1            married                 0      F    employee     0     17932.802   \n",
       "2            married                 0      M    employee     0     23341.752   \n",
       "3            married                 0      M    employee     0     42820.568   \n",
       "4  civil partnership                 1      F     retiree     0     25378.572   \n",
       "\n",
       "       purpose age_group income_level  has_children        has_debt  \\\n",
       "0  real estate   40 - 50         alto          True  Nao tem divida   \n",
       "1          car   30 - 40        medio          True  Nao tem divida   \n",
       "2  real estate   30 - 40        medio         False  Nao tem divida   \n",
       "3    education   30 - 40         alto          True  Nao tem divida   \n",
       "4      wedding   50 - 60        medio         False  Nao tem divida   \n",
       "\n",
       "   has_some_high_education  \n",
       "0                     True  \n",
       "1                    False  \n",
       "2                    False  \n",
       "3                    False  \n",
       "4                    False  "
      ]
     },
     "execution_count": 151,
     "metadata": {},
     "output_type": "execute_result"
    }
   ],
   "source": [
    "df.head()"
   ]
  },
  {
   "cell_type": "code",
   "execution_count": 152,
   "metadata": {},
   "outputs": [
    {
     "data": {
      "text/html": [
       "<div>\n",
       "<style scoped>\n",
       "    .dataframe tbody tr th:only-of-type {\n",
       "        vertical-align: middle;\n",
       "    }\n",
       "\n",
       "    .dataframe tbody tr th {\n",
       "        vertical-align: top;\n",
       "    }\n",
       "\n",
       "    .dataframe thead tr th {\n",
       "        text-align: left;\n",
       "    }\n",
       "\n",
       "    .dataframe thead tr:last-of-type th {\n",
       "        text-align: right;\n",
       "    }\n",
       "</style>\n",
       "<table border=\"1\" class=\"dataframe\">\n",
       "  <thead>\n",
       "    <tr>\n",
       "      <th></th>\n",
       "      <th colspan=\"3\" halign=\"left\">count</th>\n",
       "    </tr>\n",
       "    <tr>\n",
       "      <th>has_debt</th>\n",
       "      <th>Nao tem divida</th>\n",
       "      <th>Tem divida</th>\n",
       "      <th>All</th>\n",
       "    </tr>\n",
       "    <tr>\n",
       "      <th>children</th>\n",
       "      <th></th>\n",
       "      <th></th>\n",
       "      <th></th>\n",
       "    </tr>\n",
       "  </thead>\n",
       "  <tbody>\n",
       "    <tr>\n",
       "      <th>0</th>\n",
       "      <td>13142</td>\n",
       "      <td>1072</td>\n",
       "      <td>14214</td>\n",
       "    </tr>\n",
       "    <tr>\n",
       "      <th>1</th>\n",
       "      <td>4364</td>\n",
       "      <td>444</td>\n",
       "      <td>4808</td>\n",
       "    </tr>\n",
       "    <tr>\n",
       "      <th>2</th>\n",
       "      <td>1858</td>\n",
       "      <td>194</td>\n",
       "      <td>2052</td>\n",
       "    </tr>\n",
       "    <tr>\n",
       "      <th>3</th>\n",
       "      <td>303</td>\n",
       "      <td>27</td>\n",
       "      <td>330</td>\n",
       "    </tr>\n",
       "    <tr>\n",
       "      <th>4</th>\n",
       "      <td>37</td>\n",
       "      <td>4</td>\n",
       "      <td>41</td>\n",
       "    </tr>\n",
       "    <tr>\n",
       "      <th>5</th>\n",
       "      <td>9</td>\n",
       "      <td>0</td>\n",
       "      <td>9</td>\n",
       "    </tr>\n",
       "    <tr>\n",
       "      <th>All</th>\n",
       "      <td>19713</td>\n",
       "      <td>1741</td>\n",
       "      <td>21454</td>\n",
       "    </tr>\n",
       "  </tbody>\n",
       "</table>\n",
       "</div>"
      ],
      "text/plain": [
       "                  count                  \n",
       "has_debt Nao tem divida Tem divida    All\n",
       "children                                 \n",
       "0                 13142       1072  14214\n",
       "1                  4364        444   4808\n",
       "2                  1858        194   2052\n",
       "3                   303         27    330\n",
       "4                    37          4     41\n",
       "5                     9          0      9\n",
       "All               19713       1741  21454"
      ]
     },
     "execution_count": 152,
     "metadata": {},
     "output_type": "execute_result"
    }
   ],
   "source": [
    "# Verifique os dados das crianças e do pagamento em dia\n",
    "\n",
    "dpivot = df.pivot_table(index='children', columns='has_debt', values='has_children', aggfunc=['count'], margins=True, fill_value=0)\n",
    "\n",
    "# Calcular a taxa de inadimplência com base no número de filhos\n",
    "dpivot"
   ]
  },
  {
   "cell_type": "code",
   "execution_count": 153,
   "metadata": {},
   "outputs": [],
   "source": [
    "dpivot['% nao tem divida'] = ((dpivot.loc[:][\"count\"]['Nao tem divida'] / dpivot.loc[:]['count']['All']) * 100 ).round(1).astype(str) + '%'\n",
    "\n",
    "dpivot['% tem divida'] = ((dpivot.loc[:][\"count\"]['Tem divida'] / dpivot.loc[:]['count']['All']) * 100 ).round(1).astype(str) + '%'\n",
    "\n",
    "#for i, r in dpivot.iterrows():\n",
    "    \n",
    "#dpivot.style.bar()\n",
    "\n",
    "#(dpivot.loc[ 20 ][0] / len(df) * 100).round(1).astype(str) + '% Dos clientes não têm divida'"
   ]
  },
  {
   "cell_type": "code",
   "execution_count": 154,
   "metadata": {},
   "outputs": [
    {
     "data": {
      "text/html": [
       "<div>\n",
       "<style scoped>\n",
       "    .dataframe tbody tr th:only-of-type {\n",
       "        vertical-align: middle;\n",
       "    }\n",
       "\n",
       "    .dataframe tbody tr th {\n",
       "        vertical-align: top;\n",
       "    }\n",
       "\n",
       "    .dataframe thead tr th {\n",
       "        text-align: left;\n",
       "    }\n",
       "\n",
       "    .dataframe thead tr:last-of-type th {\n",
       "        text-align: right;\n",
       "    }\n",
       "</style>\n",
       "<table border=\"1\" class=\"dataframe\">\n",
       "  <thead>\n",
       "    <tr>\n",
       "      <th></th>\n",
       "      <th colspan=\"3\" halign=\"left\">count</th>\n",
       "      <th>% nao tem divida</th>\n",
       "      <th>% tem divida</th>\n",
       "    </tr>\n",
       "    <tr>\n",
       "      <th>has_debt</th>\n",
       "      <th>Nao tem divida</th>\n",
       "      <th>Tem divida</th>\n",
       "      <th>All</th>\n",
       "      <th></th>\n",
       "      <th></th>\n",
       "    </tr>\n",
       "    <tr>\n",
       "      <th>children</th>\n",
       "      <th></th>\n",
       "      <th></th>\n",
       "      <th></th>\n",
       "      <th></th>\n",
       "      <th></th>\n",
       "    </tr>\n",
       "  </thead>\n",
       "  <tbody>\n",
       "    <tr>\n",
       "      <th>0</th>\n",
       "      <td>13142</td>\n",
       "      <td>1072</td>\n",
       "      <td>14214</td>\n",
       "      <td>92.5%</td>\n",
       "      <td>7.5%</td>\n",
       "    </tr>\n",
       "    <tr>\n",
       "      <th>1</th>\n",
       "      <td>4364</td>\n",
       "      <td>444</td>\n",
       "      <td>4808</td>\n",
       "      <td>90.8%</td>\n",
       "      <td>9.2%</td>\n",
       "    </tr>\n",
       "    <tr>\n",
       "      <th>2</th>\n",
       "      <td>1858</td>\n",
       "      <td>194</td>\n",
       "      <td>2052</td>\n",
       "      <td>90.5%</td>\n",
       "      <td>9.5%</td>\n",
       "    </tr>\n",
       "    <tr>\n",
       "      <th>3</th>\n",
       "      <td>303</td>\n",
       "      <td>27</td>\n",
       "      <td>330</td>\n",
       "      <td>91.8%</td>\n",
       "      <td>8.2%</td>\n",
       "    </tr>\n",
       "    <tr>\n",
       "      <th>4</th>\n",
       "      <td>37</td>\n",
       "      <td>4</td>\n",
       "      <td>41</td>\n",
       "      <td>90.2%</td>\n",
       "      <td>9.8%</td>\n",
       "    </tr>\n",
       "    <tr>\n",
       "      <th>5</th>\n",
       "      <td>9</td>\n",
       "      <td>0</td>\n",
       "      <td>9</td>\n",
       "      <td>100.0%</td>\n",
       "      <td>0.0%</td>\n",
       "    </tr>\n",
       "    <tr>\n",
       "      <th>All</th>\n",
       "      <td>19713</td>\n",
       "      <td>1741</td>\n",
       "      <td>21454</td>\n",
       "      <td>91.9%</td>\n",
       "      <td>8.1%</td>\n",
       "    </tr>\n",
       "  </tbody>\n",
       "</table>\n",
       "</div>"
      ],
      "text/plain": [
       "                  count                   % nao tem divida % tem divida\n",
       "has_debt Nao tem divida Tem divida    All                              \n",
       "children                                                               \n",
       "0                 13142       1072  14214            92.5%         7.5%\n",
       "1                  4364        444   4808            90.8%         9.2%\n",
       "2                  1858        194   2052            90.5%         9.5%\n",
       "3                   303         27    330            91.8%         8.2%\n",
       "4                    37          4     41            90.2%         9.8%\n",
       "5                     9          0      9           100.0%         0.0%\n",
       "All               19713       1741  21454            91.9%         8.1%"
      ]
     },
     "execution_count": 154,
     "metadata": {},
     "output_type": "execute_result"
    }
   ],
   "source": [
    "dpivot"
   ]
  },
  {
   "cell_type": "markdown",
   "metadata": {},
   "source": [
    "<font color=orange>Ainda não tenho o dominio do uso das tabelas pivô mas acredito que a tabela apresenta o resultado pretendido para a analise </font>"
   ]
  },
  {
   "cell_type": "markdown",
   "metadata": {},
   "source": [
    "<div class=\"alert alert-block alert-success\">\n",
    "<b>Comentário do corretor</b> <a class=\"tocSkip\"></a>\n",
    "\n",
    "Está correto sim!\n",
    "\n",
    "</div>"
   ]
  },
  {
   "cell_type": "markdown",
   "metadata": {},
   "source": [
    "**Conclusão**\n",
    "\n",
    "Podemos perceber que o para os clientes analisados, o numero de filhos não tem sido um grande factor para as dividas não pagas\n",
    "\n",
    "- ~~Os clientes com **mais dividas** de acordo numero de filhos são os que têm **20 filhos**, mas ainda assim é um universo de apenas **8 clientes**, que representa **10%** num conjunto de **1741 clientes com divida**~~\n",
    "- Os clientes com **menos dividas** são os que tem um total de **5 filhos**\n"
   ]
  },
  {
   "cell_type": "markdown",
   "metadata": {},
   "source": [
    "<div class=\"alert alert-block alert-warning\">\n",
    "<b>Comentário do corretor</b> <a class=\"tocSkip\"></a>\n",
    "\n",
    "Bem analisado! Porém, os dados para 20 filhos são estranhos, ao lidar com eles lá em cima sua conclusão pode talvez mudar :)\n",
    "\n",
    "</div>"
   ]
  },
  {
   "cell_type": "markdown",
   "metadata": {},
   "source": [
    "> Obrigado pela dica, tomei boa nota caro Lourenço."
   ]
  },
  {
   "cell_type": "markdown",
   "metadata": {},
   "source": [
    "Corrigindo a conclusão o primeiro ponto será:\n",
    "\n",
    "- Os clientes com **mais dividas** de acordo numero de filhos são os que **não têm filhos**, sendo um universo de  **14214 clientes**, 1072 clientes têm dividas, que representa **7.5%**, apesar da percentagem ser menor ainda assim é a amostra maior."
   ]
  },
  {
   "cell_type": "markdown",
   "metadata": {},
   "source": [
    "Para minimizar os erros, o calculo da percentagem para a tabela pivô será retornado por uma função."
   ]
  },
  {
   "cell_type": "code",
   "execution_count": 155,
   "metadata": {},
   "outputs": [],
   "source": [
    "\n",
    "def add_col_percent(dataf, subindice, coluna ):\n",
    "    \n",
    "    return ((dataf.loc[:][subindice][coluna] / dataf.loc[:][subindice]['All']) * 100 ).round(1).astype(str) + '%'"
   ]
  },
  {
   "cell_type": "markdown",
   "metadata": {},
   "source": [
    "### Existe uma correlação entre o status familiar e o pagamento em dia?"
   ]
  },
  {
   "cell_type": "code",
   "execution_count": 156,
   "metadata": {},
   "outputs": [
    {
     "data": {
      "text/html": [
       "<style  type=\"text/css\" >\n",
       "#T_12a2d_row0_col0{\n",
       "            width:  10em;\n",
       "             height:  80%;\n",
       "            background:  linear-gradient(90deg,#d65f5f 27.3%, transparent 27.3%);\n",
       "        }#T_12a2d_row0_col1{\n",
       "            width:  10em;\n",
       "             height:  80%;\n",
       "            background:  linear-gradient(90deg,#d65f5f 37.4%, transparent 37.4%);\n",
       "        }#T_12a2d_row0_col2{\n",
       "            width:  10em;\n",
       "             height:  80%;\n",
       "            background:  linear-gradient(90deg,#d65f5f 28.0%, transparent 28.0%);\n",
       "        }#T_12a2d_row1_col0{\n",
       "            width:  10em;\n",
       "             height:  80%;\n",
       "            background:  linear-gradient(90deg,#d65f5f 2.0%, transparent 2.0%);\n",
       "        }#T_12a2d_row1_col1{\n",
       "            width:  10em;\n",
       "             height:  80%;\n",
       "            background:  linear-gradient(90deg,#d65f5f 2.5%, transparent 2.5%);\n",
       "        }#T_12a2d_row1_col2{\n",
       "            width:  10em;\n",
       "             height:  80%;\n",
       "            background:  linear-gradient(90deg,#d65f5f 2.1%, transparent 2.1%);\n",
       "        }#T_12a2d_row2_col0,#T_12a2d_row2_col1,#T_12a2d_row2_col2{\n",
       "            width:  10em;\n",
       "             height:  80%;\n",
       "            background:  linear-gradient(90deg,#d65f5f 100.0%, transparent 100.0%);\n",
       "        }#T_12a2d_row3_col0{\n",
       "            width:  10em;\n",
       "             height:  80%;\n",
       "            background:  linear-gradient(90deg,#d65f5f 15.6%, transparent 15.6%);\n",
       "        }#T_12a2d_row3_col1{\n",
       "            width:  10em;\n",
       "             height:  80%;\n",
       "            background:  linear-gradient(90deg,#d65f5f 24.3%, transparent 24.3%);\n",
       "        }#T_12a2d_row3_col2{\n",
       "            width:  10em;\n",
       "             height:  80%;\n",
       "            background:  linear-gradient(90deg,#d65f5f 16.3%, transparent 16.3%);\n",
       "        }#T_12a2d_row4_col0,#T_12a2d_row4_col1,#T_12a2d_row4_col2{\n",
       "            width:  10em;\n",
       "             height:  80%;\n",
       "        }</style><table id=\"T_12a2d_\" ><thead>    <tr>        <th class=\"blank level0\" ></th>        <th class=\"col_heading level0 col0\" colspan=\"3\">count</th>        <th class=\"col_heading level0 col3\" >% nao tem divida</th>        <th class=\"col_heading level0 col4\" >% tem divida</th>    </tr>    <tr>        <th class=\"index_name level1\" >has_debt</th>        <th class=\"col_heading level1 col0\" >Nao tem divida</th>        <th class=\"col_heading level1 col1\" >Tem divida</th>        <th class=\"col_heading level1 col2\" >All</th>        <th class=\"col_heading level1 col3\" ></th>        <th class=\"col_heading level1 col4\" ></th>    </tr>    <tr>        <th class=\"index_name level0\" >family_status</th>        <th class=\"blank\" ></th>        <th class=\"blank\" ></th>        <th class=\"blank\" ></th>        <th class=\"blank\" ></th>        <th class=\"blank\" ></th>    </tr></thead><tbody>\n",
       "                <tr>\n",
       "                        <th id=\"T_12a2d_level0_row0\" class=\"row_heading level0 row0\" >civil partnership</th>\n",
       "                        <td id=\"T_12a2d_row0_col0\" class=\"data row0 col0\" >3763</td>\n",
       "                        <td id=\"T_12a2d_row0_col1\" class=\"data row0 col1\" >388</td>\n",
       "                        <td id=\"T_12a2d_row0_col2\" class=\"data row0 col2\" >4151</td>\n",
       "                        <td id=\"T_12a2d_row0_col3\" class=\"data row0 col3\" >90.7%</td>\n",
       "                        <td id=\"T_12a2d_row0_col4\" class=\"data row0 col4\" >9.3%</td>\n",
       "            </tr>\n",
       "            <tr>\n",
       "                        <th id=\"T_12a2d_level0_row1\" class=\"row_heading level0 row1\" >divorced</th>\n",
       "                        <td id=\"T_12a2d_row1_col0\" class=\"data row1 col0\" >1110</td>\n",
       "                        <td id=\"T_12a2d_row1_col1\" class=\"data row1 col1\" >85</td>\n",
       "                        <td id=\"T_12a2d_row1_col2\" class=\"data row1 col2\" >1195</td>\n",
       "                        <td id=\"T_12a2d_row1_col3\" class=\"data row1 col3\" >92.9%</td>\n",
       "                        <td id=\"T_12a2d_row1_col4\" class=\"data row1 col4\" >7.1%</td>\n",
       "            </tr>\n",
       "            <tr>\n",
       "                        <th id=\"T_12a2d_level0_row2\" class=\"row_heading level0 row2\" >married</th>\n",
       "                        <td id=\"T_12a2d_row2_col0\" class=\"data row2 col0\" >11408</td>\n",
       "                        <td id=\"T_12a2d_row2_col1\" class=\"data row2 col1\" >931</td>\n",
       "                        <td id=\"T_12a2d_row2_col2\" class=\"data row2 col2\" >12339</td>\n",
       "                        <td id=\"T_12a2d_row2_col3\" class=\"data row2 col3\" >92.5%</td>\n",
       "                        <td id=\"T_12a2d_row2_col4\" class=\"data row2 col4\" >7.5%</td>\n",
       "            </tr>\n",
       "            <tr>\n",
       "                        <th id=\"T_12a2d_level0_row3\" class=\"row_heading level0 row3\" >unmarried</th>\n",
       "                        <td id=\"T_12a2d_row3_col0\" class=\"data row3 col0\" >2536</td>\n",
       "                        <td id=\"T_12a2d_row3_col1\" class=\"data row3 col1\" >274</td>\n",
       "                        <td id=\"T_12a2d_row3_col2\" class=\"data row3 col2\" >2810</td>\n",
       "                        <td id=\"T_12a2d_row3_col3\" class=\"data row3 col3\" >90.2%</td>\n",
       "                        <td id=\"T_12a2d_row3_col4\" class=\"data row3 col4\" >9.8%</td>\n",
       "            </tr>\n",
       "            <tr>\n",
       "                        <th id=\"T_12a2d_level0_row4\" class=\"row_heading level0 row4\" >widow / widower</th>\n",
       "                        <td id=\"T_12a2d_row4_col0\" class=\"data row4 col0\" >896</td>\n",
       "                        <td id=\"T_12a2d_row4_col1\" class=\"data row4 col1\" >63</td>\n",
       "                        <td id=\"T_12a2d_row4_col2\" class=\"data row4 col2\" >959</td>\n",
       "                        <td id=\"T_12a2d_row4_col3\" class=\"data row4 col3\" >93.4%</td>\n",
       "                        <td id=\"T_12a2d_row4_col4\" class=\"data row4 col4\" >6.6%</td>\n",
       "            </tr>\n",
       "            <tr>\n",
       "                        <th id=\"T_12a2d_level0_row5\" class=\"row_heading level0 row5\" >All</th>\n",
       "                        <td id=\"T_12a2d_row5_col0\" class=\"data row5 col0\" >19713</td>\n",
       "                        <td id=\"T_12a2d_row5_col1\" class=\"data row5 col1\" >1741</td>\n",
       "                        <td id=\"T_12a2d_row5_col2\" class=\"data row5 col2\" >21454</td>\n",
       "                        <td id=\"T_12a2d_row5_col3\" class=\"data row5 col3\" >91.9%</td>\n",
       "                        <td id=\"T_12a2d_row5_col4\" class=\"data row5 col4\" >8.1%</td>\n",
       "            </tr>\n",
       "    </tbody></table>"
      ],
      "text/plain": [
       "<pandas.io.formats.style.Styler at 0x7f88bafbb070>"
      ]
     },
     "execution_count": 156,
     "metadata": {},
     "output_type": "execute_result"
    }
   ],
   "source": [
    "# Verifique os dados de status da família e do pagamento em dia\n",
    "\n",
    "dpivot = df.pivot_table(index='family_status', columns='has_debt',values='debt', aggfunc=['count'], margins=True, fill_value=0)\n",
    "\n",
    "dpivot['% nao tem divida'] = add_col_percent(dpivot,'count','Nao tem divida')\n",
    "dpivot['% tem divida'] = add_col_percent(dpivot,'count','Tem divida')\n",
    "\n",
    "\n",
    "# Calcular a taxa padrão com base no status da família\n",
    "\n",
    "dpivot.style.bar( subset = (dpivot.index.tolist()[:-1] , dpivot.columns.tolist()[:3]) )"
   ]
  },
  {
   "cell_type": "markdown",
   "metadata": {},
   "source": [
    "**Conclusão**\n",
    "\n",
    "- Pela apresentação podemos inferir que:\n",
    "-- Os clientes `married` representam o maior numero no nosso conjunto de dados com **12339** registos, e **7.5%** deles têm divida não paga \n",
    "\n",
    "-- Os clientes com o estado familiar `unmaried` e `civil partnership` apesar de não serem a maioria ocupam a maior taxa para com **9.8%** e **9.3%** de dividas não pagas respectivamente"
   ]
  },
  {
   "cell_type": "markdown",
   "metadata": {},
   "source": [
    "<div class=\"alert alert-block alert-success\">\n",
    "<b>Comentário do corretor</b> <a class=\"tocSkip\"></a>\n",
    "\n",
    "Bem avaliado!\n",
    "\n",
    "</div>"
   ]
  },
  {
   "cell_type": "markdown",
   "metadata": {},
   "source": [
    "### Existe uma correlação entre o status familiar e o pagamento em dia?"
   ]
  },
  {
   "cell_type": "code",
   "execution_count": 157,
   "metadata": {},
   "outputs": [],
   "source": [
    "# Verifique os dados do nível de renda e do pagamento em dia"
   ]
  },
  {
   "cell_type": "markdown",
   "metadata": {},
   "source": [
    "Ao ler este pedido temos clareza que precisamos **categorizar o a renda mensal** dos clientes\n",
    "\n",
    "Esta actividade foi feita [Aqui](#categRendaCliente)\n",
    "\n",
    "Apos a categorização, podemos seguir:"
   ]
  },
  {
   "cell_type": "code",
   "execution_count": 158,
   "metadata": {},
   "outputs": [],
   "source": [
    "dpivot = df.pivot_table(index='income_level', columns='has_debt',values='debt', aggfunc=['count'], margins=True, fill_value=0)\n",
    "\n",
    "dpivot['% de clientes sem divida'] = add_col_percent(dpivot,'count','Nao tem divida')\n",
    "dpivot['% de clientes com divida'] = add_col_percent(dpivot,'count','Tem divida')\n"
   ]
  },
  {
   "cell_type": "code",
   "execution_count": 159,
   "metadata": {},
   "outputs": [
    {
     "data": {
      "text/html": [
       "<style  type=\"text/css\" >\n",
       "#T_d11ff_row0_col0{\n",
       "            width:  10em;\n",
       "             height:  80%;\n",
       "            background:  linear-gradient(90deg,#d65f5f 33.1%, transparent 33.1%);\n",
       "        }#T_d11ff_row0_col1{\n",
       "            width:  10em;\n",
       "             height:  80%;\n",
       "            background:  linear-gradient(90deg,#d65f5f 29.8%, transparent 29.8%);\n",
       "        }#T_d11ff_row0_col2{\n",
       "            width:  10em;\n",
       "             height:  80%;\n",
       "            background:  linear-gradient(90deg,#d65f5f 32.8%, transparent 32.8%);\n",
       "        }#T_d11ff_row1_col0,#T_d11ff_row1_col2{\n",
       "            width:  10em;\n",
       "             height:  80%;\n",
       "            background:  linear-gradient(90deg,#d65f5f 1.8%, transparent 1.8%);\n",
       "        }#T_d11ff_row1_col1{\n",
       "            width:  10em;\n",
       "             height:  80%;\n",
       "            background:  linear-gradient(90deg,#d65f5f 1.7%, transparent 1.7%);\n",
       "        }#T_d11ff_row2_col0,#T_d11ff_row2_col1,#T_d11ff_row2_col2{\n",
       "            width:  10em;\n",
       "             height:  80%;\n",
       "            background:  linear-gradient(90deg,#d65f5f 100.0%, transparent 100.0%);\n",
       "        }#T_d11ff_row3_col0,#T_d11ff_row3_col1,#T_d11ff_row3_col2{\n",
       "            width:  10em;\n",
       "             height:  80%;\n",
       "        }</style><table id=\"T_d11ff_\" ><thead>    <tr>        <th class=\"blank level0\" ></th>        <th class=\"col_heading level0 col0\" colspan=\"3\">count</th>        <th class=\"col_heading level0 col3\" >% de clientes sem divida</th>        <th class=\"col_heading level0 col4\" >% de clientes com divida</th>    </tr>    <tr>        <th class=\"index_name level1\" >has_debt</th>        <th class=\"col_heading level1 col0\" >Nao tem divida</th>        <th class=\"col_heading level1 col1\" >Tem divida</th>        <th class=\"col_heading level1 col2\" >All</th>        <th class=\"col_heading level1 col3\" ></th>        <th class=\"col_heading level1 col4\" ></th>    </tr>    <tr>        <th class=\"index_name level0\" >income_level</th>        <th class=\"blank\" ></th>        <th class=\"blank\" ></th>        <th class=\"blank\" ></th>        <th class=\"blank\" ></th>        <th class=\"blank\" ></th>    </tr></thead><tbody>\n",
       "                <tr>\n",
       "                        <th id=\"T_d11ff_level0_row0\" class=\"row_heading level0 row0\" >alto</th>\n",
       "                        <td id=\"T_d11ff_row0_col0\" class=\"data row0 col0\" >4849</td>\n",
       "                        <td id=\"T_d11ff_row0_col1\" class=\"data row0 col1\" >398</td>\n",
       "                        <td id=\"T_d11ff_row0_col2\" class=\"data row0 col2\" >5247</td>\n",
       "                        <td id=\"T_d11ff_row0_col3\" class=\"data row0 col3\" >92.4%</td>\n",
       "                        <td id=\"T_d11ff_row0_col4\" class=\"data row0 col4\" >7.6%</td>\n",
       "            </tr>\n",
       "            <tr>\n",
       "                        <th id=\"T_d11ff_level0_row1\" class=\"row_heading level0 row1\" >baixo</th>\n",
       "                        <td id=\"T_d11ff_row1_col0\" class=\"data row1 col0\" >868</td>\n",
       "                        <td id=\"T_d11ff_row1_col1\" class=\"data row1 col1\" >58</td>\n",
       "                        <td id=\"T_d11ff_row1_col2\" class=\"data row1 col2\" >926</td>\n",
       "                        <td id=\"T_d11ff_row1_col3\" class=\"data row1 col3\" >93.7%</td>\n",
       "                        <td id=\"T_d11ff_row1_col4\" class=\"data row1 col4\" >6.3%</td>\n",
       "            </tr>\n",
       "            <tr>\n",
       "                        <th id=\"T_d11ff_level0_row2\" class=\"row_heading level0 row2\" >medio</th>\n",
       "                        <td id=\"T_d11ff_row2_col0\" class=\"data row2 col0\" >13361</td>\n",
       "                        <td id=\"T_d11ff_row2_col1\" class=\"data row2 col1\" >1247</td>\n",
       "                        <td id=\"T_d11ff_row2_col2\" class=\"data row2 col2\" >14608</td>\n",
       "                        <td id=\"T_d11ff_row2_col3\" class=\"data row2 col3\" >91.5%</td>\n",
       "                        <td id=\"T_d11ff_row2_col4\" class=\"data row2 col4\" >8.5%</td>\n",
       "            </tr>\n",
       "            <tr>\n",
       "                        <th id=\"T_d11ff_level0_row3\" class=\"row_heading level0 row3\" >muito alto</th>\n",
       "                        <td id=\"T_d11ff_row3_col0\" class=\"data row3 col0\" >635</td>\n",
       "                        <td id=\"T_d11ff_row3_col1\" class=\"data row3 col1\" >38</td>\n",
       "                        <td id=\"T_d11ff_row3_col2\" class=\"data row3 col2\" >673</td>\n",
       "                        <td id=\"T_d11ff_row3_col3\" class=\"data row3 col3\" >94.4%</td>\n",
       "                        <td id=\"T_d11ff_row3_col4\" class=\"data row3 col4\" >5.6%</td>\n",
       "            </tr>\n",
       "            <tr>\n",
       "                        <th id=\"T_d11ff_level0_row4\" class=\"row_heading level0 row4\" >All</th>\n",
       "                        <td id=\"T_d11ff_row4_col0\" class=\"data row4 col0\" >19713</td>\n",
       "                        <td id=\"T_d11ff_row4_col1\" class=\"data row4 col1\" >1741</td>\n",
       "                        <td id=\"T_d11ff_row4_col2\" class=\"data row4 col2\" >21454</td>\n",
       "                        <td id=\"T_d11ff_row4_col3\" class=\"data row4 col3\" >91.9%</td>\n",
       "                        <td id=\"T_d11ff_row4_col4\" class=\"data row4 col4\" >8.1%</td>\n",
       "            </tr>\n",
       "    </tbody></table>"
      ],
      "text/plain": [
       "<pandas.io.formats.style.Styler at 0x7f88baf92d30>"
      ]
     },
     "execution_count": 159,
     "metadata": {},
     "output_type": "execute_result"
    }
   ],
   "source": [
    "# Calcular a taxa de inadimplência com base no nível de renda\n",
    "dpivot.style.bar( subset = (dpivot.index.tolist()[:-1] , dpivot.columns.tolist()[:-2]) )"
   ]
  },
  {
   "cell_type": "markdown",
   "metadata": {},
   "source": [
    "**Conclusão**\n",
    "\n",
    "Com base no resultado apresentado podemos informar que a maioria dos clientes tem o nivel de renda `medio` de acordo a nossa categorização.\n",
    "\n",
    "A taxa pode ser observada nas duas ultimas colunas temporarias: `% de clientes sem divida` e `% de clientes com divida`"
   ]
  },
  {
   "cell_type": "markdown",
   "metadata": {},
   "source": [
    "<div class=\"alert alert-block alert-success\">\n",
    "<b>Comentário do corretor</b> <a class=\"tocSkip\"></a>\n",
    "\n",
    "Ok!\n",
    "\n",
    "</div>"
   ]
  },
  {
   "cell_type": "markdown",
   "metadata": {},
   "source": [
    "**Como a finalidade do crédito afeta a taxa de inadimplência?**"
   ]
  },
  {
   "cell_type": "markdown",
   "metadata": {},
   "source": [
    "Para esta ultima tarefa faremos uma ultima transformação nos dados que consistem em uniformizar alguns valores para a coluna `purpose` [Aqui.](#uniformizarPurpose).\n"
   ]
  },
  {
   "cell_type": "code",
   "execution_count": 160,
   "metadata": {},
   "outputs": [
    {
     "data": {
      "text/html": [
       "<style  type=\"text/css\" >\n",
       "#T_95fcc_row0_col0{\n",
       "            width:  10em;\n",
       "             height:  80%;\n",
       "            background:  linear-gradient(90deg,#d65f5f 31.8%, transparent 31.8%);\n",
       "        }#T_95fcc_row0_col1{\n",
       "            width:  10em;\n",
       "             height:  80%;\n",
       "            background:  linear-gradient(90deg,#d65f5f 53.4%, transparent 53.4%);\n",
       "        }#T_95fcc_row0_col2{\n",
       "            width:  10em;\n",
       "             height:  80%;\n",
       "            background:  linear-gradient(90deg,#d65f5f 33.3%, transparent 33.3%);\n",
       "        }#T_95fcc_row1_col0{\n",
       "            width:  10em;\n",
       "             height:  80%;\n",
       "            background:  linear-gradient(90deg,#d65f5f 27.2%, transparent 27.2%);\n",
       "        }#T_95fcc_row1_col1{\n",
       "            width:  10em;\n",
       "             height:  80%;\n",
       "            background:  linear-gradient(90deg,#d65f5f 45.3%, transparent 45.3%);\n",
       "        }#T_95fcc_row1_col2{\n",
       "            width:  10em;\n",
       "             height:  80%;\n",
       "            background:  linear-gradient(90deg,#d65f5f 28.4%, transparent 28.4%);\n",
       "        }#T_95fcc_row2_col0{\n",
       "            width:  10em;\n",
       "             height:  80%;\n",
       "            background:  linear-gradient(90deg,#d65f5f 3.8%, transparent 3.8%);\n",
       "        }#T_95fcc_row2_col1{\n",
       "            width:  10em;\n",
       "             height:  80%;\n",
       "            background:  linear-gradient(90deg,#d65f5f 1.0%, transparent 1.0%);\n",
       "        }#T_95fcc_row2_col2{\n",
       "            width:  10em;\n",
       "             height:  80%;\n",
       "            background:  linear-gradient(90deg,#d65f5f 3.6%, transparent 3.6%);\n",
       "        }#T_95fcc_row3_col0,#T_95fcc_row3_col1,#T_95fcc_row3_col2{\n",
       "            width:  10em;\n",
       "             height:  80%;\n",
       "            background:  linear-gradient(90deg,#d65f5f 100.0%, transparent 100.0%);\n",
       "        }#T_95fcc_row4_col0,#T_95fcc_row4_col1,#T_95fcc_row4_col2{\n",
       "            width:  10em;\n",
       "             height:  80%;\n",
       "        }</style><table id=\"T_95fcc_\" ><thead>    <tr>        <th class=\"blank level0\" ></th>        <th class=\"col_heading level0 col0\" colspan=\"3\">count</th>        <th class=\"col_heading level0 col3\" >% de clientes sem divida</th>        <th class=\"col_heading level0 col4\" >% de clientes com divida</th>    </tr>    <tr>        <th class=\"index_name level1\" >has_debt</th>        <th class=\"col_heading level1 col0\" >Nao tem divida</th>        <th class=\"col_heading level1 col1\" >Tem divida</th>        <th class=\"col_heading level1 col2\" >All</th>        <th class=\"col_heading level1 col3\" ></th>        <th class=\"col_heading level1 col4\" ></th>    </tr>    <tr>        <th class=\"index_name level0\" >purpose</th>        <th class=\"blank\" ></th>        <th class=\"blank\" ></th>        <th class=\"blank\" ></th>        <th class=\"blank\" ></th>        <th class=\"blank\" ></th>    </tr></thead><tbody>\n",
       "                <tr>\n",
       "                        <th id=\"T_95fcc_level0_row0\" class=\"row_heading level0 row0\" >car</th>\n",
       "                        <td id=\"T_95fcc_row0_col0\" class=\"data row0 col0\" >3903</td>\n",
       "                        <td id=\"T_95fcc_row0_col1\" class=\"data row0 col1\" >403</td>\n",
       "                        <td id=\"T_95fcc_row0_col2\" class=\"data row0 col2\" >4306</td>\n",
       "                        <td id=\"T_95fcc_row0_col3\" class=\"data row0 col3\" >90.6%</td>\n",
       "                        <td id=\"T_95fcc_row0_col4\" class=\"data row0 col4\" >9.4%</td>\n",
       "            </tr>\n",
       "            <tr>\n",
       "                        <th id=\"T_95fcc_level0_row1\" class=\"row_heading level0 row1\" >education</th>\n",
       "                        <td id=\"T_95fcc_row1_col0\" class=\"data row1 col0\" >3643</td>\n",
       "                        <td id=\"T_95fcc_row1_col1\" class=\"data row1 col1\" >370</td>\n",
       "                        <td id=\"T_95fcc_row1_col2\" class=\"data row1 col2\" >4013</td>\n",
       "                        <td id=\"T_95fcc_row1_col3\" class=\"data row1 col3\" >90.8%</td>\n",
       "                        <td id=\"T_95fcc_row1_col4\" class=\"data row1 col4\" >9.2%</td>\n",
       "            </tr>\n",
       "            <tr>\n",
       "                        <th id=\"T_95fcc_level0_row2\" class=\"row_heading level0 row2\" >property</th>\n",
       "                        <td id=\"T_95fcc_row2_col0\" class=\"data row2 col0\" >2348</td>\n",
       "                        <td id=\"T_95fcc_row2_col1\" class=\"data row2 col1\" >190</td>\n",
       "                        <td id=\"T_95fcc_row2_col2\" class=\"data row2 col2\" >2538</td>\n",
       "                        <td id=\"T_95fcc_row2_col3\" class=\"data row2 col3\" >92.5%</td>\n",
       "                        <td id=\"T_95fcc_row2_col4\" class=\"data row2 col4\" >7.5%</td>\n",
       "            </tr>\n",
       "            <tr>\n",
       "                        <th id=\"T_95fcc_level0_row3\" class=\"row_heading level0 row3\" >real estate</th>\n",
       "                        <td id=\"T_95fcc_row3_col0\" class=\"data row3 col0\" >7681</td>\n",
       "                        <td id=\"T_95fcc_row3_col1\" class=\"data row3 col1\" >592</td>\n",
       "                        <td id=\"T_95fcc_row3_col2\" class=\"data row3 col2\" >8273</td>\n",
       "                        <td id=\"T_95fcc_row3_col3\" class=\"data row3 col3\" >92.8%</td>\n",
       "                        <td id=\"T_95fcc_row3_col4\" class=\"data row3 col4\" >7.2%</td>\n",
       "            </tr>\n",
       "            <tr>\n",
       "                        <th id=\"T_95fcc_level0_row4\" class=\"row_heading level0 row4\" >wedding</th>\n",
       "                        <td id=\"T_95fcc_row4_col0\" class=\"data row4 col0\" >2138</td>\n",
       "                        <td id=\"T_95fcc_row4_col1\" class=\"data row4 col1\" >186</td>\n",
       "                        <td id=\"T_95fcc_row4_col2\" class=\"data row4 col2\" >2324</td>\n",
       "                        <td id=\"T_95fcc_row4_col3\" class=\"data row4 col3\" >92.0%</td>\n",
       "                        <td id=\"T_95fcc_row4_col4\" class=\"data row4 col4\" >8.0%</td>\n",
       "            </tr>\n",
       "            <tr>\n",
       "                        <th id=\"T_95fcc_level0_row5\" class=\"row_heading level0 row5\" >All</th>\n",
       "                        <td id=\"T_95fcc_row5_col0\" class=\"data row5 col0\" >19713</td>\n",
       "                        <td id=\"T_95fcc_row5_col1\" class=\"data row5 col1\" >1741</td>\n",
       "                        <td id=\"T_95fcc_row5_col2\" class=\"data row5 col2\" >21454</td>\n",
       "                        <td id=\"T_95fcc_row5_col3\" class=\"data row5 col3\" >91.9%</td>\n",
       "                        <td id=\"T_95fcc_row5_col4\" class=\"data row5 col4\" >8.1%</td>\n",
       "            </tr>\n",
       "    </tbody></table>"
      ],
      "text/plain": [
       "<pandas.io.formats.style.Styler at 0x7f88baf920a0>"
      ]
     },
     "execution_count": 160,
     "metadata": {},
     "output_type": "execute_result"
    }
   ],
   "source": [
    "# Confira os percentuais de inadimplência para cada finalidade de crédito e analise-os\n",
    "\n",
    "dpivot = df.pivot_table(index='purpose', columns='has_debt',values='debt', aggfunc=['count'], margins=True, fill_value=0)\n",
    "\n",
    "dpivot['% de clientes sem divida'] = add_col_percent(dpivot,'count','Nao tem divida')\n",
    "dpivot['% de clientes com divida'] = add_col_percent(dpivot,'count','Tem divida')\n",
    "\n",
    "dpivot.style.bar( subset = (dpivot.index.tolist()[:-1] , dpivot.columns.tolist()[:-2]) )"
   ]
  },
  {
   "cell_type": "markdown",
   "metadata": {},
   "source": [
    "**Conclusão**\n",
    "\n",
    "Com a apresentação acima, podemos informar que os clientes com a taxa de inadimplência maior **(9.4%)** têm como objectivo destinar a aquisição do credito para **carro/carros**\n",
    "\n",
    "Segue os diferentes motivos preenchidos no conjunto de dados associados a **carro**"
   ]
  },
  {
   "cell_type": "code",
   "execution_count": 161,
   "metadata": {},
   "outputs": [
    {
     "data": {
      "text/plain": [
       "['buying a second-hand car',\n",
       " 'buying my own car',\n",
       " 'car',\n",
       " 'car purchase',\n",
       " 'cars',\n",
       " 'purchase of a car',\n",
       " 'second-hand car purchase',\n",
       " 'to buy a car',\n",
       " 'to own a car']"
      ]
     },
     "execution_count": 161,
     "metadata": {},
     "output_type": "execute_result"
    }
   ],
   "source": [
    "[ motivo for motivo in listaPurposeOrig if 'car' in motivo]"
   ]
  },
  {
   "cell_type": "markdown",
   "metadata": {},
   "source": [
    "<div class=\"alert alert-block alert-success\">\n",
    "<b>Comentário do corretor</b> <a class=\"tocSkip\"></a>\n",
    "\n",
    "Suas análises estão muito bem feitas, Gerson! Parabéns pelo projeto!\n",
    "\n",
    "</div>"
   ]
  },
  {
   "cell_type": "markdown",
   "metadata": {},
   "source": [
    "# Conclusão Geral "
   ]
  },
  {
   "cell_type": "markdown",
   "metadata": {},
   "source": [
    "<font color=gray>\n",
    "O projecto foi certamente desafiador não tanto pela complexidade mas sim pela extensão e confesso que houve um pouco de dificuldade em entender ao certo as solicitações feitas, de qualquer forma, acredito que fui uma experiência muito boa para consolidar os conhecimentos.\n",
    "\n",
    "Quando percebi que temos a liberdade na tomada de decisões fiquei um pouco desorientado no sentido de querer tratar tudo fora do tempo certo e no tempo certo soube que precisava andar e não correr para fazer o melhor progresso.\n",
    "</font>\n",
    "\n",
    "\n"
   ]
  },
  {
   "cell_type": "markdown",
   "metadata": {},
   "source": [
    "Em relação aos valores ausentes no dataset, a solução mais rápida mais eficaz e que pode custar um pouco mais de tempo\n",
    "para os utilizadores que preenchem os dados seria aplicar a obrigatoriedade no preenchimento dos formulários. "
   ]
  },
  {
   "cell_type": "markdown",
   "metadata": {},
   "source": [
    "Em relação aos registos duplicados, acredito que a criação de uma coluna que identifica exclusivamente cada cliente e a \n",
    "validação da mesma no acto de submissão do formulário."
   ]
  }
 ],
 "metadata": {
  "ExecuteTimeLog": [
   {
    "duration": 2741,
    "start_time": "2021-10-21T01:08:49.480Z"
   },
   {
    "duration": 52,
    "start_time": "2021-10-21T01:08:53.315Z"
   },
   {
    "duration": 49,
    "start_time": "2021-10-21T01:08:57.432Z"
   },
   {
    "duration": 70,
    "start_time": "2021-10-21T01:09:07.706Z"
   }
  ],
  "kernelspec": {
   "display_name": "Python 3",
   "language": "python",
   "name": "python3"
  },
  "language_info": {
   "codemirror_mode": {
    "name": "ipython",
    "version": 3
   },
   "file_extension": ".py",
   "mimetype": "text/x-python",
   "name": "python",
   "nbconvert_exporter": "python",
   "pygments_lexer": "ipython3",
   "version": "3.9.6 (tags/v3.9.6:db3ff76, Jun 28 2021, 15:26:21) [MSC v.1929 64 bit (AMD64)]"
  },
  "toc": {
   "base_numbering": 1,
   "nav_menu": {},
   "number_sections": true,
   "sideBar": true,
   "skip_h1_title": true,
   "title_cell": "Table of Contents",
   "title_sidebar": "Contents",
   "toc_cell": false,
   "toc_position": {
    "height": "calc(100% - 180px)",
    "left": "10px",
    "top": "150px",
    "width": "373.188px"
   },
   "toc_section_display": true,
   "toc_window_display": true
  },
  "vscode": {
   "interpreter": {
    "hash": "d41fa1c53a2a4e68d3556e474acf93727b5c0c37d65bd9aad705126e304a08e2"
   }
  }
 },
 "nbformat": 4,
 "nbformat_minor": 2
}
